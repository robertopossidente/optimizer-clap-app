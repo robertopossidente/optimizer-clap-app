{
 "cells": [
  {
   "cell_type": "markdown",
   "id": "c06cfc4d-dc37-4805-b403-b35090fca9cd",
   "metadata": {},
   "source": [
    "# Executing commands and Playbooks at Nodes and using Role System\n",
    "\n",
    "This notebook  brief describes how to execute commands in CLAP nodes. There are three ways to execute commands:\n",
    "* Directly executing shell commands\n",
    "* Executing an Ansible playbook\n",
    "* Executing role's actions"
   ]
  },
  {
   "cell_type": "code",
   "execution_count": 9,
   "id": "32ca95a1-430d-4a52-a9d5-79a674be4b43",
   "metadata": {},
   "outputs": [
    {
     "output_type": "stream",
     "name": "stdout",
     "text": [
      "\u001b[33mWARNING: The directory '/home/roberto/.cache/pip' or its parent directory is not owned or is not writable by the current user. The cache has been disabled. Check the permissions and owner of that directory. If executing pip with sudo, you should use sudo's -H flag.\u001b[0m\n",
      "Package               Version\n",
      "--------------------- -----------\n",
      "ansible               4.0.0\n",
      "ansible-core          2.11.1\n",
      "ansible-runner        1.4.7\n",
      "argcomplete           1.12.3\n",
      "attrs                 21.2.0\n",
      "backcall              0.2.0\n",
      "bcrypt                3.2.0\n",
      "boto                  2.49.0\n",
      "boto3                 1.17.89\n",
      "botocore              1.20.89\n",
      "cffi                  1.14.5\n",
      "click                 8.0.1\n",
      "coloredlogs           15.0\n",
      "contextlib2           0.6.0.post1\n",
      "cryptography          3.4.7\n",
      "cycler                0.10.0\n",
      "dacite                1.6.0\n",
      "decorator             5.0.9\n",
      "docutils              0.17.1\n",
      "fire                  0.4.0\n",
      "humanfriendly         9.1\n",
      "iniconfig             1.1.1\n",
      "ipaddress             1.0.23\n",
      "ipykernel             5.5.5\n",
      "ipython               7.24.1\n",
      "ipython-genutils      0.2.0\n",
      "jedi                  0.18.0\n",
      "Jinja2                3.0.1\n",
      "jmespath              0.10.0\n",
      "jupyter-client        6.1.12\n",
      "jupyter-core          4.7.1\n",
      "kiwisolver            1.3.1\n",
      "lockfile              0.12.2\n",
      "MarkupSafe            2.0.1\n",
      "marshmallow           3.12.1\n",
      "marshmallow-dataclass 8.4.1\n",
      "matplotlib            3.4.2\n",
      "matplotlib-inline     0.1.2\n",
      "mypy-extensions       0.4.3\n",
      "names                 0.3.0\n",
      "netaddr               0.8.0\n",
      "numpy                 1.21.0\n",
      "packaging             20.9\n",
      "paramiko              2.7.2\n",
      "parso                 0.8.2\n",
      "pexpect               4.8.0\n",
      "pickleshare           0.7.5\n",
      "Pillow                8.3.0\n",
      "pip                   21.1.2\n",
      "pluggy                0.13.1\n",
      "prompt-toolkit        3.0.18\n",
      "psutil                5.8.0\n",
      "ptyprocess            0.7.0\n",
      "py                    1.10.0\n",
      "pyCLI                 2.0.3\n",
      "pycparser             2.20\n",
      "pycrypto              2.6.1\n",
      "Pygments              2.9.0\n",
      "PyNaCl                1.4.0\n",
      "pyparsing             2.4.7\n",
      "pytest                6.2.4\n",
      "python-daemon         2.3.0\n",
      "python-dateutil       2.8.1\n",
      "PyYAML                5.4.1\n",
      "pyzmq                 22.1.0\n",
      "randomname            0.1.3\n",
      "resolvelib            0.5.4\n",
      "s3transfer            0.4.2\n",
      "scandir               1.10.0\n",
      "schema                0.7.4\n",
      "SecretStorage         2.3.1\n",
      "setuptools            47.1.0\n",
      "six                   1.16.0\n",
      "sqlitedict            1.7.0\n",
      "subprocess32          3.5.4\n",
      "termcolor             1.1.0\n",
      "toml                  0.10.2\n",
      "tornado               6.1\n",
      "traitlets             5.0.5\n",
      "typeguard             2.12.1\n",
      "typing-extensions     3.10.0.0\n",
      "typing-inspect        0.7.1\n",
      "urllib3               1.26.5\n",
      "wcwidth               0.2.5\n",
      "\u001b[33mWARNING: You are using pip version 21.1.2; however, version 21.1.3 is available.\n",
      "You should consider upgrading via the '/home/roberto/CLAP/clap-env/bin/python3 -m pip install --upgrade pip' command.\u001b[0m\n"
     ]
    }
   ],
   "source": [
    "import sys\n",
    "sys.path.append('../..')\n",
    "!pip list"
   ]
  },
  {
   "cell_type": "markdown",
   "id": "e4fe01bd-50d6-4e5e-9153-51d5c93d0253",
   "metadata": {},
   "source": [
    "Let's perform traditional imports"
   ]
  },
  {
   "cell_type": "code",
   "execution_count": 11,
   "id": "9a26ed6f-1029-4225-9120-faecad5d6b4a",
   "metadata": {},
   "outputs": [],
   "source": [
    "import yaml\n",
    "from dataclasses import asdict\n",
    "from app.cli.modules.node import get_config_db, get_node_manager\n",
    "from app.cli.modules.role import get_role_manager\n",
    "from clap.utils import float_time_to_string, path_extend\n",
    "from clap.executor import SSHCommandExecutor, AnsiblePlaybookExecutor"
   ]
  },
  {
   "cell_type": "markdown",
   "id": "2f7be63b-ce4d-4a3c-8d41-0aeb0ddf3320",
   "metadata": {},
   "source": [
    "Let's create manager objects"
   ]
  },
  {
   "cell_type": "code",
   "execution_count": 13,
   "id": "17998406-d4f7-44fc-8c6a-97f3f4503dc2",
   "metadata": {},
   "outputs": [],
   "source": [
    "configuration_db = get_config_db()\n",
    "node_manager = get_node_manager()\n",
    "role_manager = get_role_manager()\n",
    "# Private's path (usually ~/.clap/private/) will be used for other methods\n",
    "private_path = node_manager.private_path"
   ]
  },
  {
   "cell_type": "markdown",
   "id": "8c397967-3ba1-4641-87d3-892f134fe301",
   "metadata": {},
   "source": [
    "And get nodes in CLAP's system. Here we have 2 nodes, previously created with CLAP"
   ]
  },
  {
   "cell_type": "code",
   "execution_count": 14,
   "id": "32f2a374-39b2-47cb-8efd-f6517ef8d1dc",
   "metadata": {},
   "outputs": [
    {
     "output_type": "stream",
     "name": "stdout",
     "text": [
      "Node ID: 3363c82c3cbb42ab89ce81204de15334 (PatriciaNoble); status: reachable; IP: 100.27.0.240; type: type-small\nNode ID: e926ed7a84e84d6a8009063321646f8b (TimTaylor); status: reachable; IP: 52.90.15.82; type: type-small\nNode ID: e1b978794d5b46499e57a6db33e7c068 (InaHagen); status: reachable; IP: 100.25.119.221; type: type-small\nNode ID: 4bdf519cdffa4599a4f1f086967a19bf (JanetGibson); status: reachable; IP: 18.204.15.129; type: type-small\nNode ID: a056ed6e721541f3874b1ff1fa87f29a (DorothyGrayson); status: reachable; IP: 54.86.73.220; type: type-small\nNode ID: 3b8159b1da7547b88b900f3c6fbb3658 (KatharineBlock); status: reachable; IP: 54.160.67.247; type: type-small\nNode ID: d1a8cf404d824e25bc139e338f2925cd (SandraSlaughter); status: reachable; IP: 54.160.70.178; type: type-small\nNode ID: 00ffaa3eb91e4622b1dcff6e05244527 (DavidWilburn); status: reachable; IP: 100.26.232.51; type: type-small\nNode ID: 7448cb59df3f4831b61f633c8ace4a20 (LeonardGillies); status: reachable; IP: 54.236.16.251; type: type-small\nNode ID: 885bad467fd04dfca6aa4a47fe52c25f (MaryRomer); status: reachable; IP: 54.145.240.193; type: type-small\nNode ID: 07b06ea7d7b5403ebc719af9899bad0e (HaydeeHernandez); status: reachable; IP: 100.26.138.143; type: type-small\nNode ID: 2ab09bd867814886b7d931918d142229 (ShizukoJohnson); status: reachable; IP: 54.152.204.183; type: type-small\nNode ID: 47bf901d41624d7d9fa08233a97d1972 (JessicaMiller); status: reachable; IP: 100.26.216.16; type: type-small\nNode ID: 561b7392f5114bdab6ad3e9a82d32566 (BessieBloodsaw); status: reachable; IP: 52.3.241.157; type: type-small\nNode ID: 530355a73e8442169b91a111bf2d5312 (JenniferJones); status: reachable; IP: 100.26.168.109; type: type-small\nNode ID: 2dac7edf679049b0a1ffbed9b3aa0d63 (MichaelVastardis); status: reachable; IP: 54.172.1.136; type: type-small\nNode ID: 6b176c1a263b41d4ab67fc6e4026d388 (JeffSuniga); status: reachable; IP: 100.26.158.16; type: type-small\nNode ID: 235d027c961f417baf982ae96a0353e9 (BarbaraHood); status: reachable; IP: 34.201.165.248; type: type-small\nNode ID: 0fa652b653854ee5811bd2a863d12861 (EarlHumbert); status: reachable; IP: 35.153.18.80; type: type-small\nNode ID: 3cd37d7f0a4141f893edbbb5bdb6f651 (ScottyLorenz); status: reachable; IP: 100.26.165.242; type: type-small\nNode ID: ad4dc9ed3bb14a41bf491db39ed6dfdc (BettyPinedo); status: reachable; IP: 54.242.170.106; type: type-small\nNode ID: 8aae0349f6ba4d7aa96892ad0b869758 (MargaretGreen); status: reachable; IP: 18.204.9.10; type: type-small\nNode ID: 821f049cb66c49c0a8c97f37f93dd151 (JanicePowell); status: reachable; IP: 54.209.100.2; type: type-small\nNode ID: b2711c8444c6469391550cc17be18c1f (AlisonHughes); status: reachable; IP: 52.91.119.80; type: type-small\nNode ID: 581bb72e9a2346dc8e17bd738033d453 (BryantDenton); status: reachable; IP: 107.23.92.97; type: type-small\nNode ID: b2075132869946c28e2aca9382c8ea4e (KevinCaravati); status: reachable; IP: 3.84.238.158; type: type-small\nNode ID: aff3c44b3780426abecc8056eac646bb (BrandonMedina); status: reachable; IP: 54.237.226.14; type: type-small\nNode ID: a5ab86a874484f0394671bac46aaf289 (TracyNice); status: reachable; IP: 100.26.171.230; type: type-small\nNode ID: fa021323708d4ecc8bf94a76ddf66cf3 (JeffreyWilliams); status: reachable; IP: 100.26.56.141; type: type-small\nNode ID: a0c140b7b09646e4933bb82586e34b35 (JoshuaGagnon); status: reachable; IP: 100.25.183.189; type: type-small\nNode ID: 824fd6c984a94dea89d0132391f01cff (ManuelMyrick); status: reachable; IP: 18.206.197.203; type: type-small\nNode ID: c6e5f589311b4b0ca2727ecd3421b662 (RobertPifer); status: reachable; IP: 52.87.252.55; type: type-small\nNode ID: ca2504f7954f46249bdef76173805565 (PatriciaSmith); status: reachable; IP: 100.24.235.216; type: type-small\nNode ID: efdf4fd582ee4d29ac065ea6007b4a6b (DeirdreGraham); status: reachable; IP: 54.197.78.191; type: type-small\nNode ID: 48a545c110974591a2599404c7278605 (StephenDinkins); status: reachable; IP: 35.153.57.20; type: type-small\nNode ID: 9c72f23add6b4e79a3f9af86f68bf9e7 (ElizabethWard); status: reachable; IP: 54.162.0.100; type: type-small\nNode ID: 29bbbb3d570a4919928d59b6e6363ba4 (HelenNey); status: reachable; IP: 54.164.129.100; type: type-small\nNode ID: 286004302f1141bd8e39c65f4fd5f5e1 (RubyEaton); status: reachable; IP: 34.229.60.50; type: type-small\nNode ID: 8c095c8466c24aa4835ba0a6918c1906 (JeanRodriguez); status: reachable; IP: 54.196.43.149; type: type-small\nNode ID: 2d76e4b5256747a3ba67351faa64ddb2 (MarcelineAyala); status: reachable; IP: 52.91.110.92; type: type-small\nNode ID: cf1be71c4cdc4197bbce6c61bf261fc2 (BruceFlores); status: reachable; IP: 54.235.46.140; type: type-small\nNode ID: dfd1aea6cc474009aac667ae91f2dbc8 (SusanHarry); status: reachable; IP: 18.212.112.122; type: type-small\nNode ID: ab431892fa4f460cae640cfb3895b1f7 (JuneGiddins); status: reachable; IP: 184.73.78.179; type: type-small\nNode ID: ff705c8a79b3409b9bc1216d9929844a (AnneWashington); status: reachable; IP: 3.90.136.49; type: type-small\nNode ID: 3197921c04d04573a36ebdeda2d54183 (CurtisHales); status: reachable; IP: 34.207.189.35; type: type-small\nNode ID: 57c52c556cfa40aba6872fa9dcdcace4 (CarrieHowell); status: reachable; IP: 52.86.61.238; type: type-small\nNode ID: 9df48c7a88fc4912add9b19c36cae40f (ChristopherBonson); status: reachable; IP: 54.165.126.191; type: type-small\nNode ID: a22d0732f4134570803ee783791b6c13 (HortenseCattaneo); status: reachable; IP: 100.25.23.3; type: type-small\nNode ID: 30188979d889458abfcd56bdedb8814b (GerriWinkler); status: reachable; IP: 54.84.81.69; type: type-small\nNode ID: 940215e9e6384d6d98fd58765302d19f (RichardCollinsworth); status: reachable; IP: 54.237.53.206; type: type-small\nNode ID: 181b3274b6754bd0b16e34a71dc33d3f (RogerZenger); status: reachable; IP: 54.165.129.153; type: type-small\nNode ID: de48dd0ba4cc405980640fc93b67c444 (MaxineMelton); status: reachable; IP: 54.175.218.12; type: type-small\nNode ID: 6b64bf691d71497cb83ee2cb8c00e37c (CaitlinBarks); status: reachable; IP: 54.158.224.161; type: type-small\nNode ID: 8a9e76eaeaa44d4988ec887d5bb25e55 (RolandCastillo); status: reachable; IP: 54.146.81.72; type: type-small\nNode ID: 4ad77561809e4e88aa90acc35cb19fcb (DanielBronson); status: reachable; IP: 18.204.9.80; type: type-small\nNode ID: d7289e1a77694db2a5cf453bb5bf62bf (WalterEnglehardt); status: reachable; IP: 3.90.85.199; type: type-small\nNode ID: baf71f3fb10e481cbe914f8ba5e37217 (DonaldDodge); status: reachable; IP: 107.23.107.165; type: type-small\nNode ID: cf7b1a6f0292431ba034c8c10552ed8d (LoriCastaneda); status: reachable; IP: 54.242.23.47; type: type-medium\nNode ID: a7f8ab321de04ade9ebcfce1a238712c (VirginiaDexter); status: reachable; IP: 100.26.226.98; type: type-small\nNode ID: e882ffe98c2d498da09d937a2f3b4a4a (JanetRayford); status: reachable; IP: 54.210.126.166; type: type-medium\nNode ID: cdee92778af64c6b89eeccc2d7a7c3b7 (HelenThompson); status: reachable; IP: 3.84.224.145; type: type-medium\nNode ID: bb91451d2abf48c5829f2405202580d9 (EstelaAntonio); status: reachable; IP: 54.161.7.30; type: type-medium\nNode ID: d4289a6df8f4462c9de952b2c95dc817 (HectorHarper); status: reachable; IP: 3.95.212.108; type: type-a\nNode ID: 0a6d71d1846f4085a3e7b433854d8385 (WinnieByrd); status: reachable; IP: 34.201.19.150; type: type-b\nNode ID: 2cf810aaf68f4b1fa9d8ac2cb48dd002 (FrankMaretti); status: reachable; IP: 3.221.170.56; type: type-b\n"
     ]
    }
   ],
   "source": [
    "nodes = node_manager.stoget_all_nodes()\n",
    "for node in nodes:\n",
    "    print(f\"Node ID: {node.node_id} ({node.nickname}); status: {node.status}; \"\n",
    "          f\"IP: {node.ip}; type: {node.configuration.instance.instance_config_id}\")"
   ]
  },
  {
   "cell_type": "markdown",
   "id": "5f372079-8b75-4524-8a79-aa59cc36650f",
   "metadata": {},
   "source": [
    "Let's update node information using IS alive method"
   ]
  },
  {
   "cell_type": "code",
   "execution_count": 15,
   "id": "1975df88-48b1-4e8a-a9a2-e434fe5548b4",
   "metadata": {},
   "outputs": [
    {
     "output_type": "stream",
     "name": "stderr",
     "text": [
      "Error checking nodes 3363c82c3cbb42ab89ce81204de15334,e926ed7a84e84d6a8009063321646f8b,e1b978794d5b46499e57a6db33e7c068,4bdf519cdffa4599a4f1f086967a19bf,a056ed6e721541f3874b1ff1fa87f29a,3b8159b1da7547b88b900f3c6fbb3658,d1a8cf404d824e25bc139e338f2925cd,00ffaa3eb91e4622b1dcff6e05244527,7448cb59df3f4831b61f633c8ace4a20,885bad467fd04dfca6aa4a47fe52c25f,07b06ea7d7b5403ebc719af9899bad0e,2ab09bd867814886b7d931918d142229,47bf901d41624d7d9fa08233a97d1972,561b7392f5114bdab6ad3e9a82d32566,530355a73e8442169b91a111bf2d5312,2dac7edf679049b0a1ffbed9b3aa0d63,6b176c1a263b41d4ab67fc6e4026d388,235d027c961f417baf982ae96a0353e9,0fa652b653854ee5811bd2a863d12861,3cd37d7f0a4141f893edbbb5bdb6f651,ad4dc9ed3bb14a41bf491db39ed6dfdc,8aae0349f6ba4d7aa96892ad0b869758,821f049cb66c49c0a8c97f37f93dd151,b2711c8444c6469391550cc17be18c1f,581bb72e9a2346dc8e17bd738033d453,b2075132869946c28e2aca9382c8ea4e,aff3c44b3780426abecc8056eac646bb,a5ab86a874484f0394671bac46aaf289,fa021323708d4ecc8bf94a76ddf66cf3,a0c140b7b09646e4933bb82586e34b35,824fd6c984a94dea89d0132391f01cff,c6e5f589311b4b0ca2727ecd3421b662,ca2504f7954f46249bdef76173805565,efdf4fd582ee4d29ac065ea6007b4a6b,48a545c110974591a2599404c7278605,9c72f23add6b4e79a3f9af86f68bf9e7,29bbbb3d570a4919928d59b6e6363ba4,286004302f1141bd8e39c65f4fd5f5e1,8c095c8466c24aa4835ba0a6918c1906,2d76e4b5256747a3ba67351faa64ddb2,cf1be71c4cdc4197bbce6c61bf261fc2,dfd1aea6cc474009aac667ae91f2dbc8,ab431892fa4f460cae640cfb3895b1f7,ff705c8a79b3409b9bc1216d9929844a,3197921c04d04573a36ebdeda2d54183,57c52c556cfa40aba6872fa9dcdcace4,9df48c7a88fc4912add9b19c36cae40f,a22d0732f4134570803ee783791b6c13,30188979d889458abfcd56bdedb8814b,940215e9e6384d6d98fd58765302d19f,181b3274b6754bd0b16e34a71dc33d3f,de48dd0ba4cc405980640fc93b67c444,6b64bf691d71497cb83ee2cb8c00e37c,8a9e76eaeaa44d4988ec887d5bb25e55,4ad77561809e4e88aa90acc35cb19fcb,d7289e1a77694db2a5cf453bb5bf62bf,baf71f3fb10e481cbe914f8ba5e37217,cf7b1a6f0292431ba034c8c10552ed8d,a7f8ab321de04ade9ebcfce1a238712c,e882ffe98c2d498da09d937a2f3b4a4a,cdee92778af64c6b89eeccc2d7a7c3b7,bb91451d2abf48c5829f2405202580d9,d4289a6df8f4462c9de952b2c95dc817,0a6d71d1846f4085a3e7b433854d8385,2cf810aaf68f4b1fa9d8ac2cb48dd002. Non-zero return code (2)\n"
     ]
    },
    {
     "output_type": "error",
     "ename": "Exception",
     "evalue": "Update task returned no events to process",
     "traceback": [
      "\u001b[0;31m---------------------------------------------------------------------------\u001b[0m",
      "\u001b[0;31mException\u001b[0m                                 Traceback (most recent call last)",
      "\u001b[0;32m<ipython-input-15-728c4afc4d1b>\u001b[0m in \u001b[0;36m<module>\u001b[0;34m\u001b[0m\n\u001b[1;32m      1\u001b[0m \u001b[0mnode_ids\u001b[0m \u001b[0;34m=\u001b[0m \u001b[0;34m[\u001b[0m\u001b[0mnode\u001b[0m\u001b[0;34m.\u001b[0m\u001b[0mnode_id\u001b[0m \u001b[0;32mfor\u001b[0m \u001b[0mnode\u001b[0m \u001b[0;32min\u001b[0m \u001b[0mnodes\u001b[0m\u001b[0;34m]\u001b[0m\u001b[0;34m\u001b[0m\u001b[0;34m\u001b[0m\u001b[0m\n\u001b[0;32m----> 2\u001b[0;31m \u001b[0;32mfor\u001b[0m \u001b[0mnode_id\u001b[0m\u001b[0;34m,\u001b[0m \u001b[0mstatus\u001b[0m \u001b[0;32min\u001b[0m \u001b[0mnode_manager\u001b[0m\u001b[0;34m.\u001b[0m\u001b[0mis_alive\u001b[0m\u001b[0;34m(\u001b[0m\u001b[0mnode_ids\u001b[0m\u001b[0;34m)\u001b[0m\u001b[0;34m.\u001b[0m\u001b[0mitems\u001b[0m\u001b[0;34m(\u001b[0m\u001b[0;34m)\u001b[0m\u001b[0;34m:\u001b[0m\u001b[0;34m\u001b[0m\u001b[0;34m\u001b[0m\u001b[0m\n\u001b[0m\u001b[1;32m      3\u001b[0m     \u001b[0mprint\u001b[0m\u001b[0;34m(\u001b[0m\u001b[0;34mf\"Node {node_id} is {'alive' if status else 'not alive'}\"\u001b[0m\u001b[0;34m)\u001b[0m\u001b[0;34m\u001b[0m\u001b[0;34m\u001b[0m\u001b[0m\n",
      "\u001b[0;32m~/CLAP/clap/node_manager.py\u001b[0m in \u001b[0;36mis_alive\u001b[0;34m(self, node_ids, retries, wait_timeout, update_timeout, max_workers, test_command)\u001b[0m\n\u001b[1;32m    235\u001b[0m             ]\n\u001b[1;32m    236\u001b[0m \u001b[0;34m\u001b[0m\u001b[0m\n\u001b[0;32m--> 237\u001b[0;31m             \u001b[0minstances\u001b[0m \u001b[0;34m=\u001b[0m \u001b[0mpool\u001b[0m\u001b[0;34m.\u001b[0m\u001b[0mstarmap\u001b[0m\u001b[0;34m(\u001b[0m\u001b[0mupdate_node_info\u001b[0m\u001b[0;34m,\u001b[0m \u001b[0mvalues\u001b[0m\u001b[0;34m)\u001b[0m\u001b[0;34m\u001b[0m\u001b[0;34m\u001b[0m\u001b[0m\n\u001b[0m\u001b[1;32m    238\u001b[0m             \u001b[0;32mfor\u001b[0m \u001b[0mi\u001b[0m \u001b[0;32min\u001b[0m \u001b[0minstances\u001b[0m\u001b[0;34m:\u001b[0m\u001b[0;34m\u001b[0m\u001b[0;34m\u001b[0m\u001b[0m\n\u001b[1;32m    239\u001b[0m                 \u001b[0mchecked_nodes\u001b[0m\u001b[0;34m.\u001b[0m\u001b[0mupdate\u001b[0m\u001b[0;34m(\u001b[0m\u001b[0mi\u001b[0m\u001b[0;34m)\u001b[0m\u001b[0;34m\u001b[0m\u001b[0;34m\u001b[0m\u001b[0m\n",
      "\u001b[0;32m~/anaconda3/lib/python3.8/multiprocessing/pool.py\u001b[0m in \u001b[0;36mstarmap\u001b[0;34m(self, func, iterable, chunksize)\u001b[0m\n\u001b[1;32m    370\u001b[0m         \u001b[0;31m`\u001b[0m\u001b[0mfunc\u001b[0m\u001b[0;31m`\u001b[0m \u001b[0;32mand\u001b[0m \u001b[0;34m(\u001b[0m\u001b[0ma\u001b[0m\u001b[0;34m,\u001b[0m \u001b[0mb\u001b[0m\u001b[0;34m)\u001b[0m \u001b[0mbecomes\u001b[0m \u001b[0mfunc\u001b[0m\u001b[0;34m(\u001b[0m\u001b[0ma\u001b[0m\u001b[0;34m,\u001b[0m \u001b[0mb\u001b[0m\u001b[0;34m)\u001b[0m\u001b[0;34m.\u001b[0m\u001b[0;34m\u001b[0m\u001b[0;34m\u001b[0m\u001b[0m\n\u001b[1;32m    371\u001b[0m         '''\n\u001b[0;32m--> 372\u001b[0;31m         \u001b[0;32mreturn\u001b[0m \u001b[0mself\u001b[0m\u001b[0;34m.\u001b[0m\u001b[0m_map_async\u001b[0m\u001b[0;34m(\u001b[0m\u001b[0mfunc\u001b[0m\u001b[0;34m,\u001b[0m \u001b[0miterable\u001b[0m\u001b[0;34m,\u001b[0m \u001b[0mstarmapstar\u001b[0m\u001b[0;34m,\u001b[0m \u001b[0mchunksize\u001b[0m\u001b[0;34m)\u001b[0m\u001b[0;34m.\u001b[0m\u001b[0mget\u001b[0m\u001b[0;34m(\u001b[0m\u001b[0;34m)\u001b[0m\u001b[0;34m\u001b[0m\u001b[0;34m\u001b[0m\u001b[0m\n\u001b[0m\u001b[1;32m    373\u001b[0m \u001b[0;34m\u001b[0m\u001b[0m\n\u001b[1;32m    374\u001b[0m     def starmap_async(self, func, iterable, chunksize=None, callback=None,\n",
      "\u001b[0;32m~/anaconda3/lib/python3.8/multiprocessing/pool.py\u001b[0m in \u001b[0;36mget\u001b[0;34m(self, timeout)\u001b[0m\n\u001b[1;32m    769\u001b[0m             \u001b[0;32mreturn\u001b[0m \u001b[0mself\u001b[0m\u001b[0;34m.\u001b[0m\u001b[0m_value\u001b[0m\u001b[0;34m\u001b[0m\u001b[0;34m\u001b[0m\u001b[0m\n\u001b[1;32m    770\u001b[0m         \u001b[0;32melse\u001b[0m\u001b[0;34m:\u001b[0m\u001b[0;34m\u001b[0m\u001b[0;34m\u001b[0m\u001b[0m\n\u001b[0;32m--> 771\u001b[0;31m             \u001b[0;32mraise\u001b[0m \u001b[0mself\u001b[0m\u001b[0;34m.\u001b[0m\u001b[0m_value\u001b[0m\u001b[0;34m\u001b[0m\u001b[0;34m\u001b[0m\u001b[0m\n\u001b[0m\u001b[1;32m    772\u001b[0m \u001b[0;34m\u001b[0m\u001b[0m\n\u001b[1;32m    773\u001b[0m     \u001b[0;32mdef\u001b[0m \u001b[0m_set\u001b[0m\u001b[0;34m(\u001b[0m\u001b[0mself\u001b[0m\u001b[0;34m,\u001b[0m \u001b[0mi\u001b[0m\u001b[0;34m,\u001b[0m \u001b[0mobj\u001b[0m\u001b[0;34m)\u001b[0m\u001b[0;34m:\u001b[0m\u001b[0;34m\u001b[0m\u001b[0;34m\u001b[0m\u001b[0m\n",
      "\u001b[0;32m~/anaconda3/lib/python3.8/multiprocessing/pool.py\u001b[0m in \u001b[0;36mworker\u001b[0;34m(inqueue, outqueue, initializer, initargs, maxtasks, wrap_exception)\u001b[0m\n\u001b[1;32m    123\u001b[0m         \u001b[0mjob\u001b[0m\u001b[0;34m,\u001b[0m \u001b[0mi\u001b[0m\u001b[0;34m,\u001b[0m \u001b[0mfunc\u001b[0m\u001b[0;34m,\u001b[0m \u001b[0margs\u001b[0m\u001b[0;34m,\u001b[0m \u001b[0mkwds\u001b[0m \u001b[0;34m=\u001b[0m \u001b[0mtask\u001b[0m\u001b[0;34m\u001b[0m\u001b[0;34m\u001b[0m\u001b[0m\n\u001b[1;32m    124\u001b[0m         \u001b[0;32mtry\u001b[0m\u001b[0;34m:\u001b[0m\u001b[0;34m\u001b[0m\u001b[0;34m\u001b[0m\u001b[0m\n\u001b[0;32m--> 125\u001b[0;31m             \u001b[0mresult\u001b[0m \u001b[0;34m=\u001b[0m \u001b[0;34m(\u001b[0m\u001b[0;32mTrue\u001b[0m\u001b[0;34m,\u001b[0m \u001b[0mfunc\u001b[0m\u001b[0;34m(\u001b[0m\u001b[0;34m*\u001b[0m\u001b[0margs\u001b[0m\u001b[0;34m,\u001b[0m \u001b[0;34m**\u001b[0m\u001b[0mkwds\u001b[0m\u001b[0;34m)\u001b[0m\u001b[0;34m)\u001b[0m\u001b[0;34m\u001b[0m\u001b[0;34m\u001b[0m\u001b[0m\n\u001b[0m\u001b[1;32m    126\u001b[0m         \u001b[0;32mexcept\u001b[0m \u001b[0mException\u001b[0m \u001b[0;32mas\u001b[0m \u001b[0me\u001b[0m\u001b[0;34m:\u001b[0m\u001b[0;34m\u001b[0m\u001b[0;34m\u001b[0m\u001b[0m\n\u001b[1;32m    127\u001b[0m             \u001b[0;32mif\u001b[0m \u001b[0mwrap_exception\u001b[0m \u001b[0;32mand\u001b[0m \u001b[0mfunc\u001b[0m \u001b[0;32mis\u001b[0m \u001b[0;32mnot\u001b[0m \u001b[0m_helper_reraises_exception\u001b[0m\u001b[0;34m:\u001b[0m\u001b[0;34m\u001b[0m\u001b[0;34m\u001b[0m\u001b[0m\n",
      "\u001b[0;32m~/anaconda3/lib/python3.8/multiprocessing/pool.py\u001b[0m in \u001b[0;36mstarmapstar\u001b[0;34m(args)\u001b[0m\n\u001b[1;32m     49\u001b[0m \u001b[0;34m\u001b[0m\u001b[0m\n\u001b[1;32m     50\u001b[0m \u001b[0;32mdef\u001b[0m \u001b[0mstarmapstar\u001b[0m\u001b[0;34m(\u001b[0m\u001b[0margs\u001b[0m\u001b[0;34m)\u001b[0m\u001b[0;34m:\u001b[0m\u001b[0;34m\u001b[0m\u001b[0;34m\u001b[0m\u001b[0m\n\u001b[0;32m---> 51\u001b[0;31m     \u001b[0;32mreturn\u001b[0m \u001b[0mlist\u001b[0m\u001b[0;34m(\u001b[0m\u001b[0mitertools\u001b[0m\u001b[0;34m.\u001b[0m\u001b[0mstarmap\u001b[0m\u001b[0;34m(\u001b[0m\u001b[0margs\u001b[0m\u001b[0;34m[\u001b[0m\u001b[0;36m0\u001b[0m\u001b[0;34m]\u001b[0m\u001b[0;34m,\u001b[0m \u001b[0margs\u001b[0m\u001b[0;34m[\u001b[0m\u001b[0;36m1\u001b[0m\u001b[0;34m]\u001b[0m\u001b[0;34m)\u001b[0m\u001b[0;34m)\u001b[0m\u001b[0;34m\u001b[0m\u001b[0;34m\u001b[0m\u001b[0m\n\u001b[0m\u001b[1;32m     52\u001b[0m \u001b[0;34m\u001b[0m\u001b[0m\n\u001b[1;32m     53\u001b[0m \u001b[0;31m#\u001b[0m\u001b[0;34m\u001b[0m\u001b[0;34m\u001b[0m\u001b[0;34m\u001b[0m\u001b[0m\n",
      "\u001b[0;32m~/CLAP/clap/node_manager.py\u001b[0m in \u001b[0;36mupdate_node_info\u001b[0;34m(provider_obj, nodes)\u001b[0m\n\u001b[1;32m    222\u001b[0m                              nodes: List[NodeDescriptor]) -> Dict[str, str]:\n\u001b[1;32m    223\u001b[0m             \u001b[0;31m# Update node information\u001b[0m\u001b[0;34m\u001b[0m\u001b[0;34m\u001b[0m\u001b[0;34m\u001b[0m\u001b[0m\n\u001b[0;32m--> 224\u001b[0;31m             \u001b[0mnodes\u001b[0m \u001b[0;34m=\u001b[0m \u001b[0mprovider_obj\u001b[0m\u001b[0;34m.\u001b[0m\u001b[0mupdate_instance_info\u001b[0m\u001b[0;34m(\u001b[0m\u001b[0mnodes\u001b[0m\u001b[0;34m,\u001b[0m \u001b[0mupdate_timeout\u001b[0m\u001b[0;34m)\u001b[0m\u001b[0;34m\u001b[0m\u001b[0;34m\u001b[0m\u001b[0m\n\u001b[0m\u001b[1;32m    225\u001b[0m             \u001b[0;31m# Update repository with new info\u001b[0m\u001b[0;34m\u001b[0m\u001b[0;34m\u001b[0m\u001b[0;34m\u001b[0m\u001b[0m\n\u001b[1;32m    226\u001b[0m             \u001b[0;32mfor\u001b[0m \u001b[0mnode\u001b[0m \u001b[0;32min\u001b[0m \u001b[0mnodes\u001b[0m\u001b[0;34m:\u001b[0m\u001b[0;34m\u001b[0m\u001b[0;34m\u001b[0m\u001b[0m\n",
      "\u001b[0;32m~/CLAP/providers/provider_ansible_aws.py\u001b[0m in \u001b[0;36mupdate_instance_info\u001b[0;34m(self, nodes_to_check, timeout)\u001b[0m\n\u001b[1;32m    377\u001b[0m                 nodes, provider_config, task_check_name, quiet=True)\n\u001b[1;32m    378\u001b[0m             \u001b[0;32mif\u001b[0m \u001b[0;32mnot\u001b[0m \u001b[0mevents\u001b[0m\u001b[0;34m:\u001b[0m\u001b[0;34m\u001b[0m\u001b[0;34m\u001b[0m\u001b[0m\n\u001b[0;32m--> 379\u001b[0;31m                 \u001b[0;32mraise\u001b[0m \u001b[0mException\u001b[0m\u001b[0;34m(\u001b[0m\u001b[0;34m'Update task returned no events to process'\u001b[0m\u001b[0;34m)\u001b[0m\u001b[0;34m\u001b[0m\u001b[0;34m\u001b[0m\u001b[0m\n\u001b[0m\u001b[1;32m    380\u001b[0m \u001b[0;34m\u001b[0m\u001b[0m\n\u001b[1;32m    381\u001b[0m             \u001b[0;31m# remove instances...\u001b[0m\u001b[0;34m\u001b[0m\u001b[0;34m\u001b[0m\u001b[0;34m\u001b[0m\u001b[0m\n",
      "\u001b[0;31mException\u001b[0m: Update task returned no events to process"
     ]
    }
   ],
   "source": [
    "node_ids = [node.node_id for node in nodes]\n",
    "for node_id, status in node_manager.is_alive(node_ids).items():\n",
    "    print(f\"Node {node_id} is {'alive' if status else 'not alive'}\")"
   ]
  },
  {
   "cell_type": "markdown",
   "id": "5fd7cc13-87a6-4e28-bd1d-abf8e0760395",
   "metadata": {},
   "source": [
    "## Executing Shell commands directly, using SSHCommandExecutor class\n",
    "\n",
    "The SSHCommandExecutor class allows you to execute shel commands in nodes. The command is a string of shell commands. This class must be initializated with the command string, the list of **NodeDescriptors** and the path to private directory.\n",
    "\n",
    "After using the run() method from SSHCommandExecutor, it wil be returned a dataclass called `CommandResult` with the following information:\n",
    "* ok: if the command was executed in nodes (SSH performed and command executed)\n",
    "* ret_code: if the command was executed (ok==True), this will contain the return code, otherwise None\n",
    "* stdout_lines: if the command was executed (ok==True), this will contain a list of strings of the stdout output, otherwise None\n",
    "* stderr_lines: if the command was executed (ok==True), this will contain a list of strings of the stderr output, otherwise None\n",
    "* error: if the command was not executed (ok==False), this will contain the string with the exception, otherwise None"
   ]
  },
  {
   "cell_type": "code",
   "execution_count": 6,
   "id": "ee5bd1d5-adf4-4062-b3b6-78ac02efcc47",
   "metadata": {},
   "outputs": [
    {
     "name": "stdout",
     "output_type": "stream",
     "text": [
      "Node id 07f4a369663f48d48254f2ad4c5abbfe, executed the command: True, ret code: 0\n",
      "-----\n",
      "error: null\n",
      "ok: true\n",
      "ret_code: 0\n",
      "stderr_lines:\n",
      "- 'Cloning into ''CLAP-ssh''...\n",
      "\n",
      "    '\n",
      "stdout_lines:\n",
      "- 'Clonned CLAP into CLAP-ssh\n",
      "\n",
      "    '\n",
      "\n",
      "Node id 8133c6f7f9ca48258d1e0f01e11326f6, executed the command: True, ret code: 0\n",
      "-----\n",
      "error: null\n",
      "ok: true\n",
      "ret_code: 0\n",
      "stderr_lines:\n",
      "- 'Cloning into ''CLAP-ssh''...\n",
      "\n",
      "    '\n",
      "stdout_lines:\n",
      "- 'Clonned CLAP into CLAP-ssh\n",
      "\n",
      "    '\n",
      "\n"
     ]
    }
   ],
   "source": [
    "command_to_execute = \"\"\"\n",
    "git clone https://github.com/lmcad-unicamp/CLAP.git CLAP-ssh\n",
    "echo Clonned CLAP into CLAP-ssh\n",
    "\"\"\"\n",
    "executor = SSHCommandExecutor(command_to_execute, nodes, private_path)\n",
    "result = executor.run()\n",
    "\n",
    "for node_id, res in result.items():\n",
    "    print(f\"Node id {node_id}, executed the command: {res.ok}, ret code: {res.ret_code}\")\n",
    "    # resut is a dataclass, we can convert to a dictionary\n",
    "    res_dict = asdict(res)\n",
    "    print('-----')\n",
    "    # Dump dictionary in YAML format\n",
    "    print(yaml.dump(res_dict, indent=4, sort_keys=True))"
   ]
  },
  {
   "cell_type": "markdown",
   "id": "cd62a2e9-f302-4260-9d6b-92004d07b01d",
   "metadata": {},
   "source": [
    "# Executing a Ansible playbok in nodes, using AnsiblePlaybookExecutor class\n",
    "\n",
    "AnsiblePlaybookExecutor class allows CLAP to execute an Ansible playbook directly in CLAP's nodes. This class must be initializated with the path of the playbook, the path to private directory and the inventory.\n",
    "\n",
    "After using the run() method from AnsiblePlaybookExecutor, it will be returned a dataclass called `PlaybookResult` with the following information:\n",
    "* ok: if the command was executed in nodes (playbook was executed)\n",
    "* ret_code: Ansible return code\n",
    "* hosts: A dictionary where the keys are the node ids and the value is a boolean containing True if playbook was executed without errors in node and false otherwise.\n",
    "* events: A dictionary where the keys are the node ids and the value is a list of dicionaries with all ansible events (see ansible-runner the know the events)\n",
    "* vars: A dictionary where the keys are the node ids and the value is a dictionary of the facts set to this node inside the playbook. So, every set_fact in Ansible Playbook is visible to CLAP through this vvariable. \n",
    "\n",
    "The inventory can be generated using AnsiblePlaybookExecutor.create_inventory static method, passing the nodes and the private path as arguments."
   ]
  },
  {
   "cell_type": "markdown",
   "id": "10d09fec-f9bf-4979-bf15-85374f866a31",
   "metadata": {},
   "source": [
    "We will execute the playbook listed bellow at nodes: `07f4a369663f48d48254f2ad4c5abbfe` and `8133c6f7f9ca48258d1e0f01e11326f6`. The playbook can be used to install CLAP at nodes.\n",
    "\n",
    "The playbook: \n",
    "* Update apt cache and install packages\n",
    "* Clone a git repository\n",
    "* Set CLAP's install.sh file to be executable\n",
    "* Run install.sh script\n",
    "* Set a fact called clap_dir with the directory where CLAP was installed at remote hosts. It will be visible to PlaybookResult.vars\n",
    "\n",
    "Besides that, variables can be passed to playbook through 'extra' variable when initiaizing AnsiblePlaybookExecutor. This parameter receives a dictionary with key and values being strings."
   ]
  },
  {
   "cell_type": "code",
   "execution_count": 7,
   "id": "a5abf2b7-d3bf-4e2b-b942-e15b2ff9a7e9",
   "metadata": {},
   "outputs": [
    {
     "output_type": "stream",
     "name": "stdout",
     "text": [
      "---\n- hosts: all\n  gather_facts: True    # Query a set of variables in remote hosts\n  gather_subset: min\n  tasks:\n  - name: Get iteration time from a fact\n    get_fact:\n      interation_time: \"{{ ansible_local.times.iteration_time }}\""
     ]
    }
   ],
   "source": [
    "!cat ~/CLAP/getfacts.yml"
   ]
  },
  {
   "cell_type": "code",
   "execution_count": 17,
   "id": "513df281-062e-4dcb-b113-202b993bf605",
   "metadata": {
    "tags": [
     "outputPrepend"
    ]
   },
   "outputs": [
    {
     "output_type": "stream",
     "name": "stdout",
     "text": [
      " \"unreachable\": true}\u001b[0m\n",
      "\n",
      "TASK [Get iteration time from a fact] ******************************************\n",
      "\u001b[0;32mok: [d4289a6df8f4462c9de952b2c95dc817]\u001b[0m\n",
      "\u001b[0;31mfatal: [0a6d71d1846f4085a3e7b433854d8385]: FAILED! => {\"msg\": \"The task includes an option with an undefined variable. The error was: 'dict object' has no attribute 'times'\\n\\nThe error appears to be in '/home/roberto/CLAP/getfacts.yml': line 6, column 5, but may\\nbe elsewhere in the file depending on the exact syntax problem.\\n\\nThe offending line appears to be:\\n\\n  tasks:\\n  - name: Get iteration time from a fact\\n    ^ here\\n\"}\u001b[0m\n",
      "\u001b[0;31mfatal: [2cf810aaf68f4b1fa9d8ac2cb48dd002]: FAILED! => {\"msg\": \"The task includes an option with an undefined variable. The error was: 'dict object' has no attribute 'times'\\n\\nThe error appears to be in '/home/roberto/CLAP/getfacts.yml': line 6, column 5, but may\\nbe elsewhere in the file depending on the exact syntax problem.\\n\\nThe offending line appears to be:\\n\\n  tasks:\\n  - name: Get iteration time from a fact\\n    ^ here\\n\"}\u001b[0m\n",
      "\n",
      "PLAY RECAP *********************************************************************\n",
      "\u001b[0;31m00ffaa3eb91e4622b1dcff6e05244527\u001b[0m : ok=0    changed=0    \u001b[1;31munreachable=1   \u001b[0m failed=0    skipped=0    rescued=0    ignored=0   \n",
      "\u001b[0;31m07b06ea7d7b5403ebc719af9899bad0e\u001b[0m : ok=0    changed=0    \u001b[1;31munreachable=1   \u001b[0m failed=0    skipped=0    rescued=0    ignored=0   \n",
      "\u001b[0;31m0a6d71d1846f4085a3e7b433854d8385\u001b[0m : \u001b[0;32mok=1   \u001b[0m changed=0    unreachable=0    \u001b[0;31mfailed=1   \u001b[0m skipped=0    rescued=0    ignored=0   \n",
      "\u001b[0;31m0fa652b653854ee5811bd2a863d12861\u001b[0m : ok=0    changed=0    \u001b[1;31munreachable=1   \u001b[0m failed=0    skipped=0    rescued=0    ignored=0   \n",
      "\u001b[0;31m181b3274b6754bd0b16e34a71dc33d3f\u001b[0m : ok=0    changed=0    \u001b[1;31munreachable=1   \u001b[0m failed=0    skipped=0    rescued=0    ignored=0   \n",
      "\u001b[0;31m235d027c961f417baf982ae96a0353e9\u001b[0m : ok=0    changed=0    \u001b[1;31munreachable=1   \u001b[0m failed=0    skipped=0    rescued=0    ignored=0   \n",
      "\u001b[0;31m286004302f1141bd8e39c65f4fd5f5e1\u001b[0m : ok=0    changed=0    \u001b[1;31munreachable=1   \u001b[0m failed=0    skipped=0    rescued=0    ignored=0   \n",
      "\u001b[0;31m29bbbb3d570a4919928d59b6e6363ba4\u001b[0m : ok=0    changed=0    \u001b[1;31munreachable=1   \u001b[0m failed=0    skipped=0    rescued=0    ignored=0   \n",
      "\u001b[0;31m2ab09bd867814886b7d931918d142229\u001b[0m : ok=0    changed=0    \u001b[1;31munreachable=1   \u001b[0m failed=0    skipped=0    rescued=0    ignored=0   \n",
      "\u001b[0;31m2cf810aaf68f4b1fa9d8ac2cb48dd002\u001b[0m : \u001b[0;32mok=1   \u001b[0m changed=0    unreachable=0    \u001b[0;31mfailed=1   \u001b[0m skipped=0    rescued=0    ignored=0   \n",
      "\u001b[0;31m2d76e4b5256747a3ba67351faa64ddb2\u001b[0m : ok=0    changed=0    \u001b[1;31munreachable=1   \u001b[0m failed=0    skipped=0    rescued=0    ignored=0   \n",
      "\u001b[0;31m2dac7edf679049b0a1ffbed9b3aa0d63\u001b[0m : ok=0    changed=0    \u001b[1;31munreachable=1   \u001b[0m failed=0    skipped=0    rescued=0    ignored=0   \n",
      "\u001b[0;31m30188979d889458abfcd56bdedb8814b\u001b[0m : ok=0    changed=0    \u001b[1;31munreachable=1   \u001b[0m failed=0    skipped=0    rescued=0    ignored=0   \n",
      "\u001b[0;31m3197921c04d04573a36ebdeda2d54183\u001b[0m : ok=0    changed=0    \u001b[1;31munreachable=1   \u001b[0m failed=0    skipped=0    rescued=0    ignored=0   \n",
      "\u001b[0;31m3363c82c3cbb42ab89ce81204de15334\u001b[0m : ok=0    changed=0    \u001b[1;31munreachable=1   \u001b[0m failed=0    skipped=0    rescued=0    ignored=0   \n",
      "\u001b[0;31m3b8159b1da7547b88b900f3c6fbb3658\u001b[0m : ok=0    changed=0    \u001b[1;31munreachable=1   \u001b[0m failed=0    skipped=0    rescued=0    ignored=0   \n",
      "\u001b[0;31m3cd37d7f0a4141f893edbbb5bdb6f651\u001b[0m : ok=0    changed=0    \u001b[1;31munreachable=1   \u001b[0m failed=0    skipped=0    rescued=0    ignored=0   \n",
      "\u001b[0;31m47bf901d41624d7d9fa08233a97d1972\u001b[0m : ok=0    changed=0    \u001b[1;31munreachable=1   \u001b[0m failed=0    skipped=0    rescued=0    ignored=0   \n",
      "\u001b[0;31m48a545c110974591a2599404c7278605\u001b[0m : ok=0    changed=0    \u001b[1;31munreachable=1   \u001b[0m failed=0    skipped=0    rescued=0    ignored=0   \n",
      "\u001b[0;31m4ad77561809e4e88aa90acc35cb19fcb\u001b[0m : ok=0    changed=0    \u001b[1;31munreachable=1   \u001b[0m failed=0    skipped=0    rescued=0    ignored=0   \n",
      "\u001b[0;31m4bdf519cdffa4599a4f1f086967a19bf\u001b[0m : ok=0    changed=0    \u001b[1;31munreachable=1   \u001b[0m failed=0    skipped=0    rescued=0    ignored=0   \n",
      "\u001b[0;31m530355a73e8442169b91a111bf2d5312\u001b[0m : ok=0    changed=0    \u001b[1;31munreachable=1   \u001b[0m failed=0    skipped=0    rescued=0    ignored=0   \n",
      "\u001b[0;31m561b7392f5114bdab6ad3e9a82d32566\u001b[0m : ok=0    changed=0    \u001b[1;31munreachable=1   \u001b[0m failed=0    skipped=0    rescued=0    ignored=0   \n",
      "\u001b[0;31m57c52c556cfa40aba6872fa9dcdcace4\u001b[0m : ok=0    changed=0    \u001b[1;31munreachable=1   \u001b[0m failed=0    skipped=0    rescued=0    ignored=0   \n",
      "\u001b[0;31m581bb72e9a2346dc8e17bd738033d453\u001b[0m : ok=0    changed=0    \u001b[1;31munreachable=1   \u001b[0m failed=0    skipped=0    rescued=0    ignored=0   \n",
      "\u001b[0;31m6b176c1a263b41d4ab67fc6e4026d388\u001b[0m : ok=0    changed=0    \u001b[1;31munreachable=1   \u001b[0m failed=0    skipped=0    rescued=0    ignored=0   \n",
      "\u001b[0;31m6b64bf691d71497cb83ee2cb8c00e37c\u001b[0m : ok=0    changed=0    \u001b[1;31munreachable=1   \u001b[0m failed=0    skipped=0    rescued=0    ignored=0   \n",
      "\u001b[0;31m7448cb59df3f4831b61f633c8ace4a20\u001b[0m : ok=0    changed=0    \u001b[1;31munreachable=1   \u001b[0m failed=0    skipped=0    rescued=0    ignored=0   \n",
      "\u001b[0;31m821f049cb66c49c0a8c97f37f93dd151\u001b[0m : ok=0    changed=0    \u001b[1;31munreachable=1   \u001b[0m failed=0    skipped=0    rescued=0    ignored=0   \n",
      "\u001b[0;31m824fd6c984a94dea89d0132391f01cff\u001b[0m : ok=0    changed=0    \u001b[1;31munreachable=1   \u001b[0m failed=0    skipped=0    rescued=0    ignored=0   \n",
      "\u001b[0;31m885bad467fd04dfca6aa4a47fe52c25f\u001b[0m : ok=0    changed=0    \u001b[1;31munreachable=1   \u001b[0m failed=0    skipped=0    rescued=0    ignored=0   \n",
      "\u001b[0;31m8a9e76eaeaa44d4988ec887d5bb25e55\u001b[0m : ok=0    changed=0    \u001b[1;31munreachable=1   \u001b[0m failed=0    skipped=0    rescued=0    ignored=0   \n",
      "\u001b[0;31m8aae0349f6ba4d7aa96892ad0b869758\u001b[0m : ok=0    changed=0    \u001b[1;31munreachable=1   \u001b[0m failed=0    skipped=0    rescued=0    ignored=0   \n",
      "\u001b[0;31m8c095c8466c24aa4835ba0a6918c1906\u001b[0m : ok=0    changed=0    \u001b[1;31munreachable=1   \u001b[0m failed=0    skipped=0    rescued=0    ignored=0   \n",
      "\u001b[0;31m940215e9e6384d6d98fd58765302d19f\u001b[0m : ok=0    changed=0    \u001b[1;31munreachable=1   \u001b[0m failed=0    skipped=0    rescued=0    ignored=0   \n",
      "\u001b[0;31m9c72f23add6b4e79a3f9af86f68bf9e7\u001b[0m : ok=0    changed=0    \u001b[1;31munreachable=1   \u001b[0m failed=0    skipped=0    rescued=0    ignored=0   \n",
      "\u001b[0;31m9df48c7a88fc4912add9b19c36cae40f\u001b[0m : ok=0    changed=0    \u001b[1;31munreachable=1   \u001b[0m failed=0    skipped=0    rescued=0    ignored=0   \n",
      "\u001b[0;31ma056ed6e721541f3874b1ff1fa87f29a\u001b[0m : ok=0    changed=0    \u001b[1;31munreachable=1   \u001b[0m failed=0    skipped=0    rescued=0    ignored=0   \n",
      "\u001b[0;31ma0c140b7b09646e4933bb82586e34b35\u001b[0m : ok=0    changed=0    \u001b[1;31munreachable=1   \u001b[0m failed=0    skipped=0    rescued=0    ignored=0   \n",
      "\u001b[0;31ma22d0732f4134570803ee783791b6c13\u001b[0m : ok=0    changed=0    \u001b[1;31munreachable=1   \u001b[0m failed=0    skipped=0    rescued=0    ignored=0   \n",
      "\u001b[0;31ma5ab86a874484f0394671bac46aaf289\u001b[0m : ok=0    changed=0    \u001b[1;31munreachable=1   \u001b[0m failed=0    skipped=0    rescued=0    ignored=0   \n",
      "\u001b[0;31ma7f8ab321de04ade9ebcfce1a238712c\u001b[0m : ok=0    changed=0    \u001b[1;31munreachable=1   \u001b[0m failed=0    skipped=0    rescued=0    ignored=0   \n",
      "\u001b[0;31mab431892fa4f460cae640cfb3895b1f7\u001b[0m : ok=0    changed=0    \u001b[1;31munreachable=1   \u001b[0m failed=0    skipped=0    rescued=0    ignored=0   \n",
      "\u001b[0;31mad4dc9ed3bb14a41bf491db39ed6dfdc\u001b[0m : ok=0    changed=0    \u001b[1;31munreachable=1   \u001b[0m failed=0    skipped=0    rescued=0    ignored=0   \n",
      "\u001b[0;31maff3c44b3780426abecc8056eac646bb\u001b[0m : ok=0    changed=0    \u001b[1;31munreachable=1   \u001b[0m failed=0    skipped=0    rescued=0    ignored=0   \n",
      "\u001b[0;31mb2075132869946c28e2aca9382c8ea4e\u001b[0m : ok=0    changed=0    \u001b[1;31munreachable=1   \u001b[0m failed=0    skipped=0    rescued=0    ignored=0   \n",
      "\u001b[0;31mb2711c8444c6469391550cc17be18c1f\u001b[0m : ok=0    changed=0    \u001b[1;31munreachable=1   \u001b[0m failed=0    skipped=0    rescued=0    ignored=0   \n",
      "\u001b[0;31mbaf71f3fb10e481cbe914f8ba5e37217\u001b[0m : ok=0    changed=0    \u001b[1;31munreachable=1   \u001b[0m failed=0    skipped=0    rescued=0    ignored=0   \n",
      "\u001b[0;31mbb91451d2abf48c5829f2405202580d9\u001b[0m : ok=0    changed=0    \u001b[1;31munreachable=1   \u001b[0m failed=0    skipped=0    rescued=0    ignored=0   \n",
      "\u001b[0;31mc6e5f589311b4b0ca2727ecd3421b662\u001b[0m : ok=0    changed=0    \u001b[1;31munreachable=1   \u001b[0m failed=0    skipped=0    rescued=0    ignored=0   \n",
      "\u001b[0;31mca2504f7954f46249bdef76173805565\u001b[0m : ok=0    changed=0    \u001b[1;31munreachable=1   \u001b[0m failed=0    skipped=0    rescued=0    ignored=0   \n",
      "\u001b[0;31mcdee92778af64c6b89eeccc2d7a7c3b7\u001b[0m : ok=0    changed=0    \u001b[1;31munreachable=1   \u001b[0m failed=0    skipped=0    rescued=0    ignored=0   \n",
      "\u001b[0;31mcf1be71c4cdc4197bbce6c61bf261fc2\u001b[0m : ok=0    changed=0    \u001b[1;31munreachable=1   \u001b[0m failed=0    skipped=0    rescued=0    ignored=0   \n",
      "\u001b[0;31mcf7b1a6f0292431ba034c8c10552ed8d\u001b[0m : ok=0    changed=0    \u001b[1;31munreachable=1   \u001b[0m failed=0    skipped=0    rescued=0    ignored=0   \n",
      "\u001b[0;31md1a8cf404d824e25bc139e338f2925cd\u001b[0m : ok=0    changed=0    \u001b[1;31munreachable=1   \u001b[0m failed=0    skipped=0    rescued=0    ignored=0   \n",
      "\u001b[0;32md4289a6df8f4462c9de952b2c95dc817\u001b[0m : \u001b[0;32mok=2   \u001b[0m changed=0    unreachable=0    failed=0    skipped=0    rescued=0    ignored=0   \n",
      "\u001b[0;31md7289e1a77694db2a5cf453bb5bf62bf\u001b[0m : ok=0    changed=0    \u001b[1;31munreachable=1   \u001b[0m failed=0    skipped=0    rescued=0    ignored=0   \n",
      "\u001b[0;31mde48dd0ba4cc405980640fc93b67c444\u001b[0m : ok=0    changed=0    \u001b[1;31munreachable=1   \u001b[0m failed=0    skipped=0    rescued=0    ignored=0   \n",
      "\u001b[0;31mdfd1aea6cc474009aac667ae91f2dbc8\u001b[0m : ok=0    changed=0    \u001b[1;31munreachable=1   \u001b[0m failed=0    skipped=0    rescued=0    ignored=0   \n",
      "\u001b[0;31me1b978794d5b46499e57a6db33e7c068\u001b[0m : ok=0    changed=0    \u001b[1;31munreachable=1   \u001b[0m failed=0    skipped=0    rescued=0    ignored=0   \n",
      "\u001b[0;31me882ffe98c2d498da09d937a2f3b4a4a\u001b[0m : ok=0    changed=0    \u001b[1;31munreachable=1   \u001b[0m failed=0    skipped=0    rescued=0    ignored=0   \n",
      "\u001b[0;31me926ed7a84e84d6a8009063321646f8b\u001b[0m : ok=0    changed=0    \u001b[1;31munreachable=1   \u001b[0m failed=0    skipped=0    rescued=0    ignored=0   \n",
      "\u001b[0;31mefdf4fd582ee4d29ac065ea6007b4a6b\u001b[0m : ok=0    changed=0    \u001b[1;31munreachable=1   \u001b[0m failed=0    skipped=0    rescued=0    ignored=0   \n",
      "\u001b[0;31mfa021323708d4ecc8bf94a76ddf66cf3\u001b[0m : ok=0 \n",
      "PLAY RECAP *********************************************************************\n",
      "\u001b[0;31m00ffaa3eb91e4622b1dcff6e05244527\u001b[0m : ok=0    changed=0    \u001b[1;31munreachable=1   \u001b[0m failed=0    skipped=0    rescued=0    ignored=0   \n",
      "\u001b[0;31m07b06ea7d7b5403ebc719af9899bad0e\u001b[0m : ok=0    changed=0    \u001b[1;31munreachable=1   \u001b[0m failed=0    skipped=0    rescued=0    ignored=0   \n",
      "\u001b[0;31m0a6d71d1846f4085a3e7b433854d8385\u001b[0m : \u001b[0;32mok=1   \u001b[0m changed=0    unreachable=0    \u001b[0;31mfailed=1   \u001b[0m skipped=0    rescued=0    ignored=0   \n",
      "\u001b[0;31m0fa652b653854ee5811bd2a863d12861\u001b[0m : ok=0    changed=0    \u001b[1;31munreachable=1   \u001b[0m failed=0    skipped=0    rescued=0    ignored=0   \n",
      "\u001b[0;31m181b3274b6754bd0b16e34a71dc33d3f\u001b[0m : ok=0    changed=0    \u001b[1;31munreachable=1   \u001b[0m failed=0    skipped=0    rescued=0    ignored=0   \n",
      "\u001b[0;31m235d027c961f417baf982ae96a0353e9\u001b[0m : ok=0    changed=0    \u001b[1;31munreachable=1   \u001b[0m failed=0    skipped=0    rescued=0    ignored=0   \n",
      "\u001b[0;31m286004302f1141bd8e39c65f4fd5f5e1\u001b[0m : ok=0    changed=0    \u001b[1;31munreachable=1   \u001b[0m failed=0    skipped=0    rescued=0    ignored=0   \n",
      "\u001b[0;31m29bbbb3d570a4919928d59b6e6363ba4\u001b[0m : ok=0    changed=0    \u001b[1;31munreachable=1   \u001b[0m failed=0    skipped=0    rescued=0    ignored=0   \n",
      "\u001b[0;31m2ab09bd867814886b7d931918d142229\u001b[0m : ok=0    changed=0    \u001b[1;31munreachable=1   \u001b[0m failed=0    skipped=0    rescued=0    ignored=0   \n",
      "\u001b[0;31m2cf810aaf68f4b1fa9d8ac2cb48dd002\u001b[0m : \u001b[0;32mok=1   \u001b[0m changed=0    unreachable=0    \u001b[0;31mfailed=1   \u001b[0m skipped=0    rescued=0    ignored=0   \n",
      "\u001b[0;31m2d76e4b5256747a3ba67351faa64ddb2\u001b[0m : ok=0    changed=0    \u001b[1;31munreachable=1   \u001b[0m failed=0    skipped=0    rescued=0    ignored=0   \n",
      "\u001b[0;31m2dac7edf679049b0a1ffbed9b3aa0d63\u001b[0m : ok=0    changed=0    \u001b[1;31munreachable=1   \u001b[0m failed=0    skipped=0    rescued=0    ignored=0   \n",
      "\u001b[0;31m30188979d889458abfcd56bdedb8814b\u001b[0m : ok=0    changed=0    \u001b[1;31munreachable=1   \u001b[0m failed=0    skipped=0    rescued=0    ignored=0   \n",
      "\u001b[0;31m3197921c04d04573a36ebdeda2d54183\u001b[0m : ok=0    changed=0    \u001b[1;31munreachable=1   \u001b[0m failed=0    skipped=0    rescued=0    ignored=0   \n",
      "\u001b[0;31m3363c82c3cbb42ab89ce81204de15334\u001b[0m : ok=0    changed=0    \u001b[1;31munreachable=1   \u001b[0m failed=0    skipped=0    rescued=0    ignored=0   \n",
      "\u001b[0;31m3b8159b1da7547b88b900f3c6fbb3658\u001b[0m : ok=0    changed=0    \u001b[1;31munreachable=1   \u001b[0m failed=0    skipped=0    rescued=0    ignored=0   \n",
      "\u001b[0;31m3cd37d7f0a4141f893edbbb5bdb6f651\u001b[0m : ok=0    changed=0    \u001b[1;31munreachable=1   \u001b[0m failed=0    skipped=0    rescued=0    ignored=0   \n",
      "\u001b[0;31m47bf901d41624d7d9fa08233a97d1972\u001b[0m : ok=0    changed=0    \u001b[1;31munreachable=1   \u001b[0m failed=0    skipped=0    rescued=0    ignored=0   \n",
      "\u001b[0;31m48a545c110974591a2599404c7278605\u001b[0m : ok=0    changed=0    \u001b[1;31munreachable=1   \u001b[0m failed=0    skipped=0    rescued=0    ignored=0   \n",
      "\u001b[0;31m4ad77561809e4e88aa90acc35cb19fcb\u001b[0m : ok=0    changed=0    \u001b[1;31munreachable=1   \u001b[0m failed=0    skipped=0    rescued=0    ignored=0   \n",
      "\u001b[0;31m4bdf519cdffa4599a4f1f086967a19bf\u001b[0m : ok=0    changed=0    \u001b[1;31munreachable=1   \u001b[0m failed=0    skipped=0    rescued=0    ignored=0   \n",
      "\u001b[0;31m530355a73e8442169b91a111bf2d5312\u001b[0m : ok=0    changed=0    \u001b[1;31munreachable=1   \u001b[0m failed=0    skipped=0    rescued=0    ignored=0   \n",
      "\u001b[0;31m561b7392f5114bdab6ad3e9a82d32566\u001b[0m : ok=0    changed=0    \u001b[1;31munreachable=1   \u001b[0m failed=0    skipped=0    rescued=0    ignored=0   \n",
      "\u001b[0;31m57c52c556cfa40aba6872fa9dcdcace4\u001b[0m : ok=0    changed=0    \u001b[1;31munreachable=1   \u001b[0m failed=0    skipped=0    rescued=0    ignored=0   \n",
      "\u001b[0;31m581bb72e9a2346dc8e17bd738033d453\u001b[0m : ok=0    changed=0    \u001b[1;31munreachable=1   \u001b[0m failed=0    skipped=0    rescued=0    ignored=0   \n",
      "\u001b[0;31m6b176c1a263b41d4ab67fc6e4026d388\u001b[0m : ok=0    changed=0    \u001b[1;31munreachable=1   \u001b[0m failed=0    skipped=0    rescued=0    ignored=0   \n",
      "\u001b[0;31m6b64bf691d71497cb83ee2cb8c00e37c\u001b[0m : ok=0    changed=0    \u001b[1;31munreachable=1   \u001b[0m failed=0    skipped=0    rescued=0    ignored=0   \n",
      "\u001b[0;31m7448cb59df3f4831b61f633c8ace4a20\u001b[0m : ok=0    changed=0    \u001b[1;31munreachable=1   \u001b[0m failed=0    skipped=0    rescued=0    ignored=0   \n",
      "\u001b[0;31m821f049cb66c49c0a8c97f37f93dd151\u001b[0m : ok=0    changed=0    \u001b[1;31munreachable=1   \u001b[0m failed=0    skipped=0    rescued=0    ignored=0   \n",
      "\u001b[0;31m824fd6c984a94dea89d0132391f01cff\u001b[0m : ok=0    changed=0    \u001b[1;31munreachable=1   \u001b[0m failed=0    skipped=0    rescued=0    ignored=0   \n",
      "\u001b[0;31m885bad467fd04dfca6aa4a47fe52c25f\u001b[0m : ok=0    changed=0    \u001b[1;31munreachable=1   \u001b[0m failed=0    skipped=0    rescued=0    ignored=0   \n",
      "\u001b[0;31m8a9e76eaeaa44d4988ec887d5bb25e55\u001b[0m : ok=0    changed=0    \u001b[1;31munreachable=1   \u001b[0m failed=0    skipped=0    rescued=0    ignored=0   \n",
      "\u001b[0;31m8aae0349f6ba4d7aa96892ad0b869758\u001b[0m : ok=0    changed=0    \u001b[1;31munreachable=1   \u001b[0m failed=0    skipped=0    rescued=0    ignored=0   \n",
      "\u001b[0;31m8c095c8466c24aa4835ba0a6918c1906\u001b[0m : ok=0    changed=0    \u001b[1;31munreachable=1   \u001b[0m failed=0    skipped=0    rescued=0    ignored=0   \n",
      "\u001b[0;31m940215e9e6384d6d98fd58765302d19f\u001b[0m : ok=0    changed=0    \u001b[1;31munreachable=1   \u001b[0m failed=0    skipped=0    rescued=0    ignored=0   \n",
      "\u001b[0;31m9c72f23add6b4e79a3f9af86f68bf9e7\u001b[0m : ok=0    changed=0    \u001b[1;31munreachable=1   \u001b[0m failed=0    skipped=0    rescued=0    ignored=0   \n",
      "\u001b[0;31m9df48c7a88fc4912add9b19c36cae40f\u001b[0m : ok=0    changed=0    \u001b[1;31munreachable=1   \u001b[0m failed=0    skipped=0    rescued=0    ignored=0   \n",
      "\u001b[0;31ma056ed6e721541f3874b1ff1fa87f29a\u001b[0m : ok=0    changed=0    \u001b[1;31munreachable=1   \u001b[0m failed=0    skipped=0    rescued=0    ignored=0   \n",
      "\u001b[0;31ma0c140b7b09646e4933bb82586e34b35\u001b[0m : ok=0    changed=0    \u001b[1;31munreachable=1   \u001b[0m failed=0    skipped=0    rescued=0    ignored=0   \n",
      "\u001b[0;31ma22d0732f4134570803ee783791b6c13\u001b[0m : ok=0    changed=0    \u001b[1;31munreachable=1   \u001b[0m failed=0    skipped=0    rescued=0    ignored=0   \n",
      "\u001b[0;31ma5ab86a874484f0394671bac46aaf289\u001b[0m : ok=0    changed=0    \u001b[1;31munreachable=1   \u001b[0m failed=0    skipped=0    rescued=0    ignored=0   \n",
      "\u001b[0;31ma7f8ab321de04ade9ebcfce1a238712c\u001b[0m : ok=0    changed=0    \u001b[1;31munreachable=1   \u001b[0m failed=0    skipped=0    rescued=0    ignored=0   \n",
      "\u001b[0;31mab431892fa4f460cae640cfb3895b1f7\u001b[0m : ok=0    changed=0    \u001b[1;31munreachable=1   \u001b[0m failed=0    skipped=0    rescued=0    ignored=0   \n",
      "\u001b[0;31mad4dc9ed3bb14a41bf491db39ed6dfdc\u001b[0m : ok=0    changed=0    \u001b[1;31munreachable=1   \u001b[0m failed=0    skipped=0    rescued=0    ignored=0   \n",
      "\u001b[0;31maff3c44b3780426abecc8056eac646bb\u001b[0m : ok=0    changed=0    \u001b[1;31munreachable=1   \u001b[0m failed=0    skipped=0    rescued=0    ignored=0   \n",
      "\u001b[0;31mb2075132869946c28e2aca9382c8ea4e\u001b[0m : ok=0    changed=0    \u001b[1;31munreachable=1   \u001b[0m failed=0    skipped=0    rescued=0    ignored=0   \n",
      "\u001b[0;31mb2711c8444c6469391550cc17be18c1f\u001b[0m : ok=0    changed=0    \u001b[1;31munreachable=1   \u001b[0m failed=0    skipped=0    rescued=0    ignored=0   \n",
      "\u001b[0;31mbaf71f3fb10e481cbe914f8ba5e37217\u001b[0m : ok=0    changed=0    \u001b[1;31munreachable=1   \u001b[0m failed=0    skipped=0    rescued=0    ignored=0   \n",
      "\u001b[0;31mbb91451d2abf48c5829f2405202580d9\u001b[0m : ok=0    changed=0    \u001b[1;31munreachable=1   \u001b[0m failed=0    skipped=0    rescued=0    ignored=0   \n",
      "\u001b[0;31mc6e5f589311b4b0ca2727ecd3421b662\u001b[0m : ok=0    changed=0    \u001b[1;31munreachable=1   \u001b[0m failed=0    skipped=0    rescued=0    ignored=0   \n",
      "\u001b[0;31mca2504f7954f46249bdef76173805565\u001b[0m : ok=0    changed=0    \u001b[1;31munreachable=1   \u001b[0m failed=0    skipped=0    rescued=0    ignored=0   \n",
      "\u001b[0;31mcdee92778af64c6b89eeccc2d7a7c3b7\u001b[0m : ok=0    changed=0    \u001b[1;31munreachable=1   \u001b[0m failed=0    skipped=0    rescued=0    ignored=0   \n",
      "\u001b[0;31mcf1be71c4cdc4197bbce6c61bf261fc2\u001b[0m : ok=0    changed=0    \u001b[1;31munreachable=1   \u001b[0m failed=0    skipped=0    rescued=0    ignored=0   \n",
      "\u001b[0;31mcf7b1a6f0292431ba034c8c10552ed8d\u001b[0m : ok=0    changed=0    \u001b[1;31munreachable=1   \u001b[0m failed=0    skipped=0    rescued=0    ignored=0   \n",
      "\u001b[0;31md1a8cf404d824e25bc139e338f2925cd\u001b[0m : ok=0    changed=0    \u001b[1;31munreachable=1   \u001b[0m failed=0    skipped=0    rescued=0    ignored=0   \n",
      "\u001b[0;32md4289a6df8f4462c9de952b2c95dc817\u001b[0m : \u001b[0;32mok=2   \u001b[0m changed=0    unreachable=0    failed=0    skipped=0    rescued=0    ignored=0   \n",
      "\u001b[0;31md7289e1a77694db2a5cf453bb5bf62bf\u001b[0m : ok=0    changed=0    \u001b[1;31munreachable=1   \u001b[0m failed=0    skipped=0    rescued=0    ignored=0   \n",
      "\u001b[0;31mde48dd0ba4cc405980640fc93b67c444\u001b[0m : ok=0    changed=0    \u001b[1;31munreachable=1   \u001b[0m failed=0    skipped=0    rescued=0    ignored=0   \n",
      "\u001b[0;31mdfd1aea6cc474009aac667ae91f2dbc8\u001b[0m : ok=0    changed=0    \u001b[1;31munreachable=1   \u001b[0m failed=0    skipped=0    rescued=0    ignored=0   \n",
      "\u001b[0;31me1b978794d5b46499e57a6db33e7c068\u001b[0m : ok=0    changed=0    \u001b[1;31munreachable=1   \u001b[0m failed=0    skipped=0    rescued=0    ignored=0   \n",
      "\u001b[0;31me882ffe98c2d498da09d937a2f3b4a4a\u001b[0m : ok=0    changed=0    \u001b[1;31munreachable=1   \u001b[0m failed=0    skipped=0    rescued=0    ignored=0   \n",
      "\u001b[0;31me926ed7a84e84d6a8009063321646f8b\u001b[0m : ok=0    changed=0    \u001b[1;31munreachable=1   \u001b[0m failed=0    skipped=0    rescued=0    ignored=0   \n",
      "\u001b[0;31mefdf4fd582ee4d29ac065ea6007b4a6b\u001b[0m : ok=0    changed=0    \u001b[1;31munreachable=1   \u001b[0m failed=0    skipped=0    rescued=0    ignored=0   \n",
      "\u001b[0;31mfa021323708d4ecc8bf94a76ddf66cf3\u001b[0m : ok=0    changed=0    \u001b[1;31munreachable=1   \u001b[0m failed=0    skipped=0    rescued=0    ignored=0   \n",
      "\u001b[0;31mff705c8a79b3409b9bc1216d9929844a\u001b[0m : ok=0    changed=0    \u001b[1;31munreachable=1   \u001b[0m failed=0    skipped=0    rescued=0    ignored=0   \n",
      "\n"
     ]
    }
   ],
   "source": [
    "playbook_file = path_extend('~/CLAP/getfacts.yml')\n",
    "inventory = AnsiblePlaybookExecutor.create_inventory(nodes, private_path)\n",
    "executor = AnsiblePlaybookExecutor(playbook_file, private_path, inventory=inventory)\n",
    "result = executor.run()"
   ]
  },
  {
   "cell_type": "markdown",
   "id": "8a22d062-3caa-4b2c-853b-e01cdf9ea332",
   "metadata": {},
   "source": [
    "Let's check the playbook results"
   ]
  },
  {
   "cell_type": "code",
   "execution_count": 18,
   "id": "bec904d9-f823-4890-a3ea-050b864d0702",
   "metadata": {},
   "outputs": [
    {
     "output_type": "stream",
     "name": "stdout",
     "text": [
      "Did the playbook executed? False\nAnsible playbook return code: 4\nLet's check how nodes executed: \n    Node cf1be71c4cdc4197bbce6c61bf261fc2: False\n    Node 824fd6c984a94dea89d0132391f01cff: False\n    Node 2dac7edf679049b0a1ffbed9b3aa0d63: False\n    Node e926ed7a84e84d6a8009063321646f8b: False\n    Node fa021323708d4ecc8bf94a76ddf66cf3: False\n    Node ca2504f7954f46249bdef76173805565: False\n    Node a056ed6e721541f3874b1ff1fa87f29a: False\n    Node bb91451d2abf48c5829f2405202580d9: False\n    Node cf7b1a6f0292431ba034c8c10552ed8d: False\n    Node 4ad77561809e4e88aa90acc35cb19fcb: False\n    Node ad4dc9ed3bb14a41bf491db39ed6dfdc: False\n    Node 561b7392f5114bdab6ad3e9a82d32566: False\n    Node 181b3274b6754bd0b16e34a71dc33d3f: False\n    Node 48a545c110974591a2599404c7278605: False\n    Node 3b8159b1da7547b88b900f3c6fbb3658: False\n    Node aff3c44b3780426abecc8056eac646bb: False\n    Node e882ffe98c2d498da09d937a2f3b4a4a: False\n    Node 2d76e4b5256747a3ba67351faa64ddb2: False\n    Node 3cd37d7f0a4141f893edbbb5bdb6f651: False\n    Node 530355a73e8442169b91a111bf2d5312: False\n    Node 2cf810aaf68f4b1fa9d8ac2cb48dd002: False\n    Node 0a6d71d1846f4085a3e7b433854d8385: False\n    Node 07b06ea7d7b5403ebc719af9899bad0e: False\n    Node 8aae0349f6ba4d7aa96892ad0b869758: False\n    Node c6e5f589311b4b0ca2727ecd3421b662: False\n    Node 29bbbb3d570a4919928d59b6e6363ba4: False\n    Node a22d0732f4134570803ee783791b6c13: False\n    Node d4289a6df8f4462c9de952b2c95dc817: True\n    Node 235d027c961f417baf982ae96a0353e9: False\n    Node 30188979d889458abfcd56bdedb8814b: False\n    Node 3363c82c3cbb42ab89ce81204de15334: False\n    Node dfd1aea6cc474009aac667ae91f2dbc8: False\n    Node 4bdf519cdffa4599a4f1f086967a19bf: False\n    Node 6b64bf691d71497cb83ee2cb8c00e37c: False\n    Node 821f049cb66c49c0a8c97f37f93dd151: False\n    Node a0c140b7b09646e4933bb82586e34b35: False\n    Node 3197921c04d04573a36ebdeda2d54183: False\n    Node d7289e1a77694db2a5cf453bb5bf62bf: False\n    Node 885bad467fd04dfca6aa4a47fe52c25f: False\n    Node 2ab09bd867814886b7d931918d142229: False\n    Node 286004302f1141bd8e39c65f4fd5f5e1: False\n    Node 57c52c556cfa40aba6872fa9dcdcace4: False\n    Node a5ab86a874484f0394671bac46aaf289: False\n    Node 7448cb59df3f4831b61f633c8ace4a20: False\n    Node baf71f3fb10e481cbe914f8ba5e37217: False\n    Node 940215e9e6384d6d98fd58765302d19f: False\n    Node 9c72f23add6b4e79a3f9af86f68bf9e7: False\n    Node 0fa652b653854ee5811bd2a863d12861: False\n    Node 581bb72e9a2346dc8e17bd738033d453: False\n    Node a7f8ab321de04ade9ebcfce1a238712c: False\n    Node 6b176c1a263b41d4ab67fc6e4026d388: False\n    Node de48dd0ba4cc405980640fc93b67c444: False\n    Node b2711c8444c6469391550cc17be18c1f: False\n    Node ff705c8a79b3409b9bc1216d9929844a: False\n    Node 8a9e76eaeaa44d4988ec887d5bb25e55: False\n    Node 8c095c8466c24aa4835ba0a6918c1906: False\n    Node 9df48c7a88fc4912add9b19c36cae40f: False\n    Node d1a8cf404d824e25bc139e338f2925cd: False\n    Node efdf4fd582ee4d29ac065ea6007b4a6b: False\n    Node ab431892fa4f460cae640cfb3895b1f7: False\n    Node 47bf901d41624d7d9fa08233a97d1972: False\n    Node e1b978794d5b46499e57a6db33e7c068: False\n    Node 00ffaa3eb91e4622b1dcff6e05244527: False\n    Node cdee92778af64c6b89eeccc2d7a7c3b7: False\n    Node b2075132869946c28e2aca9382c8ea4e: False\nLet's check variables set using set_fact module: \n    Node d4289a6df8f4462c9de952b2c95dc817: {'interation_time': '1'}\n"
     ]
    }
   ],
   "source": [
    "print(f\"Did the playbook executed? {result.ok}\")\n",
    "print(f\"Ansible playbook return code: {result.ret_code}\")\n",
    "print(f\"Let's check how nodes executed: \")\n",
    "for node_id, status in result.hosts.items():\n",
    "    print(f\"    Node {node_id}: {status}\")\n",
    "print(f\"Let's check variables set using set_fact module: \")\n",
    "for node_id, facts in result.vars.items():\n",
    "    print(f\"    Node {node_id}: {facts}\")"
   ]
  },
  {
   "cell_type": "markdown",
   "id": "fd818b24-0376-4ef1-8b17-5dda9814fa62",
   "metadata": {},
   "source": [
    "# Roles\n",
    "\n",
    "Roles are easy ways to organize and execute Playbook at nodes that play a role. We will add nodes to a role called `commands-common`. Nodesthat play this role can perform common operations like copy and fetch files, install and update packages, reboot, among others.\n",
    "\n",
    "We will copy files from local to remote hosts, using commands-common role. The workflow will be:\n",
    "* Add nodes to commands-common role\n",
    "* Execute action calle copy on nodes of role commands-common"
   ]
  },
  {
   "cell_type": "markdown",
   "id": "3afb0259-08f7-41b5-8520-7e49b95c7ffb",
   "metadata": {},
   "source": [
    "Let's see the commands common role at actions.d. The copy action requires the source file and the destiny where the files will be placed at remote hosts."
   ]
  },
  {
   "cell_type": "code",
   "execution_count": 10,
   "id": "35ce71dc-e712-46d0-9a7a-d400a2c24d3b",
   "metadata": {},
   "outputs": [
    {
     "name": "stdout",
     "output_type": "stream",
     "text": [
      "---\n",
      "actions:\n",
      "  install-packages:\n",
      "    playbook: roles/commands-common_install.yml\n",
      "    description: Install packages in nodes\n",
      "    vars:\n",
      "    - name: packages\n",
      "      description: Packages to install (comma separated)\n",
      "\n",
      "  copy:\n",
      "    playbook: roles/commands-common_copy.yml\n",
      "    description: Copy files from localhost to remote hosts\n",
      "    vars:\n",
      "    - name: src\n",
      "      description: Source files/directory to be copied\n",
      "    - name: dest\n",
      "      description: Destination directory where files will be placed\n",
      "\n",
      "  fetch:\n",
      "    playbook: roles/commands-common_fetch.yml\n",
      "    description: Fetch files from remote hosts to localhosts\n",
      "    vars:\n",
      "    - name: src\n",
      "      description: Source files/directory to be fetched\n",
      "    - name: dest\n",
      "      description: Destination directory where files will be placed\n",
      "\n",
      "  reboot:\n",
      "    playbook: roles/commands-common_reboot.yml\n",
      "    description: Reboot a machine\n",
      "\n",
      "  run-command:\n",
      "    playbook: roles/commands-common_run-command.yml\n",
      "    description: Run a shell command in remote hosts\n",
      "    vars:\n",
      "    - name: cmd\n",
      "    - name: workdir\n",
      "      description: Working directory. It will be changed before executing the command\n",
      "      optional: yes\n",
      "\n",
      "  run-script:\n",
      "    playbook: roles/commands-common_run-script.yml\n",
      "    description: Transfer and run a script at remote hosts\n",
      "    vars:\n",
      "    - name: src\n",
      "      description: Source script to run\n",
      "    - name: args\n",
      "      description: Arguments to be passed to the script\n",
      "    - name: workdir\n",
      "      description: Working directory. It will be changed before executing the script\n",
      "      optional: yes\n",
      "\n",
      "  update-packages:\n",
      "    playbook: roles/commands-common_update-packages.yml\n",
      "    description: Update the list of packages of the system\n",
      "\n"
     ]
    }
   ],
   "source": [
    "!cat ~/.clap/roles/actions.d/commands-common.yaml"
   ]
  },
  {
   "cell_type": "markdown",
   "id": "3f242435-536b-41ab-8830-794319a32267",
   "metadata": {},
   "source": [
    "All roles can be accessed though `roles` dictionary from `role_manager` class, where the keys are the role names and values are the `Role` dataclass. We will print the role commands-common as a dict."
   ]
  },
  {
   "cell_type": "code",
   "execution_count": 11,
   "id": "2a0dedbb-868d-409d-b5b3-1b98e2c56448",
   "metadata": {},
   "outputs": [
    {
     "name": "stdout",
     "output_type": "stream",
     "text": [
      "------\n",
      "Role: commands-common\n",
      "actions:\n",
      "    copy:\n",
      "        description: Copy files from localhost to remote hosts\n",
      "        playbook: roles/commands-common_copy.yml\n",
      "        vars:\n",
      "        -   description: Source files/directory to be copied\n",
      "            name: src\n",
      "            optional: false\n",
      "        -   description: Destination directory where files will be placed\n",
      "            name: dest\n",
      "            optional: false\n",
      "    fetch:\n",
      "        description: Fetch files from remote hosts to localhosts\n",
      "        playbook: roles/commands-common_fetch.yml\n",
      "        vars:\n",
      "        -   description: Source files/directory to be fetched\n",
      "            name: src\n",
      "            optional: false\n",
      "        -   description: Destination directory where files will be placed\n",
      "            name: dest\n",
      "            optional: false\n",
      "    install-packages:\n",
      "        description: Install packages in nodes\n",
      "        playbook: roles/commands-common_install.yml\n",
      "        vars:\n",
      "        -   description: Packages to install (comma separated)\n",
      "            name: packages\n",
      "            optional: false\n",
      "    reboot:\n",
      "        description: Reboot a machine\n",
      "        playbook: roles/commands-common_reboot.yml\n",
      "        vars: []\n",
      "    run-command:\n",
      "        description: Run a shell command in remote hosts\n",
      "        playbook: roles/commands-common_run-command.yml\n",
      "        vars:\n",
      "        -   description: null\n",
      "            name: cmd\n",
      "            optional: false\n",
      "        -   description: Working directory. It will be changed before executing the\n",
      "                command\n",
      "            name: workdir\n",
      "            optional: true\n",
      "    run-script:\n",
      "        description: Transfer and run a script at remote hosts\n",
      "        playbook: roles/commands-common_run-script.yml\n",
      "        vars:\n",
      "        -   description: Source script to run\n",
      "            name: src\n",
      "            optional: false\n",
      "        -   description: Arguments to be passed to the script\n",
      "            name: args\n",
      "            optional: false\n",
      "        -   description: Working directory. It will be changed before executing the\n",
      "                script\n",
      "            name: workdir\n",
      "            optional: true\n",
      "    update-packages:\n",
      "        description: Update the list of packages of the system\n",
      "        playbook: roles/commands-common_update-packages.yml\n",
      "        vars: []\n",
      "hosts: []\n",
      "\n"
     ]
    }
   ],
   "source": [
    "for role_name, role_info in role_manager.roles.items():\n",
    "    # Convert role_info to a dict\n",
    "    role_dict = asdict(role_info)\n",
    "    print('------')\n",
    "    print(f\"Role: {role_name}\")\n",
    "    # Print role\n",
    "    print(f\"{yaml.dump(role_dict, indent=4)}\")"
   ]
  },
  {
   "cell_type": "markdown",
   "id": "54e3af22-0639-4457-8ec6-bc84de9d75c9",
   "metadata": {},
   "source": [
    "Let's add nodes `07f4a369663f48d48254f2ad4c5abbfe` and `8133c6f7f9ca48258d1e0f01e11326f6` to commands-comon role.\n",
    "\n",
    "**Note**: If there is an action named `setup` defined in role, when using `add_role` from `RoleManager` class, this action will be automatically executed. The nodes will not be added to nodes if this action fails. If this action does not exists, the nodes will be added to role only."
   ]
  },
  {
   "cell_type": "code",
   "execution_count": 12,
   "id": "79f303da-b4a2-4f80-97d9-863829d1b3fe",
   "metadata": {},
   "outputs": [
    {
     "name": "stdout",
     "output_type": "stream",
     "text": [
      "Role commands-common was added to 2 nodes: ['07f4a369663f48d48254f2ad4c5abbfe', '8133c6f7f9ca48258d1e0f01e11326f6']\n"
     ]
    }
   ],
   "source": [
    "added_nodes = role_manager.add_role('commands-common', node_ids)\n",
    "print(f\"Role commands-common was added to {len(added_nodes)} nodes: {node_ids}\")"
   ]
  },
  {
   "cell_type": "markdown",
   "id": "3b50ee05-4490-4020-8125-db34fd8cc1b0",
   "metadata": {},
   "source": [
    "Let's perform action update-packages at nodes and copy the file at `~/playbook.yml` to remote hosts, at `~`. \n",
    "The copy action requires `src` and `dest` vars to be informed. It will be informed through `extra_args` variable.\n",
    "\n",
    "**Note**: An error will be raised if the variables are not informed "
   ]
  },
  {
   "cell_type": "code",
   "execution_count": 13,
   "id": "6e61f8d8-39c1-4329-8ddf-fa20e2b4d2c9",
   "metadata": {},
   "outputs": [
    {
     "name": "stdout",
     "output_type": "stream",
     "text": [
      "\u001b[1;35m[WARNING]: Invalid characters were found in group names but not replaced, use\u001b[0m\n",
      "\u001b[1;35m-vvvv to see details\u001b[0m\n",
      "\n",
      "PLAY [all] *********************************************************************\n",
      "\n",
      "TASK [Perform package list update] *********************************************\n",
      "\u001b[0;33mchanged: [07f4a369663f48d48254f2ad4c5abbfe]\u001b[0m\n",
      "\u001b[0;33mchanged: [8133c6f7f9ca48258d1e0f01e11326f6]\u001b[0m\n",
      "\u001b[0;33m07f4a369663f48d48254f2ad4c5abbfe\u001b[0m : \u001b[0;32mok=1   \u001b[0m \u001b[0;33mchanged=1   \u001b[0m unreachable=0    failed=0    skipped=0    rescued=0    ignored=0   \n",
      "\u001b[0;33m8133c6f7f9ca48258d1e0f01e11326f6\u001b[0m : \u001b[0;32mok=1   \u001b[0m \u001b[0;33mchanged=1   \u001b[0m unreachable=0    failed=0    skipped=0    rescued=0    ignored=0   \n",
      "\n",
      "PLAY RECAP *********************************************************************\n",
      "\u001b[0;33m07f4a369663f48d48254f2ad4c5abbfe\u001b[0m : \u001b[0;32mok=1   \u001b[0m \u001b[0;33mchanged=1   \u001b[0m unreachable=0    failed=0    skipped=0    rescued=0    ignored=0   \n",
      "\u001b[0;33m8133c6f7f9ca48258d1e0f01e11326f6\u001b[0m : \u001b[0;32mok=1   \u001b[0m \u001b[0;33mchanged=1   \u001b[0m unreachable=0    failed=0    skipped=0    rescued=0    ignored=0   \n",
      "\n",
      "\u001b[1;35m[WARNING]: Invalid characters were found in group names but not replaced, use\u001b[0m\n",
      "\u001b[1;35m-vvvv to see details\u001b[0m\n",
      "\n",
      "PLAY [all] *********************************************************************\n",
      "\n",
      "TASK [Ansible copy files from local to remote hosts] ***************************\n",
      "\u001b[0;33mchanged: [07f4a369663f48d48254f2ad4c5abbfe]\u001b[0m\n",
      "\u001b[0;33mchanged: [8133c6f7f9ca48258d1e0f01e11326f6]\u001b[0m\n",
      "\n",
      "PLAY RECAP *********************************************************************\n",
      "\u001b[0;33m07f4a369663f48d48254f2ad4c5abbfe\u001b[0m : \u001b[0;32mok=1   \u001b[0m \u001b[0;33mchanged=1   \u001b[0m unreachable=0    failed=0    skipped=0    rescued=0    ignored=0   \n",
      "\u001b[0;33m8133c6f7f9ca48258d1e0f01e11326f6\u001b[0m : \u001b[0;32mok=1   \u001b[0m \u001b[0;33mchanged=1   \u001b[0m unreachable=0    failed=0    skipped=0    rescued=0    ignored=0   \n",
      "\n"
     ]
    }
   ],
   "source": [
    "copy_vars = {\n",
    "    'src': path_extend('~/playbook.yml'),\n",
    "    'dest': '~'\n",
    "}\n",
    "playbook_result = role_manager.perform_action('commands-common', 'update-packages', node_ids)\n",
    "playbook_result = role_manager.perform_action('commands-common', 'copy', node_ids, extra_args=copy_vars)"
   ]
  },
  {
   "cell_type": "markdown",
   "id": "c525e6aa-ead1-4e0a-ae00-da02e728e9c0",
   "metadata": {},
   "source": [
    "We can also check all nodes that belong to a particular role using `get_all_role_nodes` method from `RoleManager` class.\n",
    "\n",
    "If your role define hosts, you can use `get_all_role_nodes_hosts`."
   ]
  },
  {
   "cell_type": "code",
   "execution_count": 14,
   "id": "001b0f9a-c4d3-4ce7-b729-d23cec4d4e90",
   "metadata": {},
   "outputs": [
    {
     "name": "stdout",
     "output_type": "stream",
     "text": [
      "['07f4a369663f48d48254f2ad4c5abbfe', '8133c6f7f9ca48258d1e0f01e11326f6']\n"
     ]
    }
   ],
   "source": [
    "nodes_belonging_to_role = role_manager.get_all_role_nodes('commands-common')\n",
    "print(nodes_belonging_to_role)"
   ]
  },
  {
   "cell_type": "code",
   "execution_count": null,
   "metadata": {},
   "outputs": [],
   "source": []
  }
 ],
 "metadata": {
  "kernelspec": {
   "name": "python3",
   "display_name": "Python 3.8.5 64-bit ('clap-env': venv)"
  },
  "language_info": {
   "codemirror_mode": {
    "name": "ipython",
    "version": 3
   },
   "file_extension": ".py",
   "mimetype": "text/x-python",
   "name": "python",
   "nbconvert_exporter": "python",
   "pygments_lexer": "ipython3",
   "version": "3.8.5"
  },
  "interpreter": {
   "hash": "ef8e2e09dc0ec59bfaa1ee1ab58a447fd43ddbfdd8e56cb47e4a7710a303cfac"
  }
 },
 "nbformat": 4,
 "nbformat_minor": 5
}