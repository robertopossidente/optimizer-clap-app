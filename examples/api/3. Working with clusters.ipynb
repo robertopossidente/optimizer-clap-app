{
 "cells": [
  {
   "cell_type": "markdown",
   "id": "70cd36c1-f4e8-4c97-b67d-b81b3676b7d4",
   "metadata": {},
   "source": [
    "# Working with clusters\n",
    "\n",
    "This notebook shows how to work with clusters in CLAP. We will use a cluster `npb-cluster` defined in `examples/cli/1. Creating a cluster.ipynb` notebook (pre-requesite). \n",
    "\n",
    "This notebook covers:\n",
    "* How to start and setup a cluster\n",
    "* How to grow a cluster (adding more nodes to it) and how to shrink\n",
    "* How to get cluster nodes"
   ]
  },
  {
   "cell_type": "code",
   "execution_count": 1,
   "id": "2d7ec07d-f571-4753-826c-3e61234a0a66",
   "metadata": {},
   "outputs": [],
   "source": [
    "import sys\n",
    "sys.path.append('../..')"
   ]
  },
  {
   "cell_type": "markdown",
   "id": "4a0e93cd-48f7-482b-87f5-f40f4647800c",
   "metadata": {},
   "source": [
    "Installing matplotlib package"
   ]
  },
  {
   "cell_type": "code",
   "execution_count": 2,
   "id": "8da16ec5-c162-4358-b12f-00bd8fd1666e",
   "metadata": {},
   "outputs": [
    {
     "name": "stdout",
     "output_type": "stream",
     "text": [
      "Requirement already satisfied: matplotlib in /home/lopani/Projects/clap/CLAP/clap-env/lib/python3.8/site-packages (3.4.2)\n",
      "Requirement already satisfied: kiwisolver>=1.0.1 in /home/lopani/Projects/clap/CLAP/clap-env/lib/python3.8/site-packages (from matplotlib) (1.3.1)\n",
      "Requirement already satisfied: cycler>=0.10 in /home/lopani/Projects/clap/CLAP/clap-env/lib/python3.8/site-packages (from matplotlib) (0.10.0)\n",
      "Requirement already satisfied: python-dateutil>=2.7 in /home/lopani/Projects/clap/CLAP/clap-env/lib/python3.8/site-packages (from matplotlib) (2.8.1)\n",
      "Requirement already satisfied: numpy>=1.16 in /home/lopani/Projects/clap/CLAP/clap-env/lib/python3.8/site-packages (from matplotlib) (1.20.3)\n",
      "Requirement already satisfied: pillow>=6.2.0 in /home/lopani/Projects/clap/CLAP/clap-env/lib/python3.8/site-packages (from matplotlib) (8.2.0)\n",
      "Requirement already satisfied: pyparsing>=2.2.1 in /home/lopani/Projects/clap/CLAP/clap-env/lib/python3.8/site-packages (from matplotlib) (2.4.7)\n",
      "Requirement already satisfied: six in /home/lopani/Projects/clap/CLAP/clap-env/lib/python3.8/site-packages (from cycler>=0.10->matplotlib) (1.16.0)\n"
     ]
    }
   ],
   "source": [
    "!pip install matplotlib"
   ]
  },
  {
   "cell_type": "code",
   "execution_count": 3,
   "id": "1038f71e-e2f9-46d7-88eb-07368c3996e0",
   "metadata": {},
   "outputs": [],
   "source": [
    "import yaml\n",
    "import time\n",
    "import glob\n",
    "from dataclasses import asdict\n",
    "from app.cli.modules.node import get_config_db, get_node_manager\n",
    "from app.cli.modules.role import get_role_manager\n",
    "from app.cli.modules.cluster import get_cluster_config_db, get_cluster_manager\n",
    "from clap.utils import float_time_to_string, path_extend\n",
    "from clap.executor import SSHCommandExecutor, AnsiblePlaybookExecutor\n",
    "\n",
    "import matplotlib.pyplot as plt\n",
    "%matplotlib inline"
   ]
  },
  {
   "cell_type": "code",
   "execution_count": 4,
   "id": "38fc284c-e678-49fc-805b-c55fe7b73264",
   "metadata": {},
   "outputs": [],
   "source": [
    "configuration_db = get_config_db()\n",
    "cluster_config_db = get_cluster_config_db()\n",
    "node_manager = get_node_manager()\n",
    "role_manager = get_role_manager()\n",
    "cluster_manager = get_cluster_manager()\n",
    "# Private's path (usually ~/.clap/private/) will be used for other methods\n",
    "private_path = node_manager.private_path"
   ]
  },
  {
   "cell_type": "markdown",
   "id": "d5059b63-3220-409d-b18f-48a81d45878d",
   "metadata": {},
   "source": [
    "`cluster_config_db` will load all cluster configs at `~/.clap/configs/clusters/` and will store all in the `clusters` member. `clusters` is a dictionary, where the keys are the name of cluster configuration the values are dataclasses of type `ClusterConfig`.\n",
    "\n",
    "Let's list all cluster configurations and get the configuration named `npb-cluster`."
   ]
  },
  {
   "cell_type": "code",
   "execution_count": 5,
   "id": "121179fd-b688-4468-880d-a89ac7e7d37c",
   "metadata": {},
   "outputs": [
    {
     "name": "stdout",
     "output_type": "stream",
     "text": [
      "['npb-cluster']\n"
     ]
    }
   ],
   "source": [
    "print(list(cluster_config_db.clusters.keys()))"
   ]
  },
  {
   "cell_type": "code",
   "execution_count": 6,
   "id": "950a8a2d-96cf-497b-abb6-18baf3782de8",
   "metadata": {},
   "outputs": [
    {
     "name": "stdout",
     "output_type": "stream",
     "text": [
      "ClusterConfig(cluster_config_id='npb-cluster', options=None, before_all=[], before=[], after_all=[SetupConfig(roles=[], actions=[RoleActionType(role='npb', action='run', extra={})])], after=[], nodes={'npb-type-b': NodeConfig(type='type-b', count=2, min_count=2, setups=[SetupConfig(roles=[RoleAdd(name='npb', extra={'pubkey': '~/.ssh/id_rsa.pub', 'privkey': '~/.ssh/id_rsa'})], actions=[])])})\n"
     ]
    }
   ],
   "source": [
    "npb_cluster_config = cluster_config_db.clusters['npb-cluster']\n",
    "print(npb_cluster_config)"
   ]
  },
  {
   "cell_type": "markdown",
   "id": "d02c6d00-6e8e-4cbb-9641-2ab28a112acd",
   "metadata": {},
   "source": [
    "The configuration is a dataclass, so it can be ful converted to a dict, with `asdict` function."
   ]
  },
  {
   "cell_type": "code",
   "execution_count": 7,
   "id": "ad4edac5-6304-43e1-a5d0-b059ae3a668b",
   "metadata": {},
   "outputs": [
    {
     "name": "stdout",
     "output_type": "stream",
     "text": [
      "after: []\n",
      "after_all:\n",
      "-   actions:\n",
      "    -   action: run\n",
      "        extra: {}\n",
      "        role: npb\n",
      "    roles: []\n",
      "before: []\n",
      "before_all: []\n",
      "cluster_config_id: npb-cluster\n",
      "nodes:\n",
      "    npb-type-b:\n",
      "        count: 2\n",
      "        min_count: 2\n",
      "        setups:\n",
      "        -   actions: []\n",
      "            roles:\n",
      "            -   extra:\n",
      "                    privkey: ~/.ssh/id_rsa\n",
      "                    pubkey: ~/.ssh/id_rsa.pub\n",
      "                name: npb\n",
      "        type: type-b\n",
      "options: null\n",
      "\n"
     ]
    }
   ],
   "source": [
    "npb_cluster_config_dict = asdict(npb_cluster_config)\n",
    "print(yaml.dump(npb_cluster_config_dict, indent=4))"
   ]
  },
  {
   "cell_type": "markdown",
   "id": "dd2fb8bf-d222-4874-b4d4-963d4dd2b1d3",
   "metadata": {},
   "source": [
    "We can start a cluster, based on a cluster configuration, using the `start_cluster`  method from `ClusterManager` class The function will return a cluster id that will be used for other methods."
   ]
  },
  {
   "cell_type": "code",
   "execution_count": 8,
   "id": "2d969752-98c2-4520-8f84-bd668cb25c6d",
   "metadata": {},
   "outputs": [
    {
     "name": "stdout",
     "output_type": "stream",
     "text": [
      "\u001b[1;35m[WARNING]: provided hosts list is empty, only localhost is available. Note that\u001b[0m\n",
      "\u001b[1;35mthe implicit localhost does not match 'all'\u001b[0m\n",
      "\n",
      "PLAY [localhost] ***************************************************************\n",
      "\n",
      "TASK [Starting 2 type-b instances (timeout 600 seconds)] ***********************\n",
      "\u001b[0;33mchanged: [localhost]\u001b[0m\n",
      "\n",
      "PLAY RECAP *********************************************************************\n",
      "\u001b[0;33mlocalhost\u001b[0m                  : \u001b[0;32mok=1   \u001b[0m \u001b[0;33mchanged=1   \u001b[0m unreachable=0    failed=0    skipped=0    rescued=0    ignored=0   \n",
      "\n",
      "\u001b[1;35m[WARNING]: provided hosts list is empty, only localhost is available. Note that\u001b[0m\n",
      "\u001b[1;35mthe implicit localhost does not match 'all'\u001b[0m\n",
      "\n",
      "PLAY [localhost] ***************************************************************\n",
      "\n",
      "TASK [Tagging instances] *******************************************************\n",
      "\u001b[0;33mchanged: [localhost] => (item={'id': 'i-033256a5f6d5c06ad', 'name': 'CarolArchey-a8c82747'})\u001b[0m\n",
      "\u001b[0;33mchanged: [localhost] => (item={'id': 'i-04f8158d480ca9de6', 'name': 'NancyHackwell-0e9db9af'})\u001b[0m\n",
      "\n",
      "PLAY RECAP *********************************************************************\n",
      "\u001b[0;33mlocalhost\u001b[0m                  : \u001b[0;32mok=1   \u001b[0m \u001b[0;33mchanged=1   \u001b[0m unreachable=0    failed=0    skipped=0    rescued=0    ignored=0   \n",
      "\n"
     ]
    },
    {
     "name": "stderr",
     "output_type": "stream",
     "text": [
      "Error executing command in node 0e9db9af: [Errno None] Unable to connect to port 22 on 52.201.245.163\n",
      "Error executing command in 0e9db9af: [Errno None] Unable to connect to port 22 on 52.201.245.163.\n"
     ]
    },
    {
     "name": "stdout",
     "output_type": "stream",
     "text": [
      "cluster-da580f1038254cfa98b203ca109ecb53\n"
     ]
    }
   ],
   "source": [
    "cluster_id = cluster_manager.start_cluster(npb_cluster_config)\n",
    "print(cluster_id)"
   ]
  },
  {
   "cell_type": "markdown",
   "id": "857d4a8a-84c0-4959-b366-f71cc32e8da8",
   "metadata": {},
   "source": [
    "We can get a full cluster information using `get_cluster_by_id` method from `ClusterManager` class. It will return a dataclass of type `ClusterDescriptor` that has all the information of a custer. TO get all clusters in the repository, `get_all_clusters` function returns a list of `ClusterDescriptor`. \n",
    "\n",
    "Let's print the `ClusterDescriptor` from cluster the recently created cluster `cluster-da580f1038254cfa98b203ca109ecb53` in YAML format."
   ]
  },
  {
   "cell_type": "code",
   "execution_count": 9,
   "id": "18c3b106-ab1e-400d-9ffc-6c8ac439bfe8",
   "metadata": {},
   "outputs": [
    {
     "name": "stdout",
     "output_type": "stream",
     "text": [
      "cluster_config:\n",
      "    after: []\n",
      "    after_all:\n",
      "    -   actions:\n",
      "        -   action: run\n",
      "            extra: {}\n",
      "            role: npb\n",
      "        roles: []\n",
      "    before: []\n",
      "    before_all: []\n",
      "    cluster_config_id: npb-cluster\n",
      "    nodes:\n",
      "        npb-type-b:\n",
      "            count: 2\n",
      "            min_count: 2\n",
      "            setups:\n",
      "            -   actions: []\n",
      "                roles:\n",
      "                -   extra:\n",
      "                        privkey: ~/.ssh/id_rsa\n",
      "                        pubkey: ~/.ssh/id_rsa.pub\n",
      "                    name: npb\n",
      "            type: type-b\n",
      "    options: null\n",
      "cluster_id: cluster-da580f1038254cfa98b203ca109ecb53\n",
      "cluster_name: BareVertex\n",
      "creation_time: 1622863997.7874053\n",
      "is_setup: false\n",
      "update_time: 1622864094.6290426\n",
      "\n"
     ]
    }
   ],
   "source": [
    "cluster = cluster_manager.get_cluster_by_id(cluster_id)\n",
    "cluster_dict = asdict(cluster)\n",
    "print(yaml.dump(cluster_dict, indent=4))"
   ]
  },
  {
   "cell_type": "markdown",
   "id": "b65dba46-c78f-429a-aeb3-1d0c55828fd7",
   "metadata": {},
   "source": [
    "Given a cluster id, we can get all CLAP nodes that belongs to this cluster, using `get_all_cluster_nodes` method from `ClusterManager` class. It wil return a list of node ids, which can be used with several CLAP modules, such as `NodeManager` and `RoleManager` classes.."
   ]
  },
  {
   "cell_type": "code",
   "execution_count": 10,
   "id": "5f56de15-a275-457b-abc5-8d878be1163b",
   "metadata": {},
   "outputs": [
    {
     "name": "stdout",
     "output_type": "stream",
     "text": [
      "['a8c82747b7184f81bf72a676fa9baa56', '0e9db9afd8d649638349dec77d9eb066']\n"
     ]
    }
   ],
   "source": [
    "cluster_nodes = cluster_manager.get_all_cluster_nodes(cluster_id)\n",
    "print(cluster_nodes)"
   ]
  },
  {
   "cell_type": "markdown",
   "id": "00544087-14b6-46d7-a314-9efb442021c4",
   "metadata": {},
   "source": [
    "Using the `get_cluster_nodes_types` method from `ClusterManager` class will result in a dictionary where the key are the cluster node types (e.g., `npb-type-b`) and the values are a list of node ids of nodes from that type."
   ]
  },
  {
   "cell_type": "code",
   "execution_count": 11,
   "id": "62fc45ed-e7ff-4345-a53f-1fb5a6def492",
   "metadata": {},
   "outputs": [
    {
     "name": "stdout",
     "output_type": "stream",
     "text": [
      "{'npb-type-b': ['0e9db9afd8d649638349dec77d9eb066', 'a8c82747b7184f81bf72a676fa9baa56']}\n"
     ]
    }
   ],
   "source": [
    "cluster_nodes_with_type = cluster_manager.get_cluster_nodes_types(cluster_id)\n",
    "print(cluster_nodes_with_type)"
   ]
  },
  {
   "cell_type": "markdown",
   "id": "bd4b439b-3c96-43b1-82ea-1663c0890b29",
   "metadata": {},
   "source": [
    "## Executing Benchmark with 2 nodes \n",
    "\n",
    "Until here, the cluster was only started. We may setup the cluster for all nodes, using the `setup_cluster` method. This will run all setups at all nodes in the cluster. For this clustr configuration, the setup will install packages and the application at nodes and run the application until the end. At end of setup, the application is terminated (see `examples/cli/1. Creating a cluster.ipynb` for more details)."
   ]
  },
  {
   "cell_type": "code",
   "execution_count": 12,
   "id": "05f0faa6-421d-4af2-bc1e-de5d0a5ea0b0",
   "metadata": {},
   "outputs": [
    {
     "name": "stdout",
     "output_type": "stream",
     "text": [
      "\n",
      "PLAY [all] *********************************************************************\n",
      "\n",
      "TASK [Gathering Facts] *********************************************************\n",
      "\u001b[0;32mok: [0e9db9afd8d649638349dec77d9eb066]\u001b[0m\n",
      "\u001b[0;32mok: [a8c82747b7184f81bf72a676fa9baa56]\u001b[0m\n",
      "\n",
      "TASK [Set some variables] ******************************************************\n",
      "\u001b[0;32mok: [a8c82747b7184f81bf72a676fa9baa56]\u001b[0m\n",
      "\u001b[0;32mok: [0e9db9afd8d649638349dec77d9eb066]\u001b[0m\n",
      "\n",
      "TASK [Changing hostname] *******************************************************\n",
      "\u001b[0;33mchanged: [0e9db9afd8d649638349dec77d9eb066]\u001b[0m\n",
      "\u001b[0;33mchanged: [a8c82747b7184f81bf72a676fa9baa56]\u001b[0m\n",
      "\n",
      "TASK [Perform necessary package installation for NPB] **************************\n",
      "\u001b[0;33mchanged: [a8c82747b7184f81bf72a676fa9baa56]\u001b[0m\n",
      "\u001b[0;33mchanged: [0e9db9afd8d649638349dec77d9eb066]\u001b[0m\n",
      "\n",
      "TASK [Get NPB (wget)] **********************************************************\n",
      "\u001b[0;33mchanged: [0e9db9afd8d649638349dec77d9eb066]\u001b[0m\n",
      "\u001b[0;33mchanged: [a8c82747b7184f81bf72a676fa9baa56]\u001b[0m\n",
      "\n",
      "TASK [Untar NPB file] **********************************************************\n",
      "\u001b[0;33mchanged: [0e9db9afd8d649638349dec77d9eb066]\u001b[0m\n",
      "\u001b[0;33mchanged: [a8c82747b7184f81bf72a676fa9baa56]\u001b[0m\n",
      "\n",
      "TASK [Defining make template] **************************************************\n",
      "\u001b[0;33mchanged: [0e9db9afd8d649638349dec77d9eb066]\u001b[0m\n",
      "\u001b[0;33mchanged: [a8c82747b7184f81bf72a676fa9baa56]\u001b[0m\n",
      "\n",
      "TASK [Compiling some binaries] *************************************************\n",
      "\u001b[0;33mchanged: [0e9db9afd8d649638349dec77d9eb066]\u001b[0m\n",
      "\u001b[0;33mchanged: [a8c82747b7184f81bf72a676fa9baa56]\u001b[0m\n",
      "\n",
      "TASK [Copy binary file to user's home directory] *******************************\n",
      "\u001b[0;33mchanged: [0e9db9afd8d649638349dec77d9eb066]\u001b[0m\n",
      "\u001b[0;33mchanged: [a8c82747b7184f81bf72a676fa9baa56]\u001b[0m\n",
      "\n",
      "TASK [Define binary variable] **************************************************\n",
      "\u001b[0;32mok: [a8c82747b7184f81bf72a676fa9baa56]\u001b[0m\n",
      "\u001b[0;32mok: [0e9db9afd8d649638349dec77d9eb066]\u001b[0m\n",
      "\n",
      "TASK [Copy a public key to hosts] **********************************************\n",
      "\u001b[0;33mchanged: [a8c82747b7184f81bf72a676fa9baa56]\u001b[0m\n",
      "\u001b[0;33mchanged: [0e9db9afd8d649638349dec77d9eb066]\u001b[0m\n",
      "\n",
      "TASK [Copy a private key to hosts] *********************************************\n",
      "\u001b[0;33mchanged: [a8c82747b7184f81bf72a676fa9baa56]\u001b[0m\n",
      "\u001b[0;33mchanged: [0e9db9afd8d649638349dec77d9eb066]\u001b[0m\n",
      "\n",
      "TASK [Put key in authorized keys] **********************************************\n",
      "\u001b[0;33mchanged: [0e9db9afd8d649638349dec77d9eb066]\u001b[0m\n",
      "\u001b[0;33mchanged: [a8c82747b7184f81bf72a676fa9baa56]\u001b[0m\n",
      "\n",
      "TASK [Remove strict host checking] *********************************************\n",
      "\u001b[0;33mchanged: [a8c82747b7184f81bf72a676fa9baa56]\u001b[0m\n",
      "\u001b[0;33mchanged: [0e9db9afd8d649638349dec77d9eb066]\u001b[0m\n",
      "\n",
      "PLAY RECAP *********************************************************************\n",
      "\u001b[0;33m0e9db9afd8d649638349dec77d9eb066\u001b[0m : \u001b[0;32mok=14  \u001b[0m \u001b[0;33mchanged=11  \u001b[0m unreachable=0    failed=0    skipped=0    rescued=0    ignored=0   \n",
      "\u001b[0;33ma8c82747b7184f81bf72a676fa9baa56\u001b[0m : \u001b[0;32mok=14  \u001b[0m \u001b[0;33mchanged=11  \u001b[0m unreachable=0    failed=0    skipped=0    rescued=0    ignored=0   \n",
      "\n",
      "\n",
      "PLAY [all] *********************************************************************\n",
      "\n",
      "TASK [Gathering Facts] *********************************************************\n",
      "\u001b[0;32mok: [0e9db9afd8d649638349dec77d9eb066]\u001b[0m\n",
      "\u001b[0;32mok: [a8c82747b7184f81bf72a676fa9baa56]\u001b[0m\n",
      "\n",
      "TASK [Remove hostfile] *********************************************************\n",
      "\u001b[0;32mok: [a8c82747b7184f81bf72a676fa9baa56]\u001b[0m\n",
      "\u001b[0;32mok: [0e9db9afd8d649638349dec77d9eb066]\u001b[0m\n",
      "\n",
      "TASK [Generating hostfile] *****************************************************\n",
      "\u001b[0;36mskipping: [0e9db9afd8d649638349dec77d9eb066] => (item=a8c82747b7184f81bf72a676fa9baa56) \u001b[0m\n",
      "\u001b[0;36mskipping: [0e9db9afd8d649638349dec77d9eb066] => (item=0e9db9afd8d649638349dec77d9eb066) \u001b[0m\n",
      "\u001b[0;33mchanged: [a8c82747b7184f81bf72a676fa9baa56] => (item=a8c82747b7184f81bf72a676fa9baa56)\u001b[0m\n",
      "\u001b[0;33mchanged: [a8c82747b7184f81bf72a676fa9baa56] => (item=0e9db9afd8d649638349dec77d9eb066)\u001b[0m\n",
      "\n",
      "TASK [Running MPI] *************************************************************\n",
      "\u001b[0;36mskipping: [0e9db9afd8d649638349dec77d9eb066]\u001b[0m\n",
      "\u001b[0;33mchanged: [a8c82747b7184f81bf72a676fa9baa56]\u001b[0m\n",
      "\n",
      "PLAY RECAP *********************************************************************\n",
      "\u001b[0;32m0e9db9afd8d649638349dec77d9eb066\u001b[0m : \u001b[0;32mok=2   \u001b[0m changed=0    unreachable=0    failed=0    \u001b[0;36mskipped=2   \u001b[0m rescued=0    ignored=0   \n",
      "\u001b[0;33ma8c82747b7184f81bf72a676fa9baa56\u001b[0m : \u001b[0;32mok=4   \u001b[0m \u001b[0;33mchanged=2   \u001b[0m unreachable=0    failed=0    skipped=0    rescued=0    ignored=0   \n",
      "\n"
     ]
    }
   ],
   "source": [
    "cluster_manager.setup_cluster(cluster_id)"
   ]
  },
  {
   "cell_type": "markdown",
   "id": "7313a37a-fbaa-45e5-a287-df4b4f34e74c",
   "metadata": {},
   "source": [
    "We will get the results using the `result` action from `npb` role. An extra variable called `output` is required (which is the directory to save the result files) and can be passed using the `perform_action` `extra_args` parameter."
   ]
  },
  {
   "cell_type": "code",
   "execution_count": 13,
   "id": "d4856f4a-36fa-42d9-a534-60bba7ef1d92",
   "metadata": {},
   "outputs": [
    {
     "name": "stdout",
     "output_type": "stream",
     "text": [
      "\n",
      "PLAY [all] *********************************************************************\n",
      "\n",
      "TASK [Gathering Facts] *********************************************************\n",
      "\u001b[0;32mok: [a8c82747b7184f81bf72a676fa9baa56]\u001b[0m\n",
      "\u001b[0;32mok: [0e9db9afd8d649638349dec77d9eb066]\u001b[0m\n",
      "\n",
      "TASK [Find files to copy] ******************************************************\n",
      "\u001b[0;32mok: [0e9db9afd8d649638349dec77d9eb066]\u001b[0m\n",
      "\u001b[0;32mok: [a8c82747b7184f81bf72a676fa9baa56]\u001b[0m\n",
      "\n",
      "TASK [Copy output files to ~/experiment-results-1622864249.275448/] ************\n",
      "\u001b[0;33mchanged: [a8c82747b7184f81bf72a676fa9baa56] => (item={'path': '/home/ubuntu/hostfile', 'mode': '0664', 'isdir': False, 'ischr': False, 'isblk': False, 'isreg': True, 'isfifo': False, 'islnk': False, 'issock': False, 'uid': 1000, 'gid': 1000, 'size': 127, 'inode': 263062, 'dev': 51713, 'nlink': 1, 'atime': 1622864221.3807824, 'mtime': 1622864217.8168712, 'ctime': 1622864217.8168712, 'gr_name': 'ubuntu', 'pw_name': 'ubuntu', 'wusr': True, 'rusr': True, 'xusr': False, 'wgrp': True, 'rgrp': True, 'xgrp': False, 'woth': False, 'roth': True, 'xoth': False, 'isuid': False, 'isgid': False})\u001b[0m\n",
      "\u001b[0;33mchanged: [0e9db9afd8d649638349dec77d9eb066] => (item={'path': '/home/ubuntu/execution.1.3', 'mode': '0644', 'isdir': False, 'ischr': False, 'isblk': False, 'isreg': True, 'isfifo': False, 'islnk': False, 'issock': False, 'uid': 1000, 'gid': 1000, 'size': 118, 'inode': 263069, 'dev': 51713, 'nlink': 1, 'atime': 1622864222.3262625, 'mtime': 1622864222.3262625, 'ctime': 1622864222.3262625, 'gr_name': 'ubuntu', 'pw_name': 'ubuntu', 'wusr': True, 'rusr': True, 'xusr': False, 'wgrp': False, 'rgrp': True, 'xgrp': False, 'woth': False, 'roth': True, 'xoth': False, 'isuid': False, 'isgid': False})\u001b[0m\n",
      "\u001b[0;33mchanged: [0e9db9afd8d649638349dec77d9eb066] => (item={'path': '/home/ubuntu/execution.1.2', 'mode': '0644', 'isdir': False, 'ischr': False, 'isblk': False, 'isreg': True, 'isfifo': False, 'islnk': False, 'issock': False, 'uid': 1000, 'gid': 1000, 'size': 118, 'inode': 263068, 'dev': 51713, 'nlink': 1, 'atime': 1622864222.3222625, 'mtime': 1622864222.3262625, 'ctime': 1622864222.3262625, 'gr_name': 'ubuntu', 'pw_name': 'ubuntu', 'wusr': True, 'rusr': True, 'xusr': False, 'wgrp': False, 'rgrp': True, 'xgrp': False, 'woth': False, 'roth': True, 'xoth': False, 'isuid': False, 'isgid': False})\u001b[0m\n",
      "\u001b[0;33mchanged: [a8c82747b7184f81bf72a676fa9baa56] => (item={'path': '/home/ubuntu/execution.1.1', 'mode': '0644', 'isdir': False, 'ischr': False, 'isblk': False, 'isreg': True, 'isfifo': False, 'islnk': False, 'issock': False, 'uid': 1000, 'gid': 1000, 'size': 118, 'inode': 263087, 'dev': 51713, 'nlink': 1, 'atime': 1622864222.328763, 'mtime': 1622864222.332763, 'ctime': 1622864222.332763, 'gr_name': 'ubuntu', 'pw_name': 'ubuntu', 'wusr': True, 'rusr': True, 'xusr': False, 'wgrp': False, 'rgrp': True, 'xgrp': False, 'woth': False, 'roth': True, 'xoth': False, 'isuid': False, 'isgid': False})\u001b[0m\n",
      "\u001b[0;33mchanged: [a8c82747b7184f81bf72a676fa9baa56] => (item={'path': '/home/ubuntu/execution.1.0', 'mode': '0644', 'isdir': False, 'ischr': False, 'isblk': False, 'isreg': True, 'isfifo': False, 'islnk': False, 'issock': False, 'uid': 1000, 'gid': 1000, 'size': 1892, 'inode': 263086, 'dev': 51713, 'nlink': 1, 'atime': 1622864222.328763, 'mtime': 1622864248.5647705, 'ctime': 1622864248.5647705, 'gr_name': 'ubuntu', 'pw_name': 'ubuntu', 'wusr': True, 'rusr': True, 'xusr': False, 'wgrp': False, 'rgrp': True, 'xgrp': False, 'woth': False, 'roth': True, 'xoth': False, 'isuid': False, 'isgid': False})\u001b[0m\n",
      "\u001b[0;33mchanged: [a8c82747b7184f81bf72a676fa9baa56] => (item={'path': '/home/ubuntu/a8c82747b7184f81bf72a676fa9baa56.output', 'mode': '0664', 'isdir': False, 'ischr': False, 'isblk': False, 'isreg': True, 'isfifo': False, 'islnk': False, 'issock': False, 'uid': 1000, 'gid': 1000, 'size': 1045, 'inode': 263061, 'dev': 51713, 'nlink': 1, 'atime': 1622864221.3287835, 'mtime': 1622864248.600771, 'ctime': 1622864248.600771, 'gr_name': 'ubuntu', 'pw_name': 'ubuntu', 'wusr': True, 'rusr': True, 'xusr': False, 'wgrp': True, 'rgrp': True, 'xgrp': False, 'woth': False, 'roth': True, 'xoth': False, 'isuid': False, 'isgid': False})\u001b[0m\n",
      "\n",
      "PLAY RECAP *********************************************************************\n",
      "\u001b[0;33m0e9db9afd8d649638349dec77d9eb066\u001b[0m : \u001b[0;32mok=3   \u001b[0m \u001b[0;33mchanged=1   \u001b[0m unreachable=0    failed=0    skipped=0    rescued=0    ignored=0   \n",
      "\u001b[0;33ma8c82747b7184f81bf72a676fa9baa56\u001b[0m : \u001b[0;32mok=3   \u001b[0m \u001b[0;33mchanged=1   \u001b[0m unreachable=0    failed=0    skipped=0    rescued=0    ignored=0   \n",
      "\n",
      "Result executed? True\n",
      "Return code 0\n"
     ]
    }
   ],
   "source": [
    "output_dir = f'~/experiment-results-{time.time()}/' # dont forget the last slash (/) !\n",
    "role_name = 'npb'\n",
    "action = 'result'\n",
    "cluster_nodes = cluster_manager.get_all_cluster_nodes(cluster_id)\n",
    "\n",
    "extras = {\n",
    "    'output': output_dir\n",
    "}\n",
    "\n",
    "playbook_result = role_manager.perform_action(role_name, action, cluster_nodes, extra_args=extras)\n",
    "print(f'Result executed? {playbook_result.ok}')\n",
    "print(f'Return code {playbook_result.ret_code}')"
   ]
  },
  {
   "cell_type": "markdown",
   "id": "18fc8aaf-0f1c-4216-8aa1-4726d2eeebef",
   "metadata": {},
   "source": [
    "Let's see the files we've fetch...."
   ]
  },
  {
   "cell_type": "code",
   "execution_count": 14,
   "id": "9bace1b8-ef43-49b1-943e-4a8673821601",
   "metadata": {},
   "outputs": [
    {
     "name": "stdout",
     "output_type": "stream",
     "text": [
      "- /home/lopani/experiment-results-1622864249.275448/execution.1.0\n",
      "- /home/lopani/experiment-results-1622864249.275448/execution.1.2\n",
      "- /home/lopani/experiment-results-1622864249.275448/execution.1.3\n",
      "- /home/lopani/experiment-results-1622864249.275448/execution.1.1\n",
      "- /home/lopani/experiment-results-1622864249.275448/hostfile\n",
      "- /home/lopani/experiment-results-1622864249.275448/a8c82747b7184f81bf72a676fa9baa56.output\n",
      "\n"
     ]
    }
   ],
   "source": [
    "result_files = glob.glob(path_extend(output_dir, '*'))\n",
    "print(yaml.dump(result_files))"
   ]
  },
  {
   "cell_type": "markdown",
   "id": "dcd5364d-0395-419a-8452-6b2d143daec3",
   "metadata": {},
   "source": [
    "And parse them..."
   ]
  },
  {
   "cell_type": "code",
   "execution_count": 15,
   "id": "2b2fcdeb-427c-4a3c-b00a-e07e9889aea9",
   "metadata": {},
   "outputs": [
    {
     "name": "stdout",
     "output_type": "stream",
     "text": [
      "Time to execute with 4 processes: 19.12 seconds\n"
     ]
    }
   ],
   "source": [
    "per_proc_times = dict()\n",
    "time_to_exec = None\n",
    "number_processes = None\n",
    "\n",
    "with open(result_files[0], 'r') as f:\n",
    "    for line in f:\n",
    "        if 'Time in seconds' in line:\n",
    "            time_to_exec = float(line.split('Time in seconds =')[1].strip())\n",
    "        if 'Total processes' in line:\n",
    "            number_processes = int(line.split('Total processes =')[1].strip())\n",
    "\n",
    "per_proc_times[number_processes] = time_to_exec\n",
    "print(f\"Time to execute with {number_processes} processes: {time_to_exec} seconds\")"
   ]
  },
  {
   "cell_type": "markdown",
   "id": "34979623-b869-4677-9c56-6a2030d953ab",
   "metadata": {},
   "source": [
    "## Executing Benchmark with 4 nodes \n",
    "\n",
    "We can grow the cluster size using the `grow` method from `ClusterManager` class. You must pass the cluster id, the type of the cluster node and the quantity of nodes that must be started as parameter. It will return a list of node ids for the freshly created nodes."
   ]
  },
  {
   "cell_type": "code",
   "execution_count": 16,
   "id": "1e7fecbb-b4f5-4932-8fb6-994520929e39",
   "metadata": {},
   "outputs": [
    {
     "name": "stdout",
     "output_type": "stream",
     "text": [
      "\u001b[1;35m[WARNING]: provided hosts list is empty, only localhost is available. Note that\u001b[0m\n",
      "\u001b[1;35mthe implicit localhost does not match 'all'\u001b[0m\n",
      "\n",
      "PLAY [localhost] ***************************************************************\n",
      "\n",
      "TASK [Starting 2 type-b instances (timeout 600 seconds)] ***********************\n",
      "\u001b[0;33mchanged: [localhost]\u001b[0m\n",
      "\n",
      "PLAY RECAP *********************************************************************\n",
      "\u001b[0;33mlocalhost\u001b[0m                  : \u001b[0;32mok=1   \u001b[0m \u001b[0;33mchanged=1   \u001b[0m unreachable=0    failed=0    skipped=0    rescued=0    ignored=0   \n",
      "\n",
      "\u001b[1;35m[WARNING]: provided hosts list is empty, only localhost is available. Note that\u001b[0m\n",
      "\u001b[1;35mthe implicit localhost does not match 'all'\u001b[0m\n",
      "\n",
      "PLAY [localhost] ***************************************************************\n",
      "\n",
      "TASK [Tagging instances] *******************************************************\n",
      "\u001b[0;33mchanged: [localhost] => (item={'id': 'i-0ddbe90b7532ce08b', 'name': 'JaniceSilkenson-b616ea6a'})\u001b[0m\n",
      "\u001b[0;33mchanged: [localhost] => (item={'id': 'i-0e2417d190dfd4005', 'name': 'BritneyGalvan-43d6d388'})\u001b[0m\n",
      "\n",
      "PLAY RECAP *********************************************************************\n",
      "\u001b[0;33mlocalhost\u001b[0m                  : \u001b[0;32mok=1   \u001b[0m \u001b[0;33mchanged=1   \u001b[0m unreachable=0    failed=0    skipped=0    rescued=0    ignored=0   \n",
      "\n"
     ]
    },
    {
     "name": "stderr",
     "output_type": "stream",
     "text": [
      "Error executing command in node 43d6d388: [Errno None] Unable to connect to port 22 on 54.196.143.133\n",
      "Error executing command in 43d6d388: [Errno None] Unable to connect to port 22 on 54.196.143.133.\n"
     ]
    },
    {
     "name": "stdout",
     "output_type": "stream",
     "text": [
      "New nodes: ['b616ea6a27ed450eb4996e1fd3b0f710', '43d6d3880d034c9a8aa7c4929bd8b3fc']\n"
     ]
    }
   ],
   "source": [
    "node_type = 'npb-type-b'\n",
    "new_node_ids = cluster_manager.grow(cluster_id, node_type, count=2, min_count=2)\n",
    "print(f\"New nodes: {new_node_ids}\")"
   ]
  },
  {
   "cell_type": "code",
   "execution_count": 17,
   "id": "05995220-563f-44b9-9341-42a6bafb35be",
   "metadata": {},
   "outputs": [
    {
     "name": "stdout",
     "output_type": "stream",
     "text": [
      "['a8c82747b7184f81bf72a676fa9baa56', '0e9db9afd8d649638349dec77d9eb066', 'b616ea6a27ed450eb4996e1fd3b0f710', '43d6d3880d034c9a8aa7c4929bd8b3fc']\n"
     ]
    }
   ],
   "source": [
    "cluster_nodes = cluster_manager.get_all_cluster_nodes(cluster_id)\n",
    "print(cluster_nodes)"
   ]
  },
  {
   "cell_type": "code",
   "execution_count": 18,
   "id": "0d1fc562-d336-4805-a005-7a07da85d642",
   "metadata": {},
   "outputs": [
    {
     "name": "stdout",
     "output_type": "stream",
     "text": [
      "npb-type-b:\n",
      "- 0e9db9afd8d649638349dec77d9eb066\n",
      "- 43d6d3880d034c9a8aa7c4929bd8b3fc\n",
      "- a8c82747b7184f81bf72a676fa9baa56\n",
      "- b616ea6a27ed450eb4996e1fd3b0f710\n",
      "\n"
     ]
    }
   ],
   "source": [
    "cluster_nodes_with_type = cluster_manager.get_cluster_nodes_types(cluster_id)\n",
    "print(yaml.dump(cluster_nodes_with_type))"
   ]
  },
  {
   "cell_type": "markdown",
   "id": "4564b2b8-487e-4f66-9711-d3ac71931bd4",
   "metadata": {},
   "source": [
    "When setting up a cluster that has grown you may wish to pass the nodes that was just added, to avoid some setups to be executed in other nodes from cluster. \n",
    "\n",
    "Note: setups from `before_all` and `after_all` phases are executed at all cluster's nodes. "
   ]
  },
  {
   "cell_type": "code",
   "execution_count": 19,
   "id": "9a34a84a-72da-4eee-bdc6-f944afaa0dc3",
   "metadata": {},
   "outputs": [
    {
     "name": "stdout",
     "output_type": "stream",
     "text": [
      "\n",
      "PLAY [all] *********************************************************************\n",
      "\n",
      "TASK [Gathering Facts] *********************************************************\n",
      "\u001b[0;32mok: [43d6d3880d034c9a8aa7c4929bd8b3fc]\u001b[0m\n",
      "\u001b[0;32mok: [b616ea6a27ed450eb4996e1fd3b0f710]\u001b[0m\n",
      "\n",
      "TASK [Set some variables] ******************************************************\n",
      "\u001b[0;32mok: [b616ea6a27ed450eb4996e1fd3b0f710]\u001b[0m\n",
      "\u001b[0;32mok: [43d6d3880d034c9a8aa7c4929bd8b3fc]\u001b[0m\n",
      "\n",
      "\n",
      "TASK [Changing hostname] *******************************************************\n",
      "\u001b[0;33mchanged: [43d6d3880d034c9a8aa7c4929bd8b3fc]\u001b[0m\n",
      "\u001b[0;33mchanged: [b616ea6a27ed450eb4996e1fd3b0f710]\u001b[0m\n",
      "\n",
      "TASK [Perform necessary package installation for NPB] **************************\n",
      "\u001b[0;33mchanged: [b616ea6a27ed450eb4996e1fd3b0f710]\u001b[0m\n",
      "\u001b[0;33mchanged: [43d6d3880d034c9a8aa7c4929bd8b3fc]\u001b[0m\n",
      "\n",
      "TASK [Get NPB (wget)] **********************************************************\n",
      "\u001b[0;33mchanged: [43d6d3880d034c9a8aa7c4929bd8b3fc]\u001b[0m\n",
      "\u001b[0;33mchanged: [b616ea6a27ed450eb4996e1fd3b0f710]\u001b[0m\n",
      "\n",
      "TASK [Untar NPB file] **********************************************************\n",
      "\u001b[0;33mchanged: [b616ea6a27ed450eb4996e1fd3b0f710]\u001b[0m\n",
      "\u001b[0;33mchanged: [43d6d3880d034c9a8aa7c4929bd8b3fc]\u001b[0m\n",
      "\n",
      "TASK [Defining make template] **************************************************\n",
      "\u001b[0;33mchanged: [43d6d3880d034c9a8aa7c4929bd8b3fc]\u001b[0m\n",
      "\u001b[0;33mchanged: [b616ea6a27ed450eb4996e1fd3b0f710]\u001b[0m\n",
      "\n",
      "TASK [Compiling some binaries] *************************************************\n",
      "\u001b[0;33mchanged: [43d6d3880d034c9a8aa7c4929bd8b3fc]\u001b[0m\n",
      "\u001b[0;33mchanged: [b616ea6a27ed450eb4996e1fd3b0f710]\u001b[0m\n",
      "\n",
      "TASK [Copy binary file to user's home directory] *******************************\n",
      "\u001b[0;33mchanged: [43d6d3880d034c9a8aa7c4929bd8b3fc]\u001b[0m\n",
      "\u001b[0;33mchanged: [b616ea6a27ed450eb4996e1fd3b0f710]\u001b[0m\n",
      "\n",
      "TASK [Define binary variable] **************************************************\n",
      "\u001b[0;32mok: [b616ea6a27ed450eb4996e1fd3b0f710]\u001b[0m\n",
      "\u001b[0;32mok: [43d6d3880d034c9a8aa7c4929bd8b3fc]\u001b[0m\n",
      "\n",
      "TASK [Copy a public key to hosts] **********************************************\n",
      "\u001b[0;33mchanged: [b616ea6a27ed450eb4996e1fd3b0f710]\u001b[0m\n",
      "\u001b[0;33mchanged: [43d6d3880d034c9a8aa7c4929bd8b3fc]\u001b[0m\n",
      "\n",
      "TASK [Copy a private key to hosts] *********************************************\n",
      "\u001b[0;33mchanged: [43d6d3880d034c9a8aa7c4929bd8b3fc]\u001b[0m\n",
      "\u001b[0;33mchanged: [b616ea6a27ed450eb4996e1fd3b0f710]\u001b[0m\n",
      "\n",
      "TASK [Put key in authorized keys] **********************************************\n",
      "\u001b[0;33mchanged: [43d6d3880d034c9a8aa7c4929bd8b3fc]\u001b[0m\n",
      "\u001b[0;33mchanged: [b616ea6a27ed450eb4996e1fd3b0f710]\u001b[0m\n",
      "\n",
      "TASK [Remove strict host checking] *********************************************\n",
      "\u001b[0;33mchanged: [b616ea6a27ed450eb4996e1fd3b0f710]\u001b[0m\n",
      "\u001b[0;33mchanged: [43d6d3880d034c9a8aa7c4929bd8b3fc]\u001b[0m\n",
      "\n",
      "PLAY RECAP *********************************************************************\n",
      "\u001b[0;33m43d6d3880d034c9a8aa7c4929bd8b3fc\u001b[0m : \u001b[0;32mok=14  \u001b[0m \u001b[0;33mchanged=11  \u001b[0m unreachable=0    failed=0    skipped=0    rescued=0    ignored=0   \n",
      "\u001b[0;33mb616ea6a27ed450eb4996e1fd3b0f710\u001b[0m : \u001b[0;32mok=14  \u001b[0m \u001b[0;33mchanged=11  \u001b[0m unreachable=0    failed=0    skipped=0    rescued=0    ignored=0   \n",
      "\n",
      "\n",
      "PLAY [all] *********************************************************************\n",
      "\n",
      "TASK [Gathering Facts] *********************************************************\n",
      "\u001b[0;32mok: [b616ea6a27ed450eb4996e1fd3b0f710]\u001b[0m\n",
      "\u001b[0;32mok: [43d6d3880d034c9a8aa7c4929bd8b3fc]\u001b[0m\n",
      "\u001b[0;32mok: [a8c82747b7184f81bf72a676fa9baa56]\u001b[0m\n",
      "\u001b[0;32mok: [0e9db9afd8d649638349dec77d9eb066]\u001b[0m\n",
      "\n",
      "TASK [Remove hostfile] *********************************************************\n",
      "\u001b[0;33mchanged: [a8c82747b7184f81bf72a676fa9baa56]\u001b[0m\n",
      "\u001b[0;32mok: [0e9db9afd8d649638349dec77d9eb066]\u001b[0m\n",
      "\u001b[0;32mok: [b616ea6a27ed450eb4996e1fd3b0f710]\u001b[0m\n",
      "\u001b[0;32mok: [43d6d3880d034c9a8aa7c4929bd8b3fc]\u001b[0m\n",
      "\n",
      "TASK [Generating hostfile] *****************************************************\n",
      "\u001b[0;36mskipping: [0e9db9afd8d649638349dec77d9eb066] => (item=a8c82747b7184f81bf72a676fa9baa56) \u001b[0m\n",
      "\u001b[0;36mskipping: [0e9db9afd8d649638349dec77d9eb066] => (item=0e9db9afd8d649638349dec77d9eb066) \u001b[0m\n",
      "\u001b[0;36mskipping: [0e9db9afd8d649638349dec77d9eb066] => (item=b616ea6a27ed450eb4996e1fd3b0f710) \u001b[0m\n",
      "\u001b[0;36mskipping: [0e9db9afd8d649638349dec77d9eb066] => (item=43d6d3880d034c9a8aa7c4929bd8b3fc) \u001b[0m\n",
      "\u001b[0;36mskipping: [b616ea6a27ed450eb4996e1fd3b0f710] => (item=a8c82747b7184f81bf72a676fa9baa56) \u001b[0m\n",
      "\u001b[0;36mskipping: [b616ea6a27ed450eb4996e1fd3b0f710] => (item=0e9db9afd8d649638349dec77d9eb066) \u001b[0m\n",
      "\u001b[0;36mskipping: [b616ea6a27ed450eb4996e1fd3b0f710] => (item=b616ea6a27ed450eb4996e1fd3b0f710) \u001b[0m\n",
      "\u001b[0;36mskipping: [b616ea6a27ed450eb4996e1fd3b0f710] => (item=43d6d3880d034c9a8aa7c4929bd8b3fc) \u001b[0m\n",
      "\u001b[0;36mskipping: [43d6d3880d034c9a8aa7c4929bd8b3fc] => (item=a8c82747b7184f81bf72a676fa9baa56) \u001b[0m\n",
      "\u001b[0;36mskipping: [43d6d3880d034c9a8aa7c4929bd8b3fc] => (item=0e9db9afd8d649638349dec77d9eb066) \u001b[0m\n",
      "\u001b[0;36mskipping: [43d6d3880d034c9a8aa7c4929bd8b3fc] => (item=b616ea6a27ed450eb4996e1fd3b0f710) \u001b[0m\n",
      "\u001b[0;36mskipping: [43d6d3880d034c9a8aa7c4929bd8b3fc] => (item=43d6d3880d034c9a8aa7c4929bd8b3fc) \u001b[0m\n",
      "\u001b[0;33mchanged: [a8c82747b7184f81bf72a676fa9baa56] => (item=a8c82747b7184f81bf72a676fa9baa56)\u001b[0m\n",
      "\u001b[0;33mchanged: [a8c82747b7184f81bf72a676fa9baa56] => (item=0e9db9afd8d649638349dec77d9eb066)\u001b[0m\n",
      "\u001b[0;33mchanged: [a8c82747b7184f81bf72a676fa9baa56] => (item=b616ea6a27ed450eb4996e1fd3b0f710)\u001b[0m\n",
      "\u001b[0;33mchanged: [a8c82747b7184f81bf72a676fa9baa56] => (item=43d6d3880d034c9a8aa7c4929bd8b3fc)\u001b[0m\n",
      "\n",
      "TASK [Running MPI] *************************************************************\n",
      "\u001b[0;36mskipping: [0e9db9afd8d649638349dec77d9eb066]\u001b[0m\n",
      "\u001b[0;36mskipping: [b616ea6a27ed450eb4996e1fd3b0f710]\u001b[0m\n",
      "\u001b[0;36mskipping: [43d6d3880d034c9a8aa7c4929bd8b3fc]\u001b[0m\n",
      "\u001b[0;33mchanged: [a8c82747b7184f81bf72a676fa9baa56]\u001b[0m\n",
      "\u001b[0;32m0e9db9afd8d649638349dec77d9eb066\u001b[0m : \u001b[0;32mok=2   \u001b[0m changed=0    unreachable=0    failed=0    \u001b[0;36mskipped=2   \u001b[0m rescued=0    ignored=0   \n",
      "\u001b[0;32m43d6d3880d034c9a8aa7c4929bd8b3fc\u001b[0m : \u001b[0;32mok=2   \u001b[0m changed=0    unreachable=0    failed=0    \u001b[0;36mskipped=2   \u001b[0m rescued=0    ignored=0   \n",
      "\n",
      "PLAY RECAP *********************************************************************\n",
      "\u001b[0;32m0e9db9afd8d649638349dec77d9eb066\u001b[0m : \u001b[0;32mok=2   \u001b[0m changed=0    unreachable=0    failed=0    \u001b[0;36mskipped=2   \u001b[0m rescued=0    ignored=0   \n",
      "\u001b[0;32m43d6d3880d034c9a8aa7c4929bd8b3fc\u001b[0m : \u001b[0;32mok=2   \u001b[0m changed=0    unreachable=0    failed=0    \u001b[0;36mskipped=2   \u001b[0m rescued=0    ignored=0   \n",
      "\u001b[0;33ma8c82747b7184f81bf72a676fa9baa56\u001b[0m : \u001b[0;32mok=4   \u001b[0m \u001b[0;33mchanged=3   \u001b[0m unreachable=0    failed=0    skipped=0    rescued=0    ignored=0   \n",
      "\u001b[0;32mb616ea6a27ed450eb4996e1fd3b0f710\u001b[0m : \u001b[0;32mok=2   \u001b[0m changed=0    unreachable=0    failed=0    \u001b[0;36mskipped=2   \u001b[0m rescued=0    ignored=0   \n",
      "\n"
     ]
    }
   ],
   "source": [
    "new_nodes_types = {\n",
    "    node_type: new_node_ids\n",
    "}\n",
    "cluster_manager.setup_cluster(cluster_id, nodes_being_added=new_nodes_types)"
   ]
  },
  {
   "cell_type": "markdown",
   "id": "3094f424-d739-45fe-aa6b-4b500b106873",
   "metadata": {},
   "source": [
    "Let's fetch the results.."
   ]
  },
  {
   "cell_type": "code",
   "execution_count": 20,
   "id": "83037b1c-aa51-49a5-8dca-a993b335d64f",
   "metadata": {},
   "outputs": [
    {
     "name": "stdout",
     "output_type": "stream",
     "text": [
      "\n",
      "PLAY [all] *********************************************************************\n",
      "\n",
      "TASK [Gathering Facts] *********************************************************\n",
      "\u001b[0;32mok: [0e9db9afd8d649638349dec77d9eb066]\u001b[0m\n",
      "\u001b[0;32mok: [a8c82747b7184f81bf72a676fa9baa56]\u001b[0m\n",
      "\u001b[0;32mok: [43d6d3880d034c9a8aa7c4929bd8b3fc]\u001b[0m\n",
      "\u001b[0;32mok: [b616ea6a27ed450eb4996e1fd3b0f710]\u001b[0m\n",
      "\n",
      "TASK [Find files to copy] ******************************************************\n",
      "\u001b[0;32mok: [43d6d3880d034c9a8aa7c4929bd8b3fc]\u001b[0m\n",
      "\u001b[0;32mok: [a8c82747b7184f81bf72a676fa9baa56]\u001b[0m\n",
      "\u001b[0;32mok: [0e9db9afd8d649638349dec77d9eb066]\u001b[0m\n",
      "\u001b[0;32mok: [b616ea6a27ed450eb4996e1fd3b0f710]\u001b[0m\n",
      "\n",
      "TASK [Copy output files to ~/experiment-results-1622864522.066738/] ************\n",
      "\u001b[0;33mchanged: [0e9db9afd8d649638349dec77d9eb066] => (item={'path': '/home/ubuntu/execution.1.3', 'mode': '0644', 'isdir': False, 'ischr': False, 'isblk': False, 'isreg': True, 'isfifo': False, 'islnk': False, 'issock': False, 'uid': 1000, 'gid': 1000, 'size': 118, 'inode': 263069, 'dev': 51713, 'nlink': 1, 'atime': 1622864263.2219427, 'mtime': 1622864503.7490997, 'ctime': 1622864503.7490997, 'gr_name': 'ubuntu', 'pw_name': 'ubuntu', 'wusr': True, 'rusr': True, 'xusr': False, 'wgrp': False, 'rgrp': True, 'xgrp': False, 'woth': False, 'roth': True, 'xoth': False, 'isuid': False, 'isgid': False})\u001b[0m\n",
      "\u001b[0;33mchanged: [43d6d3880d034c9a8aa7c4929bd8b3fc] => (item={'path': '/home/ubuntu/execution.1.6', 'mode': '0644', 'isdir': False, 'ischr': False, 'isblk': False, 'isreg': True, 'isfifo': False, 'islnk': False, 'issock': False, 'uid': 1000, 'gid': 1000, 'size': 118, 'inode': 263068, 'dev': 51713, 'nlink': 1, 'atime': 1622864503.7476232, 'mtime': 1622864503.7516232, 'ctime': 1622864503.7516232, 'gr_name': 'ubuntu', 'pw_name': 'ubuntu', 'wusr': True, 'rusr': True, 'xusr': False, 'wgrp': False, 'rgrp': True, 'xgrp': False, 'woth': False, 'roth': True, 'xoth': False, 'isuid': False, 'isgid': False})\u001b[0m\n",
      "\u001b[0;33mchanged: [b616ea6a27ed450eb4996e1fd3b0f710] => (item={'path': '/home/ubuntu/execution.1.4', 'mode': '0644', 'isdir': False, 'ischr': False, 'isblk': False, 'isreg': True, 'isfifo': False, 'islnk': False, 'issock': False, 'uid': 1000, 'gid': 1000, 'size': 118, 'inode': 263068, 'dev': 51713, 'nlink': 1, 'atime': 1622864503.7458043, 'mtime': 1622864503.7458043, 'ctime': 1622864503.7458043, 'gr_name': 'ubuntu', 'pw_name': 'ubuntu', 'wusr': True, 'rusr': True, 'xusr': False, 'wgrp': False, 'rgrp': True, 'xgrp': False, 'woth': False, 'roth': True, 'xoth': False, 'isuid': False, 'isgid': False})\u001b[0m\n",
      "\u001b[0;33mchanged: [a8c82747b7184f81bf72a676fa9baa56] => (item={'path': '/home/ubuntu/hostfile', 'mode': '0664', 'isdir': False, 'ischr': False, 'isblk': False, 'isreg': True, 'isfifo': False, 'islnk': False, 'issock': False, 'uid': 1000, 'gid': 1000, 'size': 253, 'inode': 263063, 'dev': 51713, 'nlink': 1, 'atime': 1622864502.8317006, 'mtime': 1622864499.2716315, 'ctime': 1622864499.2716315, 'gr_name': 'ubuntu', 'pw_name': 'ubuntu', 'wusr': True, 'rusr': True, 'xusr': False, 'wgrp': True, 'rgrp': True, 'xgrp': False, 'woth': False, 'roth': True, 'xoth': False, 'isuid': False, 'isgid': False})\u001b[0m\n",
      "\u001b[0;33mchanged: [0e9db9afd8d649638349dec77d9eb066] => (item={'path': '/home/ubuntu/execution.1.2', 'mode': '0644', 'isdir': False, 'ischr': False, 'isblk': False, 'isreg': True, 'isfifo': False, 'islnk': False, 'issock': False, 'uid': 1000, 'gid': 1000, 'size': 118, 'inode': 263068, 'dev': 51713, 'nlink': 1, 'atime': 1622864268.1979165, 'mtime': 1622864503.7490997, 'ctime': 1622864503.7490997, 'gr_name': 'ubuntu', 'pw_name': 'ubuntu', 'wusr': True, 'rusr': True, 'xusr': False, 'wgrp': False, 'rgrp': True, 'xgrp': False, 'woth': False, 'roth': True, 'xoth': False, 'isuid': False, 'isgid': False})\u001b[0m\n",
      "\u001b[0;33mchanged: [43d6d3880d034c9a8aa7c4929bd8b3fc] => (item={'path': '/home/ubuntu/execution.1.7', 'mode': '0644', 'isdir': False, 'ischr': False, 'isblk': False, 'isreg': True, 'isfifo': False, 'islnk': False, 'issock': False, 'uid': 1000, 'gid': 1000, 'size': 118, 'inode': 263069, 'dev': 51713, 'nlink': 1, 'atime': 1622864503.7476232, 'mtime': 1622864503.7516232, 'ctime': 1622864503.7516232, 'gr_name': 'ubuntu', 'pw_name': 'ubuntu', 'wusr': True, 'rusr': True, 'xusr': False, 'wgrp': False, 'rgrp': True, 'xgrp': False, 'woth': False, 'roth': True, 'xoth': False, 'isuid': False, 'isgid': False})\u001b[0m\n",
      "\u001b[0;33mchanged: [b616ea6a27ed450eb4996e1fd3b0f710] => (item={'path': '/home/ubuntu/execution.1.5', 'mode': '0644', 'isdir': False, 'ischr': False, 'isblk': False, 'isreg': True, 'isfifo': False, 'islnk': False, 'issock': False, 'uid': 1000, 'gid': 1000, 'size': 118, 'inode': 263069, 'dev': 51713, 'nlink': 1, 'atime': 1622864503.7458043, 'mtime': 1622864503.7458043, 'ctime': 1622864503.7458043, 'gr_name': 'ubuntu', 'pw_name': 'ubuntu', 'wusr': True, 'rusr': True, 'xusr': False, 'wgrp': False, 'rgrp': True, 'xgrp': False, 'woth': False, 'roth': True, 'xoth': False, 'isuid': False, 'isgid': False})\u001b[0m\n",
      "\u001b[0;33mchanged: [a8c82747b7184f81bf72a676fa9baa56] => (item={'path': '/home/ubuntu/execution.1.1', 'mode': '0644', 'isdir': False, 'ischr': False, 'isblk': False, 'isreg': True, 'isfifo': False, 'islnk': False, 'issock': False, 'uid': 1000, 'gid': 1000, 'size': 118, 'inode': 263087, 'dev': 51713, 'nlink': 1, 'atime': 1622864268.2692041, 'mtime': 1622864503.7597187, 'ctime': 1622864503.7597187, 'gr_name': 'ubuntu', 'pw_name': 'ubuntu', 'wusr': True, 'rusr': True, 'xusr': False, 'wgrp': False, 'rgrp': True, 'xgrp': False, 'woth': False, 'roth': True, 'xoth': False, 'isuid': False, 'isgid': False})\u001b[0m\n",
      "\u001b[0;33mchanged: [a8c82747b7184f81bf72a676fa9baa56] => (item={'path': '/home/ubuntu/execution.1.0', 'mode': '0644', 'isdir': False, 'ischr': False, 'isblk': False, 'isreg': True, 'isfifo': False, 'islnk': False, 'issock': False, 'uid': 1000, 'gid': 1000, 'size': 1892, 'inode': 263086, 'dev': 51713, 'nlink': 1, 'atime': 1622864273.2613473, 'mtime': 1622864521.3200765, 'ctime': 1622864521.3200765, 'gr_name': 'ubuntu', 'pw_name': 'ubuntu', 'wusr': True, 'rusr': True, 'xusr': False, 'wgrp': False, 'rgrp': True, 'xgrp': False, 'woth': False, 'roth': True, 'xoth': False, 'isuid': False, 'isgid': False})\u001b[0m\n",
      "\u001b[0;33mchanged: [a8c82747b7184f81bf72a676fa9baa56] => (item={'path': '/home/ubuntu/a8c82747b7184f81bf72a676fa9baa56.output', 'mode': '0664', 'isdir': False, 'ischr': False, 'isblk': False, 'isreg': True, 'isfifo': False, 'islnk': False, 'issock': False, 'uid': 1000, 'gid': 1000, 'size': 1044, 'inode': 263061, 'dev': 51713, 'nlink': 1, 'atime': 1622864278.2174988, 'mtime': 1622864521.340077, 'ctime': 1622864521.340077, 'gr_name': 'ubuntu', 'pw_name': 'ubuntu', 'wusr': True, 'rusr': True, 'xusr': False, 'wgrp': True, 'rgrp': True, 'xgrp': False, 'woth': False, 'roth': True, 'xoth': False, 'isuid': False, 'isgid': False})\u001b[0m\n",
      "\u001b[0;33m0e9db9afd8d649638349dec77d9eb066\u001b[0m : \u001b[0;32mok=3   \u001b[0m \u001b[0;33mchanged=1   \u001b[0m unreachable=0    failed=0    skipped=0    rescued=0    ignored=0   \n",
      "\u001b[0;33m43d6d3880d034c9a8aa7c4929bd8b3fc\u001b[0m : \u001b[0;32mok=3   \u001b[0m \u001b[0;33mchanged=1   \u001b[0m unreachable=0    failed=0    skipped=0    rescued=0    ignored=0   \n",
      "\n",
      "PLAY RECAP *********************************************************************\n",
      "\u001b[0;33m0e9db9afd8d649638349dec77d9eb066\u001b[0m : \u001b[0;32mok=3   \u001b[0m \u001b[0;33mchanged=1   \u001b[0m unreachable=0    failed=0    skipped=0    rescued=0    ignored=0   \n",
      "\u001b[0;33m43d6d3880d034c9a8aa7c4929bd8b3fc\u001b[0m : \u001b[0;32mok=3   \u001b[0m \u001b[0;33mchanged=1   \u001b[0m unreachable=0    failed=0    skipped=0    rescued=0    ignored=0   \n",
      "\u001b[0;33ma8c82747b7184f81bf72a676fa9baa56\u001b[0m : \u001b[0;32mok=3   \u001b[0m \u001b[0;33mchanged=1   \u001b[0m unreachable=0    failed=0    skipped=0    rescued=0    ignored=0   \n",
      "\u001b[0;33mb616ea6a27ed450eb4996e1fd3b0f710\u001b[0m : \u001b[0;32mok=3   \u001b[0m \u001b[0;33mchanged=1   \u001b[0m unreachable=0    failed=0    skipped=0    rescued=0    ignored=0   \n",
      "\n",
      "Result executed? True\n",
      "Return code 0\n"
     ]
    }
   ],
   "source": [
    "output_dir = f'~/experiment-results-{time.time()}/' # dont forget the last slash (/) !\n",
    "role_name = 'npb'\n",
    "action = 'result'\n",
    "cluster_nodes = cluster_manager.get_all_cluster_nodes(cluster_id)\n",
    "\n",
    "extras = {\n",
    "    'output': output_dir\n",
    "}\n",
    "\n",
    "playbook_result = role_manager.perform_action(role_name, action, cluster_nodes, extra_args=extras)\n",
    "print(f'Result executed? {playbook_result.ok}')\n",
    "print(f'Return code {playbook_result.ret_code}')"
   ]
  },
  {
   "cell_type": "code",
   "execution_count": 21,
   "id": "0efb4cad-fa80-4f08-8512-5e463c24b747",
   "metadata": {},
   "outputs": [
    {
     "name": "stdout",
     "output_type": "stream",
     "text": [
      "- /home/lopani/experiment-results-1622864522.066738/execution.1.0\n",
      "- /home/lopani/experiment-results-1622864522.066738/execution.1.2\n",
      "- /home/lopani/experiment-results-1622864522.066738/execution.1.5\n",
      "- /home/lopani/experiment-results-1622864522.066738/execution.1.3\n",
      "- /home/lopani/experiment-results-1622864522.066738/execution.1.7\n",
      "- /home/lopani/experiment-results-1622864522.066738/execution.1.1\n",
      "- /home/lopani/experiment-results-1622864522.066738/hostfile\n",
      "- /home/lopani/experiment-results-1622864522.066738/a8c82747b7184f81bf72a676fa9baa56.output\n",
      "- /home/lopani/experiment-results-1622864522.066738/execution.1.6\n",
      "- /home/lopani/experiment-results-1622864522.066738/execution.1.4\n",
      "\n"
     ]
    }
   ],
   "source": [
    "result_files = glob.glob(path_extend(output_dir, '*'))\n",
    "print(yaml.dump(result_files))"
   ]
  },
  {
   "cell_type": "markdown",
   "id": "88aedb6f-b2cc-45a7-a0fb-bcab958236f7",
   "metadata": {},
   "source": [
    "And parse some output..."
   ]
  },
  {
   "cell_type": "code",
   "execution_count": 22,
   "id": "678a3ddf-e35b-4675-b32a-ddb87568da83",
   "metadata": {},
   "outputs": [
    {
     "name": "stdout",
     "output_type": "stream",
     "text": [
      "Time to execute with 8 processes: 13.17 seconds\n"
     ]
    }
   ],
   "source": [
    "time_to_exec = None\n",
    "number_processes = None\n",
    "\n",
    "with open(result_files[0], 'r') as f:\n",
    "    for line in f:\n",
    "        if 'Time in seconds' in line:\n",
    "            time_to_exec = float(line.split('Time in seconds =')[1].strip())\n",
    "        if 'Total processes' in line:\n",
    "            number_processes = int(line.split('Total processes =')[1].strip())\n",
    "            \n",
    "per_proc_times[number_processes] = time_to_exec\n",
    "print(f\"Time to execute with {number_processes} processes: {time_to_exec} seconds\")"
   ]
  },
  {
   "cell_type": "markdown",
   "id": "e6d38e28-d697-49a7-8e99-3513b2444819",
   "metadata": {},
   "source": [
    "## Executing Benchmark with 1 node\n",
    "\n",
    "To remove nodes from cluster you can simple stop them, using `stop_nodes` from `NodeManager` class. If you don't want to stop the node, just remove the cluster tag at node using the `remove_tags` function from `NodeManager` class. The cluster tag is something like this: `.cluster:cluster-da580f1038254cfa98b203ca109ecb53`..."
   ]
  },
  {
   "cell_type": "code",
   "execution_count": 23,
   "id": "71dfbade-a3aa-460e-a2a0-3249943f6c17",
   "metadata": {},
   "outputs": [
    {
     "name": "stdout",
     "output_type": "stream",
     "text": [
      "['a8c82747b7184f81bf72a676fa9baa56', '0e9db9afd8d649638349dec77d9eb066', 'b616ea6a27ed450eb4996e1fd3b0f710', '43d6d3880d034c9a8aa7c4929bd8b3fc']\n"
     ]
    }
   ],
   "source": [
    "cluster_nodes = cluster_manager.get_all_cluster_nodes(cluster_id)\n",
    "print(cluster_nodes)"
   ]
  },
  {
   "cell_type": "code",
   "execution_count": 24,
   "id": "4ca1dc74-5690-49b5-8b63-d97d7f2238cc",
   "metadata": {},
   "outputs": [
    {
     "name": "stdout",
     "output_type": "stream",
     "text": [
      "\u001b[1;35m[WARNING]: provided hosts list is empty, only localhost is available. Note that\u001b[0m\n",
      "\u001b[1;35mthe implicit localhost does not match 'all'\u001b[0m\n",
      "\n",
      "PLAY [localhost] ***************************************************************\n",
      "\n",
      "TASK [Stopping nodes CarolArchey, JaniceSilkenson, NancyHackwell] **************\n",
      "\u001b[0;33mchanged: [localhost]\u001b[0m\n",
      "\n",
      "PLAY RECAP *********************************************************************\n",
      "\u001b[0;33mlocalhost\u001b[0m                  : \u001b[0;32mok=1   \u001b[0m \u001b[0;33mchanged=1   \u001b[0m unreachable=0    failed=0    skipped=0    rescued=0    ignored=0   \n",
      "\n",
      "['a8c82747b7184f81bf72a676fa9baa56', '0e9db9afd8d649638349dec77d9eb066', 'b616ea6a27ed450eb4996e1fd3b0f710']\n"
     ]
    }
   ],
   "source": [
    "stopped_nodes = node_manager.stop_nodes(cluster_nodes[0:3])\n",
    "print(stopped_nodes)"
   ]
  },
  {
   "cell_type": "code",
   "execution_count": 25,
   "id": "c3c71779-8d38-4193-b5e2-bb7cb4abac8f",
   "metadata": {},
   "outputs": [
    {
     "name": "stdout",
     "output_type": "stream",
     "text": [
      "['43d6d3880d034c9a8aa7c4929bd8b3fc']\n"
     ]
    }
   ],
   "source": [
    "cluster_nodes = cluster_manager.get_all_cluster_nodes(cluster_id)\n",
    "print(cluster_nodes)"
   ]
  },
  {
   "cell_type": "markdown",
   "id": "02ff0a62-e536-49c9-9e1b-233ec01afc59",
   "metadata": {},
   "source": [
    "And running the application again..."
   ]
  },
  {
   "cell_type": "code",
   "execution_count": 26,
   "id": "c4e21d04-91cd-4687-b208-2935ac53f08b",
   "metadata": {},
   "outputs": [
    {
     "name": "stdout",
     "output_type": "stream",
     "text": [
      "\n",
      "PLAY [all] *********************************************************************\n",
      "\n",
      "TASK [Gathering Facts] *********************************************************\n",
      "\u001b[0;32mok: [43d6d3880d034c9a8aa7c4929bd8b3fc]\u001b[0m\n",
      "\n",
      "TASK [Set some variables] ******************************************************\n",
      "\u001b[0;32mok: [43d6d3880d034c9a8aa7c4929bd8b3fc]\u001b[0m\n",
      "\n",
      "TASK [Changing hostname] *******************************************************\n",
      "\u001b[0;32mok: [43d6d3880d034c9a8aa7c4929bd8b3fc]\u001b[0m\n",
      "\n",
      "TASK [Perform necessary package installation for NPB] **************************\n",
      "\u001b[0;32mok: [43d6d3880d034c9a8aa7c4929bd8b3fc]\u001b[0m\n",
      "\n",
      "TASK [Get NPB (wget)] **********************************************************\n",
      "\u001b[0;32mok: [43d6d3880d034c9a8aa7c4929bd8b3fc]\u001b[0m\n",
      "\n",
      "TASK [Untar NPB file] **********************************************************\n",
      "\u001b[0;32mok: [43d6d3880d034c9a8aa7c4929bd8b3fc]\u001b[0m\n",
      "\n",
      "TASK [Defining make template] **************************************************\n",
      "\u001b[0;32mok: [43d6d3880d034c9a8aa7c4929bd8b3fc]\u001b[0m\n",
      "\n",
      "TASK [Compiling some binaries] *************************************************\n",
      "\u001b[0;33mchanged: [43d6d3880d034c9a8aa7c4929bd8b3fc]\u001b[0m\n",
      "\n",
      "TASK [Copy binary file to user's home directory] *******************************\n",
      "\u001b[0;32mok: [43d6d3880d034c9a8aa7c4929bd8b3fc]\u001b[0m\n",
      "\n",
      "TASK [Define binary variable] **************************************************\n",
      "\u001b[0;32mok: [43d6d3880d034c9a8aa7c4929bd8b3fc]\u001b[0m\n",
      "\n",
      "TASK [Copy a public key to hosts] **********************************************\n",
      "\u001b[0;32mok: [43d6d3880d034c9a8aa7c4929bd8b3fc]\u001b[0m\n",
      "\n",
      "TASK [Copy a private key to hosts] *********************************************\n",
      "\u001b[0;32mok: [43d6d3880d034c9a8aa7c4929bd8b3fc]\u001b[0m\n",
      "\n",
      "TASK [Put key in authorized keys] **********************************************\n",
      "\u001b[0;32mok: [43d6d3880d034c9a8aa7c4929bd8b3fc]\u001b[0m\n",
      "\n",
      "TASK [Remove strict host checking] *********************************************\n",
      "\u001b[0;32mok: [43d6d3880d034c9a8aa7c4929bd8b3fc]\u001b[0m\n",
      "\n",
      "PLAY RECAP *********************************************************************\n",
      "\u001b[0;33m43d6d3880d034c9a8aa7c4929bd8b3fc\u001b[0m : \u001b[0;32mok=14  \u001b[0m \u001b[0;33mchanged=1   \u001b[0m unreachable=0    failed=0    skipped=0    rescued=0    ignored=0   \n",
      "\n",
      "\n",
      "PLAY [all] *********************************************************************\n",
      "\n",
      "TASK [Gathering Facts] *********************************************************\n",
      "\u001b[0;32mok: [43d6d3880d034c9a8aa7c4929bd8b3fc]\u001b[0m\n",
      "\n",
      "TASK [Remove hostfile] *********************************************************\n",
      "\u001b[0;32mok: [43d6d3880d034c9a8aa7c4929bd8b3fc]\u001b[0m\n",
      "\n",
      "TASK [Generating hostfile] *****************************************************\n",
      "\u001b[0;33mchanged: [43d6d3880d034c9a8aa7c4929bd8b3fc] => (item=43d6d3880d034c9a8aa7c4929bd8b3fc)\u001b[0m\n",
      "\n",
      "TASK [Running MPI] *************************************************************\n",
      "\u001b[0;33mchanged: [43d6d3880d034c9a8aa7c4929bd8b3fc]\u001b[0m\n",
      "\n",
      "PLAY RECAP *********************************************************************\n",
      "\u001b[0;33m43d6d3880d034c9a8aa7c4929bd8b3fc\u001b[0m : \u001b[0;32mok=4   \u001b[0m \u001b[0;33mchanged=2   \u001b[0m unreachable=0    failed=0    skipped=0    rescued=0    ignored=0   \n",
      "\n"
     ]
    }
   ],
   "source": [
    "cluster_manager.setup_cluster(cluster_id)"
   ]
  },
  {
   "cell_type": "markdown",
   "id": "3d36d9b4-6b3f-4ec2-8d2b-46ccebcb14b4",
   "metadata": {},
   "source": [
    "Fetching some results..."
   ]
  },
  {
   "cell_type": "code",
   "execution_count": 27,
   "id": "ded553bc-c9d4-4d5d-a3cd-1f9c7465759f",
   "metadata": {},
   "outputs": [
    {
     "name": "stdout",
     "output_type": "stream",
     "text": [
      "\n",
      "PLAY [all] *********************************************************************\n",
      "\n",
      "TASK [Gathering Facts] *********************************************************\n",
      "\u001b[0;32mok: [43d6d3880d034c9a8aa7c4929bd8b3fc]\u001b[0m\n",
      "\n",
      "TASK [Find files to copy] ******************************************************\n",
      "\u001b[0;32mok: [43d6d3880d034c9a8aa7c4929bd8b3fc]\u001b[0m\n",
      "\n",
      "TASK [Copy output files to ~/experiment-results-1622864655.5366263/] ***********\n",
      "\u001b[0;33mchanged: [43d6d3880d034c9a8aa7c4929bd8b3fc] => (item={'path': '/home/ubuntu/hostfile', 'mode': '0664', 'isdir': False, 'ischr': False, 'isblk': False, 'isreg': True, 'isfifo': False, 'islnk': False, 'issock': False, 'uid': 1000, 'gid': 1000, 'size': 64, 'inode': 263061, 'dev': 51713, 'nlink': 1, 'atime': 1622864634.3600519, 'mtime': 1622864630.7162476, 'ctime': 1622864630.7162476, 'gr_name': 'ubuntu', 'pw_name': 'ubuntu', 'wusr': True, 'rusr': True, 'xusr': False, 'wgrp': True, 'rgrp': True, 'xgrp': False, 'woth': False, 'roth': True, 'xoth': False, 'isuid': False, 'isgid': False})\u001b[0m\n",
      "\u001b[0;33mchanged: [43d6d3880d034c9a8aa7c4929bd8b3fc] => (item={'path': '/home/ubuntu/execution.1.6', 'mode': '0644', 'isdir': False, 'ischr': False, 'isblk': False, 'isreg': True, 'isfifo': False, 'islnk': False, 'issock': False, 'uid': 1000, 'gid': 1000, 'size': 118, 'inode': 263068, 'dev': 51713, 'nlink': 1, 'atime': 1622864536.3794854, 'mtime': 1622864503.7516232, 'ctime': 1622864503.7516232, 'gr_name': 'ubuntu', 'pw_name': 'ubuntu', 'wusr': True, 'rusr': True, 'xusr': False, 'wgrp': False, 'rgrp': True, 'xgrp': False, 'woth': False, 'roth': True, 'xoth': False, 'isuid': False, 'isgid': False})\u001b[0m\n",
      "\u001b[0;33mchanged: [43d6d3880d034c9a8aa7c4929bd8b3fc] => (item={'path': '/home/ubuntu/43d6d3880d034c9a8aa7c4929bd8b3fc.output', 'mode': '0664', 'isdir': False, 'ischr': False, 'isblk': False, 'isreg': True, 'isfifo': False, 'islnk': False, 'issock': False, 'uid': 1000, 'gid': 1000, 'size': 962, 'inode': 263062, 'dev': 51713, 'nlink': 1, 'atime': 1622864634.3200538, 'mtime': 1622864654.8551438, 'ctime': 1622864654.8551438, 'gr_name': 'ubuntu', 'pw_name': 'ubuntu', 'wusr': True, 'rusr': True, 'xusr': False, 'wgrp': True, 'rgrp': True, 'xgrp': False, 'woth': False, 'roth': True, 'xoth': False, 'isuid': False, 'isgid': False})\u001b[0m\n",
      "\u001b[0;33mchanged: [43d6d3880d034c9a8aa7c4929bd8b3fc] => (item={'path': '/home/ubuntu/execution.1.7', 'mode': '0644', 'isdir': False, 'ischr': False, 'isblk': False, 'isreg': True, 'isfifo': False, 'islnk': False, 'issock': False, 'uid': 1000, 'gid': 1000, 'size': 118, 'inode': 263069, 'dev': 51713, 'nlink': 1, 'atime': 1622864541.3915126, 'mtime': 1622864503.7516232, 'ctime': 1622864503.7516232, 'gr_name': 'ubuntu', 'pw_name': 'ubuntu', 'wusr': True, 'rusr': True, 'xusr': False, 'wgrp': False, 'rgrp': True, 'xgrp': False, 'woth': False, 'roth': True, 'xoth': False, 'isuid': False, 'isgid': False})\u001b[0m\n",
      "\u001b[0;33mchanged: [43d6d3880d034c9a8aa7c4929bd8b3fc] => (item={'path': '/home/ubuntu/execution.1.1', 'mode': '0644', 'isdir': False, 'ischr': False, 'isblk': False, 'isreg': True, 'isfifo': False, 'islnk': False, 'issock': False, 'uid': 1000, 'gid': 1000, 'size': 118, 'inode': 263089, 'dev': 51713, 'nlink': 1, 'atime': 1622864635.1000135, 'mtime': 1622864635.1040132, 'ctime': 1622864635.1040132, 'gr_name': 'ubuntu', 'pw_name': 'ubuntu', 'wusr': True, 'rusr': True, 'xusr': False, 'wgrp': False, 'rgrp': True, 'xgrp': False, 'woth': False, 'roth': True, 'xoth': False, 'isuid': False, 'isgid': False})\u001b[0m\n",
      "\u001b[0;33mchanged: [43d6d3880d034c9a8aa7c4929bd8b3fc] => (item={'path': '/home/ubuntu/execution.1.0', 'mode': '0644', 'isdir': False, 'ischr': False, 'isblk': False, 'isreg': True, 'isfifo': False, 'islnk': False, 'issock': False, 'uid': 1000, 'gid': 1000, 'size': 1892, 'inode': 263088, 'dev': 51713, 'nlink': 1, 'atime': 1622864635.1000135, 'mtime': 1622864654.8071456, 'ctime': 1622864654.8071456, 'gr_name': 'ubuntu', 'pw_name': 'ubuntu', 'wusr': True, 'rusr': True, 'xusr': False, 'wgrp': False, 'rgrp': True, 'xgrp': False, 'woth': False, 'roth': True, 'xoth': False, 'isuid': False, 'isgid': False})\u001b[0m\n",
      "\n",
      "PLAY RECAP *********************************************************************\n",
      "\u001b[0;33m43d6d3880d034c9a8aa7c4929bd8b3fc\u001b[0m : \u001b[0;32mok=3   \u001b[0m \u001b[0;33mchanged=1   \u001b[0m unreachable=0    failed=0    skipped=0    rescued=0    ignored=0   \n",
      "\n",
      "Result executed? True\n",
      "Return code 0\n"
     ]
    }
   ],
   "source": [
    "output_dir = f'~/experiment-results-{time.time()}/' # dont forget the last slash (/) !\n",
    "role_name = 'npb'\n",
    "action = 'result'\n",
    "cluster_nodes = cluster_manager.get_all_cluster_nodes(cluster_id)\n",
    "\n",
    "extras = {\n",
    "    'output': output_dir\n",
    "}\n",
    "\n",
    "playbook_result = role_manager.perform_action(role_name, action, cluster_nodes, extra_args=extras)\n",
    "print(f'Result executed? {playbook_result.ok}')\n",
    "print(f'Return code {playbook_result.ret_code}')"
   ]
  },
  {
   "cell_type": "code",
   "execution_count": 32,
   "id": "457e1b52-f1fc-43f7-8b51-a300a891f5db",
   "metadata": {},
   "outputs": [
    {
     "name": "stdout",
     "output_type": "stream",
     "text": [
      "- /home/lopani/experiment-results-1622864655.5366263/43d6d3880d034c9a8aa7c4929bd8b3fc.output\n",
      "- /home/lopani/experiment-results-1622864655.5366263/execution.1.0\n",
      "- /home/lopani/experiment-results-1622864655.5366263/execution.1.1\n",
      "- /home/lopani/experiment-results-1622864655.5366263/hostfile\n",
      "\n"
     ]
    }
   ],
   "source": [
    "result_files = glob.glob(path_extend(output_dir, '*'))\n",
    "print(yaml.dump(result_files))"
   ]
  },
  {
   "cell_type": "markdown",
   "id": "c4f9a137-bd79-4a9a-b9d1-f4b42bfddd07",
   "metadata": {},
   "source": [
    "And parsing them..."
   ]
  },
  {
   "cell_type": "code",
   "execution_count": 34,
   "id": "95d4e66a-b09f-4465-93c0-57a86244973a",
   "metadata": {},
   "outputs": [
    {
     "name": "stdout",
     "output_type": "stream",
     "text": [
      "Time to execute with 2 processes: 9.54 seconds\n"
     ]
    }
   ],
   "source": [
    "time_to_exec = None\n",
    "number_processes = None\n",
    "\n",
    "with open(result_files[1], 'r') as f:\n",
    "    for line in f:\n",
    "        if 'Time in seconds' in line:\n",
    "            time_to_exec = float(line.split('Time in seconds =')[1].strip())\n",
    "        if 'Total processes' in line:\n",
    "            number_processes = int(line.split('Total processes =')[1].strip())\n",
    "            \n",
    "per_proc_times[number_processes] = time_to_exec\n",
    "print(f\"Time to execute with {number_processes} processes: {time_to_exec} seconds\")"
   ]
  },
  {
   "cell_type": "markdown",
   "id": "c3dbd76a-de86-4ecb-afeb-f6d02b816265",
   "metadata": {},
   "source": [
    "### Final application execution times with 2, 4 and 8 nodes"
   ]
  },
  {
   "cell_type": "code",
   "execution_count": 40,
   "id": "088d702d-2ce8-430f-889a-f4dbfd7dd4fd",
   "metadata": {},
   "outputs": [
    {
     "data": {
      "image/png": "[encoded data removed]",
      "text/plain": [
       "<Figure size 432x288 with 1 Axes>"
      ]
     },
     "metadata": {
      "needs_background": "light"
     },
     "output_type": "display_data"
    }
   ],
   "source": [
    "xs, ys = [], []\n",
    "for n_procs in sorted(per_proc_times.keys()):\n",
    "    xs.append(n_procs)\n",
    "    ys.append(per_proc_times[n_procs])\n",
    "plt.plot(xs, ys)\n",
    "plt.show()"
   ]
  },
  {
   "cell_type": "markdown",
   "id": "dacea33b-6056-4f0b-b15e-9a76768d79ca",
   "metadata": {},
   "source": [
    "## Stopping cluster\n",
    "\n",
    "Finally we can stop the cluster (and stop all nodes) using the `stop_cluster` command. This will also remove the cluster from cluster repository.\n",
    "\n",
    "Other similar functions are:\n",
    "* `resume_cluster`: That will resume all paused nodes of a cluster  \n",
    "* `pause_cluster`: That will pause all nodes of a cluster\n",
    "* `is_alive`: That will check if all cluster nodes are alive"
   ]
  },
  {
   "cell_type": "code",
   "execution_count": 38,
   "id": "3ab4f63d-e940-48af-9026-c8a6809efdb5",
   "metadata": {},
   "outputs": [
    {
     "name": "stdout",
     "output_type": "stream",
     "text": [
      "\u001b[1;35m[WARNING]: provided hosts list is empty, only localhost is available. Note that\u001b[0m\n",
      "\u001b[1;35mthe implicit localhost does not match 'all'\u001b[0m\n",
      "\n",
      "PLAY [localhost] ***************************************************************\n",
      "\n",
      "TASK [Stopping nodes BritneyGalvan] ********************************************\n",
      "\u001b[0;33mchanged: [localhost]\u001b[0m\n",
      "\n",
      "PLAY RECAP *********************************************************************\n",
      "\u001b[0;33mlocalhost\u001b[0m                  : \u001b[0;32mok=1   \u001b[0m \u001b[0;33mchanged=1   \u001b[0m unreachable=0    failed=0    skipped=0    rescued=0    ignored=0   \n",
      "\n"
     ]
    },
    {
     "data": {
      "text/plain": [
       "['43d6d3880d034c9a8aa7c4929bd8b3fc']"
      ]
     },
     "execution_count": 38,
     "metadata": {},
     "output_type": "execute_result"
    }
   ],
   "source": [
    "cluster_manager.stop_cluster(cluster_id)"
   ]
  }
 ],
 "metadata": {
  "kernelspec": {
   "display_name": "Python 3",
   "language": "python",
   "name": "python3"
  },
  "language_info": {
   "codemirror_mode": {
    "name": "ipython",
    "version": 3
   },
   "file_extension": ".py",
   "mimetype": "text/x-python",
   "name": "python",
   "nbconvert_exporter": "python",
   "pygments_lexer": "ipython3",
   "version": "3.8.5"
  }
 },
 "nbformat": 4,
 "nbformat_minor": 5
}
