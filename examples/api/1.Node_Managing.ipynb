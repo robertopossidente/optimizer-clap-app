{
 "cells": [
  {
   "cell_type": "markdown",
   "id": "92ea60d4-3c4b-4e73-bb12-c35a21e450c1",
   "metadata": {},
   "source": [
    "# Node Managing with CLAP\n",
    "\n",
    "This notebook introduces CLAP's features to create, manage and destroy CLAP's nodes. It will walk through the NodeManager class, used to manager computing nodes, and ConfigurationManager class, used to get CLAP's instances configuration from CLAP's configurations files (default at: ~/.clap/configs).\n",
    "\n",
    "Make sure, you are executing this notebook inside CLAP's environment (clap-env).\n",
    "\n",
    "As this notebook is inside CLAP's example/api directory, let's add `../..` to python system's paths."
   ]
  },
  {
   "cell_type": "code",
   "execution_count": 1,
   "id": "1a9e13a7-15f5-471d-a517-dbff3edd55f6",
   "metadata": {},
   "outputs": [],
   "source": [
    "import sys\n",
    "sys.path.append('../..')"
   ]
  },
  {
   "cell_type": "code",
   "execution_count": 2,
   "id": "284f34ea-74b4-4d2a-a0b5-45d09859b1fd",
   "metadata": {
    "collapsed": true,
    "jupyter": {
     "outputs_hidden": true
    },
    "tags": []
   },
   "outputs": [
    {
     "name": "stdout",
     "output_type": "stream",
     "text": [
      "Package                       Version\n",
      "----------------------------- -----------\n",
      "alabaster                     0.7.12\n",
      "ansible                       3.4.0\n",
      "ansible-base                  2.10.9\n",
      "ansible-runner                1.4.7\n",
      "anyio                         3.1.0\n",
      "argcomplete                   1.12.3\n",
      "argon2-cffi                   20.1.0\n",
      "astroid                       2.5.6\n",
      "async-generator               1.10\n",
      "attrs                         21.2.0\n",
      "Babel                         2.9.1\n",
      "backcall                      0.2.0\n",
      "bcrypt                        3.2.0\n",
      "bleach                        3.3.0\n",
      "boto                          2.49.0\n",
      "boto3                         1.17.73\n",
      "botocore                      1.20.73\n",
      "certifi                       2020.12.5\n",
      "cffi                          1.14.5\n",
      "chardet                       4.0.0\n",
      "click                         8.0.0\n",
      "coloredlogs                   15.0\n",
      "contextlib2                   0.6.0.post1\n",
      "cryptography                  3.4.7\n",
      "dacite                        1.6.0\n",
      "decorator                     5.0.7\n",
      "defusedxml                    0.7.1\n",
      "docutils                      0.16\n",
      "entrypoints                   0.3\n",
      "fire                          0.4.0\n",
      "humanfriendly                 9.1\n",
      "idna                          2.10\n",
      "imagesize                     1.2.0\n",
      "iniconfig                     1.1.1\n",
      "ipaddress                     1.0.23\n",
      "ipykernel                     5.5.5\n",
      "ipython                       7.23.1\n",
      "ipython-genutils              0.2.0\n",
      "jedi                          0.18.0\n",
      "Jinja2                        3.0.0\n",
      "jmespath                      0.10.0\n",
      "json5                         0.9.5\n",
      "jsonschema                    3.2.0\n",
      "jupyter-client                6.1.12\n",
      "jupyter-core                  4.7.1\n",
      "jupyter-server                1.8.0\n",
      "jupyterlab                    3.0.16\n",
      "jupyterlab-pygments           0.1.2\n",
      "jupyterlab-server             2.5.2\n",
      "lazy-object-proxy             1.6.0\n",
      "lockfile                      0.12.2\n",
      "MarkupSafe                    2.0.0\n",
      "marshmallow                   3.12.1\n",
      "marshmallow-dataclass         8.4.1\n",
      "matplotlib-inline             0.1.2\n",
      "mistune                       0.8.4\n",
      "mypy-extensions               0.4.3\n",
      "names                         0.3.0\n",
      "nbclassic                     0.3.1\n",
      "nbclient                      0.5.3\n",
      "nbconvert                     6.0.7\n",
      "nbformat                      5.1.3\n",
      "nest-asyncio                  1.5.1\n",
      "netaddr                       0.8.0\n",
      "notebook                      6.4.0\n",
      "numpy                         1.20.3\n",
      "packaging                     20.9\n",
      "pandocfilters                 1.4.3\n",
      "paramiko                      2.7.2\n",
      "parso                         0.8.2\n",
      "pexpect                       4.8.0\n",
      "pickleshare                   0.7.5\n",
      "pip                           21.1.1\n",
      "pkg-resources                 0.0.0\n",
      "pluggy                        0.13.1\n",
      "prometheus-client             0.10.1\n",
      "prompt-toolkit                3.0.18\n",
      "psutil                        5.8.0\n",
      "ptyprocess                    0.7.0\n",
      "py                            1.10.0\n",
      "pyCLI                         2.0.3\n",
      "pycparser                     2.20\n",
      "pycrypto                      2.6.1\n",
      "Pygments                      2.9.0\n",
      "PyNaCl                        1.4.0\n",
      "pyparsing                     2.4.7\n",
      "pyrsistent                    0.17.3\n",
      "pytest                        6.2.4\n",
      "python-daemon                 2.3.0\n",
      "python-dateutil               2.8.1\n",
      "pytz                          2021.1\n",
      "PyYAML                        5.4.1\n",
      "pyzmq                         22.0.3\n",
      "randomname                    0.1.3\n",
      "requests                      2.25.1\n",
      "s3transfer                    0.4.2\n",
      "scandir                       1.10.0\n",
      "schema                        0.7.4\n",
      "SecretStorage                 2.3.1\n",
      "Send2Trash                    1.5.0\n",
      "setuptools                    44.0.0\n",
      "six                           1.16.0\n",
      "sniffio                       1.2.0\n",
      "snowballstemmer               2.1.0\n",
      "Sphinx                        3.5.4\n",
      "sphinx-autoapi                1.8.1\n",
      "sphinx-rtd-theme              0.5.2\n",
      "sphinxcontrib-applehelp       1.0.2\n",
      "sphinxcontrib-devhelp         1.0.2\n",
      "sphinxcontrib-htmlhelp        1.0.3\n",
      "sphinxcontrib-jsmath          1.0.1\n",
      "sphinxcontrib-qthelp          1.0.3\n",
      "sphinxcontrib-serializinghtml 1.1.4\n",
      "sqlitedict                    1.7.0\n",
      "subprocess32                  3.5.4\n",
      "termcolor                     1.1.0\n",
      "terminado                     0.10.0\n",
      "testpath                      0.5.0\n",
      "tinydb                        3.15.2\n",
      "toml                          0.10.2\n",
      "tornado                       6.1\n",
      "traitlets                     5.0.5\n",
      "typeguard                     2.12.0\n",
      "typing-extensions             3.10.0.0\n",
      "typing-inspect                0.6.0\n",
      "Unidecode                     1.2.0\n",
      "urllib3                       1.26.4\n",
      "wcwidth                       0.2.5\n",
      "webencodings                  0.5.1\n",
      "websocket-client              1.0.1\n",
      "wrapt                         1.12.1\n",
      "\u001b[33mWARNING: You are using pip version 21.1.1; however, version 21.1.2 is available.\n",
      "You should consider upgrading via the '/home/lopani/Projects/clap/CLAP/clap-env/bin/python3 -m pip install --upgrade pip' command.\u001b[0m\n"
     ]
    }
   ],
   "source": [
    "# Let's print all packages installed\n",
    "!pip list"
   ]
  },
  {
   "cell_type": "markdown",
   "id": "31504508-e4a8-47a7-80b5-d1bc3417fa79",
   "metadata": {},
   "source": [
    "Let's perform some imports. In order to facilitate the creation of the NodeManager and ConfigurationDatabase classes, let's use the defaults defined in app.cli.modules.node which will search for configurations at `~/.clap/configs` and use `~/.clap/storage/nodes.db` as default node repository. "
   ]
  },
  {
   "cell_type": "code",
   "execution_count": 3,
   "id": "f1393acb-a665-4e6e-974d-cf1c5b2bff9a",
   "metadata": {},
   "outputs": [],
   "source": [
    "import yaml\n",
    "from dataclasses import asdict\n",
    "from app.cli.modules.node import get_config_db, get_node_manager\n",
    "from clap.utils import float_time_to_string"
   ]
  },
  {
   "cell_type": "code",
   "execution_count": 4,
   "id": "4292270e-ec97-49f5-a977-5db8b2c3b521",
   "metadata": {},
   "outputs": [],
   "source": [
    "# Creating configuration database and node manager objects\n",
    "configuration_db = get_config_db()\n",
    "node_manager = get_node_manager()"
   ]
  },
  {
   "cell_type": "markdown",
   "id": "93a78c16-b784-4983-b991-244a123a2797",
   "metadata": {},
   "source": [
    "configuration_db will load all instance configs at `~/.clap/configs/instances.yaml` and will store all in the instance_descriptors member. instances_descriptor is a dictionary, where the keys are the name of instance configuration at instances file and the values are dataclasses of type InstanceInfo.\n",
    "\n",
    "Let's check the contents of `~/.clap/configs/instances.yaml`"
   ]
  },
  {
   "cell_type": "code",
   "execution_count": 5,
   "id": "f5302dbb-9eb7-4e0d-a5f3-d9c91f042252",
   "metadata": {},
   "outputs": [
    {
     "name": "stdout",
     "output_type": "stream",
     "text": [
      "type-a:\n",
      "    provider: aws-config-us-east-1\n",
      "    login: login-ubuntu\n",
      "    flavor: t2.micro\n",
      "    image_id: ami-07d0cf3af28718ef8\n",
      "    security_group: otavio-sg\n",
      "\n",
      "type-b:\n",
      "    provider: aws-config-us-east-1\n",
      "    login: login-ubuntu\n",
      "    flavor: t2.medium\n",
      "    image_id: ami-07d0cf3af28718ef8\n",
      "    boot_disk_size: 16\n",
      "    security_group: otavio-sg\n"
     ]
    }
   ],
   "source": [
    "!cat ~/.clap/configs/instances.yaml"
   ]
  },
  {
   "cell_type": "code",
   "execution_count": 6,
   "id": "6c156f61-75c9-4a62-a40a-f3d126a35c99",
   "metadata": {},
   "outputs": [
    {
     "name": "stdout",
     "output_type": "stream",
     "text": [
      "All instance ids presented in my system: type-a, type-b\n"
     ]
    }
   ],
   "source": [
    "all_instances_ids = list(configuration_db.instance_descriptors.keys())\n",
    "print(f\"All instance ids presented in my system: {', '.join(all_instances_ids)}\")"
   ]
  },
  {
   "cell_type": "code",
   "execution_count": 7,
   "id": "3a678fd2-82fa-467e-a2ee-1b7308bd033e",
   "metadata": {},
   "outputs": [
    {
     "name": "stdout",
     "output_type": "stream",
     "text": [
      "Instance config: InstanceInfo(provider=ProviderConfigAWS(provider_config_id='aws-config-us-east-1', region='us-east-1', access_keyfile='ec2_access_key.pub', secret_access_keyfile='ec2_access_key.pem', vpc=None, url='https://ec2.us-east-1.amazonaws.com', provider='aws'), login=LoginConfig(login_config_id='login-ubuntu', user='ubuntu', keypair_name='otavio_key_us_east_1', keypair_public_file='otavio_key_us_east_1.pub', keypair_private_file='otavio_key_us_east_1.pem', ssh_port=22, sudo=True, sudo_user='root'), instance=InstanceConfigAWS(instance_config_id='type-a', provider='aws-config-us-east-1', login='login-ubuntu', flavor='t2.micro', image_id='ami-07d0cf3af28718ef8', security_group='otavio-sg', boot_disk_size=None, boot_disk_device=None, boot_disk_type=None, boot_disk_iops=None, boot_disk_snapshot=None, placement_group=None, price=None, timeout=None, network_ids=[]))\n",
      "Instance flavor: t2.micro\n"
     ]
    }
   ],
   "source": [
    "# Lets pick the type-a instance info and verify it\n",
    "type_a_instance_info = configuration_db.instance_descriptors['type-a']\n",
    "print(f\"Instance config: {type_a_instance_info}\")\n",
    "# Instances info are dataclasses, you can access members using access python's member access syntax (via '.'). For instance:\n",
    "flavor = type_a_instance_info.instance.flavor\n",
    "print(f\"Instance flavor: {flavor}\")"
   ]
  },
  {
   "cell_type": "code",
   "execution_count": 8,
   "id": "5fca7e43-8d9b-4f75-bb40-0036b220c1ec",
   "metadata": {},
   "outputs": [
    {
     "name": "stdout",
     "output_type": "stream",
     "text": [
      "instance:\n",
      "    boot_disk_device: null\n",
      "    boot_disk_iops: null\n",
      "    boot_disk_size: null\n",
      "    boot_disk_snapshot: null\n",
      "    boot_disk_type: null\n",
      "    flavor: t2.micro\n",
      "    image_id: ami-07d0cf3af28718ef8\n",
      "    instance_config_id: type-a\n",
      "    login: login-ubuntu\n",
      "    network_ids: []\n",
      "    placement_group: null\n",
      "    price: null\n",
      "    provider: aws-config-us-east-1\n",
      "    security_group: otavio-sg\n",
      "    timeout: null\n",
      "login:\n",
      "    keypair_name: otavio_key_us_east_1\n",
      "    keypair_private_file: otavio_key_us_east_1.pem\n",
      "    keypair_public_file: otavio_key_us_east_1.pub\n",
      "    login_config_id: login-ubuntu\n",
      "    ssh_port: 22\n",
      "    sudo: true\n",
      "    sudo_user: root\n",
      "    user: ubuntu\n",
      "provider:\n",
      "    access_keyfile: ec2_access_key.pub\n",
      "    provider: aws\n",
      "    provider_config_id: aws-config-us-east-1\n",
      "    region: us-east-1\n",
      "    secret_access_keyfile: ec2_access_key.pem\n",
      "    url: https://ec2.us-east-1.amazonaws.com\n",
      "    vpc: null\n",
      "\n"
     ]
    }
   ],
   "source": [
    "# Dataclasses can be easily be converted to dict using asdict function\n",
    "type_a_instance_info_dict = asdict(type_a_instance_info)\n",
    "# Lets print dict in yaml syntax\n",
    "print(yaml.dump(type_a_instance_info_dict, indent=4))"
   ]
  },
  {
   "cell_type": "markdown",
   "id": "fa55240d-d249-4312-a83c-4dc81edba732",
   "metadata": {},
   "source": [
    "Starting nodes can done using start_node function. This function will start N CLAP nodes with a given InstanceInfo.\n",
    "Use start_nodes for starting different number of nodes with different InstanceInfos.\n",
    "\n",
    "Let's start 2 nodes of type-a. The function will return the node IDs for nodes that is sucessfully started."
   ]
  },
  {
   "cell_type": "code",
   "execution_count": 9,
   "id": "d35017b7-5880-4c0c-956f-d1e9ef4871b2",
   "metadata": {},
   "outputs": [
    {
     "name": "stdout",
     "output_type": "stream",
     "text": [
      "\u001b[1;35m[WARNING]: provided hosts list is empty, only localhost is available. Note that\u001b[0m\n",
      "\u001b[1;35mthe implicit localhost does not match 'all'\u001b[0m\n",
      "\n",
      "PLAY [localhost] ***************************************************************\n",
      "\n",
      "TASK [Starting 2 type-a instances (timeout 600 seconds)] ***********************\n",
      "\u001b[0;33mchanged: [localhost]\u001b[0m\n",
      "\n",
      "PLAY RECAP *********************************************************************\n",
      "\u001b[0;33mlocalhost\u001b[0m                  : \u001b[0;32mok=1   \u001b[0m \u001b[0;33mchanged=1   \u001b[0m unreachable=0    failed=0    skipped=0    rescued=0    ignored=0   \n",
      "\n",
      "\u001b[1;35m[WARNING]: provided hosts list is empty, only localhost is available. Note that\u001b[0m\n",
      "\u001b[1;35mthe implicit localhost does not match 'all'\u001b[0m\n",
      "\n",
      "PLAY [localhost] ***************************************************************\n",
      "\n",
      "TASK [Tagging instances] *******************************************************\n",
      "\u001b[0;33mchanged: [localhost] => (item={'id': 'i-0102a005efac4d1a8', 'name': 'SaraAmick-8708490f'})\u001b[0m\n",
      "\u001b[0;33mchanged: [localhost] => (item={'id': 'i-081327a6346e0a5a9', 'name': 'ScottCable-b3953956'})\u001b[0m\n",
      "\u001b[0;33mlocalhost\u001b[0m                  : \u001b[0;32mok=1   \u001b[0m \u001b[0;33mchanged=1   \u001b[0m unreachable=0    failed=0    skipped=0    rescued=0    ignored=0   \n",
      "\n",
      "\n",
      "PLAY RECAP *********************************************************************\n",
      "\u001b[0;33mlocalhost\u001b[0m                  : \u001b[0;32mok=1   \u001b[0m \u001b[0;33mchanged=1   \u001b[0m unreachable=0    failed=0    skipped=0    rescued=0    ignored=0   \n",
      "\n"
     ]
    }
   ],
   "source": [
    "started_node_ids = node_manager.start_node(type_a_instance_info, count=2)"
   ]
  },
  {
   "cell_type": "code",
   "execution_count": 10,
   "id": "e76dda02-f517-4f68-ad56-2e1932d1b087",
   "metadata": {},
   "outputs": [
    {
     "name": "stdout",
     "output_type": "stream",
     "text": [
      "2 nodes started: ['8708490fd29941898e27cd330af94c42', 'b3953956fc7048e886dc466fb9e746e5']\n"
     ]
    }
   ],
   "source": [
    "print(f\"{len(started_node_ids)} nodes started: {started_node_ids}\")"
   ]
  },
  {
   "cell_type": "markdown",
   "id": "34030f26-3cc6-4e21-97e5-a9abed24b3bc",
   "metadata": {},
   "source": [
    "Functions in CLAP's node manager usually use the IDs of nodes to operate. The functions get_\\*_nodes (e.g. get_all_nodes, get_nodes_by_id) will return a list of NodeDescriptor objects. NodeDescriptor is a dataclass that describe full node information. As NodeDesriptor is a dataclass, it can be easily be transformed to a dict, using asdict function.\n",
    "\n",
    "Let's pick all nodes in CLAP and print it in YAML format. "
   ]
  },
  {
   "cell_type": "code",
   "execution_count": 11,
   "id": "730965cb-8f87-4579-9e98-fd4165802de2",
   "metadata": {},
   "outputs": [
    {
     "name": "stdout",
     "output_type": "stream",
     "text": [
      "---------\n",
      "Node Id: 8708490fd29941898e27cd330af94c42, created at 29-05-21 15:34:28; Status: started\n",
      "---------\n",
      "cloud_instance_id: i-0102a005efac4d1a8\n",
      "cloud_lifecycle: normal\n",
      "configuration:\n",
      "    instance:\n",
      "        boot_disk_device: null\n",
      "        boot_disk_iops: null\n",
      "        boot_disk_size: null\n",
      "        boot_disk_snapshot: null\n",
      "        boot_disk_type: null\n",
      "        flavor: t2.micro\n",
      "        image_id: ami-07d0cf3af28718ef8\n",
      "        instance_config_id: type-a\n",
      "        login: login-ubuntu\n",
      "        network_ids: []\n",
      "        placement_group: null\n",
      "        price: null\n",
      "        provider: aws-config-us-east-1\n",
      "        security_group: otavio-sg\n",
      "        timeout: null\n",
      "    login:\n",
      "        keypair_name: otavio_key_us_east_1\n",
      "        keypair_private_file: otavio_key_us_east_1.pem\n",
      "        keypair_public_file: otavio_key_us_east_1.pub\n",
      "        login_config_id: login-ubuntu\n",
      "        ssh_port: 22\n",
      "        sudo: true\n",
      "        sudo_user: root\n",
      "        user: ubuntu\n",
      "    provider:\n",
      "        access_keyfile: ec2_access_key.pub\n",
      "        provider: aws\n",
      "        provider_config_id: aws-config-us-east-1\n",
      "        region: us-east-1\n",
      "        secret_access_keyfile: ec2_access_key.pem\n",
      "        url: https://ec2.us-east-1.amazonaws.com\n",
      "        vpc: null\n",
      "creation_time: 1622313268.3889296\n",
      "extra:\n",
      "    architecture: x86_64\n",
      "    dns: ec2-100-25-28-126.compute-1.amazonaws.com\n",
      "    instance_id: i-0102a005efac4d1a8\n",
      "    instance_tags:\n",
      "        CreatedWith: CLAP\n",
      "        owner: otavio.napoli\n",
      "        principalId: AIDATSRODRVJXBE5IBILK\n",
      "    private_dns: ip-172-31-74-172.ec2.internal\n",
      "    private_ip: 172.31.74.172\n",
      "    subnet_id: null\n",
      "    vpc_id: null\n",
      "ip: 100.25.28.126\n",
      "nickname: SaraAmick\n",
      "node_id: 8708490fd29941898e27cd330af94c42\n",
      "roles: []\n",
      "status: started\n",
      "tags: {}\n",
      "type: cloud\n",
      "update_time: 1622313273.7093725\n",
      "\n",
      "**********\n",
      "---------\n",
      "Node Id: b3953956fc7048e886dc466fb9e746e5, created at 29-05-21 15:34:28; Status: started\n",
      "---------\n",
      "cloud_instance_id: i-081327a6346e0a5a9\n",
      "cloud_lifecycle: normal\n",
      "configuration:\n",
      "    instance:\n",
      "        boot_disk_device: null\n",
      "        boot_disk_iops: null\n",
      "        boot_disk_size: null\n",
      "        boot_disk_snapshot: null\n",
      "        boot_disk_type: null\n",
      "        flavor: t2.micro\n",
      "        image_id: ami-07d0cf3af28718ef8\n",
      "        instance_config_id: type-a\n",
      "        login: login-ubuntu\n",
      "        network_ids: []\n",
      "        placement_group: null\n",
      "        price: null\n",
      "        provider: aws-config-us-east-1\n",
      "        security_group: otavio-sg\n",
      "        timeout: null\n",
      "    login:\n",
      "        keypair_name: otavio_key_us_east_1\n",
      "        keypair_private_file: otavio_key_us_east_1.pem\n",
      "        keypair_public_file: otavio_key_us_east_1.pub\n",
      "        login_config_id: login-ubuntu\n",
      "        ssh_port: 22\n",
      "        sudo: true\n",
      "        sudo_user: root\n",
      "        user: ubuntu\n",
      "    provider:\n",
      "        access_keyfile: ec2_access_key.pub\n",
      "        provider: aws\n",
      "        provider_config_id: aws-config-us-east-1\n",
      "        region: us-east-1\n",
      "        secret_access_keyfile: ec2_access_key.pem\n",
      "        url: https://ec2.us-east-1.amazonaws.com\n",
      "        vpc: null\n",
      "creation_time: 1622313268.3940108\n",
      "extra:\n",
      "    architecture: x86_64\n",
      "    dns: ec2-52-90-37-115.compute-1.amazonaws.com\n",
      "    instance_id: i-081327a6346e0a5a9\n",
      "    instance_tags:\n",
      "        CreatedWith: CLAP\n",
      "        owner: otavio.napoli\n",
      "        principalId: AIDATSRODRVJXBE5IBILK\n",
      "    private_dns: ip-172-31-73-144.ec2.internal\n",
      "    private_ip: 172.31.73.144\n",
      "    subnet_id: null\n",
      "    vpc_id: null\n",
      "ip: 52.90.37.115\n",
      "nickname: ScottCable\n",
      "node_id: b3953956fc7048e886dc466fb9e746e5\n",
      "roles: []\n",
      "status: started\n",
      "tags: {}\n",
      "type: cloud\n",
      "update_time: 1622313273.7183459\n",
      "\n",
      "**********\n"
     ]
    }
   ],
   "source": [
    "for node in node_manager.get_all_nodes():\n",
    "    # Can be accessed with '.' operator\n",
    "    node_id = node.node_id\n",
    "    print('---------')\n",
    "    print(f\"Node Id: {node_id}, created at {float_time_to_string(node.creation_time)}; Status: {node.status}\")\n",
    "    print('---------')\n",
    "    # Or can be converted to a dict\n",
    "    node_dict = asdict(node)\n",
    "    # Printing dict in YAML format\n",
    "    print(yaml.dump(node_dict, indent=4))\n",
    "    print('**********')"
   ]
  },
  {
   "cell_type": "markdown",
   "id": "ff95f584-603c-446f-8a10-858ccd44b019",
   "metadata": {},
   "source": [
    "Nodes with status == 'started' are nodes that were started but no SSH login was performed yet. Once a successfuly login is performed, the node changes it status to 'reachable'. If the SSH fails, the status become 'unreachable'.\n",
    "\n",
    "The function is_alive check if the node is alive and update its information. This function also updates several other information, such as IP, status etc.. The functions takes then id of nodes as input and returns a dict, where keys is the node ids and values are booleans denoting if the node is alive (successfuly SSH performed) or not.\n",
    "\n",
    "Note:\n",
    "* This function may output \"Unable to connect to port 22 on XXX.XXX.XXX.XXX\" when a unsucessfull login is performed. So, the function will wait a 'wait_timeout' seconds and try again for 'retries' times"
   ]
  },
  {
   "cell_type": "code",
   "execution_count": 12,
   "id": "d8c2305a-2cb2-4398-8277-5be5ab0d8029",
   "metadata": {},
   "outputs": [
    {
     "name": "stderr",
     "output_type": "stream",
     "text": [
      "Error executing command in node b3953956: [Errno None] Unable to connect to port 22 on 52.90.37.115\n",
      "Error executing command in b3953956: [Errno None] Unable to connect to port 22 on 52.90.37.115.\n"
     ]
    },
    {
     "name": "stdout",
     "output_type": "stream",
     "text": [
      "8708490fd29941898e27cd330af94c42 --> alive.\n",
      "b3953956fc7048e886dc466fb9e746e5 --> alive.\n"
     ]
    }
   ],
   "source": [
    "alive_nodes = node_manager.is_alive(started_node_ids)\n",
    "for node_id, alive_flag in alive_nodes.items():\n",
    "    alive_str = 'alive' if alive_flag == True else 'not alive'\n",
    "    print(f\"{node_id} --> {alive_str}.\")"
   ]
  },
  {
   "cell_type": "markdown",
   "id": "9da6f5a1-bb10-4058-8403-d5a05b6dbe60",
   "metadata": {},
   "source": [
    "The node status should change to a reachable state.\n",
    "\n",
    "CLAP won't check node status periodically. Consider using is_alive function ocasionally to update node information. \n",
    "\n",
    "The get_node_by_id function returns full node information (NodeDescriptor objects) that matches the specified node ids."
   ]
  },
  {
   "cell_type": "code",
   "execution_count": 13,
   "id": "1cb29180-7afe-4514-b442-80568246a19a",
   "metadata": {},
   "outputs": [
    {
     "name": "stdout",
     "output_type": "stream",
     "text": [
      "8708490fd29941898e27cd330af94c42: Status: reachable; IP: 100.25.28.126\n",
      "b3953956fc7048e886dc466fb9e746e5: Status: reachable; IP: 52.90.37.115\n"
     ]
    }
   ],
   "source": [
    "nodes = node_manager.get_nodes_by_id(started_node_ids)\n",
    "for node in nodes:\n",
    "    print (f\"{node.node_id}: Status: {node.status}; IP: {node.ip}\")"
   ]
  },
  {
   "cell_type": "markdown",
   "id": "0f000f7d-07c2-4cfe-96f6-7633f974236f",
   "metadata": {},
   "source": [
    "## Tags\n",
    "\n",
    "Tags can be added to nodes to easilly get NodeDescriptors with matching tags. Tags are a dict with key and values as strings and can be added or removed from nodes using add_tags and remove tags function. These functions take a list of node ids as input and a list of node ids listing the nodes in that tags where added or removed.\n",
    "\n",
    "Lets add some fictitious tags for the two created nodes."
   ]
  },
  {
   "cell_type": "code",
   "execution_count": 14,
   "id": "263b1ba8-4ddf-4148-a642-323cc28eee03",
   "metadata": {},
   "outputs": [
    {
     "name": "stdout",
     "output_type": "stream",
     "text": [
      "Tags {'example-notebook': 'cool', 'uuid': 'worker-0'} were added to nodes: ['8708490fd29941898e27cd330af94c42']\n",
      "Tags {'example-notebook': 'cool', 'uuid': 'worker-1'} were added to nodes: ['b3953956fc7048e886dc466fb9e746e5']\n"
     ]
    }
   ],
   "source": [
    "# Lets add these tags to started_node_ids[0] only\n",
    "tags = {\n",
    "    'example-notebook': 'cool',\n",
    "    'uuid': 'worker-0'\n",
    "}\n",
    "node_ids_with_tags_added = node_manager.add_tags([started_node_ids[0]], tags)\n",
    "print(f'Tags {tags} were added to nodes: {node_ids_with_tags_added}')\n",
    "\n",
    "# Lets add these tags to started_node_ids[1] only\n",
    "tags = {\n",
    "    'example-notebook': 'cool',\n",
    "    'uuid': 'worker-1'\n",
    "}\n",
    "node_ids_with_tags_added = node_manager.add_tags([started_node_ids[1]], tags)\n",
    "print(f'Tags {tags} were added to nodes: {node_ids_with_tags_added}')"
   ]
  },
  {
   "cell_type": "markdown",
   "id": "c3dff75b-25cc-4477-81ed-a364ac6a0b7a",
   "metadata": {},
   "source": [
    "We can get full node information easiy based on node tags, using get_nodes_with_tag or get_nodes_with_tag_value. The primer will get all nodes that contains a the key specified and the last, the nodes that has the tag and a speficied value."
   ]
  },
  {
   "cell_type": "code",
   "execution_count": 15,
   "id": "5c8ec849-96d8-42a9-bcb3-662172d38039",
   "metadata": {},
   "outputs": [
    {
     "name": "stdout",
     "output_type": "stream",
     "text": [
      "Get 2 nodes: ['8708490fd29941898e27cd330af94c42', 'b3953956fc7048e886dc466fb9e746e5']\n",
      "Get 1 nodes: ['8708490fd29941898e27cd330af94c42']\n"
     ]
    }
   ],
   "source": [
    "# Get nodes that has tag 'example-notebook'\n",
    "node_descriptors = node_manager.get_nodes_with_tag('example-notebook')\n",
    "node_ids = [node.node_id for node in node_descriptors]\n",
    "print(f\"Get {len(node_ids)} nodes: {node_ids}\")\n",
    "\n",
    "# Get nodes that has tag 'uuid' and value 'worker-0'\n",
    "node_descriptors = node_manager.get_nodes_with_tag_value('uuid', 'worker-0')\n",
    "node_ids = [node.node_id for node in node_descriptors]\n",
    "print(f\"Get {len(node_ids)} nodes: {node_ids}\")"
   ]
  },
  {
   "cell_type": "markdown",
   "id": "523662b2-706d-4d19-92dc-5eab063a31f9",
   "metadata": {},
   "source": [
    "# Pausing and resuming nodes\n",
    "\n",
    "CLAP support pausing and resuming nodes. Pausing and resuming will not terminate nodes or reboot nodes, it will only suspend nodes. Once a node is paused, node status is changed to 'paused' and its IP to None. Once the node is resumed, it status is changed to 'started'. The resume_nodes function will also try to login to the node again, if it is sucessfull login is performed status is changed to 'reachable', else 'unreachable'.\n",
    "\n",
    "pause_nodes and resume_nodes methods will pause and resume nodes taking their ids as input, respectively and return a list of node ids for nodes that successfuly performed the operations.\n",
    "\n",
    "Notes:\n",
    "* Pausing nodes that already have been paused or resuming nodes already running will result in nothing.\n",
    "* If a paused node is resumed outside CLAP, you can use the is_alive function to update node status and all other information."
   ]
  },
  {
   "cell_type": "code",
   "execution_count": 17,
   "id": "bb5ba73e-3844-4065-8641-a72bfcbc8d44",
   "metadata": {},
   "outputs": [
    {
     "name": "stdout",
     "output_type": "stream",
     "text": [
      "\u001b[1;35m[WARNING]: provided hosts list is empty, only localhost is available. Note that\u001b[0m\n",
      "\u001b[1;35mthe implicit localhost does not match 'all'\u001b[0m\n",
      "\n",
      "PLAY [localhost] ***************************************************************\n",
      "\n",
      "TASK [Pausing nodes `SaraAmick, ScottCable`] ***********************************\n",
      "\u001b[0;33mchanged: [localhost]\u001b[0m\n",
      "\n",
      "PLAY RECAP *********************************************************************\n",
      "\u001b[0;33mlocalhost\u001b[0m                  : \u001b[0;32mok=1   \u001b[0m \u001b[0;33mchanged=1   \u001b[0m unreachable=0    failed=0    skipped=0    rescued=0    ignored=0   \n",
      "\n",
      "Paused 2 nodes: ['8708490fd29941898e27cd330af94c42', 'b3953956fc7048e886dc466fb9e746e5']\n",
      "Node 8708490fd29941898e27cd330af94c42 (nickname: SaraAmick), status: paused, IP: None\n",
      "Node b3953956fc7048e886dc466fb9e746e5 (nickname: ScottCable), status: paused, IP: None\n"
     ]
    }
   ],
   "source": [
    "# Pausing nodes will pause nodes based on their node ids. It will return a list of successfuly paused node ids\n",
    "paused_node_ids = node_manager.pause_nodes(started_node_ids)\n",
    "print(f\"Paused {len(paused_node_ids)} nodes: {paused_node_ids}\")\n",
    "\n",
    "# Printing node status\n",
    "nodes = node_manager.get_nodes_by_id(paused_node_ids)\n",
    "for node in nodes:\n",
    "    print(f'Node {node.node_id} (nickname: {node.nickname}), status: {node.status}, IP: {node.ip}')"
   ]
  },
  {
   "cell_type": "code",
   "execution_count": 18,
   "id": "eeacf131-6424-48c9-8327-1b747f0f3a66",
   "metadata": {},
   "outputs": [
    {
     "name": "stdout",
     "output_type": "stream",
     "text": [
      "\u001b[1;35m[WARNING]: provided hosts list is empty, only localhost is available. Note that\u001b[0m\n",
      "\u001b[1;35mthe implicit localhost does not match 'all'\u001b[0m\n",
      "\n",
      "PLAY [localhost] ***************************************************************\n",
      "\n",
      "TASK [Resuming nodes `SaraAmick, ScottCable`] **********************************\n",
      "\u001b[0;33mchanged: [localhost]\u001b[0m\n",
      "\n",
      "PLAY RECAP *********************************************************************\n",
      "\u001b[0;33mlocalhost\u001b[0m                  : \u001b[0;32mok=1   \u001b[0m \u001b[0;33mchanged=1   \u001b[0m unreachable=0    failed=0    skipped=0    rescued=0    ignored=0   \n",
      "\n"
     ]
    },
    {
     "name": "stderr",
     "output_type": "stream",
     "text": [
      "Error executing command in node 8708490f: [Errno None] Unable to connect to port 22 on 100.25.171.110\n",
      "Error executing command in node b3953956: [Errno None] Unable to connect to port 22 on 18.206.202.159\n",
      "Error executing command in 8708490f: [Errno None] Unable to connect to port 22 on 100.25.171.110.\n",
      "Error executing command in b3953956: [Errno None] Unable to connect to port 22 on 18.206.202.159.\n"
     ]
    },
    {
     "name": "stdout",
     "output_type": "stream",
     "text": [
      "Resumed 2 nodes: ['8708490fd29941898e27cd330af94c42', 'b3953956fc7048e886dc466fb9e746e5']\n",
      "Node 8708490fd29941898e27cd330af94c42 (nickname: SaraAmick), status: reachable, IP: 100.25.171.110\n",
      "Node b3953956fc7048e886dc466fb9e746e5 (nickname: ScottCable), status: reachable, IP: 18.206.202.159\n"
     ]
    }
   ],
   "source": [
    "# Resuming nodes will resume nodes based on their node ids. It will return a list of successfuly paused node ids\n",
    "resumed_node_ids = node_manager.resume_nodes(paused_node_ids)\n",
    "print(f\"Resumed {len(resumed_node_ids)} nodes: {resumed_node_ids}\")\n",
    "\n",
    "# Printing node status\n",
    "nodes = node_manager.get_nodes_by_id(resumed_node_ids)\n",
    "for node in nodes:\n",
    "    print(f'Node {node.node_id} (nickname: {node.nickname}), status: {node.status}, IP: {node.ip}')"
   ]
  },
  {
   "cell_type": "markdown",
   "id": "8b1cf903-a4da-43da-b75c-35f921027152",
   "metadata": {},
   "source": [
    "# Stopping nodes\n",
    "\n",
    "Finally, nodes can be stopped (terminated at cloud provider) using stop_nodes method. The method will take the node ids as input and returns a list of node ids successfuly stopped. Stopped nodes will automatically be removed from node repository unless the 'remove_nodes' parameter is passed to the method as False."
   ]
  },
  {
   "cell_type": "code",
   "execution_count": 19,
   "id": "b4fad2fb-d3cf-4fd1-a8ff-ba2a64706cba",
   "metadata": {},
   "outputs": [
    {
     "name": "stdout",
     "output_type": "stream",
     "text": [
      "\u001b[1;35m[WARNING]: provided hosts list is empty, only localhost is available. Note that\u001b[0m\n",
      "\u001b[1;35mthe implicit localhost does not match 'all'\u001b[0m\n",
      "\n",
      "PLAY [localhost] ***************************************************************\n",
      "\n",
      "TASK [Stopping nodes SaraAmick, ScottCable] ************************************\n",
      "\u001b[0;33mchanged: [localhost]\u001b[0m\n",
      "\n",
      "PLAY RECAP *********************************************************************\n",
      "\u001b[0;33mlocalhost\u001b[0m                  : \u001b[0;32mok=1   \u001b[0m \u001b[0;33mchanged=1   \u001b[0m unreachable=0    failed=0    skipped=0    rescued=0    ignored=0   \n",
      "\n",
      "Stopped 2 nodes: ['8708490fd29941898e27cd330af94c42', 'b3953956fc7048e886dc466fb9e746e5']\n"
     ]
    }
   ],
   "source": [
    "stopped_node_ids = node_manager.stop_nodes(resumed_node_ids)\n",
    "print(f\"Stopped {len(stopped_node_ids)} nodes: {stopped_node_ids}\")"
   ]
  },
  {
   "cell_type": "code",
   "execution_count": 20,
   "id": "f57d701f-dc5c-4d37-884e-3e0c7b1a3452",
   "metadata": {},
   "outputs": [
    {
     "name": "stdout",
     "output_type": "stream",
     "text": [
      "Got 0 nodes: []\n"
     ]
    }
   ],
   "source": [
    "# No more nodes in repository...\n",
    "nodes = node_manager.get_all_nodes()\n",
    "print(f\"Got {len(nodes)} nodes: {nodes}\")"
   ]
  },
  {
   "cell_type": "code",
   "execution_count": null,
   "id": "db8b7081-f869-4558-a975-b244199f46c7",
   "metadata": {},
   "outputs": [],
   "source": []
  }
 ],
 "metadata": {
  "kernelspec": {
   "display_name": "Python 3",
   "language": "python",
   "name": "python3"
  },
  "language_info": {
   "codemirror_mode": {
    "name": "ipython",
    "version": 3
   },
   "file_extension": ".py",
   "mimetype": "text/x-python",
   "name": "python",
   "nbconvert_exporter": "python",
   "pygments_lexer": "ipython3",
   "version": "3.8.5"
  }
 },
 "nbformat": 4,
 "nbformat_minor": 5
}
