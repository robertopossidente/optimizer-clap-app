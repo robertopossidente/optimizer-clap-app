{
 "cells": [
  {
   "cell_type": "markdown",
   "id": "f6e8533e-fce2-4c82-aca1-7726034e592c",
   "metadata": {},
   "source": [
    "# Step-by-step Creating a cluster to run Nasa NPB MPI Benchmarks\n",
    "\n",
    "## Creating the role NPB\n",
    "\n",
    "The NPB role is intended to be used to run an NPB MPI benchmark. We will install all required packages, download and compile NPB's IS benchmark (class C), adjust SSH keys between hosts, run the benchmark and get the results. To do this, we will create a role called `npb`. This role will have 3 actions:\n",
    "* `setup`: which will install all required packages, download NPB (via wget) and unzip, compile the application (with Make) and setup SSH keys\n",
    "* `run`: which will generate the hostfile and run the MPI application\n",
    "* `result`: which will get the output files"
   ]
  },
  {
   "cell_type": "markdown",
   "id": "af1743ac-ae3f-4e01-97b7-8c30a8a9c85e",
   "metadata": {},
   "source": [
    "### NPB Role file\n",
    "\n",
    "The NPB role file will be placed in `~/.clap/roles/actions.d/npb.yaml`. Three actions is defined in this role: `setup`, `run` and `result`. It contents is shown below."
   ]
  },
  {
   "cell_type": "code",
   "execution_count": 1,
   "id": "da109131-952c-40c3-863a-6de5a365c143",
   "metadata": {},
   "outputs": [
    {
     "name": "stdout",
     "output_type": "stream",
     "text": [
      "actions:\n",
      "  setup:\n",
      "    playbook: roles/npb/setup.yml\n",
      "    description: Install all necessary packages, download and compile NPB MPI benchmarks\n",
      "    vars:\n",
      "    - name: pubkey\n",
      "      description: Path to the SSH public key to distribute to all nodes\n",
      "    - name: privkey\n",
      "      description: Path to the SSH private key to distribute to all nodes\n",
      "\n",
      "  run:\n",
      "    playbook: roles/npb/run.yml\n",
      "    description: Run MPI NAS benchmark at all nodes\n",
      "\n",
      "  result:\n",
      "    playbook: roles/npb/result.yml\n",
      "    description: Fetch results from execution to an local directory\n",
      "    vars:\n",
      "    - name: output\n",
      "      description: Path where resuts will be placed\n",
      "\n"
     ]
    }
   ],
   "source": [
    "!cat ~/.clap/roles/actions.d/npb.yaml"
   ]
  },
  {
   "cell_type": "markdown",
   "id": "96b28305-d843-421c-a57f-95b88f451407",
   "metadata": {},
   "source": [
    "### Setup action\n",
    "\n",
    "The setup action was placed at `~/.clap/roles/roles/npb/setup.yml`, This playbook will be executed when `setup` action is invoked or when adding a node to a role. \n",
    "\n",
    "The setup action requires 2 variables to be defined:\n",
    "* `pubkey`: which is the path to the file with the public key\n",
    "* `privkey`: which is the path to the file with the private key\n",
    "These keys will be copied to all to nodes, allowing to perform SSH login between nodes without specifying password.\n",
    "\n",
    "The contents of setup playbook is shown below. The `setup.yml` playbook will:\n",
    "1. Change the hostname from nodes (optional)\n",
    "2. Install several packages to compile and run MPI applications\n",
    "3. Get and unzip NPB benchmark\n",
    "4. Compile IS benchmark (class C) from a Makefile, using `make`\n",
    "5. Copy ssh private and public keys to all hosts"
   ]
  },
  {
   "cell_type": "code",
   "execution_count": 2,
   "id": "8344fac6-d04c-4c87-8115-5501f98dba3b",
   "metadata": {},
   "outputs": [
    {
     "name": "stdout",
     "output_type": "stream",
     "text": [
      "---\n",
      "- hosts: all\n",
      "  # Gather facts can be used to extract all information of remote system (network, disk, cpus, etc)\n",
      "  # It will be stored in host_vars\n",
      "  gather_facts: yes\n",
      "  tasks:\n",
      "\n",
      "  # Using Ansible's set_fact module to register variables\n",
      "  # Variables set with set_fact module are visible to CLAP\n",
      "  # https://docs.ansible.com/ansible/latest/collections/ansible/builtin/set_fact_module.html\n",
      "  - name: Set some variables\n",
      "    set_fact:\n",
      "      home_dir: \"{{ ansible_env.HOME }}\"        # User's home directory\"\n",
      "\n",
      "  # Let's set the name of the host as the same as CLAP's node id to easy debug\n",
      "  - name: Changing hostname\n",
      "    become: yes\n",
      "    hostname:\n",
      "      name: \"{{ inventory_hostname }}\"\n",
      "     \n",
      "  # Using Ansible's apt module to update repository cache and install packages\n",
      "  # https://docs.ansible.com/ansible/latest/collections/ansible/builtin/apt_module.html\n",
      "  - name: Perform necessary package installation for NPB\n",
      "    become: yes\n",
      "    apt:\n",
      "      update_cache: yes\n",
      "      state: present\n",
      "      pkg: \n",
      "        - gcc\n",
      "        - g++\n",
      "        - gfortran\n",
      "        - openmpi-bin\n",
      "        - openmpi-common\n",
      "        - libopenmpi-dev\n",
      "        - wget\n",
      "        - tar\n",
      "        - unzip\n",
      "        - cmake\n",
      "        - make\n",
      "        - daemon\n",
      "\n",
      "  # Using Ansible's get_url module to download files (similar to wget)\n",
      "  # https://docs.ansible.com/ansible/latest/collections/ansible/builtin/get_url_module.html\n",
      "  - name: Get NPB (wget)\n",
      "    get_url:\n",
      "      url: https://www.nas.nasa.gov/assets/npb/NPB3.4.2.tar.gz\n",
      "      dest: \"{{ home_dir }}/NPB.tar.gz\"\n",
      "      mode: '0755'\n",
      "\n",
      "  # Using Ansible's unarchive module to perform untar\n",
      "  # https://docs.ansible.com/ansible/latest/collections/ansible/builtin/unarchive_module.html\n",
      "  - name: Untar NPB file\n",
      "    unarchive:\n",
      "      src: \"{{ home_dir }}/NPB.tar.gz\"\n",
      "      dest: \"{{ home_dir }}\"\n",
      "      remote_src: yes\n",
      "\n",
      "  # Using Ansible's copy module to perform copy\n",
      "  # https://docs.ansible.com/ansible/latest/collections/ansible/builtin/copy_module.html\n",
      "  - name: Defining make template\n",
      "    copy:\n",
      "      src: \"{{ home_dir }}/NPB3.4.2/NPB3.4-MPI/config/make.def.template\"\n",
      "      dest: \"{{ home_dir }}/NPB3.4.2/NPB3.4-MPI/config/make.def\"\n",
      "      remote_src: yes\n",
      "\n",
      "  # Using Ansible's make module to run make targets in a Makefile\n",
      "  # https://docs.ansible.com/ansible/latest/collections/community/general/make_module.html\n",
      "  - name: Compiling some binaries\n",
      "    make:\n",
      "      target: is\n",
      "      chdir: \"{{ home_dir }}/NPB3.4.2/NPB3.4-MPI/\"\n",
      "      params:\n",
      "        CLASS: C\n",
      "\n",
      "  # Copying binary to user's directory, just for convenience\n",
      "  - name: Copy binary file to user's home directory\n",
      "    copy:\n",
      "      src: \"{{ home_dir }}/NPB3.4.2/NPB3.4-MPI/bin/is.C.x\"\n",
      "      dest: \"{{ home_dir }}/is.C.x\"\n",
      "      remote_src: yes\n",
      "      mode: \"0777\"\n",
      "\n",
      "  - name: Define binary variable\n",
      "    set_fact:\n",
      "      nas_executable: \"{{ home_dir }}/is.C.x\"\n",
      "\n",
      "  # ---- Configure SSH to login without asking password ----\n",
      "  # We will distribute the same public/private keys to all nodes\n",
      "\n",
      "  # Copying public key\n",
      "  - name: Copy a public key to hosts\n",
      "    copy:\n",
      "      src: \"{{ pubkey }}\"\n",
      "      dest: \"{{ ansible_env.HOME }}/.ssh/id_rsa.pub\"\n",
      "      mode: \"0400\"\n",
      "\n",
      "  # Copying private key\n",
      "  - name: Copy a private key to hosts\n",
      "    copy:\n",
      "      src: \"{{ privkey }}\"\n",
      "      dest: \"{{ ansible_env.HOME }}/.ssh/id_rsa\"\n",
      "      mode: \"0400\"\n",
      "\n",
      "  # Authorize login without asking password\n",
      "  - name: Put key in authorized keys\n",
      "    lineinfile:\n",
      "      path: \"{{ ansible_env.HOME }}/.ssh/authorized_keys\"\n",
      "      line: \"{{ lookup('file', pubkey) }}\"\n",
      "\n",
      "  # Relax SSH's host checking condition. Allows anyone to try to connect\n",
      "  - name: Remove strict host checking\n",
      "    copy:\n",
      "      dest: \"{{ ansible_env.HOME }}/.ssh/config\"\n",
      "      mode: \"0644\"      \n",
      "      content: |\n",
      "        Host *\n",
      "          StrictHostKeyChecking no   \n",
      "\n",
      "\n"
     ]
    }
   ],
   "source": [
    "! cat ~/.clap/roles/roles/npb/setup.yml"
   ]
  },
  {
   "cell_type": "markdown",
   "id": "c7d23f11-2ace-493e-be38-bd7062ae0520",
   "metadata": {},
   "source": [
    "### Run action\n",
    "\n",
    "The `run` action will execute the MPI application at all nodes and wait for its termination. So, the tasks perfomed are:\n",
    "* Generate the hostfile with all nodes belonging to the role\n",
    "* Execute the `mpirun` command at one node\n",
    "\n",
    "The example of hostfile generated for 2 nodes with 2 cpus each are:\n",
    "\n",
    "\n",
    "`3.215.142.109 slots=2 # node: dd8c2d3f08714837988ee76b9c49556d`\n",
    "\n",
    "`18.204.42.19 slots=2 # node: aeff1778eb9240679acbc9a12d5be184`\n",
    "\n",
    "The playbook for the run action was placed at `~/.clap/roles/roles/npb/run.yml` and is shown below."
   ]
  },
  {
   "cell_type": "code",
   "execution_count": 3,
   "id": "8fa116d4-96aa-4605-879e-6f47f64ffb64",
   "metadata": {},
   "outputs": [
    {
     "name": "stdout",
     "output_type": "stream",
     "text": [
      "---\n",
      "- hosts: all\n",
      "  # Gather facts can be used to extract all information of remote system (network, disk, cpus, etc)\n",
      "  # It will be stored in host_vars\n",
      "  gather_facts: yes\n",
      "  tasks:\n",
      "  - name: Remove hostfile\n",
      "    file:\n",
      "      path: \"{{ ansible_env.HOME }}/hostfile\"\n",
      "      state: absent\n",
      "  \n",
      "  - name: Generating hostfile\n",
      "    lineinfile:\n",
      "      path: \"{{ ansible_env.HOME }}/hostfile\"\n",
      "      line: \"{{ hostvars[item].ansible_host }} slots={{ hostvars[item].ansible_processor_cores }} # node: {{ item }}\"\n",
      "      state: present\n",
      "      create: yes\n",
      "    with_items: \"{{ ansible_play_hosts }}\"\n",
      "    when: ansible_hostname == ansible_play_hosts[0]     # only host 0\n",
      "\n",
      "\n",
      "  - name: Running MPI\n",
      "    shell:\n",
      "      cmd: \"mpirun --hostfile ~/hostfile --output-filename execution --tag-output --report-bindings --rank-by slot ~/is.C.x > {{ inventory_hostname }}.output 2>&1\"\n",
      "      chdir: \"{{ ansible_env.HOME }}\"\n",
      "    when: ansible_hostname == ansible_play_hosts[0]     # only host 0\n",
      "\n"
     ]
    }
   ],
   "source": [
    "!cat ~/.clap/roles/roles/npb/run.yml"
   ]
  },
  {
   "cell_type": "markdown",
   "id": "44582d68-b76d-4dbf-88e1-bbf186180d07",
   "metadata": {},
   "source": [
    "### Results action\n",
    "\n",
    "The `result` action will get the MPI result from nodes. It will simple copy the output files from application the localhost directory, informed through variable `output`.\n",
    "\n",
    "The playbook was placed at `~/.clap/roles/roles/npb/result.yml` and is shown below."
   ]
  },
  {
   "cell_type": "code",
   "execution_count": 4,
   "id": "7e0186a2-6f91-468f-b960-aa03df10a0ac",
   "metadata": {},
   "outputs": [
    {
     "name": "stdout",
     "output_type": "stream",
     "text": [
      "---\n",
      "- hosts: all\n",
      "  gather_facts: yes\n",
      "  tasks:\n",
      "  - name: Find files to copy\n",
      "    find:\n",
      "      paths: \"{{ ansible_env.HOME }}\"\n",
      "      recurse: no\n",
      "      patterns: \n",
      "      - \"execution.*\"\n",
      "      - \"hostfile\"\n",
      "      - \"*.output\"\n",
      "    register: files_to_fetch\n",
      "\n",
      "  - name: \"Copy output files to {{ output }}\"\n",
      "    fetch:\n",
      "      src: \"{{ item.path }}\"\n",
      "      dest: \"{{ output }}\"\n",
      "      flat: yes\n",
      "    with_items: \"{{ files_to_fetch.files }}\"\n"
     ]
    }
   ],
   "source": [
    "!cat ~/.clap/roles/roles/npb/result.yml"
   ]
  },
  {
   "cell_type": "markdown",
   "id": "a260e0ae-f9ae-4d51-8c27-b5d55e0ed463",
   "metadata": {},
   "source": [
    "We can consult the if npb role is recognized by CLAP using `clapp role list`"
   ]
  },
  {
   "cell_type": "code",
   "execution_count": 5,
   "id": "bb9a158d-8c67-4582-841f-921d575a57a7",
   "metadata": {},
   "outputs": [
    {
     "name": "stdout",
     "output_type": "stream",
     "text": [
      "* name: commands-common\n",
      "  Has 7 actions and 0 hosts defined\n",
      "    actions: copy, fetch, install-packages, reboot, run-command, run-script, update-packages\n",
      "    hosts: \n",
      "\n",
      "* name: npb\n",
      "  Has 3 actions and 0 hosts defined\n",
      "    actions: result, run, setup\n",
      "    hosts: \n",
      "\n",
      "Listed 2 roles\n"
     ]
    }
   ],
   "source": [
    "!clapp role list"
   ]
  },
  {
   "cell_type": "markdown",
   "id": "4fbc92e0-87bc-4e85-aa3f-8c7c2684b733",
   "metadata": {},
   "source": [
    "## Defining our instance configurations\n",
    "\n",
    "Our instances file used (`~/.clap/configs/instances.yaml`) defines two instance configurations called: `type-a` and `type-b`. The former is an AWS `t2.micro` VM and the last an AWS `t2.medium` VM. The instance file used is shown below."
   ]
  },
  {
   "cell_type": "code",
   "execution_count": 6,
   "id": "08e00bda-35b6-4c55-b7b9-54d425025ad1",
   "metadata": {},
   "outputs": [
    {
     "name": "stdout",
     "output_type": "stream",
     "text": [
      "type-a:\n",
      "    provider: aws-config-us-east-1\n",
      "    login: login-ubuntu\n",
      "    flavor: t2.micro\n",
      "    image_id: ami-07d0cf3af28718ef8\n",
      "    security_group: otavio-sg\n",
      "\n",
      "type-b:\n",
      "    provider: aws-config-us-east-1\n",
      "    login: login-ubuntu\n",
      "    flavor: t2.medium\n",
      "    image_id: ami-07d0cf3af28718ef8\n",
      "    boot_disk_size: 16\n",
      "    security_group: otavio-sg\n"
     ]
    }
   ],
   "source": [
    "!cat ~/.clap/configs/instances.yaml"
   ]
  },
  {
   "cell_type": "markdown",
   "id": "88a82729-06bf-44e2-aa0c-6135eec42bae",
   "metadata": {},
   "source": [
    "Valid instance configurations can be listed using the `clapp node list-templates` command, as below."
   ]
  },
  {
   "cell_type": "code",
   "execution_count": 7,
   "id": "63bb2ac1-18fd-4b23-936a-81c7cf98c066",
   "metadata": {},
   "outputs": [
    {
     "name": "stdout",
     "output_type": "stream",
     "text": [
      "* name: type-a\n",
      "    provider config id:` aws-config-us-east-1`\n",
      "    login config id: `login-ubuntu`\n",
      "\n",
      "* name: type-b\n",
      "    provider config id:` aws-config-us-east-1`\n",
      "    login config id: `login-ubuntu`\n",
      "\n",
      "Listed 2 instance configs\n"
     ]
    }
   ],
   "source": [
    "!clapp node list-templates"
   ]
  },
  {
   "cell_type": "markdown",
   "id": "d9d70bda-dc6b-4520-94b5-c6b231d075b4",
   "metadata": {},
   "source": [
    "## Defining our cluster configuration\n",
    "\n",
    "Once we defined our instance configurations and our roles, we will create a cluster template that will start nodes, add them to the `npb` role and execute `npb` role's `run` action (that start the MPI application in nodes).\n",
    "\n",
    "Our cluster template will be placed at `~/.clap/configs/clusters/nas-cluster.yml` and will be called `npb-cluster`. This cluster will define one node type configuration, called `npb-type-b`. This configuration tells to cluster start command to start 2 `type-b` nodes.\n",
    "\n",
    "After 2 `npb-type-b` nodes were sucessfully created and are reachable, setup phase shall begin. On the two nodes, the setup called `npb-install` is executed. This setup only adds the nodes to the npb role (and perform the setup action from this role). \n",
    "\n",
    "After the setup were executed at all nodes, the setup at `after_all` phase shall begin. Setups at this phase are executed at all nodes in the cluster, after all specific node setups finished. So now, all nodes will perform the `launch-mpi-npb` setup, which will execute the `run` action from `npb` role. With this, the application must be running at all nodes of the cluster.\n",
    "\n",
    "The cluster configuration used is shown below."
   ]
  },
  {
   "cell_type": "code",
   "execution_count": 8,
   "id": "bd7b2e32-da92-4a65-9ece-33c08ba64528",
   "metadata": {},
   "outputs": [
    {
     "name": "stdout",
     "output_type": "stream",
     "text": [
      "setups:\n",
      "  npb-install:\n",
      "    roles:\n",
      "    - name: npb\n",
      "      extra:\n",
      "        pubkey: ~/.ssh/id_rsa.pub\n",
      "        privkey: ~/.ssh/id_rsa\n",
      "\n",
      "  launch-mpi-npb:\n",
      "    actions:\n",
      "    - role: npb\n",
      "      action: run\n",
      "\n",
      "clusters:\n",
      "  npb-cluster:\n",
      "    nodes:\n",
      "      npb-type-b:\n",
      "        type: type-b\n",
      "        count: 2\n",
      "        setups:\n",
      "        - npb-install\n",
      "\n",
      "    after_all:\n",
      "    - launch-mpi-npb\n"
     ]
    }
   ],
   "source": [
    "!cat ~/.clap/configs/clusters/nas-cluster.yml"
   ]
  },
  {
   "cell_type": "markdown",
   "id": "bc255d26-6252-4139-9c9e-02ece92abc42",
   "metadata": {},
   "source": [
    "We can also use `clapp cluster list-templates` to list all cluster templates recognized and available at CLAP."
   ]
  },
  {
   "cell_type": "code",
   "execution_count": 9,
   "id": "eb9b5338-59e0-45a6-ba4e-c35857509a5f",
   "metadata": {},
   "outputs": [
    {
     "name": "stdout",
     "output_type": "stream",
     "text": [
      "cluster name: npb-cluster\n",
      "    node types: npb-type-b\n",
      "\n",
      "Listed 1 templates\n"
     ]
    }
   ],
   "source": [
    "! clapp cluster list-templates"
   ]
  },
  {
   "cell_type": "markdown",
   "id": "14f6e78b-462f-488d-b250-5e10a9fda854",
   "metadata": {},
   "source": [
    "We can start the cluster and also setup it to run the application with the `clapp cluster start` command"
   ]
  },
  {
   "cell_type": "code",
   "execution_count": 10,
   "id": "529b8a4c-5be3-4fef-a17f-022f9f7b583f",
   "metadata": {},
   "outputs": [
    {
     "name": "stdout",
     "output_type": "stream",
     "text": [
      "Starting cluster: npb-cluster (perform setup: True)\n",
      "\u001b[1;35m[WARNING]: provided hosts list is empty, only localhost is available. Note that\u001b[0m\n",
      "\u001b[1;35mthe implicit localhost does not match 'all'\u001b[0m\n",
      "\n",
      "PLAY [localhost] ***************************************************************\n",
      "\n",
      "TASK [Starting 2 type-b instances (timeout 600 seconds)] ***********************\n",
      "\u001b[0;33mchanged: [localhost]\u001b[0m\n",
      "\n",
      "PLAY RECAP *********************************************************************\n",
      "\u001b[0;33mlocalhost\u001b[0m                  : \u001b[0;32mok=1   \u001b[0m \u001b[0;33mchanged=1   \u001b[0m unreachable=0    failed=0    skipped=0    rescued=0    ignored=0   \n",
      "\n",
      "\u001b[1;35m[WARNING]: provided hosts list is empty, only localhost is available. Note that\u001b[0m\n",
      "\u001b[1;35mthe implicit localhost does not match 'all'\u001b[0m\n",
      "\n",
      "PLAY [localhost] ***************************************************************\n",
      "\n",
      "TASK [Tagging instances] *******************************************************\n",
      "\u001b[0;33mchanged: [localhost] => (item={'id': 'i-0488e6e959cdeacd7', 'name': 'ElizabethCilley-d5b6c1bf'})\u001b[0m\n",
      "\u001b[0;33mchanged: [localhost] => (item={'id': 'i-0d1e49d3048a20620', 'name': 'ShirleyLindon-d3e7ad58'})\u001b[0m\n",
      "\n",
      "PLAY RECAP *********************************************************************\n",
      "\u001b[0;33mlocalhost\u001b[0m                  : \u001b[0;32mok=1   \u001b[0m \u001b[0;33mchanged=1   \u001b[0m unreachable=0    failed=0    skipped=0    rescued=0    ignored=0   \n",
      "\n",
      "\u001b[32m2021-06-04 21:25:16\u001b[0m \u001b[35mlopani\u001b[0m \u001b[34mclap.clap.executor[462931]\u001b[0m \u001b[1;30mERROR\u001b[0m \u001b[31mError executing command in node d5b6c1bf: [Errno None] Unable to connect to port 22 on 35.170.52.38\u001b[0m\n",
      "\u001b[32m2021-06-04 21:25:19\u001b[0m \u001b[35mlopani\u001b[0m \u001b[34mclap.clap.node_manager[462931]\u001b[0m \u001b[1;30mERROR\u001b[0m \u001b[31mError executing command in d5b6c1bf: [Errno None] Unable to connect to port 22 on 35.170.52.38.\u001b[0m\n",
      "Cluster cluster-04cc1ec4f0544d2eb63bbf3706a77228 successfully created\n",
      "* 2 nodes of type npb-type-b: d3e7ad582faa4d33b2421eae96c3a2f6,d5b6c1bfaa6c4db2b8b5055d69ab5197\n",
      "Performing setup operation in cluster cluster-04cc1ec4f0544d2eb63bbf3706a77228\n",
      "\n",
      "PLAY [all] *********************************************************************\n",
      "\n",
      "TASK [Gathering Facts] *********************************************************\n",
      "\u001b[0;32mok: [d5b6c1bfaa6c4db2b8b5055d69ab5197]\u001b[0m\n",
      "\u001b[0;32mok: [d3e7ad582faa4d33b2421eae96c3a2f6]\u001b[0m\n",
      "\n",
      "TASK [Set some variables] ******************************************************\n",
      "\u001b[0;32mok: [d3e7ad582faa4d33b2421eae96c3a2f6]\u001b[0m\n",
      "\u001b[0;32mok: [d5b6c1bfaa6c4db2b8b5055d69ab5197]\u001b[0m\n",
      "\n",
      "TASK [Changing hostname] *******************************************************\n",
      "\u001b[0;33mchanged: [d5b6c1bfaa6c4db2b8b5055d69ab5197]\u001b[0m\n",
      "\u001b[0;33mchanged: [d3e7ad582faa4d33b2421eae96c3a2f6]\u001b[0m\n",
      "\n",
      "TASK [Perform necessary package installation for NPB] **************************\n",
      "\u001b[0;33mchanged: [d3e7ad582faa4d33b2421eae96c3a2f6]\u001b[0m\n",
      "\u001b[0;33mchanged: [d5b6c1bfaa6c4db2b8b5055d69ab5197]\u001b[0m\n",
      "\n",
      "TASK [Get NPB (wget)] **********************************************************\n",
      "\u001b[0;33mchanged: [d5b6c1bfaa6c4db2b8b5055d69ab5197]\u001b[0m\n",
      "\u001b[0;33mchanged: [d3e7ad582faa4d33b2421eae96c3a2f6]\u001b[0m\n",
      "\n",
      "TASK [Untar NPB file] **********************************************************\n",
      "\u001b[0;33mchanged: [d5b6c1bfaa6c4db2b8b5055d69ab5197]\u001b[0m\n",
      "\u001b[0;33mchanged: [d3e7ad582faa4d33b2421eae96c3a2f6]\u001b[0m\n",
      "\n",
      "TASK [Defining make template] **************************************************\n",
      "\u001b[0;33mchanged: [d3e7ad582faa4d33b2421eae96c3a2f6]\u001b[0m\n",
      "\u001b[0;33mchanged: [d5b6c1bfaa6c4db2b8b5055d69ab5197]\u001b[0m\n",
      "\n",
      "TASK [Compiling some binaries] *************************************************\n",
      "\u001b[0;33mchanged: [d5b6c1bfaa6c4db2b8b5055d69ab5197]\u001b[0m\n",
      "\u001b[0;33mchanged: [d3e7ad582faa4d33b2421eae96c3a2f6]\u001b[0m\n",
      "\n",
      "TASK [Copy binary file to user's home directory] *******************************\n",
      "\u001b[0;33mchanged: [d3e7ad582faa4d33b2421eae96c3a2f6]\u001b[0m\n",
      "\u001b[0;33mchanged: [d5b6c1bfaa6c4db2b8b5055d69ab5197]\u001b[0m\n",
      "\n",
      "TASK [Define binary variable] **************************************************\n",
      "\u001b[0;32mok: [d3e7ad582faa4d33b2421eae96c3a2f6]\u001b[0m\n",
      "\u001b[0;32mok: [d5b6c1bfaa6c4db2b8b5055d69ab5197]\u001b[0m\n",
      "\n",
      "TASK [Copy a public key to hosts] **********************************************\n",
      "\u001b[0;33mchanged: [d3e7ad582faa4d33b2421eae96c3a2f6]\u001b[0m\n",
      "\u001b[0;33mchanged: [d5b6c1bfaa6c4db2b8b5055d69ab5197]\u001b[0m\n",
      "\n",
      "TASK [Copy a private key to hosts] *********************************************\n",
      "\u001b[0;33mchanged: [d3e7ad582faa4d33b2421eae96c3a2f6]\u001b[0m\n",
      "\u001b[0;33mchanged: [d5b6c1bfaa6c4db2b8b5055d69ab5197]\u001b[0m\n",
      "\n",
      "TASK [Put key in authorized keys] **********************************************\n",
      "\u001b[0;33mchanged: [d5b6c1bfaa6c4db2b8b5055d69ab5197]\u001b[0m\n",
      "\u001b[0;33mchanged: [d3e7ad582faa4d33b2421eae96c3a2f6]\u001b[0m\n",
      "\n",
      "TASK [Remove strict host checking] *********************************************\n",
      "\u001b[0;33mchanged: [d3e7ad582faa4d33b2421eae96c3a2f6]\u001b[0m\n",
      "\u001b[0;33mchanged: [d5b6c1bfaa6c4db2b8b5055d69ab5197]\u001b[0m\n",
      "\n",
      "PLAY RECAP *********************************************************************\n",
      "\u001b[0;33md3e7ad582faa4d33b2421eae96c3a2f6\u001b[0m : \u001b[0;32mok=14  \u001b[0m \u001b[0;33mchanged=11  \u001b[0m unreachable=0    failed=0    skipped=0    rescued=0    ignored=0   \n",
      "\u001b[0;33md5b6c1bfaa6c4db2b8b5055d69ab5197\u001b[0m : \u001b[0;32mok=14  \u001b[0m \u001b[0;33mchanged=11  \u001b[0m unreachable=0    failed=0    skipped=0    rescued=0    ignored=0   \n",
      "\n",
      "\n",
      "PLAY [all] *********************************************************************\n",
      "\n",
      "TASK [Gathering Facts] *********************************************************\n",
      "\u001b[0;32mok: [d3e7ad582faa4d33b2421eae96c3a2f6]\u001b[0m\n",
      "\u001b[0;32mok: [d5b6c1bfaa6c4db2b8b5055d69ab5197]\u001b[0m\n",
      "\n",
      "TASK [Remove hostfile] *********************************************************\n",
      "\u001b[0;32mok: [d3e7ad582faa4d33b2421eae96c3a2f6]\u001b[0m\n",
      "\u001b[0;32mok: [d5b6c1bfaa6c4db2b8b5055d69ab5197]\u001b[0m\n",
      "\n",
      "TASK [Generating hostfile] *****************************************************\n",
      "\u001b[0;36mskipping: [d5b6c1bfaa6c4db2b8b5055d69ab5197] => (item=d3e7ad582faa4d33b2421eae96c3a2f6) \u001b[0m\n",
      "\u001b[0;36mskipping: [d5b6c1bfaa6c4db2b8b5055d69ab5197] => (item=d5b6c1bfaa6c4db2b8b5055d69ab5197) \u001b[0m\n",
      "\u001b[0;33mchanged: [d3e7ad582faa4d33b2421eae96c3a2f6] => (item=d3e7ad582faa4d33b2421eae96c3a2f6)\u001b[0m\n",
      "\u001b[0;33mchanged: [d3e7ad582faa4d33b2421eae96c3a2f6] => (item=d5b6c1bfaa6c4db2b8b5055d69ab5197)\u001b[0m\n",
      "\n",
      "TASK [Running MPI] *************************************************************\n",
      "\u001b[0;36mskipping: [d5b6c1bfaa6c4db2b8b5055d69ab5197]\u001b[0m\n",
      "\u001b[0;33mchanged: [d3e7ad582faa4d33b2421eae96c3a2f6]\u001b[0m\n",
      "\u001b[0;33md3e7ad582faa4d33b2421eae96c3a2f6\u001b[0m : \u001b[0;32mok=4   \u001b[0m \u001b[0;33mchanged=2   \u001b[0m unreachable=0    failed=0    skipped=0    rescued=0    ignored=0   \n",
      "\u001b[0;32md5b6c1bfaa6c4db2b8b5055d69ab5197\u001b[0m : \u001b[0;32mok=2   \u001b[0m changed=0    unreachable=0    failed=0    \u001b[0;36mskipped=2   \u001b[0m rescued=0    ignored=0   \n",
      "\n",
      "\n",
      "PLAY RECAP *********************************************************************\n",
      "\u001b[0;33md3e7ad582faa4d33b2421eae96c3a2f6\u001b[0m : \u001b[0;32mok=4   \u001b[0m \u001b[0;33mchanged=2   \u001b[0m unreachable=0    failed=0    skipped=0    rescued=0    ignored=0   \n",
      "\u001b[0;32md5b6c1bfaa6c4db2b8b5055d69ab5197\u001b[0m : \u001b[0;32mok=2   \u001b[0m changed=0    unreachable=0    failed=0    \u001b[0;36mskipped=2   \u001b[0m rescued=0    ignored=0   \n",
      "\n",
      "Cluster `cluster-04cc1ec4f0544d2eb63bbf3706a77228` finished setup!\n"
     ]
    }
   ],
   "source": [
    "! clapp cluster start npb-cluster"
   ]
  },
  {
   "cell_type": "markdown",
   "id": "aa90fc90-cdbe-4307-bf71-a929d95b4eb8",
   "metadata": {},
   "source": [
    "And list the available clusters with `clapp cluster list` command "
   ]
  },
  {
   "cell_type": "code",
   "execution_count": 11,
   "id": "1c666d22-b06b-4b38-a5ea-9e83e4ea1ea7",
   "metadata": {},
   "outputs": [
    {
     "name": "stdout",
     "output_type": "stream",
     "text": [
      "* Cluster: cluster-04cc1ec4f0544d2eb63bbf3706a77228, nickname: MuteMirror, configuration: npb-cluster, creation time: 04-06-21 21:24:30\n",
      "   Has 2 nodes:\n",
      "    - 2 npb-type-b nodes: d3e7ad582faa4d33b2421eae96c3a2f6, d5b6c1bfaa6c4db2b8b5055d69ab5197\n",
      "\n",
      "Listed 1 clusters\n"
     ]
    }
   ],
   "source": [
    "!clapp cluster list"
   ]
  },
  {
   "cell_type": "markdown",
   "id": "073b1577-fdc4-417b-b449-70fc19da24ad",
   "metadata": {},
   "source": [
    "Or check nodes that belongs to cluster `cluster-04cc1ec4f0544d2eb63bbf3706a77228` with `clapp cluster nodes` command. The `-q` parameter only show node names."
   ]
  },
  {
   "cell_type": "code",
   "execution_count": 12,
   "id": "edb2aed4-d97a-45ac-9f74-78ff287687c5",
   "metadata": {},
   "outputs": [
    {
     "name": "stdout",
     "output_type": "stream",
     "text": [
      "d3e7ad582faa4d33b2421eae96c3a2f6\n",
      "d5b6c1bfaa6c4db2b8b5055d69ab5197\n"
     ]
    }
   ],
   "source": [
    "!clapp cluster nodes cluster-04cc1ec4f0544d2eb63bbf3706a77228 -q"
   ]
  },
  {
   "cell_type": "markdown",
   "id": "5abcfa12-df64-45c5-b30c-e2ca5cf3f90c",
   "metadata": {},
   "source": [
    "Finnaly we can use `result` action from `npb` role to fetch results from nodes to a directory called `~/experiment-results` at local machine. The action will be executed from nodes of cluster `cluster-04cc1ec4f0544d2eb63bbf3706a77228`."
   ]
  },
  {
   "cell_type": "code",
   "execution_count": 13,
   "id": "af168d17-d8f5-45b7-8a00-a41096a268bb",
   "metadata": {},
   "outputs": [
    {
     "name": "stdout",
     "output_type": "stream",
     "text": [
      "\n",
      "PLAY [all] *********************************************************************\n",
      "\n",
      "TASK [Gathering Facts] *********************************************************\n",
      "\u001b[0;32mok: [d3e7ad582faa4d33b2421eae96c3a2f6]\u001b[0m\n",
      "\u001b[0;32mok: [d5b6c1bfaa6c4db2b8b5055d69ab5197]\u001b[0m\n",
      "\n",
      "TASK [Find files to copy] ******************************************************\n",
      "\u001b[0;32mok: [d5b6c1bfaa6c4db2b8b5055d69ab5197]\u001b[0m\n",
      "\u001b[0;32mok: [d3e7ad582faa4d33b2421eae96c3a2f6]\u001b[0m\n",
      "\n",
      "TASK [Copy output files to /home/lopani/experiment-results/] *******************\n",
      "\u001b[0;33mchanged: [d3e7ad582faa4d33b2421eae96c3a2f6] => (item={'path': '/home/ubuntu/hostfile', 'mode': '0664', 'isdir': False, 'ischr': False, 'isblk': False, 'isreg': True, 'isfifo': False, 'islnk': False, 'issock': False, 'uid': 1000, 'gid': 1000, 'size': 124, 'inode': 263062, 'dev': 51713, 'nlink': 1, 'atime': 1622852880.298839, 'mtime': 1622852876.6548262, 'ctime': 1622852876.6548262, 'gr_name': 'ubuntu', 'pw_name': 'ubuntu', 'wusr': True, 'rusr': True, 'xusr': False, 'wgrp': True, 'rgrp': True, 'xgrp': False, 'woth': False, 'roth': True, 'xoth': False, 'isuid': False, 'isgid': False})\u001b[0m\n",
      "\u001b[0;33mchanged: [d5b6c1bfaa6c4db2b8b5055d69ab5197] => (item={'path': '/home/ubuntu/execution.1.3', 'mode': '0644', 'isdir': False, 'ischr': False, 'isblk': False, 'isreg': True, 'isfifo': False, 'islnk': False, 'issock': False, 'uid': 1000, 'gid': 1000, 'size': 118, 'inode': 263069, 'dev': 51713, 'nlink': 1, 'atime': 1622852881.2206147, 'mtime': 1622852881.2206147, 'ctime': 1622852881.2206147, 'gr_name': 'ubuntu', 'pw_name': 'ubuntu', 'wusr': True, 'rusr': True, 'xusr': False, 'wgrp': False, 'rgrp': True, 'xgrp': False, 'woth': False, 'roth': True, 'xoth': False, 'isuid': False, 'isgid': False})\u001b[0m\n",
      "\u001b[0;33mchanged: [d3e7ad582faa4d33b2421eae96c3a2f6] => (item={'path': '/home/ubuntu/d3e7ad582faa4d33b2421eae96c3a2f6.output', 'mode': '0664', 'isdir': False, 'ischr': False, 'isblk': False, 'isreg': True, 'isfifo': False, 'islnk': False, 'issock': False, 'uid': 1000, 'gid': 1000, 'size': 1042, 'inode': 263061, 'dev': 51713, 'nlink': 1, 'atime': 1622852880.2428389, 'mtime': 1622852905.486906, 'ctime': 1622852905.486906, 'gr_name': 'ubuntu', 'pw_name': 'ubuntu', 'wusr': True, 'rusr': True, 'xusr': False, 'wgrp': True, 'rgrp': True, 'xgrp': False, 'woth': False, 'roth': True, 'xoth': False, 'isuid': False, 'isgid': False})\u001b[0m\n",
      "\u001b[0;33mchanged: [d5b6c1bfaa6c4db2b8b5055d69ab5197] => (item={'path': '/home/ubuntu/execution.1.2', 'mode': '0644', 'isdir': False, 'ischr': False, 'isblk': False, 'isreg': True, 'isfifo': False, 'islnk': False, 'issock': False, 'uid': 1000, 'gid': 1000, 'size': 118, 'inode': 263068, 'dev': 51713, 'nlink': 1, 'atime': 1622852881.2206147, 'mtime': 1622852881.2206147, 'ctime': 1622852881.2206147, 'gr_name': 'ubuntu', 'pw_name': 'ubuntu', 'wusr': True, 'rusr': True, 'xusr': False, 'wgrp': False, 'rgrp': True, 'xgrp': False, 'woth': False, 'roth': True, 'xoth': False, 'isuid': False, 'isgid': False})\u001b[0m\n",
      "\u001b[0;33mchanged: [d3e7ad582faa4d33b2421eae96c3a2f6] => (item={'path': '/home/ubuntu/execution.1.1', 'mode': '0644', 'isdir': False, 'ischr': False, 'isblk': False, 'isreg': True, 'isfifo': False, 'islnk': False, 'issock': False, 'uid': 1000, 'gid': 1000, 'size': 118, 'inode': 263087, 'dev': 51713, 'nlink': 1, 'atime': 1622852881.214842, 'mtime': 1622852881.214842, 'ctime': 1622852881.214842, 'gr_name': 'ubuntu', 'pw_name': 'ubuntu', 'wusr': True, 'rusr': True, 'xusr': False, 'wgrp': False, 'rgrp': True, 'xgrp': False, 'woth': False, 'roth': True, 'xoth': False, 'isuid': False, 'isgid': False})\u001b[0m\n",
      "\u001b[0;33mchanged: [d3e7ad582faa4d33b2421eae96c3a2f6] => (item={'path': '/home/ubuntu/execution.1.0', 'mode': '0644', 'isdir': False, 'ischr': False, 'isblk': False, 'isreg': True, 'isfifo': False, 'islnk': False, 'issock': False, 'uid': 1000, 'gid': 1000, 'size': 1892, 'inode': 263086, 'dev': 51713, 'nlink': 1, 'atime': 1622852881.214842, 'mtime': 1622852905.450906, 'ctime': 1622852905.450906, 'gr_name': 'ubuntu', 'pw_name': 'ubuntu', 'wusr': True, 'rusr': True, 'xusr': False, 'wgrp': False, 'rgrp': True, 'xgrp': False, 'woth': False, 'roth': True, 'xoth': False, 'isuid': False, 'isgid': False})\u001b[0m\n",
      "\n",
      "PLAY RECAP *********************************************************************\n",
      "\u001b[0;33md3e7ad582faa4d33b2421eae96c3a2f6\u001b[0m : \u001b[0;32mok=3   \u001b[0m \u001b[0;33mchanged=1   \u001b[0m unreachable=0    failed=0    skipped=0    rescued=0    ignored=0   \n",
      "\u001b[0;33md5b6c1bfaa6c4db2b8b5055d69ab5197\u001b[0m : \u001b[0;32mok=3   \u001b[0m \u001b[0;33mchanged=1   \u001b[0m unreachable=0    failed=0    skipped=0    rescued=0    ignored=0   \n",
      "\n",
      "Action result from role npb was successfully performed!\n"
     ]
    }
   ],
   "source": [
    "!clapp role action npb $(clapp cluster nodes cluster-04cc1ec4f0544d2eb63bbf3706a77228 -q) -a result -e output=~/experiment-results/"
   ]
  },
  {
   "cell_type": "markdown",
   "id": "c043246f-7dc4-46f7-b8ad-affa19237ad6",
   "metadata": {},
   "source": [
    "Let's list results files at `~/experiment-results/` directory "
   ]
  },
  {
   "cell_type": "code",
   "execution_count": 15,
   "id": "85402c52-4e87-406f-8c4c-684efca0377b",
   "metadata": {},
   "outputs": [
    {
     "name": "stdout",
     "output_type": "stream",
     "text": [
      "total 32K\n",
      "drwxrwxr-x  2 lopani lopani 4,0K jun  4 21:31 .\n",
      "drwxr-xr-x 43 lopani lopani 4,0K jun  4 21:04 ..\n",
      "-rw-rw-r--  1 lopani lopani 1,1K jun  4 21:30 d3e7ad582faa4d33b2421eae96c3a2f6.output\n",
      "-rw-r--r--  1 lopani lopani 1,9K jun  4 21:30 execution.1.0\n",
      "-rw-r--r--  1 lopani lopani  118 jun  4 21:30 execution.1.1\n",
      "-rw-r--r--  1 lopani lopani  118 jun  4 21:30 execution.1.2\n",
      "-rw-r--r--  1 lopani lopani  118 jun  4 21:30 execution.1.3\n",
      "-rw-rw-r--  1 lopani lopani  124 jun  4 21:30 hostfile\n"
     ]
    }
   ],
   "source": [
    "!ls ~/experiment-results/ -lha"
   ]
  },
  {
   "cell_type": "markdown",
   "id": "dc8243d7-78a1-496c-a96f-9a8bfa1bc51f",
   "metadata": {},
   "source": [
    "And checking the result files..."
   ]
  },
  {
   "cell_type": "code",
   "execution_count": 16,
   "id": "0765cd5a-00ad-45e0-8c22-937cf1998e38",
   "metadata": {},
   "outputs": [
    {
     "name": "stdout",
     "output_type": "stream",
     "text": [
      "3.235.68.246 slots=2 # node: d3e7ad582faa4d33b2421eae96c3a2f6\n",
      "35.170.52.38 slots=2 # node: d5b6c1bfaa6c4db2b8b5055d69ab5197\n"
     ]
    }
   ],
   "source": [
    "!cat ~/experiment-results/hostfile"
   ]
  },
  {
   "cell_type": "code",
   "execution_count": 17,
   "id": "5fd8c585-c241-4035-b497-45e909d17878",
   "metadata": {},
   "outputs": [
    {
     "name": "stdout",
     "output_type": "stream",
     "text": [
      "[1,0]<stderr>:[d3e7ad582faa4d33b2421eae96c3a2f6:08001] MCW rank 0 is not bound (or bound to all available processors)\n",
      "[1,0]<stdout>:\n",
      "[1,0]<stdout>:\n",
      "[1,0]<stdout>: NAS Parallel Benchmarks 3.4 -- IS Benchmark\n",
      "[1,0]<stdout>:\n",
      "[1,0]<stdout>: Size:  134217728  (class C)\n",
      "[1,0]<stdout>: Iterations:   10\n",
      "[1,0]<stdout>: Total number of processes:  4\n",
      "[1,0]<stdout>:\n",
      "[1,0]<stdout>:   iteration\n",
      "[1,0]<stdout>:        1\n",
      "[1,0]<stdout>:        2\n",
      "[1,0]<stdout>:        3\n",
      "[1,0]<stdout>:        4\n",
      "[1,0]<stdout>:        5\n",
      "[1,0]<stdout>:        6\n",
      "[1,0]<stdout>:        7\n",
      "[1,0]<stdout>:        8\n",
      "[1,0]<stdout>:        9\n",
      "[1,0]<stdout>:        10\n",
      "[1,0]<stdout>:\n",
      "[1,0]<stdout>:\n",
      "[1,0]<stdout>: IS Benchmark Completed\n",
      "[1,0]<stdout>: Class           =                        C\n",
      "[1,0]<stdout>: Size            =                134217728\n",
      "[1,0]<stdout>: Iterations      =                       10\n",
      "[1,0]<stdout>: Time in seconds =                    17.36\n",
      "[1,0]<stdout>: Total processes =                        4\n",
      "[1,0]<stdout>: Active processes=                        4\n",
      "[1,0]<stdout>: Mop/s total     =                    77.32\n",
      "[1,0]<stdout>: Mop/s/process   =                    19.33\n",
      "[1,0]<stdout>: Operation type  =              keys ranked\n",
      "[1,0]<stdout>: Verification    =               SUCCESSFUL\n",
      "[1,0]<stdout>: Version         =                    3.4.2\n",
      "[1,0]<stdout>: Compile date    =              05 Jun 2021\n",
      "[1,0]<stdout>:\n",
      "[1,0]<stdout>: Compile options:\n",
      "[1,0]<stdout>:    MPICC        = mpicc\n",
      "[1,0]<stdout>:    CLINK        = $(MPICC)\n",
      "[1,0]<stdout>:    CMPI_LIB     = (none)\n",
      "[1,0]<stdout>:    CMPI_INC     = (none)\n",
      "[1,0]<stdout>:    CFLAGS       = -O3\n",
      "[1,0]<stdout>:    CLINKFLAGS   = $(CFLAGS)\n",
      "[1,0]<stdout>:\n",
      "[1,0]<stdout>:\n",
      "[1,0]<stdout>: Please send feedbacks and/or the results of this run to:\n",
      "[1,0]<stdout>:\n",
      "[1,0]<stdout>: NPB Development Team\n",
      "[1,0]<stdout>: npb@nas.nasa.gov\n",
      "[1,0]<stdout>:\n",
      "[1,0]<stdout>:\n"
     ]
    }
   ],
   "source": [
    "!cat ~/experiment-results/execution.1.0"
   ]
  },
  {
   "cell_type": "markdown",
   "id": "aa9c75a8-a3a3-44a3-ba98-60da1befb93f",
   "metadata": {},
   "source": [
    "## Resizing cluster and running the application again\n",
    "\n",
    "CLAP supports growing the cluster using `cluster grow` command. It will start and setup a new cluster node. Setups at `after_all` phase (that runs the application) will be executed at all nodes, so the application will run again with new nodes.\n",
    "\n",
    "Lets add two more cluster nodes of type `npb-type-b` to cluster and run the application again with 4 nodes."
   ]
  },
  {
   "cell_type": "code",
   "execution_count": 21,
   "id": "24956d43-2efe-48dc-941c-dba25a298c5f",
   "metadata": {},
   "outputs": [
    {
     "name": "stdout",
     "output_type": "stream",
     "text": [
      "\u001b[1;35m[WARNING]: provided hosts list is empty, only localhost is available. Note that\u001b[0m\n",
      "\u001b[1;35mthe implicit localhost does not match 'all'\u001b[0m\n",
      "\n",
      "PLAY [localhost] ***************************************************************\n",
      "\n",
      "TASK [Starting 2 type-b instances (timeout 600 seconds)] ***********************\n",
      "\u001b[0;33mchanged: [localhost]\u001b[0m\n",
      "\n",
      "PLAY RECAP *********************************************************************\n",
      "\u001b[0;33mlocalhost\u001b[0m                  : \u001b[0;32mok=1   \u001b[0m \u001b[0;33mchanged=1   \u001b[0m unreachable=0    failed=0    skipped=0    rescued=0    ignored=0   \n",
      "\n",
      "\u001b[1;35m[WARNING]: provided hosts list is empty, only localhost is available. Note that\u001b[0m\n",
      "\u001b[1;35mthe implicit localhost does not match 'all'\u001b[0m\n",
      "\n",
      "PLAY [localhost] ***************************************************************\n",
      "\n",
      "TASK [Tagging instances] *******************************************************\n",
      "\u001b[0;33mchanged: [localhost] => (item={'id': 'i-04581239a8b77e52a', 'name': 'ElijahPfaff-1c0357d0'})\u001b[0m\n",
      "\u001b[0;33mchanged: [localhost] => (item={'id': 'i-0e6e5f02ddfcddde3', 'name': 'DouglasLewis-de24983c'})\u001b[0m\n",
      "\n",
      "PLAY RECAP *********************************************************************\n",
      "\u001b[0;33mlocalhost\u001b[0m                  : \u001b[0;32mok=1   \u001b[0m \u001b[0;33mchanged=1   \u001b[0m unreachable=0    failed=0    skipped=0    rescued=0    ignored=0   \n",
      "\n",
      "\u001b[32m2021-06-04 21:36:16\u001b[0m \u001b[35mlopani\u001b[0m \u001b[34mclap.clap.executor[463725]\u001b[0m \u001b[1;30mERROR\u001b[0m \u001b[31mError executing command in node de24983c: [Errno None] Unable to connect to port 22 on 35.170.67.203\u001b[0m\n",
      "\u001b[32m2021-06-04 21:36:18\u001b[0m \u001b[35mlopani\u001b[0m \u001b[34mclap.clap.node_manager[463725]\u001b[0m \u001b[1;30mERROR\u001b[0m \u001b[31mError executing command in de24983c: [Errno None] Unable to connect to port 22 on 35.170.67.203.\u001b[0m\n",
      "Started 2 of type npb-type-b: 1c0357d06a76453994e0621fb33727ab, de24983c31a144e78ad79206e0b9e72d\n",
      "Performing setup operation in cluster cluster-04cc1ec4f0544d2eb63bbf3706a77228\n",
      "\n",
      "PLAY [all] *********************************************************************\n",
      "\n",
      "TASK [Gathering Facts] *********************************************************\n",
      "\u001b[0;32mok: [de24983c31a144e78ad79206e0b9e72d]\u001b[0m\n",
      "\u001b[0;32mok: [1c0357d06a76453994e0621fb33727ab]\u001b[0m\n",
      "\n",
      "TASK [Set some variables] ******************************************************\n",
      "\u001b[0;32mok: [1c0357d06a76453994e0621fb33727ab]\u001b[0m\n",
      "\u001b[0;32mok: [de24983c31a144e78ad79206e0b9e72d]\u001b[0m\n",
      "\n",
      "TASK [Changing hostname] *******************************************************\n",
      "\n",
      "\u001b[0;33mchanged: [de24983c31a144e78ad79206e0b9e72d]\u001b[0m\n",
      "\u001b[0;33mchanged: [1c0357d06a76453994e0621fb33727ab]\u001b[0m\n",
      "\n",
      "TASK [Perform necessary package installation for NPB] **************************\n",
      "\u001b[0;33mchanged: [1c0357d06a76453994e0621fb33727ab]\u001b[0m\n",
      "\u001b[0;33mchanged: [de24983c31a144e78ad79206e0b9e72d]\u001b[0m\n",
      "\n",
      "TASK [Get NPB (wget)] **********************************************************\n",
      "\u001b[0;33mchanged: [de24983c31a144e78ad79206e0b9e72d]\u001b[0m\n",
      "\u001b[0;33mchanged: [1c0357d06a76453994e0621fb33727ab]\u001b[0m\n",
      "\n",
      "TASK [Untar NPB file] **********************************************************\n",
      "\u001b[0;33mchanged: [de24983c31a144e78ad79206e0b9e72d]\u001b[0m\n",
      "\u001b[0;33mchanged: [1c0357d06a76453994e0621fb33727ab]\u001b[0m\n",
      "\n",
      "TASK [Defining make template] **************************************************\n",
      "\u001b[0;33mchanged: [de24983c31a144e78ad79206e0b9e72d]\u001b[0m\n",
      "\u001b[0;33mchanged: [1c0357d06a76453994e0621fb33727ab]\u001b[0m\n",
      "\n",
      "TASK [Compiling some binaries] *************************************************\n",
      "\u001b[0;33mchanged: [de24983c31a144e78ad79206e0b9e72d]\u001b[0m\n",
      "\u001b[0;33mchanged: [1c0357d06a76453994e0621fb33727ab]\u001b[0m\n",
      "\n",
      "TASK [Copy binary file to user's home directory] *******************************\n",
      "\u001b[0;33mchanged: [de24983c31a144e78ad79206e0b9e72d]\u001b[0m\n",
      "\u001b[0;33mchanged: [1c0357d06a76453994e0621fb33727ab]\u001b[0m\n",
      "\n",
      "TASK [Define binary variable] **************************************************\n",
      "\u001b[0;32mok: [1c0357d06a76453994e0621fb33727ab]\u001b[0m\n",
      "\u001b[0;32mok: [de24983c31a144e78ad79206e0b9e72d]\u001b[0m\n",
      "\n",
      "TASK [Copy a public key to hosts] **********************************************\n",
      "\u001b[0;33mchanged: [de24983c31a144e78ad79206e0b9e72d]\u001b[0m\n",
      "\u001b[0;33mchanged: [1c0357d06a76453994e0621fb33727ab]\u001b[0m\n",
      "\n",
      "TASK [Copy a private key to hosts] *********************************************\n",
      "\u001b[0;33mchanged: [de24983c31a144e78ad79206e0b9e72d]\u001b[0m\n",
      "\u001b[0;33mchanged: [1c0357d06a76453994e0621fb33727ab]\u001b[0m\n",
      "\n",
      "TASK [Put key in authorized keys] **********************************************\n",
      "\u001b[0;33mchanged: [de24983c31a144e78ad79206e0b9e72d]\u001b[0m\n",
      "\u001b[0;33mchanged: [1c0357d06a76453994e0621fb33727ab]\u001b[0m\n",
      "\n",
      "TASK [Remove strict host checking] *********************************************\n",
      "\u001b[0;33mchanged: [de24983c31a144e78ad79206e0b9e72d]\u001b[0m\n",
      "\u001b[0;33mchanged: [1c0357d06a76453994e0621fb33727ab]\u001b[0m\n",
      "\n",
      "PLAY RECAP *********************************************************************\n",
      "\u001b[0;33m1c0357d06a76453994e0621fb33727ab\u001b[0m : \u001b[0;32mok=14  \u001b[0m \u001b[0;33mchanged=11  \u001b[0m unreachable=0    failed=0    skipped=0    rescued=0    ignored=0   \n",
      "\u001b[0;33mde24983c31a144e78ad79206e0b9e72d\u001b[0m : \u001b[0;32mok=14  \u001b[0m \u001b[0;33mchanged=11  \u001b[0m unreachable=0    failed=0    skipped=0    rescued=0    ignored=0   \n",
      "\n",
      "\n",
      "PLAY [all] *********************************************************************\n",
      "\n",
      "TASK [Gathering Facts] *********************************************************\n",
      "\u001b[0;32mok: [de24983c31a144e78ad79206e0b9e72d]\u001b[0m\n",
      "\u001b[0;32mok: [1c0357d06a76453994e0621fb33727ab]\u001b[0m\n",
      "\u001b[0;32mok: [d3e7ad582faa4d33b2421eae96c3a2f6]\u001b[0m\n",
      "\u001b[0;32mok: [d5b6c1bfaa6c4db2b8b5055d69ab5197]\u001b[0m\n",
      "\n",
      "TASK [Remove hostfile] *********************************************************\n",
      "\u001b[0;33mchanged: [d3e7ad582faa4d33b2421eae96c3a2f6]\u001b[0m\n",
      "\u001b[0;32mok: [d5b6c1bfaa6c4db2b8b5055d69ab5197]\u001b[0m\n",
      "\u001b[0;32mok: [de24983c31a144e78ad79206e0b9e72d]\u001b[0m\n",
      "\u001b[0;32mok: [1c0357d06a76453994e0621fb33727ab]\u001b[0m\n",
      "\n",
      "TASK [Generating hostfile] *****************************************************\n",
      "\u001b[0;36mskipping: [d5b6c1bfaa6c4db2b8b5055d69ab5197] => (item=d3e7ad582faa4d33b2421eae96c3a2f6) \u001b[0m\n",
      "\u001b[0;36mskipping: [d5b6c1bfaa6c4db2b8b5055d69ab5197] => (item=d5b6c1bfaa6c4db2b8b5055d69ab5197) \u001b[0m\n",
      "\u001b[0;36mskipping: [d5b6c1bfaa6c4db2b8b5055d69ab5197] => (item=1c0357d06a76453994e0621fb33727ab) \u001b[0m\n",
      "\u001b[0;36mskipping: [1c0357d06a76453994e0621fb33727ab] => (item=d3e7ad582faa4d33b2421eae96c3a2f6) \u001b[0m\n",
      "\u001b[0;36mskipping: [d5b6c1bfaa6c4db2b8b5055d69ab5197] => (item=de24983c31a144e78ad79206e0b9e72d) \u001b[0m\n",
      "\u001b[0;36mskipping: [1c0357d06a76453994e0621fb33727ab] => (item=d5b6c1bfaa6c4db2b8b5055d69ab5197) \u001b[0m\n",
      "\u001b[0;36mskipping: [1c0357d06a76453994e0621fb33727ab] => (item=1c0357d06a76453994e0621fb33727ab) \u001b[0m\n",
      "\u001b[0;36mskipping: [1c0357d06a76453994e0621fb33727ab] => (item=de24983c31a144e78ad79206e0b9e72d) \u001b[0m\n",
      "\u001b[0;36mskipping: [de24983c31a144e78ad79206e0b9e72d] => (item=d3e7ad582faa4d33b2421eae96c3a2f6) \u001b[0m\n",
      "\u001b[0;36mskipping: [de24983c31a144e78ad79206e0b9e72d] => (item=d5b6c1bfaa6c4db2b8b5055d69ab5197) \u001b[0m\n",
      "\u001b[0;36mskipping: [de24983c31a144e78ad79206e0b9e72d] => (item=1c0357d06a76453994e0621fb33727ab) \u001b[0m\n",
      "\u001b[0;36mskipping: [de24983c31a144e78ad79206e0b9e72d] => (item=de24983c31a144e78ad79206e0b9e72d) \u001b[0m\n",
      "\u001b[0;33mchanged: [d3e7ad582faa4d33b2421eae96c3a2f6] => (item=d3e7ad582faa4d33b2421eae96c3a2f6)\u001b[0m\n",
      "\u001b[0;33mchanged: [d3e7ad582faa4d33b2421eae96c3a2f6] => (item=d5b6c1bfaa6c4db2b8b5055d69ab5197)\u001b[0m\n",
      "\u001b[0;33mchanged: [d3e7ad582faa4d33b2421eae96c3a2f6] => (item=1c0357d06a76453994e0621fb33727ab)\u001b[0m\n",
      "\u001b[0;33mchanged: [d3e7ad582faa4d33b2421eae96c3a2f6] => (item=de24983c31a144e78ad79206e0b9e72d)\u001b[0m\n",
      "\n",
      "TASK [Running MPI] *************************************************************\n",
      "\u001b[0;36mskipping: [d5b6c1bfaa6c4db2b8b5055d69ab5197]\u001b[0m\n",
      "\n",
      "\u001b[0;36mskipping: [1c0357d06a76453994e0621fb33727ab]\u001b[0m\n",
      "\u001b[0;36mskipping: [de24983c31a144e78ad79206e0b9e72d]\u001b[0m\n",
      "\u001b[0;33mchanged: [d3e7ad582faa4d33b2421eae96c3a2f6]\u001b[0m\n",
      "\u001b[0;32m1c0357d06a76453994e0621fb33727ab\u001b[0m : \u001b[0;32mok=2   \u001b[0m changed=0    unreachable=0    failed=0    \u001b[0;36mskipped=2   \u001b[0m rescued=0    ignored=0   \n",
      "\u001b[0;33md3e7ad582faa4d33b2421eae96c3a2f6\u001b[0m : \u001b[0;32mok=4   \u001b[0m \u001b[0;33mchanged=3   \u001b[0m unreachable=0    failed=0    skipped=0    rescued=0    ignored=0   \n",
      "\u001b[0;32md5b6c1bfaa6c4db2b8b5055d69ab5197\u001b[0m : \u001b[0;32mok=2   \u001b[0m changed=0    unreachable=0    failed=0    \u001b[0;36mskipped=2   \u001b[0m rescued=0    ignored=0   \n",
      "\n",
      "PLAY RECAP *********************************************************************\n",
      "\u001b[0;32m1c0357d06a76453994e0621fb33727ab\u001b[0m : \u001b[0;32mok=2   \u001b[0m changed=0    unreachable=0    failed=0    \u001b[0;36mskipped=2   \u001b[0m rescued=0    ignored=0   \n",
      "\u001b[0;33md3e7ad582faa4d33b2421eae96c3a2f6\u001b[0m : \u001b[0;32mok=4   \u001b[0m \u001b[0;33mchanged=3   \u001b[0m unreachable=0    failed=0    skipped=0    rescued=0    ignored=0   \n",
      "\u001b[0;32md5b6c1bfaa6c4db2b8b5055d69ab5197\u001b[0m : \u001b[0;32mok=2   \u001b[0m changed=0    unreachable=0    failed=0    \u001b[0;36mskipped=2   \u001b[0m rescued=0    ignored=0   \n",
      "\u001b[0;32mde24983c31a144e78ad79206e0b9e72d\u001b[0m : \u001b[0;32mok=2   \u001b[0m changed=0    unreachable=0    failed=0    \u001b[0;36mskipped=2   \u001b[0m rescued=0    ignored=0   \n",
      "\n",
      "Cluster `cluster-04cc1ec4f0544d2eb63bbf3706a77228` finished setup!\n"
     ]
    }
   ],
   "source": [
    "!clapp cluster grow cluster-04cc1ec4f0544d2eb63bbf3706a77228 --node npb-type-b:2"
   ]
  },
  {
   "cell_type": "markdown",
   "id": "8bcc0ea3-036e-40e4-ab6d-7aac6c102b8b",
   "metadata": {},
   "source": [
    "And fetching results..."
   ]
  },
  {
   "cell_type": "code",
   "execution_count": 23,
   "id": "fa074a51-9c2d-4dba-b627-3cb3dc86715e",
   "metadata": {},
   "outputs": [
    {
     "name": "stdout",
     "output_type": "stream",
     "text": [
      "\n",
      "PLAY [all] *********************************************************************\n",
      "\n",
      "TASK [Gathering Facts] *********************************************************\n",
      "\u001b[0;32mok: [de24983c31a144e78ad79206e0b9e72d]\u001b[0m\n",
      "\u001b[0;32mok: [d5b6c1bfaa6c4db2b8b5055d69ab5197]\u001b[0m\n",
      "\u001b[0;32mok: [1c0357d06a76453994e0621fb33727ab]\u001b[0m\n",
      "\u001b[0;32mok: [d3e7ad582faa4d33b2421eae96c3a2f6]\u001b[0m\n",
      "\n",
      "TASK [Find files to copy] ******************************************************\n",
      "\u001b[0;32mok: [de24983c31a144e78ad79206e0b9e72d]\u001b[0m\n",
      "\u001b[0;32mok: [1c0357d06a76453994e0621fb33727ab]\u001b[0m\n",
      "\u001b[0;32mok: [d3e7ad582faa4d33b2421eae96c3a2f6]\u001b[0m\n",
      "\u001b[0;32mok: [d5b6c1bfaa6c4db2b8b5055d69ab5197]\u001b[0m\n",
      "\n",
      "TASK [Copy output files to /home/lopani/experiment-results-2/] *****************\n",
      "\u001b[0;33mchanged: [de24983c31a144e78ad79206e0b9e72d] => (item={'path': '/home/ubuntu/execution.1.6', 'mode': '0644', 'isdir': False, 'ischr': False, 'isblk': False, 'isreg': True, 'isfifo': False, 'islnk': False, 'issock': False, 'uid': 1000, 'gid': 1000, 'size': 118, 'inode': 263068, 'dev': 51713, 'nlink': 1, 'atime': 1622853619.5326788, 'mtime': 1622853548.9867427, 'ctime': 1622853548.9867427, 'gr_name': 'ubuntu', 'pw_name': 'ubuntu', 'wusr': True, 'rusr': True, 'xusr': False, 'wgrp': False, 'rgrp': True, 'xgrp': False, 'woth': False, 'roth': True, 'xoth': False, 'isuid': False, 'isgid': False})\u001b[0m\n",
      "\u001b[0;33mchanged: [d5b6c1bfaa6c4db2b8b5055d69ab5197] => (item={'path': '/home/ubuntu/execution.1.3', 'mode': '0644', 'isdir': False, 'ischr': False, 'isblk': False, 'isreg': True, 'isfifo': False, 'islnk': False, 'issock': False, 'uid': 1000, 'gid': 1000, 'size': 118, 'inode': 263069, 'dev': 51713, 'nlink': 1, 'atime': 1622853619.5917702, 'mtime': 1622853549.0060823, 'ctime': 1622853549.0060823, 'gr_name': 'ubuntu', 'pw_name': 'ubuntu', 'wusr': True, 'rusr': True, 'xusr': False, 'wgrp': False, 'rgrp': True, 'xgrp': False, 'woth': False, 'roth': True, 'xoth': False, 'isuid': False, 'isgid': False})\u001b[0m\n",
      "\u001b[0;33mchanged: [d3e7ad582faa4d33b2421eae96c3a2f6] => (item={'path': '/home/ubuntu/hostfile', 'mode': '0664', 'isdir': False, 'ischr': False, 'isblk': False, 'isreg': True, 'isfifo': False, 'islnk': False, 'issock': False, 'uid': 1000, 'gid': 1000, 'size': 250, 'inode': 263063, 'dev': 51713, 'nlink': 1, 'atime': 1622853548.076224, 'mtime': 1622853544.4122162, 'ctime': 1622853544.4122162, 'gr_name': 'ubuntu', 'pw_name': 'ubuntu', 'wusr': True, 'rusr': True, 'xusr': False, 'wgrp': True, 'rgrp': True, 'xgrp': False, 'woth': False, 'roth': True, 'xoth': False, 'isuid': False, 'isgid': False})\u001b[0m\n",
      "\u001b[0;33mchanged: [1c0357d06a76453994e0621fb33727ab] => (item={'path': '/home/ubuntu/execution.1.4', 'mode': '0644', 'isdir': False, 'ischr': False, 'isblk': False, 'isreg': True, 'isfifo': False, 'islnk': False, 'issock': False, 'uid': 1000, 'gid': 1000, 'size': 118, 'inode': 263068, 'dev': 51713, 'nlink': 1, 'atime': 1622853619.557994, 'mtime': 1622853548.9821656, 'ctime': 1622853548.9821656, 'gr_name': 'ubuntu', 'pw_name': 'ubuntu', 'wusr': True, 'rusr': True, 'xusr': False, 'wgrp': False, 'rgrp': True, 'xgrp': False, 'woth': False, 'roth': True, 'xoth': False, 'isuid': False, 'isgid': False})\u001b[0m\n",
      "\u001b[0;33mchanged: [de24983c31a144e78ad79206e0b9e72d] => (item={'path': '/home/ubuntu/execution.1.7', 'mode': '0644', 'isdir': False, 'ischr': False, 'isblk': False, 'isreg': True, 'isfifo': False, 'islnk': False, 'issock': False, 'uid': 1000, 'gid': 1000, 'size': 118, 'inode': 263069, 'dev': 51713, 'nlink': 1, 'atime': 1622853624.5488522, 'mtime': 1622853548.9867427, 'ctime': 1622853548.9867427, 'gr_name': 'ubuntu', 'pw_name': 'ubuntu', 'wusr': True, 'rusr': True, 'xusr': False, 'wgrp': False, 'rgrp': True, 'xgrp': False, 'woth': False, 'roth': True, 'xoth': False, 'isuid': False, 'isgid': False})\u001b[0m\n",
      "\u001b[0;33mchanged: [d5b6c1bfaa6c4db2b8b5055d69ab5197] => (item={'path': '/home/ubuntu/execution.1.2', 'mode': '0644', 'isdir': False, 'ischr': False, 'isblk': False, 'isreg': True, 'isfifo': False, 'islnk': False, 'issock': False, 'uid': 1000, 'gid': 1000, 'size': 118, 'inode': 263068, 'dev': 51713, 'nlink': 1, 'atime': 1622853624.7319078, 'mtime': 1622853549.0060823, 'ctime': 1622853549.0060823, 'gr_name': 'ubuntu', 'pw_name': 'ubuntu', 'wusr': True, 'rusr': True, 'xusr': False, 'wgrp': False, 'rgrp': True, 'xgrp': False, 'woth': False, 'roth': True, 'xoth': False, 'isuid': False, 'isgid': False})\u001b[0m\n",
      "\u001b[0;33mchanged: [1c0357d06a76453994e0621fb33727ab] => (item={'path': '/home/ubuntu/execution.1.5', 'mode': '0644', 'isdir': False, 'ischr': False, 'isblk': False, 'isreg': True, 'isfifo': False, 'islnk': False, 'issock': False, 'uid': 1000, 'gid': 1000, 'size': 118, 'inode': 263069, 'dev': 51713, 'nlink': 1, 'atime': 1622853624.789983, 'mtime': 1622853548.9821656, 'ctime': 1622853548.9821656, 'gr_name': 'ubuntu', 'pw_name': 'ubuntu', 'wusr': True, 'rusr': True, 'xusr': False, 'wgrp': False, 'rgrp': True, 'xgrp': False, 'woth': False, 'roth': True, 'xoth': False, 'isuid': False, 'isgid': False})\u001b[0m\n",
      "\u001b[0;33mchanged: [d3e7ad582faa4d33b2421eae96c3a2f6] => (item={'path': '/home/ubuntu/d3e7ad582faa4d33b2421eae96c3a2f6.output', 'mode': '0664', 'isdir': False, 'ischr': False, 'isblk': False, 'isreg': True, 'isfifo': False, 'islnk': False, 'issock': False, 'uid': 1000, 'gid': 1000, 'size': 1043, 'inode': 263061, 'dev': 51713, 'nlink': 1, 'atime': 1622853624.6483743, 'mtime': 1622853565.9922614, 'ctime': 1622853565.9922614, 'gr_name': 'ubuntu', 'pw_name': 'ubuntu', 'wusr': True, 'rusr': True, 'xusr': False, 'wgrp': True, 'rgrp': True, 'xgrp': False, 'woth': False, 'roth': True, 'xoth': False, 'isuid': False, 'isgid': False})\u001b[0m\n",
      "\u001b[0;33mchanged: [d3e7ad582faa4d33b2421eae96c3a2f6] => (item={'path': '/home/ubuntu/execution.1.1', 'mode': '0644', 'isdir': False, 'ischr': False, 'isblk': False, 'isreg': True, 'isfifo': False, 'islnk': False, 'issock': False, 'uid': 1000, 'gid': 1000, 'size': 118, 'inode': 263087, 'dev': 51713, 'nlink': 1, 'atime': 1622853629.8043838, 'mtime': 1622853548.984226, 'ctime': 1622853548.984226, 'gr_name': 'ubuntu', 'pw_name': 'ubuntu', 'wusr': True, 'rusr': True, 'xusr': False, 'wgrp': False, 'rgrp': True, 'xgrp': False, 'woth': False, 'roth': True, 'xoth': False, 'isuid': False, 'isgid': False})\u001b[0m\n",
      "\u001b[0;33mchanged: [d3e7ad582faa4d33b2421eae96c3a2f6] => (item={'path': '/home/ubuntu/execution.1.0', 'mode': '0644', 'isdir': False, 'ischr': False, 'isblk': False, 'isreg': True, 'isfifo': False, 'islnk': False, 'issock': False, 'uid': 1000, 'gid': 1000, 'size': 1892, 'inode': 263086, 'dev': 51713, 'nlink': 1, 'atime': 1622853634.928393, 'mtime': 1622853565.9682615, 'ctime': 1622853565.9682615, 'gr_name': 'ubuntu', 'pw_name': 'ubuntu', 'wusr': True, 'rusr': True, 'xusr': False, 'wgrp': False, 'rgrp': True, 'xgrp': False, 'woth': False, 'roth': True, 'xoth': False, 'isuid': False, 'isgid': False})\u001b[0m\n",
      "\u001b[0;33m1c0357d06a76453994e0621fb33727ab\u001b[0m : \u001b[0;32mok=3   \u001b[0m \u001b[0;33mchanged=1   \u001b[0m unreachable=0    failed=0    skipped=0    rescued=0    ignored=0   \n",
      "\u001b[0;33md3e7ad582faa4d33b2421eae96c3a2f6\u001b[0m : \u001b[0;32mok=3   \u001b[0m \u001b[0;33mchanged=1   \u001b[0m unreachable=0    failed=0    skipped=0    rescued=0    ignored=0   \n",
      "\u001b[0;33md5b6c1bfaa6c4db2b8b5055d69ab5197\u001b[0m : \u001b[0;32mok=3   \u001b[0m \u001b[0;33mchanged=1   \u001b[0m unreachable=0    failed=0    skipped=0    rescued=0    ignored=0   \n",
      "\n",
      "PLAY RECAP *********************************************************************\n",
      "\u001b[0;33m1c0357d06a76453994e0621fb33727ab\u001b[0m : \u001b[0;32mok=3   \u001b[0m \u001b[0;33mchanged=1   \u001b[0m unreachable=0    failed=0    skipped=0    rescued=0    ignored=0   \n",
      "\u001b[0;33md3e7ad582faa4d33b2421eae96c3a2f6\u001b[0m : \u001b[0;32mok=3   \u001b[0m \u001b[0;33mchanged=1   \u001b[0m unreachable=0    failed=0    skipped=0    rescued=0    ignored=0   \n",
      "\u001b[0;33md5b6c1bfaa6c4db2b8b5055d69ab5197\u001b[0m : \u001b[0;32mok=3   \u001b[0m \u001b[0;33mchanged=1   \u001b[0m unreachable=0    failed=0    skipped=0    rescued=0    ignored=0   \n",
      "\u001b[0;33mde24983c31a144e78ad79206e0b9e72d\u001b[0m : \u001b[0;32mok=3   \u001b[0m \u001b[0;33mchanged=1   \u001b[0m unreachable=0    failed=0    skipped=0    rescued=0    ignored=0   \n",
      "\n",
      "Action result from role npb was successfully performed!\n"
     ]
    }
   ],
   "source": [
    "!clapp role action npb $(clapp cluster nodes cluster-04cc1ec4f0544d2eb63bbf3706a77228 -q) -a result -e output=~/experiment-results-2/"
   ]
  },
  {
   "cell_type": "code",
   "execution_count": 25,
   "id": "92565952-e055-4b5d-b05f-2d3c4ce196ca",
   "metadata": {},
   "outputs": [
    {
     "name": "stdout",
     "output_type": "stream",
     "text": [
      "total 48K\n",
      "drwxrwxr-x  2 lopani lopani 4,0K jun  4 21:42 .\n",
      "drwxr-xr-x 44 lopani lopani 4,0K jun  4 21:41 ..\n",
      "-rw-rw-r--  1 lopani lopani 1,1K jun  4 21:42 d3e7ad582faa4d33b2421eae96c3a2f6.output\n",
      "-rw-r--r--  1 lopani lopani 1,9K jun  4 21:42 execution.1.0\n",
      "-rw-r--r--  1 lopani lopani  118 jun  4 21:42 execution.1.1\n",
      "-rw-r--r--  1 lopani lopani  118 jun  4 21:42 execution.1.2\n",
      "-rw-r--r--  1 lopani lopani  118 jun  4 21:41 execution.1.3\n",
      "-rw-r--r--  1 lopani lopani  118 jun  4 21:41 execution.1.4\n",
      "-rw-r--r--  1 lopani lopani  118 jun  4 21:42 execution.1.5\n",
      "-rw-r--r--  1 lopani lopani  118 jun  4 21:41 execution.1.6\n",
      "-rw-r--r--  1 lopani lopani  118 jun  4 21:42 execution.1.7\n",
      "-rw-rw-r--  1 lopani lopani  250 jun  4 21:41 hostfile\n"
     ]
    }
   ],
   "source": [
    "!ls ~/experiment-results-2/ -lha"
   ]
  },
  {
   "cell_type": "code",
   "execution_count": 26,
   "id": "0047dbc4-58d9-4f57-8d4b-de1d0b9c4c66",
   "metadata": {},
   "outputs": [
    {
     "name": "stdout",
     "output_type": "stream",
     "text": [
      "3.235.68.246 slots=2 # node: d3e7ad582faa4d33b2421eae96c3a2f6\n",
      "35.170.52.38 slots=2 # node: d5b6c1bfaa6c4db2b8b5055d69ab5197\n",
      "3.235.248.132 slots=2 # node: 1c0357d06a76453994e0621fb33727ab\n",
      "35.170.67.203 slots=2 # node: de24983c31a144e78ad79206e0b9e72d\n"
     ]
    }
   ],
   "source": [
    "!cat ~/experiment-results-2/hostfile"
   ]
  },
  {
   "cell_type": "code",
   "execution_count": 27,
   "id": "e98d354f-edd5-4caf-bd18-25c87190d4fe",
   "metadata": {},
   "outputs": [
    {
     "name": "stdout",
     "output_type": "stream",
     "text": [
      "[1,0]<stderr>:[d3e7ad582faa4d33b2421eae96c3a2f6:08615] MCW rank 0 is not bound (or bound to all available processors)\n",
      "[1,0]<stdout>:\n",
      "[1,0]<stdout>:\n",
      "[1,0]<stdout>: NAS Parallel Benchmarks 3.4 -- IS Benchmark\n",
      "[1,0]<stdout>:\n",
      "[1,0]<stdout>: Size:  134217728  (class C)\n",
      "[1,0]<stdout>: Iterations:   10\n",
      "[1,0]<stdout>: Total number of processes:  8\n",
      "[1,0]<stdout>:\n",
      "[1,0]<stdout>:   iteration\n",
      "[1,0]<stdout>:        1\n",
      "[1,0]<stdout>:        2\n",
      "[1,0]<stdout>:        3\n",
      "[1,0]<stdout>:        4\n",
      "[1,0]<stdout>:        5\n",
      "[1,0]<stdout>:        6\n",
      "[1,0]<stdout>:        7\n",
      "[1,0]<stdout>:        8\n",
      "[1,0]<stdout>:        9\n",
      "[1,0]<stdout>:        10\n",
      "[1,0]<stdout>:\n",
      "[1,0]<stdout>:\n",
      "[1,0]<stdout>: IS Benchmark Completed\n",
      "[1,0]<stdout>: Class           =                        C\n",
      "[1,0]<stdout>: Size            =                134217728\n",
      "[1,0]<stdout>: Iterations      =                       10\n",
      "[1,0]<stdout>: Time in seconds =                    12.83\n",
      "[1,0]<stdout>: Total processes =                        8\n",
      "[1,0]<stdout>: Active processes=                        8\n",
      "[1,0]<stdout>: Mop/s total     =                   104.58\n",
      "[1,0]<stdout>: Mop/s/process   =                    13.07\n",
      "[1,0]<stdout>: Operation type  =              keys ranked\n",
      "[1,0]<stdout>: Verification    =               SUCCESSFUL\n",
      "[1,0]<stdout>: Version         =                    3.4.2\n",
      "[1,0]<stdout>: Compile date    =              05 Jun 2021\n",
      "[1,0]<stdout>:\n",
      "[1,0]<stdout>: Compile options:\n",
      "[1,0]<stdout>:    MPICC        = mpicc\n",
      "[1,0]<stdout>:    CLINK        = $(MPICC)\n",
      "[1,0]<stdout>:    CMPI_LIB     = (none)\n",
      "[1,0]<stdout>:    CMPI_INC     = (none)\n",
      "[1,0]<stdout>:    CFLAGS       = -O3\n",
      "[1,0]<stdout>:    CLINKFLAGS   = $(CFLAGS)\n",
      "[1,0]<stdout>:\n",
      "[1,0]<stdout>:\n",
      "[1,0]<stdout>: Please send feedbacks and/or the results of this run to:\n",
      "[1,0]<stdout>:\n",
      "[1,0]<stdout>: NPB Development Team\n",
      "[1,0]<stdout>: npb@nas.nasa.gov\n",
      "[1,0]<stdout>:\n",
      "[1,0]<stdout>:\n"
     ]
    }
   ],
   "source": [
    "!cat ~/experiment-results-2/execution.1.0"
   ]
  },
  {
   "cell_type": "markdown",
   "id": "5d1ba2d4-2d62-4eff-aa43-817943bdb2ed",
   "metadata": {},
   "source": [
    "## Terminating Cluster"
   ]
  },
  {
   "cell_type": "code",
   "execution_count": 28,
   "id": "00c75d7d-78f7-4b99-bc7f-ab8ae46bcd6c",
   "metadata": {},
   "outputs": [
    {
     "name": "stdout",
     "output_type": "stream",
     "text": [
      "Stopping cluster `cluster-04cc1ec4f0544d2eb63bbf3706a77228`...\n",
      "\u001b[1;35m[WARNING]: provided hosts list is empty, only localhost is available. Note that\u001b[0m\n",
      "\u001b[1;35mthe implicit localhost does not match 'all'\u001b[0m\n",
      "\n",
      "PLAY [localhost] ***************************************************************\n",
      "\n",
      "TASK [Stopping nodes DouglasLewis, ElijahPfaff, ElizabethCilley, ShirleyLindon] ***\n",
      "\u001b[0;33mchanged: [localhost]\u001b[0m\n",
      "\n",
      "PLAY RECAP *********************************************************************\n",
      "\u001b[0;33mlocalhost\u001b[0m                  : \u001b[0;32mok=1   \u001b[0m \u001b[0;33mchanged=1   \u001b[0m unreachable=0    failed=0    skipped=0    rescued=0    ignored=0   \n",
      "\n",
      "Cluster `cluster-04cc1ec4f0544d2eb63bbf3706a77228` stopped!\n"
     ]
    }
   ],
   "source": [
    "!clapp cluster stop cluster-04cc1ec4f0544d2eb63bbf3706a77228"
   ]
  },
  {
   "cell_type": "code",
   "execution_count": 29,
   "id": "2b77f893-3759-4b16-ac96-ee0f91891be4",
   "metadata": {},
   "outputs": [
    {
     "name": "stdout",
     "output_type": "stream",
     "text": [
      "Listed 0 clusters\n"
     ]
    }
   ],
   "source": [
    "!clapp cluster list"
   ]
  }
 ],
 "metadata": {
  "kernelspec": {
   "display_name": "Python 3",
   "language": "python",
   "name": "python3"
  },
  "language_info": {
   "codemirror_mode": {
    "name": "ipython",
    "version": 3
   },
   "file_extension": ".py",
   "mimetype": "text/x-python",
   "name": "python",
   "nbconvert_exporter": "python",
   "pygments_lexer": "ipython3",
   "version": "3.8.5"
  }
 },
 "nbformat": 4,
 "nbformat_minor": 5
}
