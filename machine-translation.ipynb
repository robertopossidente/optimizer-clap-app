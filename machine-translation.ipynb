{
 "cells": [
  {
   "cell_type": "markdown",
   "id": "70cd36c1-f4e8-4c97-b67d-b81b3676b7d4",
   "metadata": {},
   "source": [
    "# Machine Translation with Transformer"
   ]
  },
  {
   "cell_type": "code",
   "execution_count": 83,
   "id": "2d7ec07d-f571-4753-826c-3e61234a0a66",
   "metadata": {},
   "outputs": [],
   "source": [
    "import sys\n",
    "sys.path.append('../..')"
   ]
  },
  {
   "cell_type": "code",
   "execution_count": 84,
   "id": "1038f71e-e2f9-46d7-88eb-07368c3996e0",
   "metadata": {},
   "outputs": [],
   "source": [
    "import yaml\n",
    "import time\n",
    "import glob\n",
    "from dataclasses import asdict\n",
    "from app.cli.modules.node import get_config_db, get_node_manager\n",
    "from app.cli.modules.role import get_role_manager\n",
    "from app.cli.modules.cluster import get_cluster_config_db, get_cluster_manager\n",
    "from clap.utils import float_time_to_string, path_extend, yaml_load\n",
    "from clap.executor import SSHCommandExecutor, AnsiblePlaybookExecutor\n"
   ]
  },
  {
   "cell_type": "code",
   "execution_count": 85,
   "id": "38fc284c-e678-49fc-805b-c55fe7b73264",
   "metadata": {},
   "outputs": [
    {
     "output_type": "stream",
     "name": "stderr",
     "text": [
      "Redefinition of setup setup-initial. Skipping\n"
     ]
    }
   ],
   "source": [
    "configuration_db = get_config_db()\n",
    "cluster_config_db = get_cluster_config_db()\n",
    "node_manager = get_node_manager()\n",
    "role_manager = get_role_manager()\n",
    "cluster_manager = get_cluster_manager()\n",
    "# Private's path (usually ~/.clap/private/) will be used for other methods\n",
    "private_path = node_manager.private_path"
   ]
  },
  {
   "cell_type": "markdown",
   "id": "d5059b63-3220-409d-b18f-48a81d45878d",
   "metadata": {},
   "source": [
    "`cluster_config_db` will load all cluster configs at `~/.clap/configs/clusters/` and will store all in the `clusters` member. `clusters` is a dictionary, where the keys are the name of cluster configuration the values are dataclasses of type `ClusterConfig`.\n",
    "\n",
    "Let's list all cluster configurations and get the configuration named `npb-cluster`."
   ]
  },
  {
   "cell_type": "code",
   "execution_count": 86,
   "id": "121179fd-b688-4468-880d-a89ac7e7d37c",
   "metadata": {},
   "outputs": [
    {
     "output_type": "stream",
     "name": "stdout",
     "text": [
      "['my-cluster', 'example-cluster']\n"
     ]
    }
   ],
   "source": [
    "print(list(cluster_config_db.clusters.keys()))"
   ]
  },
  {
   "cell_type": "code",
   "execution_count": 87,
   "id": "950a8a2d-96cf-497b-abb6-18baf3782de8",
   "metadata": {},
   "outputs": [
    {
     "output_type": "stream",
     "name": "stdout",
     "text": [
      "ClusterConfig(cluster_config_id='my-cluster', options=None, before_all=[SetupConfig(roles=[RoleAdd(name='gan', extra={})], actions=[RoleActionType(role='gan', action='update-packages', extra={})])], before=[], after_all=[SetupConfig(roles=[], actions=[RoleActionType(role='gan', action='install-packages', extra={'packages': 'python3-pip, build-essential, cmake, openmpi-bin, openmpi-common, openmpi-doc, libopenmpi-dev'})]), SetupConfig(roles=[], actions=[RoleActionType(role='gan', action='run-command', extra={'cmd': 'sudo apt-get -y install python-is-python3'})]), SetupConfig(roles=[], actions=[RoleActionType(role='gan', action='run-command', extra={'cmd': 'sudo pip install mxnet gluonnlp sacremoses'})]), SetupConfig(roles=[], actions=[RoleActionType(role='gan', action='run-command', extra={'cmd': 'git clone https://github.com/robertopossidente/optimizer-clap-app.git'})]), SetupConfig(roles=[], actions=[RoleActionType(role='gan', action='run-command', extra={'cmd': 'sudo mkdir -p /etc/ansible/facts.d/ && sudo touch /etc/ansible/facts.d/times.fact && sudo chown ubuntu:ubuntu /etc/ansible/facts.d/times.fact'})]), SetupConfig(roles=[], actions=[RoleActionType(role='gan', action='run-command', extra={'cmd': 'sudo chmod 400 optimizer-clap-app/machine-translation/clap-config/private/gan-clap-keypair.pem && sudo cp optimizer-clap-app/machine-translation/clap-config/private/gan-clap-keypair.pem /home/ubuntu/.ssh/id_rsa && sudo chown ubuntu:ubuntu /home/ubuntu/.ssh/id_rsa'})]), SetupConfig(roles=[], actions=[RoleActionType(role='gan', action='run-command', extra={'cmd': 'sudo pip install horovod --no-cache-dir'})]), SetupConfig(roles=[], actions=[RoleActionType(role='gan', action='run-command', extra={'cmd': 'mpirun -np 1 -H localhost:1 -bind-to none -map-by slot python /home/ubuntu/optimizer-clap-app/machine-translation/my-train.py 2>&1 > log.txt'})])], after=[], nodes={'type-a': NodeConfig(type='type-a', count=1, min_count=1, setups=[SetupConfig(roles=[RoleAdd(name='gan', extra={})], actions=[RoleActionType(role='gan', action='update-packages', extra={})])]), 'type-b': NodeConfig(type='type-b', count=1, min_count=1, setups=[SetupConfig(roles=[RoleAdd(name='gan', extra={})], actions=[RoleActionType(role='gan', action='update-packages', extra={})])])})\n"
     ]
    }
   ],
   "source": [
    "npb_cluster_config = cluster_config_db.clusters['my-cluster']\n",
    "print(npb_cluster_config)"
   ]
  },
  {
   "cell_type": "markdown",
   "id": "d02c6d00-6e8e-4cbb-9641-2ab28a112acd",
   "metadata": {},
   "source": [
    "The configuration is a dataclass, so it can be ful converted to a dict, with `asdict` function."
   ]
  },
  {
   "cell_type": "code",
   "execution_count": 88,
   "id": "ad4edac5-6304-43e1-a5d0-b059ae3a668b",
   "metadata": {},
   "outputs": [
    {
     "output_type": "stream",
     "name": "stdout",
     "text": [
      "after: []\nafter_all:\n-   actions:\n    -   action: install-packages\n        extra:\n            packages: python3-pip, build-essential, cmake, openmpi-bin, openmpi-common,\n                openmpi-doc, libopenmpi-dev\n        role: gan\n    roles: []\n-   actions:\n    -   action: run-command\n        extra:\n            cmd: sudo apt-get -y install python-is-python3\n        role: gan\n    roles: []\n-   actions:\n    -   action: run-command\n        extra:\n            cmd: sudo pip install mxnet gluonnlp sacremoses\n        role: gan\n    roles: []\n-   actions:\n    -   action: run-command\n        extra:\n            cmd: git clone https://github.com/robertopossidente/optimizer-clap-app.git\n        role: gan\n    roles: []\n-   actions:\n    -   action: run-command\n        extra:\n            cmd: sudo mkdir -p /etc/ansible/facts.d/ && sudo touch /etc/ansible/facts.d/times.fact\n                && sudo chown ubuntu:ubuntu /etc/ansible/facts.d/times.fact\n        role: gan\n    roles: []\n-   actions:\n    -   action: run-command\n        extra:\n            cmd: sudo chmod 400 optimizer-clap-app/machine-translation/clap-config/private/gan-clap-keypair.pem\n                && sudo cp optimizer-clap-app/machine-translation/clap-config/private/gan-clap-keypair.pem\n                /home/ubuntu/.ssh/id_rsa && sudo chown ubuntu:ubuntu /home/ubuntu/.ssh/id_rsa\n        role: gan\n    roles: []\n-   actions:\n    -   action: run-command\n        extra:\n            cmd: sudo pip install horovod --no-cache-dir\n        role: gan\n    roles: []\n-   actions:\n    -   action: run-command\n        extra:\n            cmd: mpirun -np 1 -H localhost:1 -bind-to none -map-by slot python /home/ubuntu/optimizer-clap-app/machine-translation/my-train.py\n                2>&1 > log.txt\n        role: gan\n    roles: []\nbefore: []\nbefore_all:\n-   actions:\n    -   action: update-packages\n        extra: {}\n        role: gan\n    roles:\n    -   extra: {}\n        name: gan\ncluster_config_id: my-cluster\nnodes:\n    type-a:\n        count: 1\n        min_count: 1\n        setups:\n        -   actions:\n            -   action: update-packages\n                extra: {}\n                role: gan\n            roles:\n            -   extra: {}\n                name: gan\n        type: type-a\n    type-b:\n        count: 1\n        min_count: 1\n        setups:\n        -   actions:\n            -   action: update-packages\n                extra: {}\n                role: gan\n            roles:\n            -   extra: {}\n                name: gan\n        type: type-b\noptions: null\n\n"
     ]
    }
   ],
   "source": [
    "npb_cluster_config_dict = asdict(npb_cluster_config)\n",
    "print(yaml.dump(npb_cluster_config_dict, indent=4))"
   ]
  },
  {
   "cell_type": "markdown",
   "id": "dd2fb8bf-d222-4874-b4d4-963d4dd2b1d3",
   "metadata": {},
   "source": [
    "We can start a cluster, based on a cluster configuration, using the `start_cluster`  method from `ClusterManager` class The function will return a cluster id that will be used for other methods."
   ]
  },
  {
   "cell_type": "code",
   "execution_count": 89,
   "id": "2d969752-98c2-4520-8f84-bd668cb25c6d",
   "metadata": {},
   "outputs": [
    {
     "output_type": "stream",
     "name": "stdout",
     "text": [
      "\u001b[1;35m[WARNING]: provided hosts list is empty, only localhost is available. Note that\u001b[0m\n",
      "\u001b[1;35mthe implicit localhost does not match 'all'\u001b[0m\n",
      "\n",
      "PLAY [localhost] ***************************************************************\n",
      "\n",
      "TASK [Starting 1 type-a instances (timeout 600 seconds)] ***********************\n",
      "\u001b[0;33mchanged: [localhost]\u001b[0m\n",
      "\n",
      "PLAY RECAP *********************************************************************\n",
      "\u001b[0;33mlocalhost\u001b[0m                  : \u001b[0;32mok=1   \u001b[0m \u001b[0;33mchanged=1   \u001b[0m unreachable=0    failed=0    skipped=0    rescued=0    ignored=0   \n",
      "\n",
      "\u001b[1;35m[WARNING]: provided hosts list is empty, only localhost is available. Note that\u001b[0m\n",
      "\u001b[1;35mthe implicit localhost does not match 'all'\u001b[0m\n",
      "\n",
      "PLAY [localhost] ***************************************************************\n",
      "\n",
      "TASK [Tagging instances] *******************************************************\n",
      "\u001b[0;33mchanged: [localhost] => (item={'id': 'i-00ec9ce079a006a84', 'name': 'MarySlaughter-50e04022'})\u001b[0m\n",
      "\n",
      "PLAY RECAP *********************************************************************\n",
      "\u001b[0;33mlocalhost\u001b[0m                  : \u001b[0;32mok=1   \u001b[0m \u001b[0;33mchanged=1   \u001b[0m unreachable=0    failed=0    skipped=0    rescued=0    ignored=0   \n",
      "\n",
      "\u001b[1;35m[WARNING]: provided hosts list is empty, only localhost is available. Note that\u001b[0m\n",
      "\u001b[1;35mthe implicit localhost does not match 'all'\u001b[0m\n",
      "\n",
      "PLAY [localhost] ***************************************************************\n",
      "\n",
      "TASK [Starting 1 type-b instances (timeout 600 seconds)] ***********************\n",
      "\u001b[0;33mchanged: [localhost]\u001b[0m\n",
      "\n",
      "PLAY RECAP *********************************************************************\n",
      "\u001b[0;33mlocalhost\u001b[0m                  : \u001b[0;32mok=1   \u001b[0m \u001b[0;33mchanged=1   \u001b[0m unreachable=0    failed=0    skipped=0    rescued=0    ignored=0   \n",
      "\n",
      "\u001b[1;35m[WARNING]: provided hosts list is empty, only localhost is available. Note that\u001b[0m\n",
      "\u001b[1;35mthe implicit localhost does not match 'all'\u001b[0m\n",
      "\n",
      "PLAY [localhost] ***************************************************************\n",
      "\n",
      "TASK [Tagging instances] *******************************************************\n",
      "\u001b[0;33mchanged: [localhost] => (item={'id': 'i-05ad351e5867bf035', 'name': 'GaryCumming-f0dd6a63'})\u001b[0m\n",
      "\n",
      "PLAY RECAP *********************************************************************\n",
      "\u001b[0;33mlocalhost\u001b[0m                  : \u001b[0;32mok=1   \u001b[0m \u001b[0;33mchanged=1   \u001b[0m unreachable=0    failed=0    skipped=0    rescued=0    ignored=0   \n",
      "\n",
      "cluster-0163f63e26bc447391c06c8daa4041ac\n"
     ]
    }
   ],
   "source": [
    "cluster_id = cluster_manager.start_cluster(npb_cluster_config)\n",
    "print(cluster_id)"
   ]
  },
  {
   "cell_type": "markdown",
   "id": "857d4a8a-84c0-4959-b366-f71cc32e8da8",
   "metadata": {},
   "source": [
    "We can get a full cluster information using `get_cluster_by_id` method from `ClusterManager` class. It will return a dataclass of type `ClusterDescriptor` that has all the information of a custer. TO get all clusters in the repository, `get_all_clusters` function returns a list of `ClusterDescriptor`. \n",
    "\n",
    "Let's print the `ClusterDescriptor` from cluster the recently created cluster `cluster-da580f1038254cfa98b203ca109ecb53` in YAML format."
   ]
  },
  {
   "cell_type": "markdown",
   "id": "b65dba46-c78f-429a-aeb3-1d0c55828fd7",
   "metadata": {},
   "source": [
    "Given a cluster id, we can get all CLAP nodes that belongs to this cluster, using `get_all_cluster_nodes` method from `ClusterManager` class. It wil return a list of node ids, which can be used with several CLAP modules, such as `NodeManager` and `RoleManager` classes.."
   ]
  },
  {
   "cell_type": "code",
   "execution_count": 90,
   "id": "5f56de15-a275-457b-abc5-8d878be1163b",
   "metadata": {},
   "outputs": [
    {
     "output_type": "stream",
     "name": "stdout",
     "text": [
      "['50e04022b4264d5685b1630a874af2f5', 'f0dd6a63228048cf8600ad8ab3da7510']\n"
     ]
    }
   ],
   "source": [
    "cluster_nodes = cluster_manager.get_all_cluster_nodes(cluster_id)\n",
    "print(cluster_nodes)"
   ]
  },
  {
   "cell_type": "markdown",
   "id": "00544087-14b6-46d7-a314-9efb442021c4",
   "metadata": {},
   "source": [
    "Using the `get_cluster_nodes_types` method from `ClusterManager` class will result in a dictionary where the key are the cluster node types (e.g., `npb-type-b`) and the values are a list of node ids of nodes from that type."
   ]
  },
  {
   "cell_type": "code",
   "execution_count": 91,
   "id": "62fc45ed-e7ff-4345-a53f-1fb5a6def492",
   "metadata": {},
   "outputs": [
    {
     "output_type": "stream",
     "name": "stdout",
     "text": [
      "{'type-a': ['50e04022b4264d5685b1630a874af2f5'], 'type-b': ['f0dd6a63228048cf8600ad8ab3da7510']}\n"
     ]
    }
   ],
   "source": [
    "cluster_nodes_with_type = cluster_manager.get_cluster_nodes_types(cluster_id)\n",
    "print(cluster_nodes_with_type)"
   ]
  },
  {
   "cell_type": "code",
   "execution_count": 92,
   "id": "0d1fc562-d336-4805-a005-7a07da85d642",
   "metadata": {},
   "outputs": [
    {
     "output_type": "stream",
     "name": "stdout",
     "text": [
      "type-a:\n- 50e04022b4264d5685b1630a874af2f5\ntype-b:\n- f0dd6a63228048cf8600ad8ab3da7510\n\n"
     ]
    }
   ],
   "source": [
    "cluster_nodes_with_type = cluster_manager.get_cluster_nodes_types(cluster_id)\n",
    "print(yaml.dump(cluster_nodes_with_type))"
   ]
  },
  {
   "cell_type": "code",
   "execution_count": 93,
   "metadata": {},
   "outputs": [
    {
     "output_type": "stream",
     "name": "stdout",
     "text": [
      "\n",
      "PLAY [all] *********************************************************************\n",
      "\n",
      "TASK [Gathering Facts] *********************************************************\n",
      "\u001b[0;32mok: [f0dd6a63228048cf8600ad8ab3da7510]\u001b[0m\n",
      "\u001b[0;32mok: [50e04022b4264d5685b1630a874af2f5]\u001b[0m\n",
      "\n",
      "TASK [Perform package list update] *********************************************\n",
      "\u001b[0;33mchanged: [f0dd6a63228048cf8600ad8ab3da7510]\u001b[0m\n",
      "\u001b[0;33mchanged: [50e04022b4264d5685b1630a874af2f5]\u001b[0m\n",
      "\n",
      "PLAY RECAP *********************************************************************\n",
      "\u001b[0;33m50e04022b4264d5685b1630a874af2f5\u001b[0m : \u001b[0;32mok=2   \u001b[0m \u001b[0;33mchanged=1   \u001b[0m unreachable=0    failed=0    skipped=0    rescued=0    ignored=0   \n",
      "\u001b[0;33mf0dd6a63228048cf8600ad8ab3da7510\u001b[0m : \u001b[0;32mok=2   \u001b[0m \u001b[0;33mchanged=1   \u001b[0m unreachable=0    failed=0    skipped=0    rescued=0    ignored=0   \n",
      "\n",
      "\n",
      "PLAY [all] *********************************************************************\n",
      "\n",
      "TASK [Gathering Facts] *********************************************************\n",
      "\u001b[0;32mok: [50e04022b4264d5685b1630a874af2f5]\u001b[0m\n",
      "\n",
      "TASK [Perform package list update] *********************************************\n",
      "\u001b[0;33mchanged: [50e04022b4264d5685b1630a874af2f5]\u001b[0m\n",
      "\n",
      "PLAY RECAP *********************************************************************\n",
      "\u001b[0;33m50e04022b4264d5685b1630a874af2f5\u001b[0m : \u001b[0;32mok=2   \u001b[0m \u001b[0;33mchanged=1   \u001b[0m unreachable=0    failed=0    skipped=0    rescued=0    ignored=0   \n",
      "\n",
      "\n",
      "PLAY [all] *********************************************************************\n",
      "\n",
      "TASK [Gathering Facts] *********************************************************\n",
      "\u001b[0;32mok: [f0dd6a63228048cf8600ad8ab3da7510]\u001b[0m\n",
      "\n",
      "TASK [Perform package list update] *********************************************\n",
      "\u001b[0;33mchanged: [f0dd6a63228048cf8600ad8ab3da7510]\u001b[0m\n",
      "\n",
      "PLAY RECAP *********************************************************************\n",
      "\u001b[0;33mf0dd6a63228048cf8600ad8ab3da7510\u001b[0m : \u001b[0;32mok=2   \u001b[0m \u001b[0;33mchanged=1   \u001b[0m unreachable=0    failed=0    skipped=0    rescued=0    ignored=0   \n",
      "\n",
      "\n",
      "PLAY [all] *********************************************************************\n",
      "\n",
      "TASK [Gathering Facts] *********************************************************\n",
      "\u001b[0;32mok: [50e04022b4264d5685b1630a874af2f5]\u001b[0m\n",
      "\u001b[0;32mok: [f0dd6a63228048cf8600ad8ab3da7510]\u001b[0m\n",
      "\n",
      "TASK [Perform package installation] ********************************************\n",
      "\u001b[0;33mchanged: [f0dd6a63228048cf8600ad8ab3da7510]\u001b[0m\n",
      "\u001b[0;33mchanged: [50e04022b4264d5685b1630a874af2f5]\u001b[0m\n",
      "\n",
      "PLAY RECAP *********************************************************************\n",
      "\u001b[0;33m50e04022b4264d5685b1630a874af2f5\u001b[0m : \u001b[0;32mok=2   \u001b[0m \u001b[0;33mchanged=1   \u001b[0m unreachable=0    failed=0    skipped=0    rescued=0    ignored=0   \n",
      "\u001b[0;33mf0dd6a63228048cf8600ad8ab3da7510\u001b[0m : \u001b[0;32mok=2   \u001b[0m \u001b[0;33mchanged=1   \u001b[0m unreachable=0    failed=0    skipped=0    rescued=0    ignored=0   \n",
      "\n",
      "\n",
      "PLAY [all] *********************************************************************\n",
      "\n",
      "TASK [Run command in the remote hosts (free form)] *****************************\n",
      "\u001b[0;33mchanged: [f0dd6a63228048cf8600ad8ab3da7510]\u001b[0m\n",
      "\u001b[0;33mchanged: [50e04022b4264d5685b1630a874af2f5]\u001b[0m\n",
      "\n",
      "PLAY RECAP *********************************************************************\n",
      "\u001b[0;33m50e04022b4264d5685b1630a874af2f5\u001b[0m : \u001b[0;32mok=1   \u001b[0m \u001b[0;33mchanged=1   \u001b[0m unreachable=0    failed=0    skipped=0    rescued=0    ignored=0   \n",
      "\u001b[0;33mf0dd6a63228048cf8600ad8ab3da7510\u001b[0m : \u001b[0;32mok=1   \u001b[0m \u001b[0;33mchanged=1   \u001b[0m unreachable=0    failed=0    skipped=0    rescued=0    ignored=0   \n",
      "\n",
      "\n",
      "PLAY [all] *********************************************************************\n",
      "\n",
      "TASK [Run command in the remote hosts (free form)] *****************************\n",
      "\u001b[0;35m[DEPRECATION WARNING]: Distribution ubuntu 20.04 on host \u001b[0m\n",
      "\u001b[0;35mf0dd6a63228048cf8600ad8ab3da7510 should use /usr/bin/python3, but is using \u001b[0m\n",
      "\u001b[0;35m/usr/bin/python for backward compatibility with prior Ansible releases. A \u001b[0m\n",
      "\u001b[0;35mfuture Ansible release will default to using the discovered platform python for\u001b[0m\n",
      "\u001b[0;35m this host. See https://docs.ansible.com/ansible/2.11/reference_appendices/inte\u001b[0m\n",
      "\u001b[0;35mrpreter_discovery.html for more information. This feature will be removed in \u001b[0m\n",
      "\u001b[0;35mversion 2.12. Deprecation warnings can be disabled by setting \u001b[0m\n",
      "\u001b[0;35mdeprecation_warnings=False in ansible.cfg.\u001b[0m\n",
      "\u001b[0;33mchanged: [f0dd6a63228048cf8600ad8ab3da7510]\u001b[0m\n",
      "\u001b[0;35m[DEPRECATION WARNING]: Distribution ubuntu 20.04 on host \u001b[0m\n",
      "\u001b[0;35m50e04022b4264d5685b1630a874af2f5 should use /usr/bin/python3, but is using \u001b[0m\n",
      "\u001b[0;35m/usr/bin/python for backward compatibility with prior Ansible releases. A \u001b[0m\n",
      "\u001b[0;35mfuture Ansible release will default to using the discovered platform python for\u001b[0m\n",
      "\u001b[0;35m this host. See https://docs.ansible.com/ansible/2.11/reference_appendices/inte\u001b[0m\n",
      "\u001b[0;35mrpreter_discovery.html for more information. This feature will be removed in \u001b[0m\n",
      "\u001b[0;35mversion 2.12. Deprecation warnings can be disabled by setting \u001b[0m\n",
      "\u001b[0;35mdeprecation_warnings=False in ansible.cfg.\u001b[0m\n",
      "\u001b[0;33mchanged: [50e04022b4264d5685b1630a874af2f5]\u001b[0m\n",
      "\n",
      "PLAY RECAP *********************************************************************\n",
      "\u001b[0;33m50e04022b4264d5685b1630a874af2f5\u001b[0m : \u001b[0;32mok=1   \u001b[0m \u001b[0;33mchanged=1   \u001b[0m unreachable=0    failed=0    skipped=0    rescued=0    ignored=0   \n",
      "\u001b[0;33mf0dd6a63228048cf8600ad8ab3da7510\u001b[0m : \u001b[0;32mok=1   \u001b[0m \u001b[0;33mchanged=1   \u001b[0m unreachable=0    failed=0    skipped=0    rescued=0    ignored=0   \n",
      "\n",
      "\n",
      "PLAY [all] *********************************************************************\n",
      "\n",
      "TASK [Run command in the remote hosts (free form)] *****************************\n",
      "\u001b[0;35m[DEPRECATION WARNING]: Distribution ubuntu 20.04 on host \u001b[0m\n",
      "\u001b[0;35m50e04022b4264d5685b1630a874af2f5 should use /usr/bin/python3, but is using \u001b[0m\n",
      "\u001b[0;35m/usr/bin/python for backward compatibility with prior Ansible releases. A \u001b[0m\n",
      "\u001b[0;35mfuture Ansible release will default to using the discovered platform python for\u001b[0m\n",
      "\u001b[0;35m this host. See https://docs.ansible.com/ansible/2.11/reference_appendices/inte\u001b[0m\n",
      "\u001b[0;35mrpreter_discovery.html for more information. This feature will be removed in \u001b[0m\n",
      "\u001b[0;35mversion 2.12. Deprecation warnings can be disabled by setting \u001b[0m\n",
      "\u001b[0;35mdeprecation_warnings=False in ansible.cfg.\u001b[0m\n",
      "\u001b[0;33mchanged: [50e04022b4264d5685b1630a874af2f5]\u001b[0m\n",
      "\u001b[0;35m[DEPRECATION WARNING]: Distribution ubuntu 20.04 on host \u001b[0m\n",
      "\u001b[0;35mf0dd6a63228048cf8600ad8ab3da7510 should use /usr/bin/python3, but is using \u001b[0m\n",
      "\u001b[0;35m/usr/bin/python for backward compatibility with prior Ansible releases. A \u001b[0m\n",
      "\u001b[0;35mfuture Ansible release will default to using the discovered platform python for\u001b[0m\n",
      "\u001b[0;35m this host. See https://docs.ansible.com/ansible/2.11/reference_appendices/inte\u001b[0m\n",
      "\u001b[0;35mrpreter_discovery.html for more information. This feature will be removed in \u001b[0m\n",
      "\u001b[0;35mversion 2.12. Deprecation warnings can be disabled by setting \u001b[0m\n",
      "\u001b[0;35mdeprecation_warnings=False in ansible.cfg.\u001b[0m\n",
      "\u001b[0;33mchanged: [f0dd6a63228048cf8600ad8ab3da7510]\u001b[0m\n",
      "\n",
      "PLAY RECAP *********************************************************************\n",
      "\u001b[0;33m50e04022b4264d5685b1630a874af2f5\u001b[0m : \u001b[0;32mok=1   \u001b[0m \u001b[0;33mchanged=1   \u001b[0m unreachable=0    failed=0    skipped=0    rescued=0    ignored=0   \n",
      "\u001b[0;33mf0dd6a63228048cf8600ad8ab3da7510\u001b[0m : \u001b[0;32mok=1   \u001b[0m \u001b[0;33mchanged=1   \u001b[0m unreachable=0    failed=0    skipped=0    rescued=0    ignored=0   \n",
      "\n",
      "\n",
      "PLAY [all] *********************************************************************\n",
      "\n",
      "TASK [Run command in the remote hosts (free form)] *****************************\n",
      "\u001b[0;35m[DEPRECATION WARNING]: Distribution ubuntu 20.04 on host \u001b[0m\n",
      "\u001b[0;35m50e04022b4264d5685b1630a874af2f5 should use /usr/bin/python3, but is using \u001b[0m\n",
      "\u001b[0;35m/usr/bin/python for backward compatibility with prior Ansible releases. A \u001b[0m\n",
      "\u001b[0;35mfuture Ansible release will default to using the discovered platform python for\u001b[0m\n",
      "\u001b[0;35m this host. See https://docs.ansible.com/ansible/2.11/reference_appendices/inte\u001b[0m\n",
      "\u001b[0;35mrpreter_discovery.html for more information. This feature will be removed in \u001b[0m\n",
      "\u001b[0;35mversion 2.12. Deprecation warnings can be disabled by setting \u001b[0m\n",
      "\u001b[0;35mdeprecation_warnings=False in ansible.cfg.\u001b[0m\n",
      "\u001b[0;33mchanged: [50e04022b4264d5685b1630a874af2f5]\u001b[0m\n",
      "\u001b[0;35m[DEPRECATION WARNING]: Distribution ubuntu 20.04 on host \u001b[0m\n",
      "\u001b[0;35mf0dd6a63228048cf8600ad8ab3da7510 should use /usr/bin/python3, but is using \u001b[0m\n",
      "\u001b[0;35m/usr/bin/python for backward compatibility with prior Ansible releases. A \u001b[0m\n",
      "\u001b[0;35mfuture Ansible release will default to using the discovered platform python for\u001b[0m\n",
      "\u001b[0;35m this host. See https://docs.ansible.com/ansible/2.11/reference_appendices/inte\u001b[0m\n",
      "\u001b[0;35mrpreter_discovery.html for more information. This feature will be removed in \u001b[0m\n",
      "\u001b[0;35mversion 2.12. Deprecation warnings can be disabled by setting \u001b[0m\n",
      "\u001b[0;35mdeprecation_warnings=False in ansible.cfg.\u001b[0m\n",
      "\u001b[0;33mchanged: [f0dd6a63228048cf8600ad8ab3da7510]\u001b[0m\n",
      "\n",
      "PLAY RECAP *********************************************************************\n",
      "\u001b[0;33m50e04022b4264d5685b1630a874af2f5\u001b[0m : \u001b[0;32mok=1   \u001b[0m \u001b[0;33mchanged=1   \u001b[0m unreachable=0    failed=0    skipped=0    rescued=0    ignored=0   \n",
      "\u001b[0;33mf0dd6a63228048cf8600ad8ab3da7510\u001b[0m : \u001b[0;32mok=1   \u001b[0m \u001b[0;33mchanged=1   \u001b[0m unreachable=0    failed=0    skipped=0    rescued=0    ignored=0   \n",
      "\n",
      "\n",
      "PLAY [all] *********************************************************************\n",
      "\n",
      "TASK [Run command in the remote hosts (free form)] *****************************\n",
      "\u001b[0;35m[DEPRECATION WARNING]: Distribution ubuntu 20.04 on host \u001b[0m\n",
      "\u001b[0;35mf0dd6a63228048cf8600ad8ab3da7510 should use /usr/bin/python3, but is using \u001b[0m\n",
      "\u001b[0;35m/usr/bin/python for backward compatibility with prior Ansible releases. A \u001b[0m\n",
      "\u001b[0;35mfuture Ansible release will default to using the discovered platform python for\u001b[0m\n",
      "\u001b[0;35m this host. See https://docs.ansible.com/ansible/2.11/reference_appendices/inte\u001b[0m\n",
      "\u001b[0;35mrpreter_discovery.html for more information. This feature will be removed in \u001b[0m\n",
      "\u001b[0;35mversion 2.12. Deprecation warnings can be disabled by setting \u001b[0m\n",
      "\u001b[0;35mdeprecation_warnings=False in ansible.cfg.\u001b[0m\n",
      "\u001b[0;33mchanged: [f0dd6a63228048cf8600ad8ab3da7510]\u001b[0m\n",
      "\u001b[0;35m[DEPRECATION WARNING]: Distribution ubuntu 20.04 on host \u001b[0m\n",
      "\u001b[0;35m50e04022b4264d5685b1630a874af2f5 should use /usr/bin/python3, but is using \u001b[0m\n",
      "\u001b[0;35m/usr/bin/python for backward compatibility with prior Ansible releases. A \u001b[0m\n",
      "\u001b[0;35mfuture Ansible release will default to using the discovered platform python for\u001b[0m\n",
      "\u001b[0;35m this host. See https://docs.ansible.com/ansible/2.11/reference_appendices/inte\u001b[0m\n",
      "\u001b[0;35mrpreter_discovery.html for more information. This feature will be removed in \u001b[0m\n",
      "\u001b[0;35mversion 2.12. Deprecation warnings can be disabled by setting \u001b[0m\n",
      "\u001b[0;35mdeprecation_warnings=False in ansible.cfg.\u001b[0m\n",
      "\u001b[0;33mchanged: [50e04022b4264d5685b1630a874af2f5]\u001b[0m\n",
      "\n",
      "PLAY RECAP *********************************************************************\n",
      "\u001b[0;33m50e04022b4264d5685b1630a874af2f5\u001b[0m : \u001b[0;32mok=1   \u001b[0m \u001b[0;33mchanged=1   \u001b[0m unreachable=0    failed=0    skipped=0    rescued=0    ignored=0   \n",
      "\u001b[0;33mf0dd6a63228048cf8600ad8ab3da7510\u001b[0m : \u001b[0;32mok=1   \u001b[0m \u001b[0;33mchanged=1   \u001b[0m unreachable=0    failed=0    skipped=0    rescued=0    ignored=0   \n",
      "\n",
      "\n",
      "PLAY [all] *********************************************************************\n",
      "\n",
      "TASK [Run command in the remote hosts (free form)] *****************************\n",
      "\u001b[0;35m[DEPRECATION WARNING]: Distribution ubuntu 20.04 on host \u001b[0m\n",
      "\u001b[0;35mf0dd6a63228048cf8600ad8ab3da7510 should use /usr/bin/python3, but is using \u001b[0m\n",
      "\u001b[0;35m/usr/bin/python for backward compatibility with prior Ansible releases. A \u001b[0m\n",
      "\u001b[0;35mfuture Ansible release will default to using the discovered platform python for\u001b[0m\n",
      "\u001b[0;35m this host. See https://docs.ansible.com/ansible/2.11/reference_appendices/inte\u001b[0m\n",
      "\u001b[0;35mrpreter_discovery.html for more information. This feature will be removed in \u001b[0m\n",
      "\u001b[0;35mversion 2.12. Deprecation warnings can be disabled by setting \u001b[0m\n",
      "\u001b[0;35mdeprecation_warnings=False in ansible.cfg.\u001b[0m\n",
      "\u001b[0;33mchanged: [f0dd6a63228048cf8600ad8ab3da7510]\u001b[0m\n",
      "\u001b[0;35m[DEPRECATION WARNING]: Distribution ubuntu 20.04 on host \u001b[0m\n",
      "\u001b[0;35m50e04022b4264d5685b1630a874af2f5 should use /usr/bin/python3, but is using \u001b[0m\n",
      "\u001b[0;35m/usr/bin/python for backward compatibility with prior Ansible releases. A \u001b[0m\n",
      "\u001b[0;35mfuture Ansible release will default to using the discovered platform python for\u001b[0m\n",
      "\u001b[0;35m this host. See https://docs.ansible.com/ansible/2.11/reference_appendices/inte\u001b[0m\n",
      "\u001b[0;35mrpreter_discovery.html for more information. This feature will be removed in \u001b[0m\n",
      "\u001b[0;35mversion 2.12. Deprecation warnings can be disabled by setting \u001b[0m\n",
      "\u001b[0;35mdeprecation_warnings=False in ansible.cfg.\u001b[0m\n",
      "\u001b[0;33mchanged: [50e04022b4264d5685b1630a874af2f5]\u001b[0m\n",
      "\n",
      "PLAY RECAP *********************************************************************\n",
      "\u001b[0;33m50e04022b4264d5685b1630a874af2f5\u001b[0m : \u001b[0;32mok=1   \u001b[0m \u001b[0;33mchanged=1   \u001b[0m unreachable=0    failed=0    skipped=0    rescued=0    ignored=0   \n",
      "\u001b[0;33mf0dd6a63228048cf8600ad8ab3da7510\u001b[0m : \u001b[0;32mok=1   \u001b[0m \u001b[0;33mchanged=1   \u001b[0m unreachable=0    failed=0    skipped=0    rescued=0    ignored=0   \n",
      "\n",
      "\n",
      "PLAY [all] *********************************************************************\n",
      "\n",
      "TASK [Run command in the remote hosts (free form)] *****************************\n",
      "\u001b[0;35m[DEPRECATION WARNING]: Distribution ubuntu 20.04 on host \u001b[0m\n",
      "\u001b[0;35mf0dd6a63228048cf8600ad8ab3da7510 should use /usr/bin/python3, but is using \u001b[0m\n",
      "\u001b[0;35m/usr/bin/python for backward compatibility with prior Ansible releases. A \u001b[0m\n",
      "\u001b[0;35mfuture Ansible release will default to using the discovered platform python for\u001b[0m\n",
      "\u001b[0;35m this host. See https://docs.ansible.com/ansible/2.11/reference_appendices/inte\u001b[0m\n",
      "\u001b[0;35mrpreter_discovery.html for more information. This feature will be removed in \u001b[0m\n",
      "\u001b[0;35mversion 2.12. Deprecation warnings can be disabled by setting \u001b[0m\n",
      "\u001b[0;35mdeprecation_warnings=False in ansible.cfg.\u001b[0m\n",
      "\u001b[0;33mchanged: [f0dd6a63228048cf8600ad8ab3da7510]\u001b[0m\n",
      "\u001b[0;35m[DEPRECATION WARNING]: Distribution ubuntu 20.04 on host \u001b[0m\n",
      "\u001b[0;35m50e04022b4264d5685b1630a874af2f5 should use /usr/bin/python3, but is using \u001b[0m\n",
      "\u001b[0;35m/usr/bin/python for backward compatibility with prior Ansible releases. A \u001b[0m\n",
      "\u001b[0;35mfuture Ansible release will default to using the discovered platform python for\u001b[0m\n",
      "\u001b[0;35m this host. See https://docs.ansible.com/ansible/2.11/reference_appendices/inte\u001b[0m\n",
      "\u001b[0;35mrpreter_discovery.html for more information. This feature will be removed in \u001b[0m\n",
      "\u001b[0;35mversion 2.12. Deprecation warnings can be disabled by setting \u001b[0m\n",
      "\u001b[0;35mdeprecation_warnings=False in ansible.cfg.\u001b[0m\n",
      "\u001b[0;33mchanged: [50e04022b4264d5685b1630a874af2f5]\u001b[0m\n",
      "\n",
      "PLAY RECAP *********************************************************************\n",
      "\u001b[0;33m50e04022b4264d5685b1630a874af2f5\u001b[0m : \u001b[0;32mok=1   \u001b[0m \u001b[0;33mchanged=1   \u001b[0m unreachable=0    failed=0    skipped=0    rescued=0    ignored=0   \n",
      "\u001b[0;33mf0dd6a63228048cf8600ad8ab3da7510\u001b[0m : \u001b[0;32mok=1   \u001b[0m \u001b[0;33mchanged=1   \u001b[0m unreachable=0    failed=0    skipped=0    rescued=0    ignored=0   \n",
      "\n"
     ]
    }
   ],
   "source": [
    "cluster_manager.setup_cluster(cluster_id, nodes_being_added=None, max_workers=1, start_at_stage='before_all')\n",
    "#cluster_manager.setup_cluster(cluster_id, nodes_being_added=None, max_workers=1, start_at_stage='after_all')"
   ]
  },
  {
   "cell_type": "code",
   "execution_count": 94,
   "metadata": {},
   "outputs": [
    {
     "output_type": "stream",
     "name": "stdout",
     "text": [
      "[NodeDescriptor(node_id='50e04022b4264d5685b1630a874af2f5', configuration=InstanceInfo(provider=ProviderConfigAWS(provider_config_id='aws-config-us-east-1', region='us-east-1', access_keyfile='aws-keypair.pub', secret_access_keyfile='aws-keypair.pem', vpc=None, url='https://ec2.us-east-1.amazonaws.com', provider='aws'), login=LoginConfig(login_config_id='login-ubuntu', user='ubuntu', keypair_name='gan-clap-keypair', keypair_public_file='gan-clap-keypair.pub', keypair_private_file='gan-clap-keypair.pem', ssh_port=22, sudo=True, sudo_user='root'), instance=InstanceConfigAWS(instance_config_id='type-a', provider='aws-config-us-east-1', login='login-ubuntu', flavor='t2.medium', image_id='ami-09e67e426f25ce0d7', security_group='gan-clap-sg-allopen', boot_disk_size=16, boot_disk_device=None, boot_disk_type=None, boot_disk_iops=None, boot_disk_snapshot=None, placement_group=None, price=None, timeout=None, network_ids=[])), nickname='MarySlaughter', ip='54.167.37.64', type='cloud', cloud_instance_id='i-00ec9ce079a006a84', cloud_lifecycle='normal', status='reachable', creation_time=1625741977.736384, update_time=1625742027.008372, roles=['gan'], tags={'.cluster:cluster-0163f63e26bc447391c06c8daa4041ac': 'type-a'}, extra={'instance_id': 'i-00ec9ce079a006a84', 'private_ip': '172.31.31.85', 'dns': 'ec2-54-167-37-64.compute-1.amazonaws.com', 'private_dns': 'ip-172-31-31-85.ec2.internal', 'architecture': 'x86_64', 'instance_tags': {'principalId': 'AIDATSRODRVJRLORIU6AD', 'Name': 'MarySlaughter-50e04022', 'owner': 'MO833-21-roberto.possidente', 'CreatedWith': 'CLAP'}, 'vpc_id': 'vpc-dd94f4a6', 'subnet_id': 'subnet-9bf928d1'}), NodeDescriptor(node_id='f0dd6a63228048cf8600ad8ab3da7510', configuration=InstanceInfo(provider=ProviderConfigAWS(provider_config_id='aws-config-us-east-1', region='us-east-1', access_keyfile='aws-keypair.pub', secret_access_keyfile='aws-keypair.pem', vpc=None, url='https://ec2.us-east-1.amazonaws.com', provider='aws'), login=LoginConfig(login_config_id='login-ubuntu', user='ubuntu', keypair_name='gan-clap-keypair', keypair_public_file='gan-clap-keypair.pub', keypair_private_file='gan-clap-keypair.pem', ssh_port=22, sudo=True, sudo_user='root'), instance=InstanceConfigAWS(instance_config_id='type-b', provider='aws-config-us-east-1', login='login-ubuntu', flavor='t2.large', image_id='ami-09e67e426f25ce0d7', security_group='gan-clap-sg-allopen', boot_disk_size=16, boot_disk_device=None, boot_disk_type=None, boot_disk_iops=None, boot_disk_snapshot=None, placement_group=None, price=None, timeout=None, network_ids=[])), nickname='GaryCumming', ip='3.219.34.243', type='cloud', cloud_instance_id='i-05ad351e5867bf035', cloud_lifecycle='normal', status='reachable', creation_time=1625742012.2748146, update_time=1625742027.013946, roles=['gan'], tags={'.cluster:cluster-0163f63e26bc447391c06c8daa4041ac': 'type-b'}, extra={'instance_id': 'i-05ad351e5867bf035', 'private_ip': '172.31.0.150', 'dns': 'ec2-3-219-34-243.compute-1.amazonaws.com', 'private_dns': 'ip-172-31-0-150.ec2.internal', 'architecture': 'x86_64', 'instance_tags': {'Name': 'GaryCumming-f0dd6a63', 'CreatedWith': 'CLAP', 'owner': 'MO833-21-roberto.possidente', 'principalId': 'AIDATSRODRVJRLORIU6AD'}, 'vpc_id': 'vpc-dd94f4a6', 'subnet_id': 'subnet-bbe700dc'})]\n50e04022b4264d5685b1630a874af2f5: Status: reachable; IP: 54.167.37.64\nf0dd6a63228048cf8600ad8ab3da7510: Status: reachable; IP: 3.219.34.243\n54.167.37.64:1,3.219.34.243:1\n['50e04022b4264d5685b1630a874af2f5']\n[NodeDescriptor(node_id='50e04022b4264d5685b1630a874af2f5', configuration=InstanceInfo(provider=ProviderConfigAWS(provider_config_id='aws-config-us-east-1', region='us-east-1', access_keyfile='aws-keypair.pub', secret_access_keyfile='aws-keypair.pem', vpc=None, url='https://ec2.us-east-1.amazonaws.com', provider='aws'), login=LoginConfig(login_config_id='login-ubuntu', user='ubuntu', keypair_name='gan-clap-keypair', keypair_public_file='gan-clap-keypair.pub', keypair_private_file='gan-clap-keypair.pem', ssh_port=22, sudo=True, sudo_user='root'), instance=InstanceConfigAWS(instance_config_id='type-a', provider='aws-config-us-east-1', login='login-ubuntu', flavor='t2.medium', image_id='ami-09e67e426f25ce0d7', security_group='gan-clap-sg-allopen', boot_disk_size=16, boot_disk_device=None, boot_disk_type=None, boot_disk_iops=None, boot_disk_snapshot=None, placement_group=None, price=None, timeout=None, network_ids=[])), nickname='MarySlaughter', ip='54.167.37.64', type='cloud', cloud_instance_id='i-00ec9ce079a006a84', cloud_lifecycle='normal', status='reachable', creation_time=1625741977.736384, update_time=1625742027.008372, roles=['gan'], tags={'.cluster:cluster-0163f63e26bc447391c06c8daa4041ac': 'type-a'}, extra={'instance_id': 'i-00ec9ce079a006a84', 'private_ip': '172.31.31.85', 'dns': 'ec2-54-167-37-64.compute-1.amazonaws.com', 'private_dns': 'ip-172-31-31-85.ec2.internal', 'architecture': 'x86_64', 'instance_tags': {'principalId': 'AIDATSRODRVJRLORIU6AD', 'Name': 'MarySlaughter-50e04022', 'owner': 'MO833-21-roberto.possidente', 'CreatedWith': 'CLAP'}, 'vpc_id': 'vpc-dd94f4a6', 'subnet_id': 'subnet-9bf928d1'})]\n"
     ]
    }
   ],
   "source": [
    "cluster_nodes_with_type = cluster_manager.get_cluster_nodes_types(cluster_id)\n",
    "cluster_nodes = cluster_manager.get_all_cluster_nodes(cluster_id)\n",
    "host_nodes = node_manager.get_nodes_by_id(cluster_nodes)\n",
    "print(host_nodes)\n",
    "hosts_ips=''\n",
    "for node in host_nodes:\n",
    "    print (f\"{node.node_id}: Status: {node.status}; IP: {node.ip}\")\n",
    "    hosts_ips = hosts_ips + node.ip + ':1,'\n",
    "hosts_ips = hosts_ips[0:len(hosts_ips)-1]\n",
    "print(hosts_ips)\n",
    "\n",
    "master_id = cluster_nodes_with_type['type-a']\n",
    "print(master_id)\n",
    "master_node = node_manager.get_nodes_by_id(master_id)\n",
    "print(master_node)"
   ]
  },
  {
   "cell_type": "code",
   "execution_count": 95,
   "metadata": {},
   "outputs": [
    {
     "output_type": "stream",
     "name": "stdout",
     "text": [
      "\nhorovodrun -np 2 -H 54.167.37.64:1,3.219.34.243:1 python /home/ubuntu/optimizer-clap-app/machine-translation/my-train.py \n"
     ]
    }
   ],
   "source": [
    "command_to_execute = \"\"\"\n",
    "horovodrun -np 2 -H {} python /home/ubuntu/optimizer-clap-app/machine-translation/my-train.py \"\"\".format(hosts_ips)\n",
    "print(command_to_execute)"
   ]
  },
  {
   "cell_type": "code",
   "execution_count": 96,
   "metadata": {},
   "outputs": [
    {
     "output_type": "stream",
     "name": "stdout",
     "text": [
      "Node id 50e04022b4264d5685b1630a874af2f5, executed the command: True, ret code: 0\n-----\nerror: null\nok: true\nret_code: 0\nstderr_lines:\n- '[1,1]<stderr>:INFO:root:Namespace(batch_size=64, dtype=''float32'', epochs=5, lr=0.01,\n    momentum=0.9, no_cuda=True)\n\n    '\n- '[1,0]<stderr>:INFO:root:Namespace(batch_size=64, dtype=''float32'', epochs=5, lr=0.01,\n    momentum=0.9, no_cuda=True)\n\n    '\nstdout_lines:\n- '[1,1]<stdout>:Loading dataset...\n\n    '\n- '[1,0]<stdout>:Loading dataset...\n\n    '\n- '[1,1]<stdout>:Loading dataset...\n\n    '\n- '[1,0]<stdout>:Loading dataset...\n\n    '\n- '[1,1]<stdout>:Loading dataset...\n\n    '\n- '[1,0]<stdout>:Loading dataset...\n\n    '\n- '[1,0]<stdout>:Numero de Epochs = 1\n\n    '\n- '[1,0]<stdout>:Epoch 0 - train_one_epoch started\n\n    '\n- '[1,0]<stdout>:[MO833] Rank,0,Initialization Time: 0.000199\n\n    '\n- '[1,1]<stdout>:Numero de Epochs = 1\n\n    '\n- '[1,1]<stdout>:Epoch 0 - train_one_epoch started\n\n    '\n- '[1,1]<stdout>:[MO833] Rank,1,Initialization Time: 0.000037\n\n    '\n- '[1,0]<stdout>:[MO833] Rank,0,Epoch,0,Iteration,0,It. time,2.664199,Elapsed time,2.686197\n\n    '\n- '[1,0]<stdout>:{''iteration_time'': 2.664199113845825}\n\n    '\n- '[1,1]<stdout>:[MO833] Rank,1,Epoch,0,Iteration,0,It. time,2.644800,Elapsed time,2.686431\n\n    '\n- '[1,1]<stdout>:{''iteration_time'': 2.6447997093200684}\n\n    '\n- '[1,1]<stdout>:[MO833] Rank,1,Epoch,0,Iteration,1,It. time,0.586480,Elapsed time,3.285540\n\n    '\n- '[1,1]<stdout>:{''iteration_time'': 0.586479902267456}\n\n    '\n- '[1,0]<stdout>:[MO833] Rank,0,Epoch,0,Iteration,1,It. time,0.642404,Elapsed time,3.347172\n\n    '\n- '[1,0]<stdout>:{''iteration_time'': 0.6424040794372559}\n\n    '\n- '[1,1]<stdout>:[MO833] Rank,1,Epoch,0,Iteration,2,It. time,0.778412,Elapsed time,4.074630\n\n    '\n- '[1,1]<stdout>:{''iteration_time'': 0.778411865234375}\n\n    '\n- '[1,0]<stdout>:[MO833] Rank,0,Epoch,0,Iteration,2,It. time,0.795318,Elapsed time,4.147434\n\n    '\n- '[1,0]<stdout>:{''iteration_time'': 0.7953181266784668}\n\n    '\n- '[1,1]<stdout>:[MO833] Rank,1,Epoch,0,Iteration,3,It. time,0.862936,Elapsed time,4.946772\n\n    '\n- '[1,1]<stdout>:{''iteration_time'': 0.8629355430603027}\n\n    '\n- '[1,0]<stdout>:[MO833] Rank,0,Epoch,0,Iteration,3,It. time,0.864546,Elapsed time,5.016557\n\n    '\n- '[1,0]<stdout>:{''iteration_time'': 0.8645462989807129}\n\n    '\n- '[1,1]<stdout>:[MO833] Rank,1,Epoch,0,Iteration,4,It. time,1.032168,Elapsed time,5.985126\n\n    '\n- '[1,1]<stdout>:{''iteration_time'': 1.0321681499481201}\n\n    '\n- '[1,0]<stdout>:[MO833] Rank,0,Epoch,0,Iteration,4,It. time,1.064694,Elapsed time,6.086877\n\n    '\n- '[1,0]<stdout>:{''iteration_time'': 1.0646939277648926}\n\n    '\n- '[1,1]<stdout>:[MO833] Rank,1,Epoch,0,Iteration,5,It. time,1.210829,Elapsed time,7.199219\n\n    '\n- '[1,1]<stdout>:{''iteration_time'': 1.210829257965088}\n\n    '\n- '[1,0]<stdout>:[MO833] Rank,0,Epoch,0,Iteration,5,It. time,1.253759,Elapsed time,7.348469\n\n    '\n- '[1,0]<stdout>:{''iteration_time'': 1.2537586688995361}\n\n    '\n- '[1,1]<stdout>:[MO833] Rank,1,Epoch,0,Iteration,6,It. time,1.191937,Elapsed time,8.411578\n\n    '\n- '[1,1]<stdout>:{''iteration_time'': 1.1919374465942383}\n\n    '\n- '[1,0]<stdout>:[MO833] Rank,0,Epoch,0,Iteration,6,It. time,1.264275,Elapsed time,8.621793\n\n    '\n- '[1,0]<stdout>:{''iteration_time'': 1.264275312423706}\n\n    '\n- '[1,1]<stdout>:[MO833] Rank,1,Epoch,0,Iteration,7,It. time,1.031147,Elapsed time,9.450857\n\n    '\n- '[1,1]<stdout>:{''iteration_time'': 1.03114652633667}\n\n    '\n- '[1,0]<stdout>:[MO833] Rank,0,Epoch,0,Iteration,7,It. time,1.045378,Elapsed time,9.680376\n\n    '\n- '[1,0]<stdout>:{''iteration_time'': 1.0453782081604004}\n\n    '\n- '[1,1]<stdout>:[MO833] Rank,1,Epoch,0,Iteration,8,It. time,0.990560,Elapsed time,10.449665\n\n    '\n- '[1,1]<stdout>:{''iteration_time'': 0.9905602931976318}\n\n    '\n- '[1,0]<stdout>:[MO833] Rank,0,Epoch,0,Iteration,8,It. time,0.983923,Elapsed time,10.669943\n\n    '\n- '[1,0]<stdout>:{''iteration_time'': 0.9839234352111816}\n\n    '\n- '[1,1]<stdout>:[MO833] Rank,1,Epoch,0,Iteration,9,It. time,1.535187,Elapsed time,11.987735\n\n    '\n- '[1,1]<stdout>:{''iteration_time'': 1.535186767578125}\n\n    '\n- '[1,0]<stdout>:[MO833] Rank,0,Epoch,0,Iteration,9,It. time,1.512598,Elapsed time,12.190397\n\n    '\n- '[1,0]<stdout>:{''iteration_time'': 1.5125982761383057}\n\n    '\n- '[1,1]<stdout>:[MO833] Rank,1,Epoch,0,Iteration,10,It. time,1.484432,Elapsed time,13.480266\n\n    '\n- '[1,1]<stdout>:{''iteration_time'': 1.484431505203247}\n\n    '\n- '[1,0]<stdout>:[MO833] Rank,0,Epoch,0,Iteration,10,It. time,1.487618,Elapsed time,13.683772\n\n    '\n- '[1,0]<stdout>:{''iteration_time'': 1.4876182079315186}\n\n    '\n- '[1,1]<stdout>:[MO833] Rank,1,Epoch,0,Iteration,11,It. time,1.274424,Elapsed time,14.761391\n\n    '\n- '[1,1]<stdout>:{''iteration_time'': 1.2744238376617432}\n\n    '\n- '[1,0]<stdout>:[MO833] Rank,0,Epoch,0,Iteration,11,It. time,1.292898,Elapsed time,14.979801\n\n    '\n- '[1,0]<stdout>:{''iteration_time'': 1.2928979396820068}\n\n    '\n- '[1,1]<stdout>:[MO833] Rank,1,Epoch,0,Iteration,12,It. time,1.598865,Elapsed time,16.365782\n\n    '\n- '[1,1]<stdout>:{''iteration_time'': 1.598865032196045}\n\n    '\n- '[1,0]<stdout>:[MO833] Rank,0,Epoch,0,Iteration,12,It. time,1.570404,Elapsed time,16.564147\n\n    '\n- '[1,0]<stdout>:{''iteration_time'': 1.5704035758972168}\n\n    '\n- '[1,1]<stdout>:[MO833] Rank,1,Epoch,0,Iteration,13,It. time,1.094621,Elapsed time,17.463232\n\n    '\n- '[1,1]<stdout>:{''iteration_time'': 1.094621181488037}\n\n    '\n- '[1,0]<stdout>:[MO833] Rank,0,Epoch,0,Iteration,13,It. time,1.095827,Elapsed time,17.662914\n\n    '\n- '[1,0]<stdout>:{''iteration_time'': 1.0958271026611328}\n\n    '\n- '[1,1]<stdout>:[MO833] Rank,1,Epoch,0,Iteration,14,It. time,2.132744,Elapsed time,19.598560\n\n    '\n- '[1,1]<stdout>:{''iteration_time'': 2.1327438354492188}\n\n    '\n- '[1,0]<stdout>:[MO833] Rank,0,Epoch,0,Iteration,14,It. time,2.088704,Elapsed time,19.755003\n\n    '\n- '[1,0]<stdout>:{''iteration_time'': 2.0887038707733154}\n\n    '\n- '[1,1]<stdout>:[MO833] Rank,1,Epoch,0,Iteration,15,It. time,1.799327,Elapsed time,21.400730\n\n    '\n- '[1,1]<stdout>:{''iteration_time'': 1.7993271350860596}\n\n    '\n- '[1,0]<stdout>:[MO833] Rank,0,Epoch,0,Iteration,15,It. time,1.808516,Elapsed time,21.567012\n\n    '\n- '[1,0]<stdout>:{''iteration_time'': 1.808516025543213}\n\n    '\n- '[1,1]<stdout>:[MO833] Rank,1,Epoch,0,Iteration,16,It. time,1.363901,Elapsed time,22.767312\n\n    '\n- '[1,1]<stdout>:{''iteration_time'': 1.363900899887085}\n\n    '\n- '[1,0]<stdout>:[MO833] Rank,0,Epoch,0,Iteration,16,It. time,1.374118,Elapsed time,22.944056\n\n    '\n- '[1,0]<stdout>:{''iteration_time'': 1.3741178512573242}\n\n    '\n- '[1,1]<stdout>:[MO833] Rank,1,Epoch,0,Iteration,17,It. time,1.375966,Elapsed time,24.146121\n\n    '\n- '[1,1]<stdout>:{''iteration_time'': 1.3759663105010986}\n\n    '\n- '[1,0]<stdout>:[MO833] Rank,0,Epoch,0,Iteration,17,It. time,1.427529,Elapsed time,24.374765\n\n    '\n- '[1,0]<stdout>:{''iteration_time'': 1.4275286197662354}\n\n    '\n- '[1,1]<stdout>:[MO833] Rank,1,Epoch,0,Iteration,18,It. time,1.175628,Elapsed time,25.334531\n\n    '\n- '[1,1]<stdout>:{''iteration_time'': 1.1756279468536377}\n\n    '\n- '[1,0]<stdout>:[MO833] Rank,0,Epoch,0,Iteration,18,It. time,1.163719,Elapsed time,25.550764\n\n    '\n- '[1,0]<stdout>:{''iteration_time'': 1.1637189388275146}\n\n    '\n- '[1,1]<stdout>:[MO833] Rank,1,Epoch,0,Iteration,19,It. time,1.574324,Elapsed time,26.911742\n\n    '\n- '[1,1]<stdout>:{''iteration_time'': 1.5743238925933838}\n\n    '\n- '[1,0]<stdout>:[MO833] Rank,0,Epoch,0,Iteration,19,It. time,1.588675,Elapsed time,27.143104\n\n    '\n- '[1,0]<stdout>:{''iteration_time'': 1.588674783706665}\n\n    '\n- '[1,1]<stdout>:[MO833] Rank,1,Epoch,0,Iteration,20,It. time,2.115367,Elapsed time,29.029867\n\n    '\n- '[1,1]<stdout>:{''iteration_time'': 2.1153669357299805}\n\n    '\n- '[1,0]<stdout>:[MO833] Rank,0,Epoch,0,Iteration,20,It. time,2.053173,Elapsed time,29.199423\n\n    '\n- '[1,0]<stdout>:{''iteration_time'': 2.053173065185547}\n\n    '\n- '[1,1]<stdout>:[MO833] Rank,1,Epoch,0,Iteration,21,It. time,1.454534,Elapsed time,30.496570\n\n    '\n- '[1,1]<stdout>:{''iteration_time'': 1.454533576965332}\n\n    '\n- '[1,0]<stdout>:[MO833] Rank,0,Epoch,0,Iteration,21,It. time,1.532372,Elapsed time,30.734928\n\n    '\n- '[1,0]<stdout>:{''iteration_time'': 1.532372236251831}\n\n    '\n- '[1,1]<stdout>:[MO833] Rank,1,Epoch,0,Iteration,22,It. time,1.571175,Elapsed time,32.070448\n\n    '\n- '[1,1]<stdout>:{''iteration_time'': 1.5711748600006104}\n\n    '\n- '[1,0]<stdout>:[MO833] Rank,0,Epoch,0,Iteration,22,It. time,1.511934,Elapsed time,32.249991\n\n    '\n- '[1,0]<stdout>:{''iteration_time'': 1.5119338035583496}\n\n    '\n- '[1,1]<stdout>:[MO833] Rank,1,Epoch,0,Iteration,23,It. time,1.616775,Elapsed time,33.689892\n\n    '\n- '[1,1]<stdout>:{''iteration_time'': 1.616774559020996}\n\n    '\n- '[1,0]<stdout>:[MO833] Rank,0,Epoch,0,Iteration,23,It. time,1.617056,Elapsed time,33.869857\n\n    '\n- '[1,0]<stdout>:{''iteration_time'': 1.6170556545257568}\n\n    '\n- '[1,1]<stdout>:[MO833] Rank,1,Epoch,0,Iteration,24,It. time,1.616389,Elapsed time,35.309094\n\n    '\n- '[1,1]<stdout>:{''iteration_time'': 1.616389274597168}\n\n    '\n- '[1,0]<stdout>:[MO833] Rank,0,Epoch,0,Iteration,24,It. time,1.629514,Elapsed time,35.502238\n\n    '\n- '[1,0]<stdout>:{''iteration_time'': 1.6295137405395508}\n\n    '\n- '[1,1]<stdout>:[MO833] Rank,1,Epoch,0,Iteration,25,It. time,1.387444,Elapsed time,36.699112\n\n    '\n- '[1,1]<stdout>:{''iteration_time'': 1.3874437808990479}\n\n    '\n- '[1,0]<stdout>:[MO833] Rank,0,Epoch,0,Iteration,25,It. time,1.355851,Elapsed time,36.861137\n\n    '\n- '[1,0]<stdout>:{''iteration_time'': 1.355851411819458}\n\n    '\n- '[1,1]<stdout>:[MO833] Rank,1,Epoch,0,Iteration,26,It. time,1.773015,Elapsed time,38.474736\n\n    '\n- '[1,1]<stdout>:{''iteration_time'': 1.773015022277832}\n\n    '\n- '[1,0]<stdout>:[MO833] Rank,0,Epoch,0,Iteration,26,It. time,1.721818,Elapsed time,38.589117\n\n    '\n- '[1,0]<stdout>:{''iteration_time'': 1.721818208694458}\n\n    '\n- '[1,1]<stdout>:[MO833] Rank,1,Epoch,0,Iteration,27,It. time,1.821326,Elapsed time,40.300283\n\n    '\n- '[1,1]<stdout>:{''iteration_time'': 1.8213255405426025}\n\n    '\n- '[1,0]<stdout>:[MO833] Rank,0,Epoch,0,Iteration,27,It. time,1.850543,Elapsed time,40.446538\n\n    '\n- '[1,0]<stdout>:{''iteration_time'': 1.8505425453186035}\n\n    '\n- '[1,1]<stdout>:[MO833] Rank,1,Epoch,0,Iteration,28,It. time,1.674031,Elapsed time,41.977255\n\n    '\n- '[1,1]<stdout>:{''iteration_time'': 1.6740305423736572}\n\n    '\n- '[1,1]<stdout>:[MO833] Rank,1,Epoch,0,Epoch time,1.674851,Elapsed time,41.978073\n\n    '\n- '[1,1]<stdout>:Epoch 0 - train_one_epoch finished\n\n    '\n- '[1,0]<stdout>:[MO833] Rank,0,Epoch,0,Iteration,28,It. time,1.675345,Elapsed time,42.125032\n\n    '\n- '[1,0]<stdout>:{''iteration_time'': 1.6753449440002441}\n\n    '\n- '[1,0]<stdout>:[MO833] Rank,0,Epoch,0,Epoch time,1.676403,Elapsed time,42.126089\n\n    '\n- '[1,0]<stdout>:Epoch 0 - train_one_epoch finished\n\n    '\n- '[1,1]<stdout>:Epoch 0 - after waitall\n\n    '\n- '[1,0]<stdout>:Epoch 0 - after waitall\n\n    '\n\n"
     ]
    }
   ],
   "source": [
    "'''command_to_execute = \"\"\"\n",
    "mpirun -np 1 -H localhost:1 -bind-to none -map-by slot python /home/ubuntu/optimizer-clap-app/machine-translation/my-train.py 2>&1 > log.txt \n",
    "echo Launch Machine Translation by ssh\n",
    "\"\"\"\n",
    "print(command_to_execute)'''\n",
    "#command_to_execute = \"\"\"horovodrun\"\"\"\n",
    "executor = SSHCommandExecutor(command_to_execute, master_node, private_path)\n",
    "result = executor.run()\n",
    "\n",
    "for node_id, res in result.items():\n",
    "    print(f\"Node id {node_id}, executed the command: {res.ok}, ret code: {res.ret_code}\")\n",
    "    #resut is a dataclass, we can convert to a dictionary\n",
    "    res_dict = asdict(res)\n",
    "    print('-----')\n",
    "    # Dump dictionary in YAML format\n",
    "    print(yaml.dump(res_dict, indent=4, sort_keys=True))"
   ]
  },
  {
   "cell_type": "code",
   "execution_count": 97,
   "metadata": {},
   "outputs": [
    {
     "output_type": "stream",
     "name": "stdout",
     "text": [
      "---\n- hosts: all\n  gather_facts: True    # Query a set of variables in remote hosts\n  gather_subset: min\n  tasks:\n  - name: Get iteration time from a fact\n    set_fact:\n      iteration_time: \"{{ ansible_local.times.iteration_time }}\""
     ]
    }
   ],
   "source": [
    "cat /home/ubuntu/.clap/roles/roles/getfacts.yml"
   ]
  },
  {
   "cell_type": "code",
   "execution_count": 98,
   "metadata": {},
   "outputs": [
    {
     "output_type": "stream",
     "name": "stdout",
     "text": [
      "50e04022b4264d5685b1630a874af2f5: Status: reachable; IP: 54.167.37.64, Type: cloud\n",
      "f0dd6a63228048cf8600ad8ab3da7510: Status: reachable; IP: 3.219.34.243, Type: cloud\n",
      "\n",
      "PLAY [all] *********************************************************************\n",
      "\n",
      "TASK [Gathering Facts] *********************************************************\n",
      "\u001b[0;35m[DEPRECATION WARNING]: Distribution ubuntu 20.04 on host \u001b[0m\n",
      "\u001b[0;35m50e04022b4264d5685b1630a874af2f5 should use /usr/bin/python3, but is using \u001b[0m\n",
      "\u001b[0;35m/usr/bin/python for backward compatibility with prior Ansible releases. A \u001b[0m\n",
      "\u001b[0;35mfuture Ansible release will default to using the discovered platform python for\u001b[0m\n",
      "\u001b[0;35m this host. See https://docs.ansible.com/ansible/2.11/reference_appendices/inte\u001b[0m\n",
      "\u001b[0;35mrpreter_discovery.html for more information. This feature will be removed in \u001b[0m\n",
      "\u001b[0;35mversion 2.12. Deprecation warnings can be disabled by setting \u001b[0m\n",
      "\u001b[0;35mdeprecation_warnings=False in ansible.cfg.\u001b[0m\n",
      "\u001b[0;32mok: [50e04022b4264d5685b1630a874af2f5]\u001b[0m\n",
      "\u001b[0;35m[DEPRECATION WARNING]: Distribution ubuntu 20.04 on host \u001b[0m\n",
      "\u001b[0;35mf0dd6a63228048cf8600ad8ab3da7510 should use /usr/bin/python3, but is using \u001b[0m\n",
      "\u001b[0;35m/usr/bin/python for backward compatibility with prior Ansible releases. A \u001b[0m\n",
      "\u001b[0;35mfuture Ansible release will default to using the discovered platform python for\u001b[0m\n",
      "\u001b[0;35m this host. See https://docs.ansible.com/ansible/2.11/reference_appendices/inte\u001b[0m\n",
      "\u001b[0;35mrpreter_discovery.html for more information. This feature will be removed in \u001b[0m\n",
      "\u001b[0;35mversion 2.12. Deprecation warnings can be disabled by setting \u001b[0m\n",
      "\u001b[0;35mdeprecation_warnings=False in ansible.cfg.\u001b[0m\n",
      "\u001b[0;32mok: [f0dd6a63228048cf8600ad8ab3da7510]\u001b[0m\n",
      "\n",
      "TASK [Get iteration time from a fact] ******************************************\n",
      "\u001b[0;32mok: [50e04022b4264d5685b1630a874af2f5]\u001b[0m\n",
      "\u001b[0;32mok: [f0dd6a63228048cf8600ad8ab3da7510]\u001b[0m\n",
      "\n",
      "PLAY RECAP *********************************************************************\n",
      "\u001b[0;32m50e04022b4264d5685b1630a874af2f5\u001b[0m : \u001b[0;32mok=2   \u001b[0m changed=0    unreachable=0    failed=0    skipped=0    rescued=0    ignored=0   \n",
      "\u001b[0;32mf0dd6a63228048cf8600ad8ab3da7510\u001b[0m : \u001b[0;32mok=2   \u001b[0m changed=0    unreachable=0    failed=0    skipped=0    rescued=0    ignored=0   \n",
      "\n",
      "Did the playbook executed? True\n",
      "Ansible playbook return code: 0\n",
      "Let's check how nodes executed: \n",
      "    Node 50e04022b4264d5685b1630a874af2f5: True\n",
      "    Node f0dd6a63228048cf8600ad8ab3da7510: True\n",
      "Let's check variables set using set_fact module: \n",
      "    Node 50e04022b4264d5685b1630a874af2f5: {'iteration_time': '1.6753449440002441'}\n",
      "    Node f0dd6a63228048cf8600ad8ab3da7510: {'iteration_time': '1.6740305423736572'}\n",
      "{'50e04022b4264d5685b1630a874af2f5': '1.6753449440002441', 'f0dd6a63228048cf8600ad8ab3da7510': '1.6740305423736572'}\n",
      "50e04022b4264d5685b1630a874af2f5: '1.6753449440002441'\n",
      "f0dd6a63228048cf8600ad8ab3da7510: '1.6740305423736572'\n",
      "\n",
      "/home/ubuntu/CLAP/\n",
      "/home/ubuntu/CLAP/timestamp/\n",
      "/home/ubuntu/CLAP/timestamp/1625742539.out\n"
     ]
    }
   ],
   "source": [
    "nodes = node_manager.get_nodes_by_id(cluster_nodes)\n",
    "for node in nodes:\n",
    "    print (f\"{node.node_id}: Status: {node.status}; IP: {node.ip}, Type: {node.type}\")\n",
    "\n",
    "playbook_file = path_extend('/home/ubuntu/.clap/roles/roles/getfacts.yml')\n",
    "inventory = AnsiblePlaybookExecutor.create_inventory(nodes, private_path)\n",
    "executor = AnsiblePlaybookExecutor(playbook_file, private_path, inventory=inventory)\n",
    "\n",
    "result = executor.run()\n",
    "\n",
    "print(f\"Did the playbook executed? {result.ok}\")\n",
    "print(f\"Ansible playbook return code: {result.ret_code}\")\n",
    "print(f\"Let's check how nodes executed: \")\n",
    "for node_id, status in result.hosts.items():\n",
    "    print(f\"    Node {node_id}: {status}\")\n",
    "print(f\"Let's check variables set using set_fact module: \")\n",
    "times={}\n",
    "for node_id, facts in result.vars.items():\n",
    "    print(f\"    Node {node_id}: {facts}\")\n",
    "    times[node_id] = facts['iteration_time']\n",
    "print('%s' % str(times))\n",
    "# Dump dictionary in YAML format\n",
    "print(yaml.dump(times, indent=4, sort_keys=True))\n",
    "\n",
    "pi_logs_dir = '/home/ubuntu/CLAP/'\n",
    "print('%s' % str(pi_logs_dir))\n",
    "#timestamp_dir = path_extend(pi_logs_dir, '/timestamp/')\n",
    "timestamp_dir = pi_logs_dir + 'timestamp/'\n",
    "print('%s' % str(timestamp_dir))\n",
    "os.makedirs(timestamp_dir, exist_ok=True)\n",
    "timestamp_file = timestamp_dir + str(int(time.time())) +  '.out'\n",
    "print('%s' % str(timestamp_file))\n",
    "with open(timestamp_file, 'a') as outfile:\n",
    "   yaml.dump(times, outfile, default_flow_style=False)\n"
   ]
  },
  {
   "cell_type": "code",
   "execution_count": 99,
   "metadata": {},
   "outputs": [
    {
     "output_type": "stream",
     "name": "stdout",
     "text": [
      "---------\nNode Id: 50e04022b4264d5685b1630a874af2f5, created at 08-07-21 07:59:37; Status: reachable\n---------\nInstance Flavor: t2.medium, Instance Cost: 0.0464, Iteration Time: 1.6753449440002441, Node Price: 0.07773600540161132\n---------\n---------\nNode Id: f0dd6a63228048cf8600ad8ab3da7510, created at 08-07-21 08:00:12; Status: reachable\n---------\nInstance Flavor: t2.large, Instance Cost: 0.0555, Iteration Time: 1.6740305423736572, Node Price: 0.09290869510173798\n---------\nNode Prices\n{'50e04022b4264d5685b1630a874af2f5': 0.07773600540161132, 'f0dd6a63228048cf8600ad8ab3da7510': 0.09290869510173798}\n"
     ]
    }
   ],
   "source": [
    "root_dir='/home/ubuntu/CLAP/'\n",
    "experiment_id = 'Transformer' \n",
    "vm_price_file = '/home/ubuntu/CLAP/vm_prices.yaml'\n",
    "report_time = 10\n",
    "\n",
    "instance_costs = yaml_load(vm_price_file)\n",
    "node_prices={}\n",
    "for node in nodes:\n",
    "    print('---------')\n",
    "    print(f\"Node Id: {node.node_id}, created at {float_time_to_string(node.creation_time)}; Status: {node.status}\")\n",
    "    print('---------')\n",
    "    # Or can be converted to a dict\n",
    "    node_dict = asdict(node)\n",
    "    # Printing dict in YAML format\n",
    "    #print(yaml.dump(node_dict, indent=4))\n",
    "    #print('**********')\n",
    "    instance_flavor = node_dict['configuration']['instance']['flavor']\n",
    "    node_prices[node.node_id] = float(times[node.node_id]) * float(instance_costs[instance_flavor])\n",
    "    print(f\"Instance Flavor: {instance_flavor}, Instance Cost: {instance_costs[instance_flavor]}, Iteration Time: {times[node.node_id]}, Node Price: {node_prices[node.node_id]}\")\n",
    "    print('---------')\n",
    "print('Node Prices')\n",
    "print(str(node_prices))\n"
   ]
  },
  {
   "cell_type": "code",
   "execution_count": 100,
   "metadata": {},
   "outputs": [
    {
     "output_type": "stream",
     "name": "stdout",
     "text": [
      "cluster -> yaml.dump \n",
      "\n",
      "cluster_config:\n",
      "    after: []\n",
      "    after_all:\n",
      "    -   actions:\n",
      "        -   action: install-packages\n",
      "            extra:\n",
      "                packages: python3-pip, build-essential, cmake, openmpi-bin, openmpi-common,\n",
      "                    openmpi-doc, libopenmpi-dev\n",
      "            role: gan\n",
      "        roles: []\n",
      "    -   actions:\n",
      "        -   action: run-command\n",
      "            extra:\n",
      "                cmd: sudo apt-get -y install python-is-python3\n",
      "            role: gan\n",
      "        roles: []\n",
      "    -   actions:\n",
      "        -   action: run-command\n",
      "            extra:\n",
      "                cmd: sudo pip install mxnet gluonnlp sacremoses\n",
      "            role: gan\n",
      "        roles: []\n",
      "    -   actions:\n",
      "        -   action: run-command\n",
      "            extra:\n",
      "                cmd: git clone https://github.com/robertopossidente/optimizer-clap-app.git\n",
      "            role: gan\n",
      "        roles: []\n",
      "    -   actions:\n",
      "        -   action: run-command\n",
      "            extra:\n",
      "                cmd: sudo mkdir -p /etc/ansible/facts.d/ && sudo touch /etc/ansible/facts.d/times.fact\n",
      "                    && sudo chown ubuntu:ubuntu /etc/ansible/facts.d/times.fact\n",
      "            role: gan\n",
      "        roles: []\n",
      "    -   actions:\n",
      "        -   action: run-command\n",
      "            extra:\n",
      "                cmd: sudo chmod 400 optimizer-clap-app/machine-translation/clap-config/private/gan-clap-keypair.pem\n",
      "                    && sudo cp optimizer-clap-app/machine-translation/clap-config/private/gan-clap-keypair.pem\n",
      "                    /home/ubuntu/.ssh/id_rsa && sudo chown ubuntu:ubuntu /home/ubuntu/.ssh/id_rsa\n",
      "            role: gan\n",
      "        roles: []\n",
      "    -   actions:\n",
      "        -   action: run-command\n",
      "            extra:\n",
      "                cmd: sudo pip install horovod --no-cache-dir\n",
      "            role: gan\n",
      "        roles: []\n",
      "    -   actions:\n",
      "        -   action: run-command\n",
      "            extra:\n",
      "                cmd: mpirun -np 1 -H localhost:1 -bind-to none -map-by slot python\n",
      "                    /home/ubuntu/optimizer-clap-app/machine-translation/my-train.py\n",
      "                    2>&1 > log.txt\n",
      "            role: gan\n",
      "        roles: []\n",
      "    before: []\n",
      "    before_all:\n",
      "    -   actions:\n",
      "        -   action: update-packages\n",
      "            extra: {}\n",
      "            role: gan\n",
      "        roles:\n",
      "        -   extra: {}\n",
      "            name: gan\n",
      "    cluster_config_id: my-cluster\n",
      "    nodes:\n",
      "        type-a:\n",
      "            count: 1\n",
      "            min_count: 1\n",
      "            setups:\n",
      "            -   actions:\n",
      "                -   action: update-packages\n",
      "                    extra: {}\n",
      "                    role: gan\n",
      "                roles:\n",
      "                -   extra: {}\n",
      "                    name: gan\n",
      "            type: type-a\n",
      "        type-b:\n",
      "            count: 1\n",
      "            min_count: 1\n",
      "            setups:\n",
      "            -   actions:\n",
      "                -   action: update-packages\n",
      "                    extra: {}\n",
      "                    role: gan\n",
      "                roles:\n",
      "                -   extra: {}\n",
      "                    name: gan\n",
      "            type: type-b\n",
      "    options: null\n",
      "cluster_id: cluster-0163f63e26bc447391c06c8daa4041ac\n",
      "cluster_name: MaximumPurchase\n",
      "creation_time: 1625741929.1785135\n",
      "is_setup: true\n",
      "update_time: 1625742468.9516416\n",
      "\n",
      "cluster_nodes \n",
      "\n",
      "['50e04022b4264d5685b1630a874af2f5', 'f0dd6a63228048cf8600ad8ab3da7510']\n",
      "cluster_nodes_with_type \n",
      "\n",
      "{'type-a': ['50e04022b4264d5685b1630a874af2f5'], 'type-b': ['f0dd6a63228048cf8600ad8ab3da7510']}\n",
      "cluster_nodes_with_type -> yaml.dump \n",
      "\n",
      "type-a:\n",
      "- 50e04022b4264d5685b1630a874af2f5\n",
      "type-b:\n",
      "- f0dd6a63228048cf8600ad8ab3da7510\n",
      "\n",
      "High Price Node ID: ['f0dd6a63228048cf8600ad8ab3da7510'], Instance Type: type-b\n",
      "Lower Price Node ID: ['50e04022b4264d5685b1630a874af2f5'], Instance Type: type-a\n",
      "\u001b[1;35m[WARNING]: provided hosts list is empty, only localhost is available. Note that\u001b[0m\n",
      "\u001b[1;35mthe implicit localhost does not match 'all'\u001b[0m\n",
      "\n",
      "PLAY [localhost] ***************************************************************\n",
      "\n",
      "TASK [Starting 1 type-a instances (timeout 600 seconds)] ***********************\n",
      "\u001b[0;33mchanged: [localhost]\u001b[0m\n",
      "\n",
      "PLAY RECAP *********************************************************************\n",
      "\u001b[0;33mlocalhost\u001b[0m                  : \u001b[0;32mok=1   \u001b[0m \u001b[0;33mchanged=1   \u001b[0m unreachable=0    failed=0    skipped=0    rescued=0    ignored=0   \n",
      "\n",
      "\u001b[1;35m[WARNING]: provided hosts list is empty, only localhost is available. Note that\u001b[0m\n",
      "\u001b[1;35mthe implicit localhost does not match 'all'\u001b[0m\n",
      "\n",
      "PLAY [localhost] ***************************************************************\n",
      "\n",
      "TASK [Tagging instances] *******************************************************\n",
      "\u001b[0;33mchanged: [localhost] => (item={'id': 'i-08da226905cb284e3', 'name': 'MarioTurrubiates-3afb704c'})\u001b[0m\n",
      "\n",
      "PLAY RECAP *********************************************************************\n",
      "\u001b[0;33mlocalhost\u001b[0m                  : \u001b[0;32mok=1   \u001b[0m \u001b[0;33mchanged=1   \u001b[0m unreachable=0    failed=0    skipped=0    rescued=0    ignored=0   \n",
      "\n",
      "New Node: ['3afb704c35094654befcac2eab851f54']\n",
      "[INIT] New Node: ['3afb704c35094654befcac2eab851f54']\n",
      "\u001b[1;35m[WARNING]: provided hosts list is empty, only localhost is available. Note that\u001b[0m\n",
      "\u001b[1;35mthe implicit localhost does not match 'all'\u001b[0m\n",
      "\n",
      "PLAY [localhost] ***************************************************************\n",
      "\n",
      "TASK [Stopping nodes GaryCumming] **********************************************\n",
      "\u001b[0;33mchanged: [localhost]\u001b[0m\n",
      "\n",
      "PLAY RECAP *********************************************************************\n",
      "\u001b[0;33mlocalhost\u001b[0m                  : \u001b[0;32mok=1   \u001b[0m \u001b[0;33mchanged=1   \u001b[0m unreachable=0    failed=0    skipped=0    rescued=0    ignored=0   \n",
      "\n",
      "[STOP] Stopped Node: ['f0dd6a63228048cf8600ad8ab3da7510']\n"
     ]
    }
   ],
   "source": [
    "import app.cli.modules.optimizer as opt\n",
    "#opt.optimize_it(cluster_id, experiment_id, vm_price_file,root_dir, report_time) \n",
    "\n",
    "metrics = node_prices\n",
    "\n",
    "cluster = cluster_manager.get_cluster_by_id(cluster_id)\n",
    "cluster_dict = asdict(cluster)\n",
    "print('cluster -> yaml.dump \\n')\n",
    "print(yaml.dump(cluster_dict, indent=4))\n",
    "cluster_nodes = cluster_manager.get_all_cluster_nodes(cluster_id)\n",
    "print('cluster_nodes \\n')\n",
    "print(cluster_nodes)\n",
    "cluster_nodes_with_type = cluster_manager.get_cluster_nodes_types(cluster_id)\n",
    "print('cluster_nodes_with_type \\n')\n",
    "print(cluster_nodes_with_type)\n",
    "print('cluster_nodes_with_type -> yaml.dump \\n')\n",
    "print(yaml.dump(cluster_nodes_with_type))\n",
    "\n",
    "nodes = node_manager.get_nodes_by_id(cluster_nodes)\n",
    "\n",
    "higher_price = 0\n",
    "lower_price = 1000\n",
    "higher_price_node_id=[]\n",
    "lower_price_node_id=[]\n",
    "for node in nodes:\n",
    "    node_dict = asdict(node)\n",
    "    if(float(metrics[node.node_id]) > float(higher_price)):\n",
    "        higher_price = float(metrics[node.node_id])\n",
    "        higher_price_node_id.clear()\n",
    "        higher_price_node_id.append(node.node_id)\n",
    "        high_instance_type = node_dict['configuration']['instance']['instance_config_id']\n",
    "        high_instance_flavor = node_dict['configuration']['instance']['flavor']\n",
    "    if(float(metrics[node.node_id]) < float(lower_price)):\n",
    "        lower_price = float(metrics[node.node_id])\n",
    "        lower_price_node_id.clear()\n",
    "        lower_price_node_id.append(node.node_id)\n",
    "        low_instance_type = node_dict['configuration']['instance']['instance_config_id']\n",
    "        low_instance_flavor = node_dict['configuration']['instance']['flavor']\n",
    "\n",
    "print(f\"High Price Node ID: {higher_price_node_id}, Instance Type: {high_instance_type}\") \n",
    "print(f\"Lower Price Node ID: {lower_price_node_id}, Instance Type: {low_instance_type}\")\n",
    "\n",
    "new_node_id = cluster_manager.grow(cluster_id, node_type=low_instance_type, count=1, min_count=1)\n",
    "print(f\"New Node: {new_node_id}\")\n",
    "\n",
    "new_node_ids = node_manager.get_nodes_by_id(new_node_id)\n",
    "for node in new_node_ids\n",
    "   print(f\"[INIT] {float_time_to_string(node.creation_time)} Created node:{node.id} of #type {low_instance_flavor}\")\n",
    "\n",
    "#if(high_instance_flavor!=low_instance_flavor)\n",
    "alive_node = node_manager.is_alive(new_node_id)\n",
    "for node_id, alive_flag in alive_node.items():\n",
    "    if(alive_flag == True):\n",
    "        print(f\"[INIT] New Node: {new_node_id}\")\n",
    "        new_nodes_types = {\n",
    "            low_instance_type: new_node_id\n",
    "        }\n",
    "        #cluster_manager.setup_cluster(cluster_id, nodes_being_added=new_nodes_types, \n",
    "        #                                                  start_at_stage='before_all')\n",
    "        stopped_node_id = node_manager.stop_nodes(higher_price_node_id)\n",
    "        print(f\"[STOP] {float_time_to_string(time.time())} Created node:{node.id} of #type {low_instance_flavor}\")\n",
    "        print(f\"[STOP] Stopped Node: {stopped_node_id}\")\n",
    "        result = True\n",
    "    else:\n",
    "        result = False\n",
    "\n",
    "\n"
   ]
  },
  {
   "cell_type": "markdown",
   "id": "dacea33b-6056-4f0b-b15e-9a76768d79ca",
   "metadata": {},
   "source": [
    "## Stopping cluster\n",
    "\n",
    "Finally we can stop the cluster (and stop all nodes) using the `stop_cluster` command. This will also remove the cluster from cluster repository.\n",
    "\n",
    "Other similar functions are:\n",
    "* `resume_cluster`: That will resume all paused nodes of a cluster  \n",
    "* `pause_cluster`: That will pause all nodes of a cluster\n",
    "* `is_alive`: That will check if all cluster nodes are alive"
   ]
  },
  {
   "cell_type": "code",
   "execution_count": 101,
   "id": "3ab4f63d-e940-48af-9026-c8a6809efdb5",
   "metadata": {},
   "outputs": [
    {
     "output_type": "stream",
     "name": "stdout",
     "text": [
      "\u001b[1;35m[WARNING]: provided hosts list is empty, only localhost is available. Note that\u001b[0m\n",
      "\u001b[1;35mthe implicit localhost does not match 'all'\u001b[0m\n",
      "\n",
      "PLAY [localhost] ***************************************************************\n",
      "\n",
      "TASK [Stopping nodes MarioTurrubiates, MarySlaughter] **************************\n",
      "\u001b[0;33mchanged: [localhost]\u001b[0m\n",
      "\n",
      "PLAY RECAP *********************************************************************\n",
      "\u001b[0;33mlocalhost\u001b[0m                  : \u001b[0;32mok=1   \u001b[0m \u001b[0;33mchanged=1   \u001b[0m unreachable=0    failed=0    skipped=0    rescued=0    ignored=0   \n",
      "\n"
     ]
    },
    {
     "output_type": "execute_result",
     "data": {
      "text/plain": [
       "['50e04022b4264d5685b1630a874af2f5', '3afb704c35094654befcac2eab851f54']"
      ]
     },
     "metadata": {},
     "execution_count": 101
    }
   ],
   "source": [
    "#cluster_manager.stop_cluster(cluster_id)"
   ]
  },
  {
   "cell_type": "code",
   "execution_count": 102,
   "metadata": {},
   "outputs": [],
   "source": [
    "'''clusters = cluster_manager.get_all_clusters()\n",
    "for cluster in clusters:\n",
    "    cluster_manager.stop_cluster(cluster)'''\n"
   ]
  },
  {
   "cell_type": "code",
   "execution_count": 103,
   "metadata": {},
   "outputs": [],
   "source": [
    "#node_manager.stop_nodes(['2c4610c8c02b41f983d96fcf928e0a28'])\n"
   ]
  },
  {
   "cell_type": "code",
   "execution_count": null,
   "metadata": {},
   "outputs": [],
   "source": []
  }
 ],
 "metadata": {
  "kernelspec": {
   "name": "python3",
   "display_name": "Python 3.8.10 64-bit ('clap-env': venv)"
  },
  "language_info": {
   "codemirror_mode": {
    "name": "ipython",
    "version": 3
   },
   "file_extension": ".py",
   "mimetype": "text/x-python",
   "name": "python",
   "nbconvert_exporter": "python",
   "pygments_lexer": "ipython3",
   "version": "3.8.10"
  },
  "interpreter": {
   "hash": "1ca696e889bf4fb244afbc506e01e1a525d9823cd08381e949decf93d6f3bed4"
  }
 },
 "nbformat": 4,
 "nbformat_minor": 5
}