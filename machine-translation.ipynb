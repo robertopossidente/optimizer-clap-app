{
 "cells": [
  {
   "cell_type": "markdown",
   "id": "70cd36c1-f4e8-4c97-b67d-b81b3676b7d4",
   "metadata": {},
   "source": [
    "# Machine Translation with Transformer"
   ]
  },
  {
   "cell_type": "code",
   "execution_count": 22,
   "id": "2d7ec07d-f571-4753-826c-3e61234a0a66",
   "metadata": {},
   "outputs": [],
   "source": [
    "import sys\n",
    "sys.path.append('../..')"
   ]
  },
  {
   "cell_type": "code",
   "execution_count": 23,
   "id": "1038f71e-e2f9-46d7-88eb-07368c3996e0",
   "metadata": {},
   "outputs": [],
   "source": [
    "import yaml\n",
    "import time\n",
    "import glob\n",
    "import datetime\n",
    "from dataclasses import asdict\n",
    "from app.cli.modules.node import get_config_db, get_node_manager\n",
    "from app.cli.modules.role import get_role_manager\n",
    "from app.cli.modules.cluster import get_cluster_config_db, get_cluster_manager\n",
    "from clap.utils import float_time_to_string, path_extend, yaml_load\n",
    "from clap.executor import SSHCommandExecutor, AnsiblePlaybookExecutor\n"
   ]
  },
  {
   "cell_type": "code",
   "execution_count": 24,
   "id": "38fc284c-e678-49fc-805b-c55fe7b73264",
   "metadata": {},
   "outputs": [
    {
     "output_type": "stream",
     "name": "stderr",
     "text": [
      "Redefinition of setup setup-initial. Skipping\n"
     ]
    }
   ],
   "source": [
    "configuration_db = get_config_db()\n",
    "cluster_config_db = get_cluster_config_db()\n",
    "node_manager = get_node_manager()\n",
    "role_manager = get_role_manager()\n",
    "cluster_manager = get_cluster_manager()\n",
    "# Private's path (usually ~/.clap/private/) will be used for other methods\n",
    "private_path = node_manager.private_path"
   ]
  },
  {
   "cell_type": "markdown",
   "id": "d5059b63-3220-409d-b18f-48a81d45878d",
   "metadata": {},
   "source": [
    "`cluster_config_db` will load all cluster configs at `~/.clap/configs/clusters/` and will store all in the `clusters` member. `clusters` is a dictionary, where the keys are the name of cluster configuration the values are dataclasses of type `ClusterConfig`.\n",
    "\n",
    "Let's list all cluster configurations and get the configuration named `npb-cluster`."
   ]
  },
  {
   "cell_type": "code",
   "execution_count": 25,
   "id": "121179fd-b688-4468-880d-a89ac7e7d37c",
   "metadata": {},
   "outputs": [
    {
     "output_type": "stream",
     "name": "stdout",
     "text": [
      "['my-cluster', 'example-cluster']\n"
     ]
    }
   ],
   "source": [
    "print(list(cluster_config_db.clusters.keys()))"
   ]
  },
  {
   "cell_type": "code",
   "execution_count": 26,
   "id": "950a8a2d-96cf-497b-abb6-18baf3782de8",
   "metadata": {},
   "outputs": [
    {
     "output_type": "stream",
     "name": "stdout",
     "text": [
      "ClusterConfig(cluster_config_id='my-cluster', options=None, before_all=[], before=[SetupConfig(roles=[RoleAdd(name='gan', extra={})], actions=[RoleActionType(role='gan', action='update-packages', extra={})])], after_all=[], after=[SetupConfig(roles=[], actions=[RoleActionType(role='gan', action='install-packages', extra={'packages': 'python3-pip, build-essential, cmake, openmpi-bin, openmpi-common, openmpi-doc, libopenmpi-dev'})]), SetupConfig(roles=[], actions=[RoleActionType(role='gan', action='run-command', extra={'cmd': 'sudo apt-get -y install python-is-python3'})]), SetupConfig(roles=[], actions=[RoleActionType(role='gan', action='run-command', extra={'cmd': 'sudo pip install mxnet gluonnlp sacremoses'})]), SetupConfig(roles=[], actions=[RoleActionType(role='gan', action='run-command', extra={'cmd': 'sudo rm -rf optimizer-clap-app/ && git clone https://github.com/robertopossidente/optimizer-clap-app.git'})]), SetupConfig(roles=[], actions=[RoleActionType(role='gan', action='run-command', extra={'cmd': 'sudo mkdir -p /etc/ansible/facts.d/ && sudo cp optimizer-clap-app/times.fact /etc/ansible/facts.d/ && sudo chown ubuntu:ubuntu /etc/ansible/facts.d/times.fact && sudo chmod 644 /etc/ansible/facts.d/times.fact'})]), SetupConfig(roles=[], actions=[RoleActionType(role='gan', action='run-command', extra={'cmd': 'sudo chmod 400 optimizer-clap-app/machine-translation/clap-config/private/gan-clap-keypair.pem && sudo cp optimizer-clap-app/machine-translation/clap-config/private/gan-clap-keypair.pem /home/ubuntu/.ssh/id_rsa && sudo chown ubuntu:ubuntu /home/ubuntu/.ssh/id_rsa'})]), SetupConfig(roles=[], actions=[RoleActionType(role='gan', action='run-command', extra={'cmd': 'sudo pip install horovod --no-cache-dir'})]), SetupConfig(roles=[], actions=[RoleActionType(role='gan', action='run-command', extra={'cmd': 'mpirun -np 1 -H localhost:1 -bind-to none -map-by slot python /home/ubuntu/optimizer-clap-app/machine-translation/my-train.py 2>&1 > log.txt'})])], nodes={'type-a': NodeConfig(type='type-a', count=1, min_count=1, setups=[SetupConfig(roles=[RoleAdd(name='gan', extra={})], actions=[RoleActionType(role='gan', action='update-packages', extra={})])]), 'type-b': NodeConfig(type='type-b', count=1, min_count=1, setups=[SetupConfig(roles=[RoleAdd(name='gan', extra={})], actions=[RoleActionType(role='gan', action='update-packages', extra={})])])})\n"
     ]
    }
   ],
   "source": [
    "npb_cluster_config = cluster_config_db.clusters['my-cluster']\n",
    "print(npb_cluster_config)"
   ]
  },
  {
   "cell_type": "markdown",
   "id": "d02c6d00-6e8e-4cbb-9641-2ab28a112acd",
   "metadata": {},
   "source": [
    "The configuration is a dataclass, so it can be ful converted to a dict, with `asdict` function."
   ]
  },
  {
   "cell_type": "code",
   "execution_count": 27,
   "id": "ad4edac5-6304-43e1-a5d0-b059ae3a668b",
   "metadata": {},
   "outputs": [
    {
     "output_type": "stream",
     "name": "stdout",
     "text": [
      "after:\n-   actions:\n    -   action: install-packages\n        extra:\n            packages: python3-pip, build-essential, cmake, openmpi-bin, openmpi-common,\n                openmpi-doc, libopenmpi-dev\n        role: gan\n    roles: []\n-   actions:\n    -   action: run-command\n        extra:\n            cmd: sudo apt-get -y install python-is-python3\n        role: gan\n    roles: []\n-   actions:\n    -   action: run-command\n        extra:\n            cmd: sudo pip install mxnet gluonnlp sacremoses\n        role: gan\n    roles: []\n-   actions:\n    -   action: run-command\n        extra:\n            cmd: sudo rm -rf optimizer-clap-app/ && git clone https://github.com/robertopossidente/optimizer-clap-app.git\n        role: gan\n    roles: []\n-   actions:\n    -   action: run-command\n        extra:\n            cmd: sudo mkdir -p /etc/ansible/facts.d/ && sudo cp optimizer-clap-app/times.fact\n                /etc/ansible/facts.d/ && sudo chown ubuntu:ubuntu /etc/ansible/facts.d/times.fact\n                && sudo chmod 644 /etc/ansible/facts.d/times.fact\n        role: gan\n    roles: []\n-   actions:\n    -   action: run-command\n        extra:\n            cmd: sudo chmod 400 optimizer-clap-app/machine-translation/clap-config/private/gan-clap-keypair.pem\n                && sudo cp optimizer-clap-app/machine-translation/clap-config/private/gan-clap-keypair.pem\n                /home/ubuntu/.ssh/id_rsa && sudo chown ubuntu:ubuntu /home/ubuntu/.ssh/id_rsa\n        role: gan\n    roles: []\n-   actions:\n    -   action: run-command\n        extra:\n            cmd: sudo pip install horovod --no-cache-dir\n        role: gan\n    roles: []\n-   actions:\n    -   action: run-command\n        extra:\n            cmd: mpirun -np 1 -H localhost:1 -bind-to none -map-by slot python /home/ubuntu/optimizer-clap-app/machine-translation/my-train.py\n                2>&1 > log.txt\n        role: gan\n    roles: []\nafter_all: []\nbefore:\n-   actions:\n    -   action: update-packages\n        extra: {}\n        role: gan\n    roles:\n    -   extra: {}\n        name: gan\nbefore_all: []\ncluster_config_id: my-cluster\nnodes:\n    type-a:\n        count: 1\n        min_count: 1\n        setups:\n        -   actions:\n            -   action: update-packages\n                extra: {}\n                role: gan\n            roles:\n            -   extra: {}\n                name: gan\n        type: type-a\n    type-b:\n        count: 1\n        min_count: 1\n        setups:\n        -   actions:\n            -   action: update-packages\n                extra: {}\n                role: gan\n            roles:\n            -   extra: {}\n                name: gan\n        type: type-b\noptions: null\n\n"
     ]
    }
   ],
   "source": [
    "npb_cluster_config_dict = asdict(npb_cluster_config)\n",
    "print(yaml.dump(npb_cluster_config_dict, indent=4))"
   ]
  },
  {
   "cell_type": "markdown",
   "id": "dd2fb8bf-d222-4874-b4d4-963d4dd2b1d3",
   "metadata": {},
   "source": [
    "We can start a cluster, based on a cluster configuration, using the `start_cluster`  method from `ClusterManager` class The function will return a cluster id that will be used for other methods."
   ]
  },
  {
   "cell_type": "code",
   "execution_count": 28,
   "id": "2d969752-98c2-4520-8f84-bd668cb25c6d",
   "metadata": {},
   "outputs": [
    {
     "output_type": "stream",
     "name": "stdout",
     "text": [
      "\u001b[1;35m[WARNING]: provided hosts list is empty, only localhost is available. Note that\u001b[0m\n",
      "\u001b[1;35mthe implicit localhost does not match 'all'\u001b[0m\n",
      "\n",
      "PLAY [localhost] ***************************************************************\n",
      "\n",
      "TASK [Starting 1 type-a instances (timeout 600 seconds)] ***********************\n",
      "\u001b[0;33mchanged: [localhost]\u001b[0m\n",
      "\n",
      "PLAY RECAP *********************************************************************\n",
      "\u001b[0;33mlocalhost\u001b[0m                  : \u001b[0;32mok=1   \u001b[0m \u001b[0;33mchanged=1   \u001b[0m unreachable=0    failed=0    skipped=0    rescued=0    ignored=0   \n",
      "\n",
      "\u001b[1;35m[WARNING]: provided hosts list is empty, only localhost is available. Note that\u001b[0m\n",
      "\u001b[1;35mthe implicit localhost does not match 'all'\u001b[0m\n",
      "\n",
      "PLAY [localhost] ***************************************************************\n",
      "\n",
      "TASK [Tagging instances] *******************************************************\n",
      "\u001b[0;33mchanged: [localhost] => (item={'id': 'i-047db9596506582e2', 'name': 'BarbaraGodwin-6a1802e7'})\u001b[0m\n",
      "\n",
      "PLAY RECAP *********************************************************************\n",
      "\u001b[0;33mlocalhost\u001b[0m                  : \u001b[0;32mok=1   \u001b[0m \u001b[0;33mchanged=1   \u001b[0m unreachable=0    failed=0    skipped=0    rescued=0    ignored=0   \n",
      "\n",
      "\u001b[1;35m[WARNING]: provided hosts list is empty, only localhost is available. Note that\u001b[0m\n",
      "\u001b[1;35mthe implicit localhost does not match 'all'\u001b[0m\n",
      "\n",
      "PLAY [localhost] ***************************************************************\n",
      "\n",
      "TASK [Starting 1 type-b instances (timeout 600 seconds)] ***********************\n",
      "\u001b[0;33mchanged: [localhost]\u001b[0m\n",
      "\n",
      "PLAY RECAP *********************************************************************\n",
      "\u001b[0;33mlocalhost\u001b[0m                  : \u001b[0;32mok=1   \u001b[0m \u001b[0;33mchanged=1   \u001b[0m unreachable=0    failed=0    skipped=0    rescued=0    ignored=0   \n",
      "\n",
      "\u001b[1;35m[WARNING]: provided hosts list is empty, only localhost is available. Note that\u001b[0m\n",
      "\u001b[1;35mthe implicit localhost does not match 'all'\u001b[0m\n",
      "\n",
      "PLAY [localhost] ***************************************************************\n",
      "\n",
      "TASK [Tagging instances] *******************************************************\n",
      "\u001b[0;33mchanged: [localhost] => (item={'id': 'i-0c2fef649dd1d30fe', 'name': 'LatoyaLester-3ce69e2a'})\u001b[0m\n",
      "\n",
      "PLAY RECAP *********************************************************************\n",
      "\u001b[0;33mlocalhost\u001b[0m                  : \u001b[0;32mok=1   \u001b[0m \u001b[0;33mchanged=1   \u001b[0m unreachable=0    failed=0    skipped=0    rescued=0    ignored=0   \n",
      "\n",
      "cluster-7f12c687678946e39ab39adf45b67292\n"
     ]
    }
   ],
   "source": [
    "cluster_id = cluster_manager.start_cluster(npb_cluster_config)\n",
    "print(cluster_id)"
   ]
  },
  {
   "cell_type": "markdown",
   "id": "857d4a8a-84c0-4959-b366-f71cc32e8da8",
   "metadata": {},
   "source": [
    "We can get a full cluster information using `get_cluster_by_id` method from `ClusterManager` class. It will return a dataclass of type `ClusterDescriptor` that has all the information of a custer. TO get all clusters in the repository, `get_all_clusters` function returns a list of `ClusterDescriptor`. \n",
    "\n",
    "Let's print the `ClusterDescriptor` from cluster the recently created cluster `cluster-da580f1038254cfa98b203ca109ecb53` in YAML format."
   ]
  },
  {
   "cell_type": "markdown",
   "id": "b65dba46-c78f-429a-aeb3-1d0c55828fd7",
   "metadata": {},
   "source": [
    "Given a cluster id, we can get all CLAP nodes that belongs to this cluster, using `get_all_cluster_nodes` method from `ClusterManager` class. It wil return a list of node ids, which can be used with several CLAP modules, such as `NodeManager` and `RoleManager` classes.."
   ]
  },
  {
   "cell_type": "code",
   "execution_count": 29,
   "id": "5f56de15-a275-457b-abc5-8d878be1163b",
   "metadata": {},
   "outputs": [
    {
     "output_type": "stream",
     "name": "stdout",
     "text": [
      "['6a1802e76e5f4cf7a24d7becdff0c38b', '3ce69e2a4c62436da70ab98d12511f07']\n"
     ]
    }
   ],
   "source": [
    "cluster_nodes = cluster_manager.get_all_cluster_nodes(cluster_id)\n",
    "print(cluster_nodes)"
   ]
  },
  {
   "cell_type": "markdown",
   "id": "00544087-14b6-46d7-a314-9efb442021c4",
   "metadata": {},
   "source": [
    "Using the `get_cluster_nodes_types` method from `ClusterManager` class will result in a dictionary where the key are the cluster node types (e.g., `npb-type-b`) and the values are a list of node ids of nodes from that type."
   ]
  },
  {
   "cell_type": "code",
   "execution_count": 30,
   "id": "62fc45ed-e7ff-4345-a53f-1fb5a6def492",
   "metadata": {},
   "outputs": [
    {
     "output_type": "stream",
     "name": "stdout",
     "text": [
      "{'type-a': ['6a1802e76e5f4cf7a24d7becdff0c38b'], 'type-b': ['3ce69e2a4c62436da70ab98d12511f07']}\n"
     ]
    }
   ],
   "source": [
    "cluster_nodes_with_type = cluster_manager.get_cluster_nodes_types(cluster_id)\n",
    "print(cluster_nodes_with_type)"
   ]
  },
  {
   "cell_type": "code",
   "execution_count": 31,
   "id": "0d1fc562-d336-4805-a005-7a07da85d642",
   "metadata": {},
   "outputs": [
    {
     "output_type": "stream",
     "name": "stdout",
     "text": [
      "type-a:\n- 6a1802e76e5f4cf7a24d7becdff0c38b\ntype-b:\n- 3ce69e2a4c62436da70ab98d12511f07\n\n"
     ]
    }
   ],
   "source": [
    "cluster_nodes_with_type = cluster_manager.get_cluster_nodes_types(cluster_id)\n",
    "print(yaml.dump(cluster_nodes_with_type))"
   ]
  },
  {
   "cell_type": "code",
   "execution_count": 32,
   "metadata": {
    "tags": []
   },
   "outputs": [
    {
     "output_type": "stream",
     "name": "stdout",
     "text": [
      "\n",
      "PLAY [all] *********************************************************************\n",
      "\n",
      "TASK [Gathering Facts] *********************************************************\n",
      "\u001b[0;32mok: [3ce69e2a4c62436da70ab98d12511f07]\u001b[0m\n",
      "\u001b[0;32mok: [6a1802e76e5f4cf7a24d7becdff0c38b]\u001b[0m\n",
      "\n",
      "TASK [Perform package list update] *********************************************\n"
     ]
    },
    {
     "output_type": "error",
     "ename": "KeyboardInterrupt",
     "evalue": "",
     "traceback": [
      "\u001b[0;31m---------------------------------------------------------------------------\u001b[0m",
      "\u001b[0;31mKeyboardInterrupt\u001b[0m                         Traceback (most recent call last)",
      "\u001b[0;32m/tmp/ipykernel_16138/3028322908.py\u001b[0m in \u001b[0;36m<module>\u001b[0;34m\u001b[0m\n\u001b[0;32m----> 1\u001b[0;31m \u001b[0mcluster_manager\u001b[0m\u001b[0;34m.\u001b[0m\u001b[0msetup_cluster\u001b[0m\u001b[0;34m(\u001b[0m\u001b[0mcluster_id\u001b[0m\u001b[0;34m,\u001b[0m \u001b[0mnodes_being_added\u001b[0m\u001b[0;34m=\u001b[0m\u001b[0;32mNone\u001b[0m\u001b[0;34m,\u001b[0m \u001b[0mmax_workers\u001b[0m\u001b[0;34m=\u001b[0m\u001b[0;36m1\u001b[0m\u001b[0;34m,\u001b[0m \u001b[0mstart_at_stage\u001b[0m\u001b[0;34m=\u001b[0m\u001b[0;34m'before'\u001b[0m\u001b[0;34m)\u001b[0m\u001b[0;34m\u001b[0m\u001b[0;34m\u001b[0m\u001b[0m\n\u001b[0m\u001b[1;32m      2\u001b[0m \u001b[0;31m#cluster_manager.setup_cluster(cluster_id, nodes_being_added=None, max_workers=1, start_at_stage='after_all')\u001b[0m\u001b[0;34m\u001b[0m\u001b[0;34m\u001b[0m\u001b[0;34m\u001b[0m\u001b[0m\n",
      "\u001b[0;32m/home/ubuntu/CLAP/examples/api/../../clap/cluster_manager.py\u001b[0m in \u001b[0;36msetup_cluster\u001b[0;34m(self, cluster_id, nodes_being_added, max_workers, start_at_stage)\u001b[0m\n\u001b[1;32m    745\u001b[0m         \u001b[0;31m# Before Stage\u001b[0m\u001b[0;34m\u001b[0m\u001b[0;34m\u001b[0m\u001b[0;34m\u001b[0m\u001b[0m\n\u001b[1;32m    746\u001b[0m         \u001b[0;32mif\u001b[0m \u001b[0mstart_at_stage\u001b[0m \u001b[0;34m<=\u001b[0m \u001b[0mstages\u001b[0m\u001b[0;34m[\u001b[0m\u001b[0;34m'before'\u001b[0m\u001b[0;34m]\u001b[0m\u001b[0;34m:\u001b[0m\u001b[0;34m\u001b[0m\u001b[0;34m\u001b[0m\u001b[0m\n\u001b[0;32m--> 747\u001b[0;31m             \u001b[0;32mif\u001b[0m \u001b[0;32mnot\u001b[0m \u001b[0mself\u001b[0m\u001b[0;34m.\u001b[0m\u001b[0m_run_setup_list\u001b[0m\u001b[0;34m(\u001b[0m\u001b[0mcluster\u001b[0m\u001b[0;34m.\u001b[0m\u001b[0mcluster_config\u001b[0m\u001b[0;34m.\u001b[0m\u001b[0mbefore\u001b[0m\u001b[0;34m,\u001b[0m \u001b[0mall_being_added\u001b[0m\u001b[0;34m)\u001b[0m\u001b[0;34m:\u001b[0m\u001b[0;34m\u001b[0m\u001b[0;34m\u001b[0m\u001b[0m\n\u001b[0m\u001b[1;32m    748\u001b[0m                 raise ClusterSetupError(\n\u001b[1;32m    749\u001b[0m                     f\"Error setting up cluster {cluster_id} at 'before' stage\")\n",
      "\u001b[0;32m/home/ubuntu/CLAP/examples/api/../../clap/cluster_manager.py\u001b[0m in \u001b[0;36m_run_setup_list\u001b[0;34m(self, setups, node_ids)\u001b[0m\n\u001b[1;32m    700\u001b[0m     \u001b[0;32mdef\u001b[0m \u001b[0m_run_setup_list\u001b[0m\u001b[0;34m(\u001b[0m\u001b[0mself\u001b[0m\u001b[0;34m,\u001b[0m \u001b[0msetups\u001b[0m\u001b[0;34m:\u001b[0m \u001b[0mList\u001b[0m\u001b[0;34m[\u001b[0m\u001b[0mSetupConfig\u001b[0m\u001b[0;34m]\u001b[0m\u001b[0;34m,\u001b[0m \u001b[0mnode_ids\u001b[0m\u001b[0;34m:\u001b[0m \u001b[0mList\u001b[0m\u001b[0;34m[\u001b[0m\u001b[0mstr\u001b[0m\u001b[0;34m]\u001b[0m\u001b[0;34m)\u001b[0m \u001b[0;34m->\u001b[0m \u001b[0mbool\u001b[0m\u001b[0;34m:\u001b[0m\u001b[0;34m\u001b[0m\u001b[0;34m\u001b[0m\u001b[0m\n\u001b[1;32m    701\u001b[0m         \u001b[0;32mfor\u001b[0m \u001b[0msetup\u001b[0m \u001b[0;32min\u001b[0m \u001b[0msetups\u001b[0m\u001b[0;34m:\u001b[0m\u001b[0;34m\u001b[0m\u001b[0;34m\u001b[0m\u001b[0m\n\u001b[0;32m--> 702\u001b[0;31m             \u001b[0;32mif\u001b[0m \u001b[0;32mnot\u001b[0m \u001b[0mself\u001b[0m\u001b[0;34m.\u001b[0m\u001b[0mrun_setup\u001b[0m\u001b[0;34m(\u001b[0m\u001b[0msetup\u001b[0m\u001b[0;34m,\u001b[0m \u001b[0mnode_ids\u001b[0m\u001b[0;34m)\u001b[0m\u001b[0;34m:\u001b[0m\u001b[0;34m\u001b[0m\u001b[0;34m\u001b[0m\u001b[0m\n\u001b[0m\u001b[1;32m    703\u001b[0m                 \u001b[0;32mreturn\u001b[0m \u001b[0;32mFalse\u001b[0m\u001b[0;34m\u001b[0m\u001b[0;34m\u001b[0m\u001b[0m\n\u001b[1;32m    704\u001b[0m         \u001b[0;32mreturn\u001b[0m \u001b[0;32mTrue\u001b[0m\u001b[0;34m\u001b[0m\u001b[0;34m\u001b[0m\u001b[0m\n",
      "\u001b[0;32m/home/ubuntu/CLAP/examples/api/../../clap/cluster_manager.py\u001b[0m in \u001b[0;36mrun_setup\u001b[0;34m(self, setup, node_ids)\u001b[0m\n\u001b[1;32m    694\u001b[0m                 \u001b[0;32mreturn\u001b[0m \u001b[0;32mFalse\u001b[0m\u001b[0;34m\u001b[0m\u001b[0;34m\u001b[0m\u001b[0m\n\u001b[1;32m    695\u001b[0m         \u001b[0;32mfor\u001b[0m \u001b[0maction\u001b[0m \u001b[0;32min\u001b[0m \u001b[0msetup\u001b[0m\u001b[0;34m.\u001b[0m\u001b[0mactions\u001b[0m\u001b[0;34m:\u001b[0m\u001b[0;34m\u001b[0m\u001b[0;34m\u001b[0m\u001b[0m\n\u001b[0;32m--> 696\u001b[0;31m             \u001b[0;32mif\u001b[0m \u001b[0;32mnot\u001b[0m \u001b[0mself\u001b[0m\u001b[0;34m.\u001b[0m\u001b[0mrun_action\u001b[0m\u001b[0;34m(\u001b[0m\u001b[0maction\u001b[0m\u001b[0;34m,\u001b[0m \u001b[0mnode_ids\u001b[0m\u001b[0;34m)\u001b[0m\u001b[0;34m:\u001b[0m\u001b[0;34m\u001b[0m\u001b[0;34m\u001b[0m\u001b[0m\n\u001b[0m\u001b[1;32m    697\u001b[0m                 \u001b[0;32mreturn\u001b[0m \u001b[0;32mFalse\u001b[0m\u001b[0;34m\u001b[0m\u001b[0;34m\u001b[0m\u001b[0m\n\u001b[1;32m    698\u001b[0m         \u001b[0;32mreturn\u001b[0m \u001b[0;32mTrue\u001b[0m\u001b[0;34m\u001b[0m\u001b[0;34m\u001b[0m\u001b[0m\n",
      "\u001b[0;32m/home/ubuntu/CLAP/examples/api/../../clap/cluster_manager.py\u001b[0m in \u001b[0;36mrun_action\u001b[0;34m(self, action, node_ids)\u001b[0m\n\u001b[1;32m    641\u001b[0m                         \u001b[0md\u001b[0m\u001b[0;34m[\u001b[0m\u001b[0mhname\u001b[0m\u001b[0;34m]\u001b[0m\u001b[0;34m.\u001b[0m\u001b[0mappend\u001b[0m\u001b[0;34m(\u001b[0m\u001b[0mn\u001b[0m\u001b[0;34m)\u001b[0m\u001b[0;34m\u001b[0m\u001b[0;34m\u001b[0m\u001b[0m\n\u001b[1;32m    642\u001b[0m                 \u001b[0m_nodes_ids\u001b[0m \u001b[0;34m=\u001b[0m \u001b[0mdefaultdict_to_dict\u001b[0m\u001b[0;34m(\u001b[0m\u001b[0md\u001b[0m\u001b[0;34m)\u001b[0m\u001b[0;34m\u001b[0m\u001b[0;34m\u001b[0m\u001b[0m\n\u001b[0;32m--> 643\u001b[0;31m                 result = self.role_manager.perform_action(\n\u001b[0m\u001b[1;32m    644\u001b[0m                     action.role, action.action, _nodes_ids, extra_args=action.extra)\n\u001b[1;32m    645\u001b[0m                 \u001b[0;32mreturn\u001b[0m \u001b[0mresult\u001b[0m\u001b[0;34m.\u001b[0m\u001b[0mok\u001b[0m\u001b[0;34m\u001b[0m\u001b[0;34m\u001b[0m\u001b[0m\n",
      "\u001b[0;32m/home/ubuntu/CLAP/examples/api/../../clap/role_manager.py\u001b[0m in \u001b[0;36mperform_action\u001b[0;34m(self, role_name, action_name, hosts_node_map, host_vars, node_vars, extra_args, quiet, validate_nodes_in_role)\u001b[0m\n\u001b[1;32m    335\u001b[0m         logger.info(f'Executing playbook {playbook_file} with inventory: '\n\u001b[1;32m    336\u001b[0m                     f'{inventory}')\n\u001b[0;32m--> 337\u001b[0;31m         \u001b[0mresult\u001b[0m \u001b[0;34m=\u001b[0m \u001b[0mplaybook\u001b[0m\u001b[0;34m.\u001b[0m\u001b[0mrun\u001b[0m\u001b[0;34m(\u001b[0m\u001b[0;34m)\u001b[0m\u001b[0;34m\u001b[0m\u001b[0;34m\u001b[0m\u001b[0m\n\u001b[0m\u001b[1;32m    338\u001b[0m         \u001b[0;32mreturn\u001b[0m \u001b[0mresult\u001b[0m\u001b[0;34m\u001b[0m\u001b[0;34m\u001b[0m\u001b[0m\n\u001b[1;32m    339\u001b[0m \u001b[0;34m\u001b[0m\u001b[0m\n",
      "\u001b[0;32m/home/ubuntu/CLAP/examples/api/../../clap/executor.py\u001b[0m in \u001b[0;36mrun\u001b[0;34m(self)\u001b[0m\n\u001b[1;32m    218\u001b[0m             \u001b[0mlogger\u001b[0m\u001b[0;34m.\u001b[0m\u001b[0mdebug\u001b[0m\u001b[0;34m(\u001b[0m\u001b[0;34mf\"Inventory: \\n{yaml.dump(self.inventory)}\"\u001b[0m\u001b[0;34m)\u001b[0m\u001b[0;34m\u001b[0m\u001b[0;34m\u001b[0m\u001b[0m\n\u001b[1;32m    219\u001b[0m             \u001b[0mlogger\u001b[0m\u001b[0;34m.\u001b[0m\u001b[0mdebug\u001b[0m\u001b[0;34m(\u001b[0m\u001b[0;34mf\"Extra: \\n{yaml.dump(self.extra_args)}\"\u001b[0m\u001b[0;34m)\u001b[0m\u001b[0;34m\u001b[0m\u001b[0;34m\u001b[0m\u001b[0m\n\u001b[0;32m--> 220\u001b[0;31m             ret = ansible_runner.run(\n\u001b[0m\u001b[1;32m    221\u001b[0m                 \u001b[0mprivate_data_dir\u001b[0m\u001b[0;34m=\u001b[0m\u001b[0mtdir\u001b[0m\u001b[0;34m,\u001b[0m \u001b[0minventory\u001b[0m\u001b[0;34m=\u001b[0m\u001b[0mself\u001b[0m\u001b[0;34m.\u001b[0m\u001b[0minventory\u001b[0m\u001b[0;34m,\u001b[0m\u001b[0;34m\u001b[0m\u001b[0;34m\u001b[0m\u001b[0m\n\u001b[1;32m    222\u001b[0m                 \u001b[0mplaybook\u001b[0m\u001b[0;34m=\u001b[0m\u001b[0mself\u001b[0m\u001b[0;34m.\u001b[0m\u001b[0mplaybook_file\u001b[0m\u001b[0;34m,\u001b[0m \u001b[0mquiet\u001b[0m\u001b[0;34m=\u001b[0m\u001b[0mself\u001b[0m\u001b[0;34m.\u001b[0m\u001b[0mquiet\u001b[0m\u001b[0;34m,\u001b[0m\u001b[0;34m\u001b[0m\u001b[0;34m\u001b[0m\u001b[0m\n",
      "\u001b[0;32m/home/ubuntu/CLAP/clap-env/lib/python3.8/site-packages/ansible_runner/interface.py\u001b[0m in \u001b[0;36mrun\u001b[0;34m(**kwargs)\u001b[0m\n\u001b[1;32m    253\u001b[0m     '''\n\u001b[1;32m    254\u001b[0m     \u001b[0mr\u001b[0m \u001b[0;34m=\u001b[0m \u001b[0minit_runner\u001b[0m\u001b[0;34m(\u001b[0m\u001b[0;34m**\u001b[0m\u001b[0mkwargs\u001b[0m\u001b[0;34m)\u001b[0m\u001b[0;34m\u001b[0m\u001b[0;34m\u001b[0m\u001b[0m\n\u001b[0;32m--> 255\u001b[0;31m     \u001b[0mr\u001b[0m\u001b[0;34m.\u001b[0m\u001b[0mrun\u001b[0m\u001b[0;34m(\u001b[0m\u001b[0;34m)\u001b[0m\u001b[0;34m\u001b[0m\u001b[0;34m\u001b[0m\u001b[0m\n\u001b[0m\u001b[1;32m    256\u001b[0m     \u001b[0;32mreturn\u001b[0m \u001b[0mr\u001b[0m\u001b[0;34m\u001b[0m\u001b[0;34m\u001b[0m\u001b[0m\n\u001b[1;32m    257\u001b[0m \u001b[0;34m\u001b[0m\u001b[0m\n",
      "\u001b[0;32m/home/ubuntu/CLAP/clap-env/lib/python3.8/site-packages/ansible_runner/runner.py\u001b[0m in \u001b[0;36mrun\u001b[0;34m(self)\u001b[0m\n\u001b[1;32m    329\u001b[0m             \u001b[0mjob_start\u001b[0m \u001b[0;34m=\u001b[0m \u001b[0mtime\u001b[0m\u001b[0;34m.\u001b[0m\u001b[0mtime\u001b[0m\u001b[0;34m(\u001b[0m\u001b[0;34m)\u001b[0m\u001b[0;34m\u001b[0m\u001b[0;34m\u001b[0m\u001b[0m\n\u001b[1;32m    330\u001b[0m             \u001b[0;32mwhile\u001b[0m \u001b[0mchild\u001b[0m\u001b[0;34m.\u001b[0m\u001b[0misalive\u001b[0m\u001b[0;34m(\u001b[0m\u001b[0;34m)\u001b[0m\u001b[0;34m:\u001b[0m\u001b[0;34m\u001b[0m\u001b[0;34m\u001b[0m\u001b[0m\n\u001b[0;32m--> 331\u001b[0;31m                 \u001b[0mresult_id\u001b[0m \u001b[0;34m=\u001b[0m \u001b[0mchild\u001b[0m\u001b[0;34m.\u001b[0m\u001b[0mexpect\u001b[0m\u001b[0;34m(\u001b[0m\u001b[0mpassword_patterns\u001b[0m\u001b[0;34m,\u001b[0m \u001b[0mtimeout\u001b[0m\u001b[0;34m=\u001b[0m\u001b[0mself\u001b[0m\u001b[0;34m.\u001b[0m\u001b[0mconfig\u001b[0m\u001b[0;34m.\u001b[0m\u001b[0mpexpect_timeout\u001b[0m\u001b[0;34m,\u001b[0m \u001b[0msearchwindowsize\u001b[0m\u001b[0;34m=\u001b[0m\u001b[0;36m100\u001b[0m\u001b[0;34m)\u001b[0m\u001b[0;34m\u001b[0m\u001b[0;34m\u001b[0m\u001b[0m\n\u001b[0m\u001b[1;32m    332\u001b[0m                 \u001b[0mpassword\u001b[0m \u001b[0;34m=\u001b[0m \u001b[0mpassword_values\u001b[0m\u001b[0;34m[\u001b[0m\u001b[0mresult_id\u001b[0m\u001b[0;34m]\u001b[0m\u001b[0;34m\u001b[0m\u001b[0;34m\u001b[0m\u001b[0m\n\u001b[1;32m    333\u001b[0m                 \u001b[0;32mif\u001b[0m \u001b[0mpassword\u001b[0m \u001b[0;32mis\u001b[0m \u001b[0;32mnot\u001b[0m \u001b[0;32mNone\u001b[0m\u001b[0;34m:\u001b[0m\u001b[0;34m\u001b[0m\u001b[0;34m\u001b[0m\u001b[0m\n",
      "\u001b[0;32m/home/ubuntu/CLAP/clap-env/lib/python3.8/site-packages/pexpect/spawnbase.py\u001b[0m in \u001b[0;36mexpect\u001b[0;34m(self, pattern, timeout, searchwindowsize, async_, **kw)\u001b[0m\n\u001b[1;32m    341\u001b[0m \u001b[0;34m\u001b[0m\u001b[0m\n\u001b[1;32m    342\u001b[0m         \u001b[0mcompiled_pattern_list\u001b[0m \u001b[0;34m=\u001b[0m \u001b[0mself\u001b[0m\u001b[0;34m.\u001b[0m\u001b[0mcompile_pattern_list\u001b[0m\u001b[0;34m(\u001b[0m\u001b[0mpattern\u001b[0m\u001b[0;34m)\u001b[0m\u001b[0;34m\u001b[0m\u001b[0;34m\u001b[0m\u001b[0m\n\u001b[0;32m--> 343\u001b[0;31m         return self.expect_list(compiled_pattern_list,\n\u001b[0m\u001b[1;32m    344\u001b[0m                 timeout, searchwindowsize, async_)\n\u001b[1;32m    345\u001b[0m \u001b[0;34m\u001b[0m\u001b[0m\n",
      "\u001b[0;32m/home/ubuntu/CLAP/clap-env/lib/python3.8/site-packages/pexpect/spawnbase.py\u001b[0m in \u001b[0;36mexpect_list\u001b[0;34m(self, pattern_list, timeout, searchwindowsize, async_, **kw)\u001b[0m\n\u001b[1;32m    370\u001b[0m             \u001b[0;32mreturn\u001b[0m \u001b[0mexpect_async\u001b[0m\u001b[0;34m(\u001b[0m\u001b[0mexp\u001b[0m\u001b[0;34m,\u001b[0m \u001b[0mtimeout\u001b[0m\u001b[0;34m)\u001b[0m\u001b[0;34m\u001b[0m\u001b[0;34m\u001b[0m\u001b[0m\n\u001b[1;32m    371\u001b[0m         \u001b[0;32melse\u001b[0m\u001b[0;34m:\u001b[0m\u001b[0;34m\u001b[0m\u001b[0;34m\u001b[0m\u001b[0m\n\u001b[0;32m--> 372\u001b[0;31m             \u001b[0;32mreturn\u001b[0m \u001b[0mexp\u001b[0m\u001b[0;34m.\u001b[0m\u001b[0mexpect_loop\u001b[0m\u001b[0;34m(\u001b[0m\u001b[0mtimeout\u001b[0m\u001b[0;34m)\u001b[0m\u001b[0;34m\u001b[0m\u001b[0;34m\u001b[0m\u001b[0m\n\u001b[0m\u001b[1;32m    373\u001b[0m \u001b[0;34m\u001b[0m\u001b[0m\n\u001b[1;32m    374\u001b[0m     def expect_exact(self, pattern_list, timeout=-1, searchwindowsize=-1,\n",
      "\u001b[0;32m/home/ubuntu/CLAP/clap-env/lib/python3.8/site-packages/pexpect/expect.py\u001b[0m in \u001b[0;36mexpect_loop\u001b[0;34m(self, timeout)\u001b[0m\n\u001b[1;32m    167\u001b[0m                     \u001b[0;32mreturn\u001b[0m \u001b[0mself\u001b[0m\u001b[0;34m.\u001b[0m\u001b[0mtimeout\u001b[0m\u001b[0;34m(\u001b[0m\u001b[0;34m)\u001b[0m\u001b[0;34m\u001b[0m\u001b[0;34m\u001b[0m\u001b[0m\n\u001b[1;32m    168\u001b[0m                 \u001b[0;31m# Still have time left, so read more data\u001b[0m\u001b[0;34m\u001b[0m\u001b[0;34m\u001b[0m\u001b[0;34m\u001b[0m\u001b[0m\n\u001b[0;32m--> 169\u001b[0;31m                 \u001b[0mincoming\u001b[0m \u001b[0;34m=\u001b[0m \u001b[0mspawn\u001b[0m\u001b[0;34m.\u001b[0m\u001b[0mread_nonblocking\u001b[0m\u001b[0;34m(\u001b[0m\u001b[0mspawn\u001b[0m\u001b[0;34m.\u001b[0m\u001b[0mmaxread\u001b[0m\u001b[0;34m,\u001b[0m \u001b[0mtimeout\u001b[0m\u001b[0;34m)\u001b[0m\u001b[0;34m\u001b[0m\u001b[0;34m\u001b[0m\u001b[0m\n\u001b[0m\u001b[1;32m    170\u001b[0m                 \u001b[0;32mif\u001b[0m \u001b[0mself\u001b[0m\u001b[0;34m.\u001b[0m\u001b[0mspawn\u001b[0m\u001b[0;34m.\u001b[0m\u001b[0mdelayafterread\u001b[0m \u001b[0;32mis\u001b[0m \u001b[0;32mnot\u001b[0m \u001b[0;32mNone\u001b[0m\u001b[0;34m:\u001b[0m\u001b[0;34m\u001b[0m\u001b[0;34m\u001b[0m\u001b[0m\n\u001b[1;32m    171\u001b[0m                     \u001b[0mtime\u001b[0m\u001b[0;34m.\u001b[0m\u001b[0msleep\u001b[0m\u001b[0;34m(\u001b[0m\u001b[0mself\u001b[0m\u001b[0;34m.\u001b[0m\u001b[0mspawn\u001b[0m\u001b[0;34m.\u001b[0m\u001b[0mdelayafterread\u001b[0m\u001b[0;34m)\u001b[0m\u001b[0;34m\u001b[0m\u001b[0;34m\u001b[0m\u001b[0m\n",
      "\u001b[0;32m/home/ubuntu/CLAP/clap-env/lib/python3.8/site-packages/pexpect/pty_spawn.py\u001b[0m in \u001b[0;36mread_nonblocking\u001b[0;34m(self, size, timeout)\u001b[0m\n\u001b[1;32m    498\u001b[0m         \u001b[0;31m# is available right now. But if a non-zero timeout is given\u001b[0m\u001b[0;34m\u001b[0m\u001b[0;34m\u001b[0m\u001b[0;34m\u001b[0m\u001b[0m\n\u001b[1;32m    499\u001b[0m         \u001b[0;31m# (possibly timeout=None), we call select() with a timeout.\u001b[0m\u001b[0;34m\u001b[0m\u001b[0;34m\u001b[0m\u001b[0;34m\u001b[0m\u001b[0m\n\u001b[0;32m--> 500\u001b[0;31m         \u001b[0;32mif\u001b[0m \u001b[0;34m(\u001b[0m\u001b[0mtimeout\u001b[0m \u001b[0;34m!=\u001b[0m \u001b[0;36m0\u001b[0m\u001b[0;34m)\u001b[0m \u001b[0;32mand\u001b[0m \u001b[0mselect\u001b[0m\u001b[0;34m(\u001b[0m\u001b[0mtimeout\u001b[0m\u001b[0;34m)\u001b[0m\u001b[0;34m:\u001b[0m\u001b[0;34m\u001b[0m\u001b[0;34m\u001b[0m\u001b[0m\n\u001b[0m\u001b[1;32m    501\u001b[0m             \u001b[0;32mreturn\u001b[0m \u001b[0msuper\u001b[0m\u001b[0;34m(\u001b[0m\u001b[0mspawn\u001b[0m\u001b[0;34m,\u001b[0m \u001b[0mself\u001b[0m\u001b[0;34m)\u001b[0m\u001b[0;34m.\u001b[0m\u001b[0mread_nonblocking\u001b[0m\u001b[0;34m(\u001b[0m\u001b[0msize\u001b[0m\u001b[0;34m)\u001b[0m\u001b[0;34m\u001b[0m\u001b[0;34m\u001b[0m\u001b[0m\n\u001b[1;32m    502\u001b[0m \u001b[0;34m\u001b[0m\u001b[0m\n",
      "\u001b[0;32m/home/ubuntu/CLAP/clap-env/lib/python3.8/site-packages/pexpect/pty_spawn.py\u001b[0m in \u001b[0;36mselect\u001b[0;34m(timeout)\u001b[0m\n\u001b[1;32m    445\u001b[0m         \u001b[0;32mif\u001b[0m \u001b[0mself\u001b[0m\u001b[0;34m.\u001b[0m\u001b[0muse_poll\u001b[0m\u001b[0;34m:\u001b[0m\u001b[0;34m\u001b[0m\u001b[0;34m\u001b[0m\u001b[0m\n\u001b[1;32m    446\u001b[0m             \u001b[0;32mdef\u001b[0m \u001b[0mselect\u001b[0m\u001b[0;34m(\u001b[0m\u001b[0mtimeout\u001b[0m\u001b[0;34m)\u001b[0m\u001b[0;34m:\u001b[0m\u001b[0;34m\u001b[0m\u001b[0;34m\u001b[0m\u001b[0m\n\u001b[0;32m--> 447\u001b[0;31m                 \u001b[0;32mreturn\u001b[0m \u001b[0mpoll_ignore_interrupts\u001b[0m\u001b[0;34m(\u001b[0m\u001b[0;34m[\u001b[0m\u001b[0mself\u001b[0m\u001b[0;34m.\u001b[0m\u001b[0mchild_fd\u001b[0m\u001b[0;34m]\u001b[0m\u001b[0;34m,\u001b[0m \u001b[0mtimeout\u001b[0m\u001b[0;34m)\u001b[0m\u001b[0;34m\u001b[0m\u001b[0;34m\u001b[0m\u001b[0m\n\u001b[0m\u001b[1;32m    448\u001b[0m         \u001b[0;32melse\u001b[0m\u001b[0;34m:\u001b[0m\u001b[0;34m\u001b[0m\u001b[0;34m\u001b[0m\u001b[0m\n\u001b[1;32m    449\u001b[0m             \u001b[0;32mdef\u001b[0m \u001b[0mselect\u001b[0m\u001b[0;34m(\u001b[0m\u001b[0mtimeout\u001b[0m\u001b[0;34m)\u001b[0m\u001b[0;34m:\u001b[0m\u001b[0;34m\u001b[0m\u001b[0;34m\u001b[0m\u001b[0m\n",
      "\u001b[0;32m/home/ubuntu/CLAP/clap-env/lib/python3.8/site-packages/pexpect/utils.py\u001b[0m in \u001b[0;36mpoll_ignore_interrupts\u001b[0;34m(fds, timeout)\u001b[0m\n\u001b[1;32m    171\u001b[0m         \u001b[0;32mtry\u001b[0m\u001b[0;34m:\u001b[0m\u001b[0;34m\u001b[0m\u001b[0;34m\u001b[0m\u001b[0m\n\u001b[1;32m    172\u001b[0m             \u001b[0mtimeout_ms\u001b[0m \u001b[0;34m=\u001b[0m \u001b[0;32mNone\u001b[0m \u001b[0;32mif\u001b[0m \u001b[0mtimeout\u001b[0m \u001b[0;32mis\u001b[0m \u001b[0;32mNone\u001b[0m \u001b[0;32melse\u001b[0m \u001b[0mtimeout\u001b[0m \u001b[0;34m*\u001b[0m \u001b[0;36m1000\u001b[0m\u001b[0;34m\u001b[0m\u001b[0;34m\u001b[0m\u001b[0m\n\u001b[0;32m--> 173\u001b[0;31m             \u001b[0mresults\u001b[0m \u001b[0;34m=\u001b[0m \u001b[0mpoller\u001b[0m\u001b[0;34m.\u001b[0m\u001b[0mpoll\u001b[0m\u001b[0;34m(\u001b[0m\u001b[0mtimeout_ms\u001b[0m\u001b[0;34m)\u001b[0m\u001b[0;34m\u001b[0m\u001b[0;34m\u001b[0m\u001b[0m\n\u001b[0m\u001b[1;32m    174\u001b[0m             \u001b[0;32mreturn\u001b[0m \u001b[0;34m[\u001b[0m\u001b[0mafd\u001b[0m \u001b[0;32mfor\u001b[0m \u001b[0mafd\u001b[0m\u001b[0;34m,\u001b[0m \u001b[0m_\u001b[0m \u001b[0;32min\u001b[0m \u001b[0mresults\u001b[0m\u001b[0;34m]\u001b[0m\u001b[0;34m\u001b[0m\u001b[0;34m\u001b[0m\u001b[0m\n\u001b[1;32m    175\u001b[0m         \u001b[0;32mexcept\u001b[0m \u001b[0mInterruptedError\u001b[0m\u001b[0;34m:\u001b[0m\u001b[0;34m\u001b[0m\u001b[0;34m\u001b[0m\u001b[0m\n",
      "\u001b[0;31mKeyboardInterrupt\u001b[0m: "
     ]
    }
   ],
   "source": [
    "cluster_manager.setup_cluster(cluster_id, nodes_being_added=None, max_workers=1, start_at_stage='before')\n",
    "#cluster_manager.setup_cluster(cluster_id, nodes_being_added=None, max_workers=1, start_at_stage='after_all')"
   ]
  },
  {
   "cell_type": "code",
   "execution_count": 12,
   "metadata": {},
   "outputs": [
    {
     "output_type": "stream",
     "name": "stdout",
     "text": [
      "[NodeDescriptor(node_id='209183aadfc24037b4f69a67188af199', configuration=InstanceInfo(provider=ProviderConfigAWS(provider_config_id='aws-config-us-east-1', region='us-east-1', access_keyfile='aws-keypair.pub', secret_access_keyfile='aws-keypair.pem', vpc=None, url='https://ec2.us-east-1.amazonaws.com', provider='aws'), login=LoginConfig(login_config_id='login-ubuntu', user='ubuntu', keypair_name='gan-clap-keypair', keypair_public_file='gan-clap-keypair.pub', keypair_private_file='gan-clap-keypair.pem', ssh_port=22, sudo=True, sudo_user='root'), instance=InstanceConfigAWS(instance_config_id='type-a', provider='aws-config-us-east-1', login='login-ubuntu', flavor='t2.medium', image_id='ami-09e67e426f25ce0d7', security_group='gan-clap-sg-allopen', boot_disk_size=16, boot_disk_device=None, boot_disk_type=None, boot_disk_iops=None, boot_disk_snapshot=None, placement_group=None, price=None, timeout=None, network_ids=[])), nickname='StevenWallace', ip='3.91.219.236', type='cloud', cloud_instance_id='i-001a321fab134e7bd', cloud_lifecycle='normal', status='reachable', creation_time=1625796389.8117187, update_time=1625796434.5472105, roles=['gan'], tags={'.cluster:cluster-79fda16cee3044b8b11783b2b5bb8c8c': 'type-a'}, extra={'instance_id': 'i-001a321fab134e7bd', 'private_ip': '172.31.18.65', 'dns': 'ec2-3-91-219-236.compute-1.amazonaws.com', 'private_dns': 'ip-172-31-18-65.ec2.internal', 'architecture': 'x86_64', 'instance_tags': {'CreatedWith': 'CLAP', 'owner': 'MO833-21-roberto.possidente', 'Name': 'StevenWallace-209183aa', 'principalId': 'AIDATSRODRVJRLORIU6AD'}, 'vpc_id': 'vpc-dd94f4a6', 'subnet_id': 'subnet-9bf928d1'}), NodeDescriptor(node_id='8b33a6cb8d3f458297042ff732d25810', configuration=InstanceInfo(provider=ProviderConfigAWS(provider_config_id='aws-config-us-east-1', region='us-east-1', access_keyfile='aws-keypair.pub', secret_access_keyfile='aws-keypair.pem', vpc=None, url='https://ec2.us-east-1.amazonaws.com', provider='aws'), login=LoginConfig(login_config_id='login-ubuntu', user='ubuntu', keypair_name='gan-clap-keypair', keypair_public_file='gan-clap-keypair.pub', keypair_private_file='gan-clap-keypair.pem', ssh_port=22, sudo=True, sudo_user='root'), instance=InstanceConfigAWS(instance_config_id='type-b', provider='aws-config-us-east-1', login='login-ubuntu', flavor='t2.large', image_id='ami-09e67e426f25ce0d7', security_group='gan-clap-sg-allopen', boot_disk_size=16, boot_disk_device=None, boot_disk_type=None, boot_disk_iops=None, boot_disk_snapshot=None, placement_group=None, price=None, timeout=None, network_ids=[])), nickname='LatiaRudish', ip='34.200.218.159', type='cloud', cloud_instance_id='i-08e6d8c92c27c9a34', cloud_lifecycle='normal', status='reachable', creation_time=1625796422.091854, update_time=1625796434.5522478, roles=['gan'], tags={'.cluster:cluster-79fda16cee3044b8b11783b2b5bb8c8c': 'type-b'}, extra={'instance_id': 'i-08e6d8c92c27c9a34', 'private_ip': '172.31.9.33', 'dns': 'ec2-34-200-218-159.compute-1.amazonaws.com', 'private_dns': 'ip-172-31-9-33.ec2.internal', 'architecture': 'x86_64', 'instance_tags': {'principalId': 'AIDATSRODRVJRLORIU6AD', 'Name': 'LatiaRudish-8b33a6cb', 'owner': 'MO833-21-roberto.possidente', 'CreatedWith': 'CLAP'}, 'vpc_id': 'vpc-dd94f4a6', 'subnet_id': 'subnet-bbe700dc'})]\n209183aadfc24037b4f69a67188af199: Status: reachable; IP: 3.91.219.236\n8b33a6cb8d3f458297042ff732d25810: Status: reachable; IP: 34.200.218.159\n3.91.219.236:1,34.200.218.159:1\n['209183aadfc24037b4f69a67188af199']\n[NodeDescriptor(node_id='209183aadfc24037b4f69a67188af199', configuration=InstanceInfo(provider=ProviderConfigAWS(provider_config_id='aws-config-us-east-1', region='us-east-1', access_keyfile='aws-keypair.pub', secret_access_keyfile='aws-keypair.pem', vpc=None, url='https://ec2.us-east-1.amazonaws.com', provider='aws'), login=LoginConfig(login_config_id='login-ubuntu', user='ubuntu', keypair_name='gan-clap-keypair', keypair_public_file='gan-clap-keypair.pub', keypair_private_file='gan-clap-keypair.pem', ssh_port=22, sudo=True, sudo_user='root'), instance=InstanceConfigAWS(instance_config_id='type-a', provider='aws-config-us-east-1', login='login-ubuntu', flavor='t2.medium', image_id='ami-09e67e426f25ce0d7', security_group='gan-clap-sg-allopen', boot_disk_size=16, boot_disk_device=None, boot_disk_type=None, boot_disk_iops=None, boot_disk_snapshot=None, placement_group=None, price=None, timeout=None, network_ids=[])), nickname='StevenWallace', ip='3.91.219.236', type='cloud', cloud_instance_id='i-001a321fab134e7bd', cloud_lifecycle='normal', status='reachable', creation_time=1625796389.8117187, update_time=1625796434.5472105, roles=['gan'], tags={'.cluster:cluster-79fda16cee3044b8b11783b2b5bb8c8c': 'type-a'}, extra={'instance_id': 'i-001a321fab134e7bd', 'private_ip': '172.31.18.65', 'dns': 'ec2-3-91-219-236.compute-1.amazonaws.com', 'private_dns': 'ip-172-31-18-65.ec2.internal', 'architecture': 'x86_64', 'instance_tags': {'CreatedWith': 'CLAP', 'owner': 'MO833-21-roberto.possidente', 'Name': 'StevenWallace-209183aa', 'principalId': 'AIDATSRODRVJRLORIU6AD'}, 'vpc_id': 'vpc-dd94f4a6', 'subnet_id': 'subnet-9bf928d1'})]\n"
     ]
    }
   ],
   "source": [
    "cluster_nodes_with_type = cluster_manager.get_cluster_nodes_types(cluster_id)\n",
    "cluster_nodes = cluster_manager.get_all_cluster_nodes(cluster_id)\n",
    "host_nodes = node_manager.get_nodes_by_id(cluster_nodes)\n",
    "print(host_nodes)\n",
    "hosts_ips=''\n",
    "for node in host_nodes:\n",
    "    print (f\"{node.node_id}: Status: {node.status}; IP: {node.ip}\")\n",
    "    hosts_ips = hosts_ips + node.ip + ':1,'\n",
    "hosts_ips = hosts_ips[0:len(hosts_ips)-1]\n",
    "print(hosts_ips)\n",
    "\n",
    "master_id = cluster_nodes_with_type['type-a']\n",
    "print(master_id)\n",
    "master_node = node_manager.get_nodes_by_id(master_id)\n",
    "print(master_node)"
   ]
  },
  {
   "cell_type": "code",
   "execution_count": 13,
   "metadata": {},
   "outputs": [
    {
     "output_type": "stream",
     "name": "stdout",
     "text": [
      "\nhorovodrun -np 2 -H 3.91.219.236:1,34.200.218.159:1 python /home/ubuntu/optimizer-clap-app/machine-translation/my-train.py \n"
     ]
    }
   ],
   "source": [
    "command_to_execute = \"\"\"\n",
    "horovodrun -np 2 -H {} python /home/ubuntu/optimizer-clap-app/machine-translation/my-train.py \"\"\".format(hosts_ips)\n",
    "print(command_to_execute)"
   ]
  },
  {
   "cell_type": "code",
   "execution_count": 14,
   "metadata": {},
   "outputs": [
    {
     "output_type": "stream",
     "name": "stdout",
     "text": [
      "Node id 209183aadfc24037b4f69a67188af199, executed the command: True, ret code: 0\n-----\nerror: null\nok: true\nret_code: 0\nstderr_lines: []\nstdout_lines:\n- '[1,0]<stdout>:Loading dataset...\n\n    '\n- '[1,1]<stdout>:Loading dataset...\n\n    '\n- '[1,0]<stdout>:Loading dataset...\n\n    '\n- '[1,1]<stdout>:Loading dataset...\n\n    '\n- '[1,0]<stdout>:Loading dataset...\n\n    '\n- '[1,1]<stdout>:Loading dataset...\n\n    '\n- '[1,1]<stdout>:Epochs Quantity = 1\n\n    '\n- '[1,1]<stdout>:[MO833] Rank,1,Initialization Time: 0.000021\n\n    '\n- '[1,0]<stdout>:Epochs Quantity = 1\n\n    '\n- '[1,0]<stdout>:[MO833] Rank,0,Initialization Time: 0.000017\n\n    '\n- '[1,0]<stdout>:[MO833] Rank,0,Epoch,0,Iteration,0,It. time,2.170274,Elapsed time,2.187604\n\n    '\n- '[1,1]<stdout>:[MO833] Rank,1,Epoch,0,Iteration,0,It. time,2.146778,Elapsed time,2.196439\n\n    '\n- '[1,1]<stdout>:[MO833] Rank,1,Epoch,0,Iteration,1,It. time,0.620228,Elapsed time,2.823403\n\n    '\n- '[1,0]<stdout>:[MO833] Rank,0,Epoch,0,Iteration,1,It. time,0.652576,Elapsed time,2.845872\n\n    '\n- '[1,0]<stdout>:[MO833] Rank,0,Epoch,0,Iteration,2,It. time,0.823088,Elapsed time,3.671899\n\n    '\n- '[1,1]<stdout>:[MO833] Rank,1,Epoch,0,Iteration,2,It. time,0.863939,Elapsed time,3.692637\n\n    '\n- '[1,0]<stdout>:[MO833] Rank,0,Epoch,0,Iteration,3,It. time,0.825061,Elapsed time,4.511082\n\n    '\n- '[1,1]<stdout>:[MO833] Rank,1,Epoch,0,Iteration,3,It. time,0.928358,Elapsed time,4.626684\n\n    '\n- '[1,0]<stdout>:[MO833] Rank,0,Epoch,0,Iteration,4,It. time,0.996243,Elapsed time,5.518006\n\n    '\n- '[1,1]<stdout>:[MO833] Rank,1,Epoch,0,Iteration,4,It. time,1.135313,Elapsed time,5.768243\n\n    '\n- '[1,0]<stdout>:[MO833] Rank,0,Epoch,0,Iteration,5,It. time,1.264114,Elapsed time,6.788630\n\n    '\n- '[1,1]<stdout>:[MO833] Rank,1,Epoch,0,Iteration,5,It. time,1.369811,Elapsed time,7.141428\n\n    '\n- '[1,0]<stdout>:[MO833] Rank,0,Epoch,0,Iteration,6,It. time,1.246086,Elapsed time,8.038578\n\n    '\n- '[1,1]<stdout>:[MO833] Rank,1,Epoch,0,Iteration,6,It. time,1.299661,Elapsed time,8.445130\n\n    '\n- '[1,0]<stdout>:[MO833] Rank,0,Epoch,0,Iteration,7,It. time,1.102277,Elapsed time,9.151701\n\n    '\n- '[1,1]<stdout>:[MO833] Rank,1,Epoch,0,Iteration,7,It. time,1.161234,Elapsed time,9.612218\n\n    '\n- '[1,0]<stdout>:[MO833] Rank,0,Epoch,0,Iteration,8,It. time,0.995086,Elapsed time,10.157320\n\n    '\n- '[1,1]<stdout>:[MO833] Rank,1,Epoch,0,Iteration,8,It. time,1.039357,Elapsed time,10.661900\n\n    '\n- '[1,0]<stdout>:[MO833] Rank,0,Epoch,0,Iteration,9,It. time,1.569645,Elapsed time,11.738987\n\n    '\n- '[1,1]<stdout>:[MO833] Rank,1,Epoch,0,Iteration,9,It. time,1.613536,Elapsed time,12.281225\n\n    '\n- '[1,0]<stdout>:[MO833] Rank,0,Epoch,0,Iteration,10,It. time,1.549584,Elapsed time,13.299841\n\n    '\n- '[1,1]<stdout>:[MO833] Rank,1,Epoch,0,Iteration,10,It. time,1.581501,Elapsed time,13.874735\n\n    '\n- '[1,0]<stdout>:[MO833] Rank,0,Epoch,0,Iteration,11,It. time,1.274386,Elapsed time,14.584424\n\n    '\n- '[1,1]<stdout>:[MO833] Rank,1,Epoch,0,Iteration,11,It. time,1.373170,Elapsed time,15.253093\n\n    '\n- '[1,0]<stdout>:[MO833] Rank,0,Epoch,0,Iteration,12,It. time,1.595642,Elapsed time,16.184952\n\n    '\n- '[1,1]<stdout>:[MO833] Rank,1,Epoch,0,Iteration,12,It. time,1.653982,Elapsed time,16.910477\n\n    '\n- '[1,0]<stdout>:[MO833] Rank,0,Epoch,0,Iteration,13,It. time,1.086608,Elapsed time,17.274254\n\n    '\n- '[1,1]<stdout>:[MO833] Rank,1,Epoch,0,Iteration,13,It. time,1.197189,Elapsed time,18.111013\n\n    '\n- '[1,0]<stdout>:[MO833] Rank,0,Epoch,0,Iteration,14,It. time,2.143692,Elapsed time,19.420939\n\n    '\n- '[1,1]<stdout>:[MO833] Rank,1,Epoch,0,Iteration,14,It. time,2.200834,Elapsed time,20.314970\n\n    '\n- '[1,0]<stdout>:[MO833] Rank,0,Epoch,0,Iteration,15,It. time,1.852534,Elapsed time,21.277048\n\n    '\n- '[1,1]<stdout>:[MO833] Rank,1,Epoch,0,Iteration,15,It. time,1.927722,Elapsed time,22.246445\n\n    '\n- '[1,0]<stdout>:[MO833] Rank,0,Epoch,0,Iteration,16,It. time,1.412575,Elapsed time,22.692383\n\n    '\n- '[1,1]<stdout>:[MO833] Rank,1,Epoch,0,Iteration,16,It. time,1.433559,Elapsed time,23.685489\n\n    '\n- '[1,0]<stdout>:[MO833] Rank,0,Epoch,0,Iteration,17,It. time,1.337318,Elapsed time,24.034982\n\n    '\n- '[1,1]<stdout>:[MO833] Rank,1,Epoch,0,Iteration,17,It. time,1.484864,Elapsed time,25.184469\n\n    '\n- '[1,0]<stdout>:[MO833] Rank,0,Epoch,0,Iteration,18,It. time,1.188746,Elapsed time,25.226620\n\n    '\n- '[1,1]<stdout>:[MO833] Rank,1,Epoch,0,Iteration,18,It. time,1.242045,Elapsed time,26.440875\n\n    '\n- '[1,0]<stdout>:[MO833] Rank,0,Epoch,0,Iteration,19,It. time,1.614818,Elapsed time,26.844432\n\n    '\n- '[1,1]<stdout>:[MO833] Rank,1,Epoch,0,Iteration,19,It. time,1.663456,Elapsed time,28.113633\n\n    '\n- '[1,0]<stdout>:[MO833] Rank,0,Epoch,0,Iteration,20,It. time,2.069392,Elapsed time,28.916448\n\n    '\n- '[1,1]<stdout>:[MO833] Rank,1,Epoch,0,Iteration,20,It. time,2.152014,Elapsed time,30.268824\n\n    '\n- '[1,0]<stdout>:[MO833] Rank,0,Epoch,0,Iteration,21,It. time,1.485523,Elapsed time,30.404664\n\n    '\n- '[1,1]<stdout>:[MO833] Rank,1,Epoch,0,Iteration,21,It. time,1.569553,Elapsed time,31.841220\n\n    '\n- '[1,0]<stdout>:[MO833] Rank,0,Epoch,0,Iteration,22,It. time,1.553933,Elapsed time,31.961619\n\n    '\n- '[1,1]<stdout>:[MO833] Rank,1,Epoch,0,Iteration,22,It. time,1.642295,Elapsed time,33.486497\n\n    '\n- '[1,0]<stdout>:[MO833] Rank,0,Epoch,0,Iteration,23,It. time,1.660079,Elapsed time,33.624423\n\n    '\n- '[1,1]<stdout>:[MO833] Rank,1,Epoch,0,Iteration,23,It. time,1.787387,Elapsed time,35.276901\n\n    '\n- '[1,0]<stdout>:[MO833] Rank,0,Epoch,0,Iteration,24,It. time,1.669920,Elapsed time,35.297131\n\n    '\n- '[1,0]<stdout>:[MO833] Rank,0,Epoch,0,Iteration,25,It. time,1.343583,Elapsed time,36.643538\n\n    '\n- '[1,1]<stdout>:[MO833] Rank,1,Epoch,0,Iteration,24,It. time,1.752693,Elapsed time,37.034042\n\n    '\n- '[1,0]<stdout>:[MO833] Rank,0,Epoch,0,Iteration,26,It. time,1.746147,Elapsed time,38.392760\n\n    '\n- '[1,1]<stdout>:[MO833] Rank,1,Epoch,0,Iteration,25,It. time,1.529510,Elapsed time,38.566590\n\n    '\n- '[1,0]<stdout>:[MO833] Rank,0,Epoch,0,Iteration,27,It. time,1.826427,Elapsed time,40.222116\n\n    '\n- '[1,1]<stdout>:[MO833] Rank,1,Epoch,0,Iteration,26,It. time,1.836316,Elapsed time,40.406498\n\n    '\n- '[1,0]<stdout>:[MO833] Rank,0,Epoch,0,Iteration,28,It. time,1.689694,Elapsed time,41.914685\n\n    '\n- '[1,0]<stdout>:[MO833] Rank,0,Epoch,0,Epoch time,1.690532,Elapsed time,41.915521\n\n    '\n- '[1,1]<stdout>:[MO833] Rank,1,Epoch,0,Iteration,27,It. time,1.921316,Elapsed time,42.331204\n\n    '\n- '[1,0]<stdout>:Rank = 0, Epoch 0 - after waitall\n\n    '\n- '[1,1]<stdout>:[MO833] Rank,1,Epoch,0,Iteration,28,It. time,1.799830,Elapsed time,44.134001\n\n    '\n- '[1,1]<stdout>:[MO833] Rank,1,Epoch,0,Epoch time,1.800767,Elapsed time,44.134935\n\n    '\n- '[1,1]<stdout>:Rank = 1, Epoch 0 - after waitall\n\n    '\n\n"
     ]
    }
   ],
   "source": [
    "'''command_to_execute = \"\"\"\n",
    "mpirun -np 1 -H localhost:1 -bind-to none -map-by slot python /home/ubuntu/optimizer-clap-app/machine-translation/my-train.py 2>&1 > log.txt \n",
    "echo Launch Machine Translation by ssh\n",
    "\"\"\"\n",
    "print(command_to_execute)'''\n",
    "#command_to_execute = \"\"\"horovodrun\"\"\"\n",
    "executor = SSHCommandExecutor(command_to_execute, master_node, private_path)\n",
    "result = executor.run()\n",
    "\n",
    "for node_id, res in result.items():\n",
    "    print(f\"Node id {node_id}, executed the command: {res.ok}, ret code: {res.ret_code}\")\n",
    "    #resut is a dataclass, we can convert to a dictionary\n",
    "    res_dict = asdict(res)\n",
    "    print('-----')\n",
    "    # Dump dictionary in YAML format\n",
    "    print(yaml.dump(res_dict, indent=4, sort_keys=True))"
   ]
  },
  {
   "cell_type": "code",
   "execution_count": 15,
   "metadata": {},
   "outputs": [
    {
     "output_type": "stream",
     "name": "stdout",
     "text": [
      "---\n- hosts: all\n  gather_facts: no\n  tasks:\n  - name: Ansible fetch files from remote host to local\n    become: no\n    synchronize:\n      src: \"/home/ubuntu/optimizer-clap-app/machine-translation/\"\n      dest: \"/home/ubuntu/optimizer-clap-app/machine-translation/\"\n      mode: pull\n      recursive: yes\n"
     ]
    }
   ],
   "source": [
    "cat /home/ubuntu/.clap/roles/roles/fetchfile.yml"
   ]
  },
  {
   "cell_type": "code",
   "execution_count": 16,
   "metadata": {},
   "outputs": [
    {
     "output_type": "stream",
     "name": "stdout",
     "text": [
      "209183aadfc24037b4f69a67188af199: Status: reachable; IP: 3.91.219.236, Type: cloud\n",
      "8b33a6cb8d3f458297042ff732d25810: Status: reachable; IP: 34.200.218.159, Type: cloud\n",
      "\n",
      "PLAY [all] *********************************************************************\n",
      "\n",
      "TASK [Gathering Facts] *********************************************************\n",
      "\u001b[0;35m[DEPRECATION WARNING]: Distribution ubuntu 20.04 on host \u001b[0m\n",
      "\u001b[0;35m209183aadfc24037b4f69a67188af199 should use /usr/bin/python3, but is using \u001b[0m\n",
      "\u001b[0;35m/usr/bin/python for backward compatibility with prior Ansible releases. A \u001b[0m\n",
      "\u001b[0;35mfuture Ansible release will default to using the discovered platform python for\u001b[0m\n",
      "\u001b[0;35m this host. See https://docs.ansible.com/ansible/2.11/reference_appendices/inte\u001b[0m\n",
      "\u001b[0;35mrpreter_discovery.html for more information. This feature will be removed in \u001b[0m\n",
      "\u001b[0;35mversion 2.12. Deprecation warnings can be disabled by setting \u001b[0m\n",
      "\u001b[0;35mdeprecation_warnings=False in ansible.cfg.\u001b[0m\n",
      "\u001b[0;32mok: [209183aadfc24037b4f69a67188af199]\u001b[0m\n",
      "\u001b[0;35m[DEPRECATION WARNING]: Distribution ubuntu 20.04 on host \u001b[0m\n",
      "\u001b[0;35m8b33a6cb8d3f458297042ff732d25810 should use /usr/bin/python3, but is using \u001b[0m\n",
      "\u001b[0;35m/usr/bin/python for backward compatibility with prior Ansible releases. A \u001b[0m\n",
      "\u001b[0;35mfuture Ansible release will default to using the discovered platform python for\u001b[0m\n",
      "\u001b[0;35m this host. See https://docs.ansible.com/ansible/2.11/reference_appendices/inte\u001b[0m\n",
      "\u001b[0;35mrpreter_discovery.html for more information. This feature will be removed in \u001b[0m\n",
      "\u001b[0;35mversion 2.12. Deprecation warnings can be disabled by setting \u001b[0m\n",
      "\u001b[0;35mdeprecation_warnings=False in ansible.cfg.\u001b[0m\n",
      "\u001b[0;32mok: [8b33a6cb8d3f458297042ff732d25810]\u001b[0m\n",
      "\n",
      "TASK [Get iteration time from a fact] ******************************************\n",
      "\u001b[0;32mok: [209183aadfc24037b4f69a67188af199]\u001b[0m\n",
      "\u001b[0;32mok: [8b33a6cb8d3f458297042ff732d25810]\u001b[0m\n",
      "\n",
      "PLAY RECAP *********************************************************************\n",
      "\u001b[0;32m209183aadfc24037b4f69a67188af199\u001b[0m : \u001b[0;32mok=2   \u001b[0m changed=0    unreachable=0    failed=0    skipped=0    rescued=0    ignored=0   \n",
      "\u001b[0;32m8b33a6cb8d3f458297042ff732d25810\u001b[0m : \u001b[0;32mok=2   \u001b[0m changed=0    unreachable=0    failed=0    skipped=0    rescued=0    ignored=0   \n",
      "\n",
      "Did the playbook executed? True\n",
      "Ansible playbook return code: 0\n",
      "Let's check how nodes executed: \n",
      "    Node 8b33a6cb8d3f458297042ff732d25810: True\n",
      "    Node 209183aadfc24037b4f69a67188af199: True\n",
      "Let's check variables set using set_fact module: \n",
      "    Node 209183aadfc24037b4f69a67188af199: {'iteration_time': '1.6896941661834717'}\n",
      "    Node 8b33a6cb8d3f458297042ff732d25810: {'iteration_time': '1.7998299598693848'}\n",
      "{'209183aadfc24037b4f69a67188af199': '1.6896941661834717', '8b33a6cb8d3f458297042ff732d25810': '1.7998299598693848'}\n",
      "209183aadfc24037b4f69a67188af199: '1.6896941661834717'\n",
      "8b33a6cb8d3f458297042ff732d25810: '1.7998299598693848'\n",
      "\n",
      "/home/ubuntu/CLAP/\n",
      "/home/ubuntu/CLAP/timestamp/\n",
      "/home/ubuntu/CLAP/timestamp/1625796951.out\n"
     ]
    }
   ],
   "source": [
    "nodes = node_manager.get_nodes_by_id(cluster_nodes)\n",
    "for node in nodes:\n",
    "    print (f\"{node.node_id}: Status: {node.status}; IP: {node.ip}, Type: {node.type}\")\n",
    "\n",
    "playbook_file = path_extend('/home/ubuntu/.clap/roles/roles/getfacts.yml')\n",
    "inventory = AnsiblePlaybookExecutor.create_inventory(nodes, private_path)\n",
    "executor = AnsiblePlaybookExecutor(playbook_file, private_path, inventory=inventory)\n",
    "\n",
    "result = executor.run()\n",
    "\n",
    "print(f\"Did the playbook executed? {result.ok}\")\n",
    "print(f\"Ansible playbook return code: {result.ret_code}\")\n",
    "print(f\"Let's check how nodes executed: \")\n",
    "for node_id, status in result.hosts.items():\n",
    "    print(f\"    Node {node_id}: {status}\")\n",
    "print(f\"Let's check variables set using set_fact module: \")\n",
    "times={}\n",
    "for node_id, facts in result.vars.items():\n",
    "    print(f\"    Node {node_id}: {facts}\")\n",
    "    times[node_id] = facts['iteration_time']\n",
    "print('%s' % str(times))\n",
    "# Dump dictionary in YAML format\n",
    "print(yaml.dump(times, indent=4, sort_keys=True))\n",
    "\n",
    "pi_logs_dir = '/home/ubuntu/CLAP/'\n",
    "print('%s' % str(pi_logs_dir))\n",
    "#timestamp_dir = path_extend(pi_logs_dir, '/timestamp/')\n",
    "timestamp_dir = pi_logs_dir + 'timestamp/'\n",
    "print('%s' % str(timestamp_dir))\n",
    "os.makedirs(timestamp_dir, exist_ok=True)\n",
    "timestamp_file = timestamp_dir + str(int(time.time())) +  '.out'\n",
    "print('%s' % str(timestamp_file))\n",
    "with open(timestamp_file, 'a') as outfile:\n",
    "   yaml.dump(times, outfile, default_flow_style=False)\n"
   ]
  },
  {
   "cell_type": "code",
   "execution_count": 17,
   "metadata": {},
   "outputs": [
    {
     "output_type": "stream",
     "name": "stdout",
     "text": [
      "---------\nNode Id: 209183aadfc24037b4f69a67188af199, created at 08-07-21 23:06:29; Status: reachable\n---------\nInstance Flavor: t2.medium, Instance Cost: 0.0264, Iteration Time: 1.6896941661834717, Node Price: 0.044607925987243655\n---------\n---------\nNode Id: 8b33a6cb8d3f458297042ff732d25810, created at 08-07-21 23:07:02; Status: reachable\n---------\nInstance Flavor: t2.large, Instance Cost: 0.0555, Iteration Time: 1.7998299598693848, Node Price: 0.09989056277275085\n---------\nNode Prices\n{'209183aadfc24037b4f69a67188af199': 0.044607925987243655, '8b33a6cb8d3f458297042ff732d25810': 0.09989056277275085}\n"
     ]
    }
   ],
   "source": [
    "root_dir='/home/ubuntu/optimizer-clap-app/experiments/'\n",
    "experiment_id = 'Transformer' \n",
    "vm_price_file = '/home/ubuntu/optimizer-clap-app/vm_prices.yaml'\n",
    "report_time = 60\n",
    "\n",
    "'''nodes = node_manager.get_nodes_by_id(cluster_nodes)\n",
    "for node in nodes:\n",
    "    print (f\"{node.node_id}: Status: {node.status}; IP: {node.ip}, Type: {node.type}\")'''\n",
    "\n",
    "instance_costs = yaml_load(vm_price_file)\n",
    "node_prices={}\n",
    "\n",
    "for node in nodes:\n",
    "    print('---------')\n",
    "    print(f\"Node Id: {node.node_id}, created at {float_time_to_string(node.creation_time)}; Status: {node.status}\")\n",
    "    print('---------')\n",
    "    # Or can be converted to a dict\n",
    "    node_dict = asdict(node)\n",
    "    # Printing dict in YAML format\n",
    "    #print(yaml.dump(node_dict, indent=4))\n",
    "    #print('**********')\n",
    "    instance_flavor = node_dict['configuration']['instance']['flavor']\n",
    "    node_prices[node.node_id] = float(times[node.node_id]) * float(instance_costs[instance_flavor])\n",
    "    print(f\"Instance Flavor: {instance_flavor}, Instance Cost: {instance_costs[instance_flavor]}, Iteration Time: {times[node.node_id]}, Node Price: {node_prices[node.node_id]}\")\n",
    "    print('---------')\n",
    "print('Node Prices')\n",
    "print(str(node_prices))\n"
   ]
  },
  {
   "cell_type": "code",
   "execution_count": 18,
   "metadata": {
    "tags": [
     "outputPrepend"
    ]
   },
   "outputs": [
    {
     "output_type": "stream",
     "name": "stderr",
     "text": [
      "m\n",
      "\n",
      "TASK [Perform package list update] *********************************************\n",
      "\u001b[0;33mchanged: [78412d27e8a34d9b95380e8f01a97424]\u001b[0m\n",
      "\n",
      "PLAY RECAP *********************************************************************\n",
      "\u001b[0;33m78412d27e8a34d9b95380e8f01a97424\u001b[0m : \u001b[0;32mok=2   \u001b[0m \u001b[0;33mchanged=1   \u001b[0m unreachable=0    failed=0    skipped=0    rescued=0    ignored=0   \n",
      "\n",
      "\n",
      "PLAY [all] *********************************************************************\n",
      "\n",
      "TASK [Gathering Facts] *********************************************************\n",
      "\u001b[0;32mok: [78412d27e8a34d9b95380e8f01a97424]\u001b[0m\n",
      "\n",
      "TASK [Perform package list update] *********************************************\n",
      "\u001b[0;33mchanged: [78412d27e8a34d9b95380e8f01a97424]\u001b[0m\n",
      "\n",
      "PLAY RECAP *********************************************************************\n",
      "\u001b[0;33m78412d27e8a34d9b95380e8f01a97424\u001b[0m : \u001b[0;32mok=2   \u001b[0m \u001b[0;33mchanged=1   \u001b[0m unreachable=0    failed=0    skipped=0    rescued=0    ignored=0   \n",
      "\n",
      "\n",
      "PLAY [all] *********************************************************************\n",
      "\n",
      "TASK [Gathering Facts] *********************************************************\n",
      "\u001b[0;32mok: [78412d27e8a34d9b95380e8f01a97424]\u001b[0m\n",
      "\n",
      "TASK [Perform package installation] ********************************************\n",
      "\u001b[0;33mchanged: [78412d27e8a34d9b95380e8f01a97424]\u001b[0m\n",
      "\n",
      "PLAY RECAP *********************************************************************\n",
      "\u001b[0;33m78412d27e8a34d9b95380e8f01a97424\u001b[0m : \u001b[0;32mok=2   \u001b[0m \u001b[0;33mchanged=1   \u001b[0m unreachable=0    failed=0    skipped=0    rescued=0    ignored=0   \n",
      "\n",
      "\n",
      "PLAY [all] *********************************************************************\n",
      "\n",
      "TASK [Run command in the remote hosts (free form)] *****************************\n",
      "\u001b[0;33mchanged: [78412d27e8a34d9b95380e8f01a97424]\u001b[0m\n",
      "\n",
      "PLAY RECAP *********************************************************************\n",
      "\u001b[0;33m78412d27e8a34d9b95380e8f01a97424\u001b[0m : \u001b[0;32mok=1   \u001b[0m \u001b[0;33mchanged=1   \u001b[0m unreachable=0    failed=0    skipped=0    rescued=0    ignored=0   \n",
      "\n",
      "\n",
      "PLAY [all] *********************************************************************\n",
      "\n",
      "TASK [Run command in the remote hosts (free form)] *****************************\n",
      "\u001b[0;35m[DEPRECATION WARNING]: Distribution ubuntu 20.04 on host \u001b[0m\n",
      "\u001b[0;35m78412d27e8a34d9b95380e8f01a97424 should use /usr/bin/python3, but is using \u001b[0m\n",
      "\u001b[0;35m/usr/bin/python for backward compatibility with prior Ansible releases. A \u001b[0m\n",
      "\u001b[0;35mfuture Ansible release will default to using the discovered platform python for\u001b[0m\n",
      "\u001b[0;35m this host. See https://docs.ansible.com/ansible/2.11/reference_appendices/inte\u001b[0m\n",
      "\u001b[0;35mrpreter_discovery.html for more information. This feature will be removed in \u001b[0m\n",
      "\u001b[0;35mversion 2.12. Deprecation warnings can be disabled by setting \u001b[0m\n",
      "\u001b[0;35mdeprecation_warnings=False in ansible.cfg.\u001b[0m\n",
      "\u001b[0;33mchanged: [78412d27e8a34d9b95380e8f01a97424]\u001b[0m\n",
      "\n",
      "PLAY RECAP *********************************************************************\n",
      "\u001b[0;33m78412d27e8a34d9b95380e8f01a97424\u001b[0m : \u001b[0;32mok=1   \u001b[0m \u001b[0;33mchanged=1   \u001b[0m unreachable=0    failed=0    skipped=0    rescued=0    ignored=0   \n",
      "\n",
      "\n",
      "PLAY [all] *********************************************************************\n",
      "\n",
      "TASK [Run command in the remote hosts (free form)] *****************************\n",
      "\u001b[0;35m[DEPRECATION WARNING]: Distribution ubuntu 20.04 on host \u001b[0m\n",
      "\u001b[0;35m78412d27e8a34d9b95380e8f01a97424 should use /usr/bin/python3, but is using \u001b[0m\n",
      "\u001b[0;35m/usr/bin/python for backward compatibility with prior Ansible releases. A \u001b[0m\n",
      "\u001b[0;35mfuture Ansible release will default to using the discovered platform python for\u001b[0m\n",
      "\u001b[0;35m this host. See https://docs.ansible.com/ansible/2.11/reference_appendices/inte\u001b[0m\n",
      "\u001b[0;35mrpreter_discovery.html for more information. This feature will be removed in \u001b[0m\n",
      "\u001b[0;35mversion 2.12. Deprecation warnings can be disabled by setting \u001b[0m\n",
      "\u001b[0;35mdeprecation_warnings=False in ansible.cfg.\u001b[0m\n",
      "\u001b[0;33mchanged: [78412d27e8a34d9b95380e8f01a97424]\u001b[0m\n",
      "\n",
      "PLAY RECAP *********************************************************************\n",
      "\u001b[0;33m78412d27e8a34d9b95380e8f01a97424\u001b[0m : \u001b[0;32mok=1   \u001b[0m \u001b[0;33mchanged=1   \u001b[0m unreachable=0    failed=0    skipped=0    rescued=0    ignored=0   \n",
      "\n",
      "\n",
      "PLAY [all] *********************************************************************\n",
      "\n",
      "TASK [Run command in the remote hosts (free form)] *****************************\n",
      "\u001b[0;35m[DEPRECATION WARNING]: Distribution ubuntu 20.04 on host \u001b[0m\n",
      "\u001b[0;35m78412d27e8a34d9b95380e8f01a97424 should use /usr/bin/python3, but is using \u001b[0m\n",
      "\u001b[0;35m/usr/bin/python for backward compatibility with prior Ansible releases. A \u001b[0m\n",
      "\u001b[0;35mfuture Ansible release will default to using the discovered platform python for\u001b[0m\n",
      "\u001b[0;35m this host. See https://docs.ansible.com/ansible/2.11/reference_appendices/inte\u001b[0m\n",
      "\u001b[0;35mrpreter_discovery.html for more information. This feature will be removed in \u001b[0m\n",
      "\u001b[0;35mversion 2.12. Deprecation warnings can be disabled by setting \u001b[0m\n",
      "\u001b[0;35mdeprecation_warnings=False in ansible.cfg.\u001b[0m\n",
      "\u001b[0;33mchanged: [78412d27e8a34d9b95380e8f01a97424]\u001b[0m\n",
      "\n",
      "PLAY RECAP *********************************************************************\n",
      "\u001b[0;33m78412d27e8a34d9b95380e8f01a97424\u001b[0m : \u001b[0;32mok=1   \u001b[0m \u001b[0;33mchanged=1   \u001b[0m unreachable=0    failed=0    skipped=0    rescued=0    ignored=0   \n",
      "\n",
      "\n",
      "PLAY [all] *********************************************************************\n",
      "\n",
      "TASK [Run command in the remote hosts (free form)] *****************************\n",
      "\u001b[0;35m[DEPRECATION WARNING]: Distribution ubuntu 20.04 on host \u001b[0m\n",
      "\u001b[0;35m78412d27e8a34d9b95380e8f01a97424 should use /usr/bin/python3, but is using \u001b[0m\n",
      "\u001b[0;35m/usr/bin/python for backward compatibility with prior Ansible releases. A \u001b[0m\n",
      "\u001b[0;35mfuture Ansible release will default to using the discovered platform python for\u001b[0m\n",
      "\u001b[0;35m this host. See https://docs.ansible.com/ansible/2.11/reference_appendices/inte\u001b[0m\n",
      "\u001b[0;35mrpreter_discovery.html for more information. This feature will be removed in \u001b[0m\n",
      "\u001b[0;35mversion 2.12. Deprecation warnings can be disabled by setting \u001b[0m\n",
      "\u001b[0;35mdeprecation_warnings=False in ansible.cfg.\u001b[0m\n",
      "\u001b[0;33mchanged: [78412d27e8a34d9b95380e8f01a97424]\u001b[0m\n",
      "\n",
      "PLAY RECAP *********************************************************************\n",
      "\u001b[0;33m78412d27e8a34d9b95380e8f01a97424\u001b[0m : \u001b[0;32mok=1   \u001b[0m \u001b[0;33mchanged=1   \u001b[0m unreachable=0    failed=0    skipped=0    rescued=0    ignored=0   \n",
      "\n",
      "\n",
      "PLAY [all] *********************************************************************\n",
      "\n",
      "TASK [Run command in the remote hosts (free form)] *****************************\n",
      "\u001b[0;35m[DEPRECATION WARNING]: Distribution ubuntu 20.04 on host \u001b[0m\n",
      "\u001b[0;35m78412d27e8a34d9b95380e8f01a97424 should use /usr/bin/python3, but is using \u001b[0m\n",
      "\u001b[0;35m/usr/bin/python for backward compatibility with prior Ansible releases. A \u001b[0m\n",
      "\u001b[0;35mfuture Ansible release will default to using the discovered platform python for\u001b[0m\n",
      "\u001b[0;35m this host. See https://docs.ansible.com/ansible/2.11/reference_appendices/inte\u001b[0m\n",
      "\u001b[0;35mrpreter_discovery.html for more information. This feature will be removed in \u001b[0m\n",
      "\u001b[0;35mversion 2.12. Deprecation warnings can be disabled by setting \u001b[0m\n",
      "\u001b[0;35mdeprecation_warnings=False in ansible.cfg.\u001b[0m\n",
      "\u001b[0;33mchanged: [78412d27e8a34d9b95380e8f01a97424]\u001b[0m\n",
      "\n",
      "PLAY RECAP *********************************************************************\n",
      "\u001b[0;33m78412d27e8a34d9b95380e8f01a97424\u001b[0m : \u001b[0;32mok=1   \u001b[0m \u001b[0;33mchanged=1   \u001b[0m unreachable=0    failed=0    skipped=0    rescued=0    ignored=0   \n",
      "\n",
      "\n",
      "PLAY [all] *********************************************************************\n",
      "\n",
      "TASK [Run command in the remote hosts (free form)] *****************************\n",
      "\u001b[0;35m[DEPRECATION WARNING]: Distribution ubuntu 20.04 on host \u001b[0m\n",
      "\u001b[0;35m78412d27e8a34d9b95380e8f01a97424 should use /usr/bin/python3, but is using \u001b[0m\n",
      "\u001b[0;35m/usr/bin/python for backward compatibility with prior Ansible releases. A \u001b[0m\n",
      "\u001b[0;35mfuture Ansible release will default to using the discovered platform python for\u001b[0m\n",
      "\u001b[0;35m this host. See https://docs.ansible.com/ansible/2.11/reference_appendices/inte\u001b[0m\n",
      "\u001b[0;35mrpreter_discovery.html for more information. This feature will be removed in \u001b[0m\n",
      "\u001b[0;35mversion 2.12. Deprecation warnings can be disabled by setting \u001b[0m\n",
      "\u001b[0;35mdeprecation_warnings=False in ansible.cfg.\u001b[0m\n",
      "\u001b[0;33mchanged: [78412d27e8a34d9b95380e8f01a97424]\u001b[0m\n",
      "\n",
      "PLAY RECAP *********************************************************************\n",
      "\u001b[0;33m78412d27e8a34d9b95380e8f01a97424\u001b[0m : \u001b[0;32mok=1   \u001b[0m \u001b[0;33mchanged=1   \u001b[0m unreachable=0    failed=0    skipped=0    rescued=0    ignored=0   \n",
      "\n",
      "[SETUP] 08-07-21 23:17:47: Setup finished on Node: 78412d27e8a34d9b95380e8f01a97424\n",
      "cluster-node-actions.out\n",
      "['[INIT] 08-07-21 23:17:47: Created Node: 78412d27e8a34d9b95380e8f01a97424 of #type t2.medium', \"[STOP] 2021-07-08 23:18:44.871807: Terminated Node: ['8b33a6cb8d3f458297042ff732d25810']\", '[SETUP] 08-07-21 23:17:47: Setup started on Node: 78412d27e8a34d9b95380e8f01a97424', '[SETUP] 08-07-21 23:17:47: Setup finished on Node: 78412d27e8a34d9b95380e8f01a97424']\n",
      "Does cluster changed? True\n",
      "cluster -> yaml.dump \n",
      "\n",
      "cluster_config:\n",
      "    after:\n",
      "    -   actions:\n",
      "        -   action: install-packages\n",
      "            extra:\n",
      "                packages: python3-pip, build-essential, cmake, openmpi-bin, openmpi-common,\n",
      "                    openmpi-doc, libopenmpi-dev\n",
      "            role: gan\n",
      "        roles: []\n",
      "    -   actions:\n",
      "        -   action: run-command\n",
      "            extra:\n",
      "                cmd: sudo apt-get -y install python-is-python3\n",
      "            role: gan\n",
      "        roles: []\n",
      "    -   actions:\n",
      "        -   action: run-command\n",
      "            extra:\n",
      "                cmd: sudo pip install mxnet gluonnlp sacremoses\n",
      "            role: gan\n",
      "        roles: []\n",
      "    -   actions:\n",
      "        -   action: run-command\n",
      "            extra:\n",
      "                cmd: sudo rm -rf optimizer-clap-app/ && git clone https://github.com/robertopossidente/optimizer-clap-app.git\n",
      "            role: gan\n",
      "        roles: []\n",
      "    -   actions:\n",
      "        -   action: run-command\n",
      "            extra:\n",
      "                cmd: sudo mkdir -p /etc/ansible/facts.d/ && sudo cp optimizer-clap-app/times.fact\n",
      "                    /etc/ansible/facts.d/ && sudo chown ubuntu:ubuntu /etc/ansible/facts.d/times.fact\n",
      "                    && sudo chmod 644 /etc/ansible/facts.d/times.fact\n",
      "            role: gan\n",
      "        roles: []\n",
      "    -   actions:\n",
      "        -   action: run-command\n",
      "            extra:\n",
      "                cmd: sudo chmod 400 optimizer-clap-app/machine-translation/clap-config/private/gan-clap-keypair.pem\n",
      "                    && sudo cp optimizer-clap-app/machine-translation/clap-config/private/gan-clap-keypair.pem\n",
      "                    /home/ubuntu/.ssh/id_rsa && sudo chown ubuntu:ubuntu /home/ubuntu/.ssh/id_rsa\n",
      "            role: gan\n",
      "        roles: []\n",
      "    -   actions:\n",
      "        -   action: run-command\n",
      "            extra:\n",
      "                cmd: sudo pip install horovod --no-cache-dir\n",
      "            role: gan\n",
      "        roles: []\n",
      "    -   actions:\n",
      "        -   action: run-command\n",
      "            extra:\n",
      "                cmd: mpirun -np 1 -H localhost:1 -bind-to none -map-by slot python\n",
      "                    /home/ubuntu/optimizer-clap-app/machine-translation/my-train.py\n",
      "                    2>&1 > log.txt\n",
      "            role: gan\n",
      "        roles: []\n",
      "    after_all: []\n",
      "    before:\n",
      "    -   actions:\n",
      "        -   action: update-packages\n",
      "            extra: {}\n",
      "            role: gan\n",
      "        roles:\n",
      "        -   extra: {}\n",
      "            name: gan\n",
      "    before_all: []\n",
      "    cluster_config_id: my-cluster\n",
      "    nodes:\n",
      "        type-a:\n",
      "            count: 1\n",
      "            min_count: 1\n",
      "            setups:\n",
      "            -   actions:\n",
      "                -   action: update-packages\n",
      "                    extra: {}\n",
      "                    role: gan\n",
      "                roles:\n",
      "                -   extra: {}\n",
      "                    name: gan\n",
      "            type: type-a\n",
      "        type-b:\n",
      "            count: 1\n",
      "            min_count: 1\n",
      "            setups:\n",
      "            -   actions:\n",
      "                -   action: update-packages\n",
      "                    extra: {}\n",
      "                    role: gan\n",
      "                roles:\n",
      "                -   extra: {}\n",
      "                    name: gan\n",
      "            type: type-b\n",
      "    options: null\n",
      "cluster_id: cluster-79fda16cee3044b8b11783b2b5bb8c8c\n",
      "cluster_name: BrilliantLath\n",
      "creation_time: 1625796358.9789684\n",
      "is_setup: true\n",
      "update_time: 1625797547.702625\n",
      "\n",
      "cluster_nodes \n",
      "\n",
      "['209183aadfc24037b4f69a67188af199', '78412d27e8a34d9b95380e8f01a97424']\n",
      "cluster_nodes_with_type \n",
      "\n",
      "{'type-a': ['209183aadfc24037b4f69a67188af199', '78412d27e8a34d9b95380e8f01a97424']}\n",
      "cluster_nodes_with_type -> yaml.dump \n",
      "\n",
      "type-a:\n",
      "- 209183aadfc24037b4f69a67188af199\n",
      "- 78412d27e8a34d9b95380e8f01a97424\n",
      "\n",
      "\n",
      "PLAY [all] *********************************************************************\n",
      "\n",
      "TASK [Gathering Facts] *********************************************************\n",
      "\u001b[0;35m[DEPRECATION WARNING]: Distribution ubuntu 20.04 on host \u001b[0m\n",
      "\u001b[0;35m209183aadfc24037b4f69a67188af199 should use /usr/bin/python3, but is using \u001b[0m\n",
      "\u001b[0;35m/usr/bin/python for backward compatibility with prior Ansible releases. A \u001b[0m\n",
      "\u001b[0;35mfuture Ansible release will default to using the discovered platform python for\u001b[0m\n",
      "\u001b[0;35m this host. See https://docs.ansible.com/ansible/2.11/reference_appendices/inte\u001b[0m\n",
      "\u001b[0;35mrpreter_discovery.html for more information. This feature will be removed in \u001b[0m\n",
      "\u001b[0;35mversion 2.12. Deprecation warnings can be disabled by setting \u001b[0m\n",
      "\u001b[0;35mdeprecation_warnings=False in ansible.cfg.\u001b[0m\n",
      "\u001b[0;32mok: [209183aadfc24037b4f69a67188af199]\u001b[0m\n",
      "\u001b[0;35m[DEPRECATION WARNING]: Distribution ubuntu 20.04 on host \u001b[0m\n",
      "\u001b[0;35m78412d27e8a34d9b95380e8f01a97424 should use /usr/bin/python3, but is using \u001b[0m\n",
      "\u001b[0;35m/usr/bin/python for backward compatibility with prior Ansible releases. A \u001b[0m\n",
      "\u001b[0;35mfuture Ansible release will default to using the discovered platform python for\u001b[0m\n",
      "\u001b[0;35m this host. See https://docs.ansible.com/ansible/2.11/reference_appendices/inte\u001b[0m\n",
      "\u001b[0;35mrpreter_discovery.html for more information. This feature will be removed in \u001b[0m\n",
      "\u001b[0;35mversion 2.12. Deprecation warnings can be disabled by setting \u001b[0m\n",
      "\u001b[0;35mdeprecation_warnings=False in ansible.cfg.\u001b[0m\n",
      "\u001b[0;32mok: [78412d27e8a34d9b95380e8f01a97424]\u001b[0m\n",
      "\n",
      "TASK [Get iteration time from a fact] ******************************************\n",
      "\u001b[0;32mok: [209183aadfc24037b4f69a67188af199]\u001b[0m\n",
      "\u001b[0;32mok: [78412d27e8a34d9b95380e8f01a97424]\u001b[0m\n",
      "\n",
      "PLAY RECAP *********************************************************************\n",
      "\u001b[0;32m209183aadfc24037b4f69a67188af199\u001b[0m : \u001b[0;32mok=2   \u001b[0m changed=0    unreachable=0    failed=0    skipped=0    rescued=0    ignored=0   \n",
      "\u001b[0;32m78412d27e8a34d9b95380e8f01a97424\u001b[0m : \u001b[0;32mok=2   \u001b[0m changed=0    unreachable=0    failed=0    skipped=0    rescued=0    ignored=0   \n",
      "\n",
      "Did the playbook executed? True\n",
      "Ansible playbook return code: 0\n",
      "Let's check how nodes executed: \n",
      "    Node 209183aadfc24037b4f69a67188af199: True\n",
      "    Node 78412d27e8a34d9b95380e8f01a97424: True\n",
      "Let's check variables set using set_fact module: \n",
      "    Node 209183aadfc24037b4f69a67188af199: {'iteration_time': '1.6896941661834717'}\n",
      "    Node 78412d27e8a34d9b95380e8f01a97424: {'iteration_time': '1.6749145984649658'}\n",
      "{'209183aadfc24037b4f69a67188af199': '1.6896941661834717', '78412d27e8a34d9b95380e8f01a97424': '1.6749145984649658'}\n",
      "209183aadfc24037b4f69a67188af199: '1.6896941661834717'\n",
      "78412d27e8a34d9b95380e8f01a97424: '1.6749145984649658'\n",
      "\n",
      "/home/ubuntu/CLAP/app/cli/modules/optimizer-clap-app/experiments/Transformer/1625796952/PIs_logs/1625797616.out\n",
      "---------\n",
      "Node Id: 209183aadfc24037b4f69a67188af199, created at 08-07-21 23:06:29; Status: reachable\n",
      "---------\n",
      "Instance Flavor: t2.medium, Instance Cost: 0.0264, Iteration Time: 1.6896941661834717, Node Price: 0.044607925987243655\n",
      "---------\n",
      "---------\n",
      "Node Id: 78412d27e8a34d9b95380e8f01a97424, created at 08-07-21 23:17:47; Status: reachable\n",
      "---------\n",
      "Instance Flavor: t2.medium, Instance Cost: 0.0264, Iteration Time: 1.6749145984649658, Node Price: 0.044217745399475095\n",
      "---------\n",
      "Node Prices\n",
      "{'209183aadfc24037b4f69a67188af199': 0.044607925987243655, '78412d27e8a34d9b95380e8f01a97424': 0.044217745399475095}\n",
      "cluster -> yaml.dump \n",
      "\n",
      "cluster_config:\n",
      "    after:\n",
      "    -   actions:\n",
      "        -   action: install-packages\n",
      "            extra:\n",
      "                packages: python3-pip, build-essential, cmake, openmpi-bin, openmpi-common,\n",
      "                    openmpi-doc, libopenmpi-dev\n",
      "            role: gan\n",
      "        roles: []\n",
      "    -   actions:\n",
      "        -   action: run-command\n",
      "            extra:\n",
      "                cmd: sudo apt-get -y install python-is-python3\n",
      "            role: gan\n",
      "        roles: []\n",
      "    -   actions:\n",
      "        -   action: run-command\n",
      "            extra:\n",
      "                cmd: sudo pip install mxnet gluonnlp sacremoses\n",
      "            role: gan\n",
      "        roles: []\n",
      "    -   actions:\n",
      "        -   action: run-command\n",
      "            extra:\n",
      "                cmd: sudo rm -rf optimizer-clap-app/ && git clone https://github.com/robertopossidente/optimizer-clap-app.git\n",
      "            role: gan\n",
      "        roles: []\n",
      "    -   actions:\n",
      "        -   action: run-command\n",
      "            extra:\n",
      "                cmd: sudo mkdir -p /etc/ansible/facts.d/ && sudo cp optimizer-clap-app/times.fact\n",
      "                    /etc/ansible/facts.d/ && sudo chown ubuntu:ubuntu /etc/ansible/facts.d/times.fact\n",
      "                    && sudo chmod 644 /etc/ansible/facts.d/times.fact\n",
      "            role: gan\n",
      "        roles: []\n",
      "    -   actions:\n",
      "        -   action: run-command\n",
      "            extra:\n",
      "                cmd: sudo chmod 400 optimizer-clap-app/machine-translation/clap-config/private/gan-clap-keypair.pem\n",
      "                    && sudo cp optimizer-clap-app/machine-translation/clap-config/private/gan-clap-keypair.pem\n",
      "                    /home/ubuntu/.ssh/id_rsa && sudo chown ubuntu:ubuntu /home/ubuntu/.ssh/id_rsa\n",
      "            role: gan\n",
      "        roles: []\n",
      "    -   actions:\n",
      "        -   action: run-command\n",
      "            extra:\n",
      "                cmd: sudo pip install horovod --no-cache-dir\n",
      "            role: gan\n",
      "        roles: []\n",
      "    -   actions:\n",
      "        -   action: run-command\n",
      "            extra:\n",
      "                cmd: mpirun -np 1 -H localhost:1 -bind-to none -map-by slot python\n",
      "                    /home/ubuntu/optimizer-clap-app/machine-translation/my-train.py\n",
      "                    2>&1 > log.txt\n",
      "            role: gan\n",
      "        roles: []\n",
      "    after_all: []\n",
      "    before:\n",
      "    -   actions:\n",
      "        -   action: update-packages\n",
      "            extra: {}\n",
      "            role: gan\n",
      "        roles:\n",
      "        -   extra: {}\n",
      "            name: gan\n",
      "    before_all: []\n",
      "    cluster_config_id: my-cluster\n",
      "    nodes:\n",
      "        type-a:\n",
      "            count: 1\n",
      "            min_count: 1\n",
      "            setups:\n",
      "            -   actions:\n",
      "                -   action: update-packages\n",
      "                    extra: {}\n",
      "                    role: gan\n",
      "                roles:\n",
      "                -   extra: {}\n",
      "                    name: gan\n",
      "            type: type-a\n",
      "        type-b:\n",
      "            count: 1\n",
      "            min_count: 1\n",
      "            setups:\n",
      "            -   actions:\n",
      "                -   action: update-packages\n",
      "                    extra: {}\n",
      "                    role: gan\n",
      "                roles:\n",
      "                -   extra: {}\n",
      "                    name: gan\n",
      "            type: type-b\n",
      "    options: null\n",
      "cluster_id: cluster-79fda16cee3044b8b11783b2b5bb8c8c\n",
      "cluster_name: BrilliantLath\n",
      "creation_time: 1625796358.9789684\n",
      "is_setup: true\n",
      "update_time: 1625797547.702625\n",
      "\n",
      "cluster_nodes \n",
      "\n",
      "['209183aadfc24037b4f69a67188af199', '78412d27e8a34d9b95380e8f01a97424']\n",
      "cluster_nodes_with_type \n",
      "\n",
      "{'type-a': ['209183aadfc24037b4f69a67188af199', '78412d27e8a34d9b95380e8f01a97424']}\n",
      "cluster_nodes_with_type -> yaml.dump \n",
      "\n",
      "type-a:\n",
      "- 209183aadfc24037b4f69a67188af199\n",
      "- 78412d27e8a34d9b95380e8f01a97424\n",
      "\n",
      "{'209183aadfc24037b4f69a67188af199': 0.044607925987243655, '78412d27e8a34d9b95380e8f01a97424': 0.044217745399475095}\n",
      "High Price Node ID: ['209183aadfc24037b4f69a67188af199'], Instance Type: type-a\n",
      "Lower Price Node ID: ['78412d27e8a34d9b95380e8f01a97424'], Instance Type: type-a\n",
      "Does cluster changed? False\n"
     ]
    },
    {
     "output_type": "execute_result",
     "data": {
      "text/plain": [
       "'metrics = node_prices\\n\\ncluster = cluster_manager.get_cluster_by_id(cluster_id)\\ncluster_dict = asdict(cluster)\\nprint(\\'cluster -> yaml.dump \\n\\')\\nprint(yaml.dump(cluster_dict, indent=4))\\ncluster_nodes = cluster_manager.get_all_cluster_nodes(cluster_id)\\nprint(\\'cluster_nodes \\n\\')\\nprint(cluster_nodes)\\ncluster_nodes_with_type = cluster_manager.get_cluster_nodes_types(cluster_id)\\nprint(\\'cluster_nodes_with_type \\n\\')\\nprint(cluster_nodes_with_type)\\nprint(\\'cluster_nodes_with_type -> yaml.dump \\n\\')\\nprint(yaml.dump(cluster_nodes_with_type))\\n\\nnodes = node_manager.get_nodes_by_id(cluster_nodes)\\n\\nhigher_price = 0\\nlower_price = 1000\\nhigher_price_node_id=[]\\nlower_price_node_id=[]\\nfor node in nodes:\\n    node_dict = asdict(node)\\n    if(float(metrics[node.node_id]) > float(higher_price)):\\n        higher_price = float(metrics[node.node_id])\\n        higher_price_node_id.clear()\\n        higher_price_node_id.append(node.node_id)\\n        high_instance_type = node_dict[\\'configuration\\'][\\'instance\\'][\\'instance_config_id\\']\\n        high_instance_flavor = node_dict[\\'configuration\\'][\\'instance\\'][\\'flavor\\']\\n    if(float(metrics[node.node_id]) < float(lower_price)):\\n        lower_price = float(metrics[node.node_id])\\n        lower_price_node_id.clear()\\n        lower_price_node_id.append(node.node_id)\\n        low_instance_type = node_dict[\\'configuration\\'][\\'instance\\'][\\'instance_config_id\\']\\n        low_instance_flavor = node_dict[\\'configuration\\'][\\'instance\\'][\\'flavor\\']\\n\\nprint(f\"High Price Node ID: {higher_price_node_id}, Instance Type: {high_instance_type}\") \\nprint(f\"Lower Price Node ID: {lower_price_node_id}, Instance Type: {low_instance_type}\")\\n\\nnew_node_id = cluster_manager.grow(cluster_id, node_type=low_instance_type, count=1, min_count=1)\\nprint(f\"New Node: {new_node_id}\")\\n\\n#if(high_instance_flavor!=low_instance_flavor)\\nalive_node = node_manager.is_alive(new_node_id)\\nfor node_id, alive_flag in alive_node.items():\\n    if(alive_flag == True):\\n        print(f\"[INIT] New Node: {new_node_id}\")\\n        new_node_ids = node_manager.get_nodes_by_id(new_node_id)\\n        for node in new_node_ids:\\n            print(f\"[INIT] {float_time_to_string(node.creation_time)}: Created Node:{node.node_id} of #type {low_instance_flavor}\")\\n        print(str(new_node_ids))\\n        #new_nodes_types = {\\n        #   low_instance_type: new_node_id\\n        #}\\n        #cluster_manager.setup_cluster(cluster_id, nodes_being_added=new_nodes_types, \\n        #                                                  start_at_stage=\\'before_all\\')\\n        stopped_node_id = node_manager.stop_nodes(higher_price_node_id)\\n        print(f\"[STOP] %s: Terminated Node:{higher_price_node_id}\" % (datetime.datetime.now()))\\n        result = True\\n    else:\\n        result = False'"
      ]
     },
     "metadata": {},
     "execution_count": 18
    }
   ],
   "source": [
    "import app.cli.modules.optimizer as opt\n",
    "is_otimizado = opt.optimize_it(cluster_id, experiment_id, vm_price_file,root_dir, report_time)\n",
    "\n",
    "'''metrics = node_prices\n",
    "\n",
    "cluster = cluster_manager.get_cluster_by_id(cluster_id)\n",
    "cluster_dict = asdict(cluster)\n",
    "print('cluster -> yaml.dump \\n')\n",
    "print(yaml.dump(cluster_dict, indent=4))\n",
    "cluster_nodes = cluster_manager.get_all_cluster_nodes(cluster_id)\n",
    "print('cluster_nodes \\n')\n",
    "print(cluster_nodes)\n",
    "cluster_nodes_with_type = cluster_manager.get_cluster_nodes_types(cluster_id)\n",
    "print('cluster_nodes_with_type \\n')\n",
    "print(cluster_nodes_with_type)\n",
    "print('cluster_nodes_with_type -> yaml.dump \\n')\n",
    "print(yaml.dump(cluster_nodes_with_type))\n",
    "\n",
    "nodes = node_manager.get_nodes_by_id(cluster_nodes)\n",
    "\n",
    "higher_price = 0\n",
    "lower_price = 1000\n",
    "higher_price_node_id=[]\n",
    "lower_price_node_id=[]\n",
    "for node in nodes:\n",
    "    node_dict = asdict(node)\n",
    "    if(float(metrics[node.node_id]) > float(higher_price)):\n",
    "        higher_price = float(metrics[node.node_id])\n",
    "        higher_price_node_id.clear()\n",
    "        higher_price_node_id.append(node.node_id)\n",
    "        high_instance_type = node_dict['configuration']['instance']['instance_config_id']\n",
    "        high_instance_flavor = node_dict['configuration']['instance']['flavor']\n",
    "    if(float(metrics[node.node_id]) < float(lower_price)):\n",
    "        lower_price = float(metrics[node.node_id])\n",
    "        lower_price_node_id.clear()\n",
    "        lower_price_node_id.append(node.node_id)\n",
    "        low_instance_type = node_dict['configuration']['instance']['instance_config_id']\n",
    "        low_instance_flavor = node_dict['configuration']['instance']['flavor']\n",
    "\n",
    "print(f\"High Price Node ID: {higher_price_node_id}, Instance Type: {high_instance_type}\") \n",
    "print(f\"Lower Price Node ID: {lower_price_node_id}, Instance Type: {low_instance_type}\")\n",
    "\n",
    "new_node_id = cluster_manager.grow(cluster_id, node_type=low_instance_type, count=1, min_count=1)\n",
    "print(f\"New Node: {new_node_id}\")\n",
    "\n",
    "#if(high_instance_flavor!=low_instance_flavor)\n",
    "alive_node = node_manager.is_alive(new_node_id)\n",
    "for node_id, alive_flag in alive_node.items():\n",
    "    if(alive_flag == True):\n",
    "        print(f\"[INIT] New Node: {new_node_id}\")\n",
    "        new_node_ids = node_manager.get_nodes_by_id(new_node_id)\n",
    "        for node in new_node_ids:\n",
    "            print(f\"[INIT] {float_time_to_string(node.creation_time)}: Created Node:{node.node_id} of #type {low_instance_flavor}\")\n",
    "        print(str(new_node_ids))\n",
    "        #new_nodes_types = {\n",
    "        #   low_instance_type: new_node_id\n",
    "        #}\n",
    "        #cluster_manager.setup_cluster(cluster_id, nodes_being_added=new_nodes_types, \n",
    "        #                                                  start_at_stage='before_all')\n",
    "        stopped_node_id = node_manager.stop_nodes(higher_price_node_id)\n",
    "        print(f\"[STOP] %s: Terminated Node:{higher_price_node_id}\" % (datetime.datetime.now()))\n",
    "        result = True\n",
    "    else:\n",
    "        result = False'''\n",
    "        "
   ]
  },
  {
   "cell_type": "markdown",
   "id": "dacea33b-6056-4f0b-b15e-9a76768d79ca",
   "metadata": {},
   "source": [
    "## Stopping cluster\n",
    "\n",
    "Finally we can stop the cluster (and stop all nodes) using the `stop_cluster` command. This will also remove the cluster from cluster repository.\n",
    "\n",
    "Other similar functions are:\n",
    "* `resume_cluster`: That will resume all paused nodes of a cluster  \n",
    "* `pause_cluster`: That will pause all nodes of a cluster\n",
    "* `is_alive`: That will check if all cluster nodes are alive"
   ]
  },
  {
   "cell_type": "code",
   "execution_count": 19,
   "id": "3ab4f63d-e940-48af-9026-c8a6809efdb5",
   "metadata": {},
   "outputs": [
    {
     "output_type": "stream",
     "name": "stdout",
     "text": [
      "\u001b[1;35m[WARNING]: provided hosts list is empty, only localhost is available. Note that\u001b[0m\n",
      "\u001b[1;35mthe implicit localhost does not match 'all'\u001b[0m\n",
      "\n",
      "PLAY [localhost] ***************************************************************\n",
      "\n",
      "TASK [Stopping nodes JeffreyCurry, StevenWallace] ******************************\n",
      "\u001b[0;33mchanged: [localhost]\u001b[0m\n",
      "\n",
      "PLAY RECAP *********************************************************************\n",
      "\u001b[0;33mlocalhost\u001b[0m                  : \u001b[0;32mok=1   \u001b[0m \u001b[0;33mchanged=1   \u001b[0m unreachable=0    failed=0    skipped=0    rescued=0    ignored=0   \n",
      "\n"
     ]
    },
    {
     "output_type": "execute_result",
     "data": {
      "text/plain": [
       "['209183aadfc24037b4f69a67188af199', '78412d27e8a34d9b95380e8f01a97424']"
      ]
     },
     "metadata": {},
     "execution_count": 19
    }
   ],
   "source": [
    "#cluster_manager.stop_cluster(cluster_id)"
   ]
  },
  {
   "cell_type": "code",
   "execution_count": 20,
   "metadata": {},
   "outputs": [
    {
     "output_type": "execute_result",
     "data": {
      "text/plain": [
       "'clusters = cluster_manager.get_all_clusters()\\nfor cluster in clusters:\\n    cluster_manager.stop_cluster(cluster)'"
      ]
     },
     "metadata": {},
     "execution_count": 20
    }
   ],
   "source": [
    "'''clusters = cluster_manager.get_all_clusters()\n",
    "for cluster in clusters:\n",
    "    cluster_manager.stop_cluster(cluster)'''\n"
   ]
  },
  {
   "cell_type": "code",
   "execution_count": 21,
   "metadata": {},
   "outputs": [],
   "source": [
    "#node_manager.stop_nodes(['2c4610c8c02b41f983d96fcf928e0a28'])\n"
   ]
  },
  {
   "cell_type": "code",
   "execution_count": null,
   "metadata": {},
   "outputs": [],
   "source": []
  }
 ],
 "metadata": {
  "kernelspec": {
   "name": "python3",
   "display_name": "Python 3.8.10 64-bit ('clap-env': venv)"
  },
  "language_info": {
   "codemirror_mode": {
    "name": "ipython",
    "version": 3
   },
   "file_extension": ".py",
   "mimetype": "text/x-python",
   "name": "python",
   "nbconvert_exporter": "python",
   "pygments_lexer": "ipython3",
   "version": "3.8.10"
  },
  "interpreter": {
   "hash": "1ca696e889bf4fb244afbc506e01e1a525d9823cd08381e949decf93d6f3bed4"
  }
 },
 "nbformat": 4,
 "nbformat_minor": 5
}