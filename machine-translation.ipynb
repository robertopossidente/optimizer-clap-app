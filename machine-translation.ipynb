{
 "cells": [
  {
   "cell_type": "markdown",
   "id": "70cd36c1-f4e8-4c97-b67d-b81b3676b7d4",
   "metadata": {},
   "source": [
    "# Working with clusters\n",
    "\n",
    "This notebook shows how to work with clusters in CLAP. We will use a cluster `npb-cluster` defined in `examples/cli/1. Creating a cluster.ipynb` notebook (pre-requesite). \n",
    "\n",
    "This notebook covers:\n",
    "* How to start and setup a cluster\n",
    "* How to grow a cluster (adding more nodes to it) and how to shrink\n",
    "* How to get cluster nodes"
   ]
  },
  {
   "cell_type": "code",
   "execution_count": 4,
   "id": "2d7ec07d-f571-4753-826c-3e61234a0a66",
   "metadata": {},
   "outputs": [],
   "source": [
    "import sys\n",
    "sys.path.append('../..')"
   ]
  },
  {
   "cell_type": "code",
   "execution_count": 5,
   "id": "1038f71e-e2f9-46d7-88eb-07368c3996e0",
   "metadata": {},
   "outputs": [],
   "source": [
    "import yaml\n",
    "import time\n",
    "import glob\n",
    "from dataclasses import asdict\n",
    "from app.cli.modules.node import get_config_db, get_node_manager\n",
    "from app.cli.modules.role import get_role_manager\n",
    "from app.cli.modules.cluster import get_cluster_config_db, get_cluster_manager\n",
    "from clap.utils import float_time_to_string, path_extend\n",
    "from clap.executor import SSHCommandExecutor, AnsiblePlaybookExecutor\n"
   ]
  },
  {
   "cell_type": "code",
   "execution_count": 13,
   "id": "38fc284c-e678-49fc-805b-c55fe7b73264",
   "metadata": {},
   "outputs": [
    {
     "output_type": "stream",
     "name": "stderr",
     "text": [
      "Redefinition of setup setup-initial. Skipping\n",
      "Redefinition of setup setup-packages. Skipping\n",
      "Redefinition of setup setup-commands. Skipping\n",
      "Redefinition of setup setup-env. Skipping\n",
      "Redefinition of setup setup-git. Skipping\n",
      "Redefinition of setup run-training. Skipping\n",
      "Redefinition of cluster example-cluster. Skipping\n",
      "Redefinition of setup setup-initial. Skipping\n",
      "Redefinition of cluster example-cluster. Skipping\n",
      "Redefinition of setup setup-initial. Skipping\n",
      "Redefinition of setup setup-install-gcc. Skipping\n"
     ]
    }
   ],
   "source": [
    "configuration_db = get_config_db()\n",
    "cluster_config_db = get_cluster_config_db()\n",
    "node_manager = get_node_manager()\n",
    "role_manager = get_role_manager()\n",
    "cluster_manager = get_cluster_manager()\n",
    "# Private's path (usually ~/.clap/private/) will be used for other methods\n",
    "private_path = node_manager.private_path"
   ]
  },
  {
   "cell_type": "markdown",
   "id": "d5059b63-3220-409d-b18f-48a81d45878d",
   "metadata": {},
   "source": [
    "`cluster_config_db` will load all cluster configs at `~/.clap/configs/clusters/` and will store all in the `clusters` member. `clusters` is a dictionary, where the keys are the name of cluster configuration the values are dataclasses of type `ClusterConfig`.\n",
    "\n",
    "Let's list all cluster configurations and get the configuration named `npb-cluster`."
   ]
  },
  {
   "cell_type": "code",
   "execution_count": 14,
   "id": "121179fd-b688-4468-880d-a89ac7e7d37c",
   "metadata": {},
   "outputs": [
    {
     "output_type": "stream",
     "name": "stdout",
     "text": [
      "['my-cluster', 'example-cluster']\n"
     ]
    }
   ],
   "source": [
    "print(list(cluster_config_db.clusters.keys()))"
   ]
  },
  {
   "cell_type": "code",
   "execution_count": 15,
   "id": "950a8a2d-96cf-497b-abb6-18baf3782de8",
   "metadata": {},
   "outputs": [
    {
     "output_type": "stream",
     "name": "stdout",
     "text": [
      "ClusterConfig(cluster_config_id='my-cluster', options=ClusterOptions(ssh_to='jobmanager'), before_all=[], before=[], after_all=[], after=[SetupConfig(roles=[], actions=[RoleActionType(role='gan', action='install-packages', extra={'packages': 'python3-pip, build-essential, cmake, openmpi-bin, openmpi-common, openmpi-doc, libopenmpi-dev'})]), SetupConfig(roles=[], actions=[RoleActionType(role='gan', action='run-command', extra={'cmd': 'sudo apt-get -y install python-is-python3'})]), SetupConfig(roles=[], actions=[RoleActionType(role='gan', action='run-command', extra={'cmd': 'pip install mxnet gluonnlp sacremoses'})]), SetupConfig(roles=[], actions=[RoleActionType(role='gan', action='run-command', extra={'cmd': 'pip install horovod --no-cache-dir'})]), SetupConfig(roles=[], actions=[RoleActionType(role='gan', action='run-command', extra={'cmd': 'git clone https://github.com/robertopossidente/optimizer-clap-app.git'})]), SetupConfig(roles=[], actions=[RoleActionType(role='gan', action='run-command', extra={'cmd': 'sudo touch /etc/ansible/facts.d/times.fact && sudo mkdir -p /etc/ansible/facts.d/'})]), SetupConfig(roles=[], actions=[RoleActionType(role='gan', action='run-command', extra={'cmd': 'sudo chown ubuntu:ubuntu /home/ubuntu/.ssh/id_rsa && sudo cp optimizer-clap-app/machine-translation/clap-config/private/gan-clap-keypair.pem /home/ubuntu/.ssh/id_rsa'})]), SetupConfig(roles=[], actions=[RoleActionType(role='gan', action='run-command', extra={'cmd': 'mpirun -np 1 -H localhost:1 -bind-to none -map-by slot python /home/ubuntu/optimizer-clap-app/machine-translation/my-train.py 2>&1 > log.txt'})])], nodes={'jobmanager': NodeConfig(type='type-a', count=1, min_count=1, setups=[SetupConfig(roles=[RoleAdd(name='gan', extra={})], actions=[RoleActionType(role='gan', action='update-packages', extra={})])]), 'taskmanager': NodeConfig(type='type-a', count=1, min_count=1, setups=[SetupConfig(roles=[RoleAdd(name='gan', extra={})], actions=[RoleActionType(role='gan', action='update-packages', extra={})])])})\n"
     ]
    }
   ],
   "source": [
    "npb_cluster_config = cluster_config_db.clusters['my-cluster']\n",
    "print(npb_cluster_config)"
   ]
  },
  {
   "cell_type": "markdown",
   "id": "d02c6d00-6e8e-4cbb-9641-2ab28a112acd",
   "metadata": {},
   "source": [
    "The configuration is a dataclass, so it can be ful converted to a dict, with `asdict` function."
   ]
  },
  {
   "cell_type": "code",
   "execution_count": 16,
   "id": "ad4edac5-6304-43e1-a5d0-b059ae3a668b",
   "metadata": {},
   "outputs": [
    {
     "output_type": "stream",
     "name": "stdout",
     "text": [
      "after:\n-   actions:\n    -   action: install-packages\n        extra:\n            packages: python3-pip, build-essential, cmake, openmpi-bin, openmpi-common,\n                openmpi-doc, libopenmpi-dev\n        role: gan\n    roles: []\n-   actions:\n    -   action: run-command\n        extra:\n            cmd: sudo apt-get -y install python-is-python3\n        role: gan\n    roles: []\n-   actions:\n    -   action: run-command\n        extra:\n            cmd: pip install mxnet gluonnlp sacremoses\n        role: gan\n    roles: []\n-   actions:\n    -   action: run-command\n        extra:\n            cmd: pip install horovod --no-cache-dir\n        role: gan\n    roles: []\n-   actions:\n    -   action: run-command\n        extra:\n            cmd: git clone https://github.com/robertopossidente/optimizer-clap-app.git\n        role: gan\n    roles: []\n-   actions:\n    -   action: run-command\n        extra:\n            cmd: sudo touch /etc/ansible/facts.d/times.fact && sudo mkdir -p /etc/ansible/facts.d/\n        role: gan\n    roles: []\n-   actions:\n    -   action: run-command\n        extra:\n            cmd: sudo chown ubuntu:ubuntu /home/ubuntu/.ssh/id_rsa && sudo cp optimizer-clap-app/machine-translation/clap-config/private/gan-clap-keypair.pem\n                /home/ubuntu/.ssh/id_rsa\n        role: gan\n    roles: []\n-   actions:\n    -   action: run-command\n        extra:\n            cmd: mpirun -np 1 -H localhost:1 -bind-to none -map-by slot python /home/ubuntu/optimizer-clap-app/machine-translation/my-train.py\n                2>&1 > log.txt\n        role: gan\n    roles: []\nafter_all: []\nbefore: []\nbefore_all: []\ncluster_config_id: my-cluster\nnodes:\n    jobmanager:\n        count: 1\n        min_count: 1\n        setups:\n        -   actions:\n            -   action: update-packages\n                extra: {}\n                role: gan\n            roles:\n            -   extra: {}\n                name: gan\n        type: type-a\n    taskmanager:\n        count: 1\n        min_count: 1\n        setups:\n        -   actions:\n            -   action: update-packages\n                extra: {}\n                role: gan\n            roles:\n            -   extra: {}\n                name: gan\n        type: type-a\noptions:\n    ssh_to: jobmanager\n\n"
     ]
    }
   ],
   "source": [
    "npb_cluster_config_dict = asdict(npb_cluster_config)\n",
    "print(yaml.dump(npb_cluster_config_dict, indent=4))"
   ]
  },
  {
   "cell_type": "markdown",
   "id": "dd2fb8bf-d222-4874-b4d4-963d4dd2b1d3",
   "metadata": {},
   "source": [
    "We can start a cluster, based on a cluster configuration, using the `start_cluster`  method from `ClusterManager` class The function will return a cluster id that will be used for other methods."
   ]
  },
  {
   "cell_type": "code",
   "execution_count": 17,
   "id": "2d969752-98c2-4520-8f84-bd668cb25c6d",
   "metadata": {},
   "outputs": [
    {
     "output_type": "stream",
     "name": "stdout",
     "text": [
      "\u001b[1;35m[WARNING]: provided hosts list is empty, only localhost is available. Note that\u001b[0m\n",
      "\u001b[1;35mthe implicit localhost does not match 'all'\u001b[0m\n",
      "\n",
      "PLAY [localhost] ***************************************************************\n",
      "\n",
      "TASK [Starting 1 type-a instances (timeout 600 seconds)] ***********************\n",
      "\u001b[0;33mchanged: [localhost]\u001b[0m\n",
      "\n",
      "PLAY RECAP *********************************************************************\n",
      "\u001b[0;33mlocalhost\u001b[0m                  : \u001b[0;32mok=1   \u001b[0m \u001b[0;33mchanged=1   \u001b[0m unreachable=0    failed=0    skipped=0    rescued=0    ignored=0   \n",
      "\n",
      "\u001b[1;35m[WARNING]: provided hosts list is empty, only localhost is available. Note that\u001b[0m\n",
      "\u001b[1;35mthe implicit localhost does not match 'all'\u001b[0m\n",
      "\n",
      "PLAY [localhost] ***************************************************************\n",
      "\n",
      "TASK [Tagging instances] *******************************************************\n",
      "\u001b[0;33mchanged: [localhost] => (item={'id': 'i-02b42dc03292107df', 'name': 'JohnOlney-ee47192d'})\u001b[0m\n",
      "\n",
      "PLAY RECAP *********************************************************************\n",
      "\u001b[0;33mlocalhost\u001b[0m                  : \u001b[0;32mok=1   \u001b[0m \u001b[0;33mchanged=1   \u001b[0m unreachable=0    failed=0    skipped=0    rescued=0    ignored=0   \n",
      "\n",
      "\u001b[1;35m[WARNING]: provided hosts list is empty, only localhost is available. Note that\u001b[0m\n",
      "\u001b[1;35mthe implicit localhost does not match 'all'\u001b[0m\n",
      "\n",
      "PLAY [localhost] ***************************************************************\n",
      "\n",
      "TASK [Starting 1 type-a instances (timeout 600 seconds)] ***********************\n",
      "\u001b[0;33mchanged: [localhost]\u001b[0m\n",
      "\n",
      "PLAY RECAP *********************************************************************\n",
      "\u001b[0;33mlocalhost\u001b[0m                  : \u001b[0;32mok=1   \u001b[0m \u001b[0;33mchanged=1   \u001b[0m unreachable=0    failed=0    skipped=0    rescued=0    ignored=0   \n",
      "\n",
      "\u001b[1;35m[WARNING]: provided hosts list is empty, only localhost is available. Note that\u001b[0m\n",
      "\u001b[1;35mthe implicit localhost does not match 'all'\u001b[0m\n",
      "\n",
      "PLAY [localhost] ***************************************************************\n",
      "\n",
      "TASK [Tagging instances] *******************************************************\n",
      "\u001b[0;33mchanged: [localhost] => (item={'id': 'i-0fb7867e0412abe8d', 'name': 'DorothySouthern-1bf0ed22'})\u001b[0m\n",
      "\n",
      "PLAY RECAP *********************************************************************\n",
      "\u001b[0;33mlocalhost\u001b[0m                  : \u001b[0;32mok=1   \u001b[0m \u001b[0;33mchanged=1   \u001b[0m unreachable=0    failed=0    skipped=0    rescued=0    ignored=0   \n",
      "\n",
      "Error executing command in node 1bf0ed22: [Errno None] Unable to connect to port 22 on 54.234.69.250\n",
      "Error executing command in 1bf0ed22: [Errno None] Unable to connect to port 22 on 54.234.69.250.\n",
      "cluster-1f16d33a790143878883cc5f2a3b6955\n"
     ]
    }
   ],
   "source": [
    "cluster_id = cluster_manager.start_cluster(npb_cluster_config)\n",
    "print(cluster_id)"
   ]
  },
  {
   "cell_type": "markdown",
   "id": "857d4a8a-84c0-4959-b366-f71cc32e8da8",
   "metadata": {},
   "source": [
    "We can get a full cluster information using `get_cluster_by_id` method from `ClusterManager` class. It will return a dataclass of type `ClusterDescriptor` that has all the information of a custer. TO get all clusters in the repository, `get_all_clusters` function returns a list of `ClusterDescriptor`. \n",
    "\n",
    "Let's print the `ClusterDescriptor` from cluster the recently created cluster `cluster-da580f1038254cfa98b203ca109ecb53` in YAML format."
   ]
  },
  {
   "cell_type": "code",
   "execution_count": 9,
   "id": "18c3b106-ab1e-400d-9ffc-6c8ac439bfe8",
   "metadata": {},
   "outputs": [
    {
     "output_type": "stream",
     "name": "stdout",
     "text": [
      "cluster_config:\n    after:\n    -   actions:\n        -   action: install-packages\n            extra:\n                packages: python3-pip, build-essential, cmake, openmpi-bin, openmpi-common,\n                    openmpi-doc, libopenmpi-dev\n            role: gan\n        roles: []\n    -   actions:\n        -   action: run-command\n            extra:\n                cmd: sudo apt-get -y install python-is-python3\n            role: gan\n        roles: []\n    -   actions:\n        -   action: run-command\n            extra:\n                cmd: pip install mxnet gluonnlp sacremoses\n            role: gan\n        roles: []\n    -   actions:\n        -   action: run-command\n            extra:\n                cmd: pip install horovod --no-cache-dir\n            role: gan\n        roles: []\n    -   actions:\n        -   action: run-command\n            extra:\n                cmd: git clone --branch train https://github.com/robertopossidente/AMLC19-GluonNLP.git\n            role: gan\n        roles: []\n    -   actions:\n        -   action: run-command\n            extra:\n                cmd: mpirun -np 1 -H localhost:1 -bind-to none -map-by slot python\n                    /home/ubuntu/AMLC19-GluonNLP/03_machine_translation/my-train.py\n                    2>&1 > log.txt\n            role: gan\n        roles: []\n    after_all: []\n    before: []\n    before_all: []\n    cluster_config_id: my-cluster\n    nodes:\n        jobmanager:\n            count: 1\n            min_count: 1\n            setups:\n            -   actions:\n                -   action: update-packages\n                    extra: {}\n                    role: gan\n                roles:\n                -   extra: {}\n                    name: gan\n            type: type-a\n        taskmanager:\n            count: 2\n            min_count: 1\n            setups:\n            -   actions:\n                -   action: update-packages\n                    extra: {}\n                    role: gan\n                roles:\n                -   extra: {}\n                    name: gan\n            type: type-b\n    options:\n        ssh_to: jobmanager\ncluster_id: cluster-fc1985bed5784101ac0cc7194ea81c32\ncluster_name: SelfishAlloy\ncreation_time: 1625362511.601095\nis_setup: false\nupdate_time: 1625362643.6686995\n\n"
     ]
    }
   ],
   "source": [
    "cluster = cluster_manager.get_cluster_by_id(cluster_id)\n",
    "cluster_dict = asdict(cluster)\n",
    "print(yaml.dump(cluster_dict, indent=4))"
   ]
  },
  {
   "cell_type": "markdown",
   "id": "b65dba46-c78f-429a-aeb3-1d0c55828fd7",
   "metadata": {},
   "source": [
    "Given a cluster id, we can get all CLAP nodes that belongs to this cluster, using `get_all_cluster_nodes` method from `ClusterManager` class. It wil return a list of node ids, which can be used with several CLAP modules, such as `NodeManager` and `RoleManager` classes.."
   ]
  },
  {
   "cell_type": "code",
   "execution_count": 10,
   "id": "5f56de15-a275-457b-abc5-8d878be1163b",
   "metadata": {},
   "outputs": [
    {
     "output_type": "stream",
     "name": "stdout",
     "text": [
      "['d4289a6df8f4462c9de952b2c95dc817', '0a6d71d1846f4085a3e7b433854d8385', '2cf810aaf68f4b1fa9d8ac2cb48dd002']\n"
     ]
    }
   ],
   "source": [
    "cluster_nodes = cluster_manager.get_all_cluster_nodes(cluster_id)\n",
    "print(cluster_nodes)"
   ]
  },
  {
   "cell_type": "markdown",
   "id": "00544087-14b6-46d7-a314-9efb442021c4",
   "metadata": {},
   "source": [
    "Using the `get_cluster_nodes_types` method from `ClusterManager` class will result in a dictionary where the key are the cluster node types (e.g., `npb-type-b`) and the values are a list of node ids of nodes from that type."
   ]
  },
  {
   "cell_type": "code",
   "execution_count": 11,
   "id": "62fc45ed-e7ff-4345-a53f-1fb5a6def492",
   "metadata": {},
   "outputs": [
    {
     "output_type": "stream",
     "name": "stdout",
     "text": [
      "{'jobmanager': ['d4289a6df8f4462c9de952b2c95dc817'], 'taskmanager': ['0a6d71d1846f4085a3e7b433854d8385', '2cf810aaf68f4b1fa9d8ac2cb48dd002']}\n"
     ]
    }
   ],
   "source": [
    "cluster_nodes_with_type = cluster_manager.get_cluster_nodes_types(cluster_id)\n",
    "print(cluster_nodes_with_type)"
   ]
  },
  {
   "cell_type": "code",
   "execution_count": 18,
   "id": "0d1fc562-d336-4805-a005-7a07da85d642",
   "metadata": {},
   "outputs": [
    {
     "name": "stdout",
     "output_type": "stream",
     "text": [
      "npb-type-b:\n",
      "- 0e9db9afd8d649638349dec77d9eb066\n",
      "- 43d6d3880d034c9a8aa7c4929bd8b3fc\n",
      "- a8c82747b7184f81bf72a676fa9baa56\n",
      "- b616ea6a27ed450eb4996e1fd3b0f710\n",
      "\n"
     ]
    }
   ],
   "source": [
    "cluster_nodes_with_type = cluster_manager.get_cluster_nodes_types(cluster_id)\n",
    "print(yaml.dump(cluster_nodes_with_type))"
   ]
  },
  {
   "cell_type": "code",
   "execution_count": null,
   "metadata": {},
   "outputs": [],
   "source": [
    "command_to_execute = \"\"\"\n",
    "mpirun -np 1 -H localhost:1 -bind-to none -map-by slot python /home/ubuntu/optimizer-clap-app/machine-translation/my-train.py 2>&1 > log.txt \n",
    "echo Launch Machine Translation by ssh\n",
    "\"\"\"\n",
    "executor = SSHCommandExecutor(command_to_execute, cluster_nodes, private_path)\n",
    "result = executor.run()\n",
    "\n",
    "for node_id, res in result.items():\n",
    "    print(f\"Node id {node_id}, executed the command: {res.ok}, ret code: {res.ret_code}\")\n",
    "    # resut is a dataclass, we can convert to a dictionary\n",
    "    res_dict = asdict(res)\n",
    "    print('-----')\n",
    "    # Dump dictionary in YAML format\n",
    "    print(yaml.dump(res_dict, indent=4, sort_keys=True))"
   ]
  },
  {
   "cell_type": "code",
   "execution_count": 24,
   "id": "4ca1dc74-5690-49b5-8b63-d97d7f2238cc",
   "metadata": {},
   "outputs": [
    {
     "name": "stdout",
     "output_type": "stream",
     "text": [
      "\u001b[1;35m[WARNING]: provided hosts list is empty, only localhost is available. Note that\u001b[0m\n",
      "\u001b[1;35mthe implicit localhost does not match 'all'\u001b[0m\n",
      "\n",
      "PLAY [localhost] ***************************************************************\n",
      "\n",
      "TASK [Stopping nodes CarolArchey, JaniceSilkenson, NancyHackwell] **************\n",
      "\u001b[0;33mchanged: [localhost]\u001b[0m\n",
      "\n",
      "PLAY RECAP *********************************************************************\n",
      "\u001b[0;33mlocalhost\u001b[0m                  : \u001b[0;32mok=1   \u001b[0m \u001b[0;33mchanged=1   \u001b[0m unreachable=0    failed=0    skipped=0    rescued=0    ignored=0   \n",
      "\n",
      "['a8c82747b7184f81bf72a676fa9baa56', '0e9db9afd8d649638349dec77d9eb066', 'b616ea6a27ed450eb4996e1fd3b0f710']\n"
     ]
    }
   ],
   "source": [
    "stopped_nodes = node_manager.stop_nodes(cluster_nodes[0:3])\n",
    "print(stopped_nodes)"
   ]
  },
  {
   "cell_type": "markdown",
   "id": "02ff0a62-e536-49c9-9e1b-233ec01afc59",
   "metadata": {},
   "source": [
    "And running the application again..."
   ]
  },
  {
   "cell_type": "markdown",
   "id": "3d36d9b4-6b3f-4ec2-8d2b-46ccebcb14b4",
   "metadata": {},
   "source": [
    "Fetching some results..."
   ]
  },
  {
   "cell_type": "markdown",
   "id": "c4f9a137-bd79-4a9a-b9d1-f4b42bfddd07",
   "metadata": {},
   "source": [
    "And parsing them..."
   ]
  },
  {
   "cell_type": "markdown",
   "id": "dacea33b-6056-4f0b-b15e-9a76768d79ca",
   "metadata": {},
   "source": [
    "## Stopping cluster\n",
    "\n",
    "Finally we can stop the cluster (and stop all nodes) using the `stop_cluster` command. This will also remove the cluster from cluster repository.\n",
    "\n",
    "Other similar functions are:\n",
    "* `resume_cluster`: That will resume all paused nodes of a cluster  \n",
    "* `pause_cluster`: That will pause all nodes of a cluster\n",
    "* `is_alive`: That will check if all cluster nodes are alive"
   ]
  },
  {
   "cell_type": "code",
   "execution_count": 38,
   "id": "3ab4f63d-e940-48af-9026-c8a6809efdb5",
   "metadata": {},
   "outputs": [
    {
     "name": "stdout",
     "output_type": "stream",
     "text": [
      "\u001b[1;35m[WARNING]: provided hosts list is empty, only localhost is available. Note that\u001b[0m\n",
      "\u001b[1;35mthe implicit localhost does not match 'all'\u001b[0m\n",
      "\n",
      "PLAY [localhost] ***************************************************************\n",
      "\n",
      "TASK [Stopping nodes BritneyGalvan] ********************************************\n",
      "\u001b[0;33mchanged: [localhost]\u001b[0m\n",
      "\n",
      "PLAY RECAP *********************************************************************\n",
      "\u001b[0;33mlocalhost\u001b[0m                  : \u001b[0;32mok=1   \u001b[0m \u001b[0;33mchanged=1   \u001b[0m unreachable=0    failed=0    skipped=0    rescued=0    ignored=0   \n",
      "\n"
     ]
    },
    {
     "data": {
      "text/plain": [
       "['43d6d3880d034c9a8aa7c4929bd8b3fc']"
      ]
     },
     "execution_count": 38,
     "metadata": {},
     "output_type": "execute_result"
    }
   ],
   "source": [
    "cluster_manager.stop_cluster(cluster_id)"
   ]
  },
  {
   "cell_type": "code",
   "execution_count": 18,
   "metadata": {},
   "outputs": [],
   "source": [
    "clusters = cluster_manager.get_all_clusters()\n",
    "for cluster in clusters:\n",
    "    cluster_manager.stop_cluster(cluster)\n"
   ]
  },
  {
   "cell_type": "code",
   "execution_count": null,
   "metadata": {},
   "outputs": [],
   "source": []
  }
 ],
 "metadata": {
  "kernelspec": {
   "name": "python3",
   "display_name": "Python 3.8.5 64-bit ('clap-env': venv)"
  },
  "language_info": {
   "codemirror_mode": {
    "name": "ipython",
    "version": 3
   },
   "file_extension": ".py",
   "mimetype": "text/x-python",
   "name": "python",
   "nbconvert_exporter": "python",
   "pygments_lexer": "ipython3",
   "version": "3.8.5"
  },
  "interpreter": {
   "hash": "ef8e2e09dc0ec59bfaa1ee1ab58a447fd43ddbfdd8e56cb47e4a7710a303cfac"
  }
 },
 "nbformat": 4,
 "nbformat_minor": 5
}