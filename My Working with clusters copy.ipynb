{
 "cells": [
  {
   "cell_type": "markdown",
   "id": "70cd36c1-f4e8-4c97-b67d-b81b3676b7d4",
   "metadata": {},
   "source": [
    "# Machine Translation with Transformer"
   ]
  },
  {
   "cell_type": "code",
   "execution_count": 1,
   "id": "2d7ec07d-f571-4753-826c-3e61234a0a66",
   "metadata": {},
   "outputs": [],
   "source": [
    "import sys\n",
    "sys.path.append('../..')"
   ]
  },
  {
   "cell_type": "code",
   "execution_count": 2,
   "id": "1038f71e-e2f9-46d7-88eb-07368c3996e0",
   "metadata": {},
   "outputs": [],
   "source": [
    "import yaml\n",
    "import time\n",
    "import glob\n",
    "import datetime\n",
    "from dataclasses import asdict\n",
    "from app.cli.modules.node import get_config_db, get_node_manager\n",
    "from app.cli.modules.role import get_role_manager\n",
    "from app.cli.modules.cluster import get_cluster_config_db, get_cluster_manager\n",
    "from clap.utils import float_time_to_string, path_extend, yaml_load\n",
    "from clap.executor import SSHCommandExecutor, AnsiblePlaybookExecutor\n"
   ]
  },
  {
   "cell_type": "code",
   "execution_count": 3,
   "id": "38fc284c-e678-49fc-805b-c55fe7b73264",
   "metadata": {},
   "outputs": [
    {
     "output_type": "stream",
     "name": "stderr",
     "text": [
      "Redefinition of setup setup-initial. Skipping\n"
     ]
    }
   ],
   "source": [
    "configuration_db = get_config_db()\n",
    "cluster_config_db = get_cluster_config_db()\n",
    "node_manager = get_node_manager()\n",
    "role_manager = get_role_manager()\n",
    "cluster_manager = get_cluster_manager()\n",
    "# Private's path (usually ~/.clap/private/) will be used for other methods\n",
    "private_path = node_manager.private_path"
   ]
  },
  {
   "cell_type": "markdown",
   "id": "d5059b63-3220-409d-b18f-48a81d45878d",
   "metadata": {},
   "source": [
    "`cluster_config_db` will load all cluster configs at `~/.clap/configs/clusters/` and will store all in the `clusters` member. `clusters` is a dictionary, where the keys are the name of cluster configuration the values are dataclasses of type `ClusterConfig`.\n",
    "\n",
    "Let's list all cluster configurations and get the configuration named `npb-cluster`."
   ]
  },
  {
   "cell_type": "code",
   "execution_count": 4,
   "id": "121179fd-b688-4468-880d-a89ac7e7d37c",
   "metadata": {},
   "outputs": [
    {
     "output_type": "stream",
     "name": "stdout",
     "text": [
      "['my-cluster', 'example-cluster']\n"
     ]
    }
   ],
   "source": [
    "print(list(cluster_config_db.clusters.keys()))"
   ]
  },
  {
   "cell_type": "code",
   "execution_count": 5,
   "id": "950a8a2d-96cf-497b-abb6-18baf3782de8",
   "metadata": {},
   "outputs": [
    {
     "output_type": "stream",
     "name": "stdout",
     "text": [
      "ClusterConfig(cluster_config_id='my-cluster', options=None, before_all=[SetupConfig(roles=[RoleAdd(name='gan', extra={})], actions=[RoleActionType(role='gan', action='update-packages', extra={})])], before=[], after_all=[SetupConfig(roles=[], actions=[RoleActionType(role='gan', action='install-packages', extra={'packages': 'python3-pip, build-essential, cmake, openmpi-bin, openmpi-common, openmpi-doc, libopenmpi-dev'})]), SetupConfig(roles=[], actions=[RoleActionType(role='gan', action='run-command', extra={'cmd': 'sudo apt-get -y install python-is-python3'})]), SetupConfig(roles=[], actions=[RoleActionType(role='gan', action='run-command', extra={'cmd': 'sudo pip install mxnet gluonnlp sacremoses'})]), SetupConfig(roles=[], actions=[RoleActionType(role='gan', action='run-command', extra={'cmd': 'git clone https://github.com/robertopossidente/optimizer-clap-app.git'})]), SetupConfig(roles=[], actions=[RoleActionType(role='gan', action='run-command', extra={'cmd': 'sudo mkdir -p /etc/ansible/facts.d/ && sudo cp optimizer-clap-app/times.fact /etc/ansible/facts.d/ && sudo chown ubuntu:ubuntu /etc/ansible/facts.d/times.fact && sudo chmod 644 /etc/ansible/facts.d/times.fact'})]), SetupConfig(roles=[], actions=[RoleActionType(role='gan', action='run-command', extra={'cmd': 'sudo chmod 400 optimizer-clap-app/machine-translation/clap-config/private/gan-clap-keypair.pem && sudo cp optimizer-clap-app/machine-translation/clap-config/private/gan-clap-keypair.pem /home/ubuntu/.ssh/id_rsa && sudo chown ubuntu:ubuntu /home/ubuntu/.ssh/id_rsa'})]), SetupConfig(roles=[], actions=[RoleActionType(role='gan', action='run-command', extra={'cmd': 'sudo pip install horovod --no-cache-dir'})])], after=[], nodes={'type-a': NodeConfig(type='type-a', count=1, min_count=1, setups=[SetupConfig(roles=[RoleAdd(name='gan', extra={})], actions=[RoleActionType(role='gan', action='update-packages', extra={})])]), 'type-b': NodeConfig(type='type-b', count=1, min_count=1, setups=[SetupConfig(roles=[RoleAdd(name='gan', extra={})], actions=[RoleActionType(role='gan', action='update-packages', extra={})])])})\n"
     ]
    }
   ],
   "source": [
    "npb_cluster_config = cluster_config_db.clusters['my-cluster']\n",
    "print(npb_cluster_config)"
   ]
  },
  {
   "cell_type": "markdown",
   "id": "d02c6d00-6e8e-4cbb-9641-2ab28a112acd",
   "metadata": {},
   "source": [
    "The configuration is a dataclass, so it can be ful converted to a dict, with `asdict` function."
   ]
  },
  {
   "cell_type": "code",
   "execution_count": 6,
   "id": "ad4edac5-6304-43e1-a5d0-b059ae3a668b",
   "metadata": {},
   "outputs": [
    {
     "output_type": "stream",
     "name": "stdout",
     "text": [
      "after: []\nafter_all:\n-   actions:\n    -   action: install-packages\n        extra:\n            packages: python3-pip, build-essential, cmake, openmpi-bin, openmpi-common,\n                openmpi-doc, libopenmpi-dev\n        role: gan\n    roles: []\n-   actions:\n    -   action: run-command\n        extra:\n            cmd: sudo apt-get -y install python-is-python3\n        role: gan\n    roles: []\n-   actions:\n    -   action: run-command\n        extra:\n            cmd: sudo pip install mxnet gluonnlp sacremoses\n        role: gan\n    roles: []\n-   actions:\n    -   action: run-command\n        extra:\n            cmd: git clone https://github.com/robertopossidente/optimizer-clap-app.git\n        role: gan\n    roles: []\n-   actions:\n    -   action: run-command\n        extra:\n            cmd: sudo mkdir -p /etc/ansible/facts.d/ && sudo cp optimizer-clap-app/times.fact\n                /etc/ansible/facts.d/ && sudo chown ubuntu:ubuntu /etc/ansible/facts.d/times.fact\n                && sudo chmod 644 /etc/ansible/facts.d/times.fact\n        role: gan\n    roles: []\n-   actions:\n    -   action: run-command\n        extra:\n            cmd: sudo chmod 400 optimizer-clap-app/machine-translation/clap-config/private/gan-clap-keypair.pem\n                && sudo cp optimizer-clap-app/machine-translation/clap-config/private/gan-clap-keypair.pem\n                /home/ubuntu/.ssh/id_rsa && sudo chown ubuntu:ubuntu /home/ubuntu/.ssh/id_rsa\n        role: gan\n    roles: []\n-   actions:\n    -   action: run-command\n        extra:\n            cmd: sudo pip install horovod --no-cache-dir\n        role: gan\n    roles: []\nbefore: []\nbefore_all:\n-   actions:\n    -   action: update-packages\n        extra: {}\n        role: gan\n    roles:\n    -   extra: {}\n        name: gan\ncluster_config_id: my-cluster\nnodes:\n    type-a:\n        count: 1\n        min_count: 1\n        setups:\n        -   actions:\n            -   action: update-packages\n                extra: {}\n                role: gan\n            roles:\n            -   extra: {}\n                name: gan\n        type: type-a\n    type-b:\n        count: 1\n        min_count: 1\n        setups:\n        -   actions:\n            -   action: update-packages\n                extra: {}\n                role: gan\n            roles:\n            -   extra: {}\n                name: gan\n        type: type-b\noptions: null\n\n"
     ]
    }
   ],
   "source": [
    "npb_cluster_config_dict = asdict(npb_cluster_config)\n",
    "print(yaml.dump(npb_cluster_config_dict, indent=4))"
   ]
  },
  {
   "cell_type": "markdown",
   "id": "dd2fb8bf-d222-4874-b4d4-963d4dd2b1d3",
   "metadata": {},
   "source": [
    "We can start a cluster, based on a cluster configuration, using the `start_cluster`  method from `ClusterManager` class The function will return a cluster id that will be used for other methods."
   ]
  },
  {
   "cell_type": "code",
   "execution_count": 7,
   "id": "2d969752-98c2-4520-8f84-bd668cb25c6d",
   "metadata": {},
   "outputs": [
    {
     "output_type": "stream",
     "name": "stdout",
     "text": [
      "\u001b[1;35m[WARNING]: provided hosts list is empty, only localhost is available. Note that\u001b[0m\n",
      "\u001b[1;35mthe implicit localhost does not match 'all'\u001b[0m\n",
      "\n",
      "PLAY [localhost] ***************************************************************\n",
      "\n",
      "TASK [Starting 1 type-a instances (timeout 600 seconds)] ***********************\n",
      "\u001b[0;33mchanged: [localhost]\u001b[0m\n",
      "\n",
      "PLAY RECAP *********************************************************************\n",
      "\u001b[0;33mlocalhost\u001b[0m                  : \u001b[0;32mok=1   \u001b[0m \u001b[0;33mchanged=1   \u001b[0m unreachable=0    failed=0    skipped=0    rescued=0    ignored=0   \n",
      "\n",
      "\u001b[1;35m[WARNING]: provided hosts list is empty, only localhost is available. Note that\u001b[0m\n",
      "\u001b[1;35mthe implicit localhost does not match 'all'\u001b[0m\n",
      "\n",
      "PLAY [localhost] ***************************************************************\n",
      "\n",
      "TASK [Tagging instances] *******************************************************\n",
      "\u001b[0;33mchanged: [localhost] => (item={'id': 'i-0bec470b9c0c9f2bb', 'name': 'ArthurMichels-6bb01513'})\u001b[0m\n",
      "\n",
      "PLAY RECAP *********************************************************************\n",
      "\u001b[0;33mlocalhost\u001b[0m                  : \u001b[0;32mok=1   \u001b[0m \u001b[0;33mchanged=1   \u001b[0m unreachable=0    failed=0    skipped=0    rescued=0    ignored=0   \n",
      "\n",
      "\u001b[1;35m[WARNING]: provided hosts list is empty, only localhost is available. Note that\u001b[0m\n",
      "\u001b[1;35mthe implicit localhost does not match 'all'\u001b[0m\n",
      "\n",
      "PLAY [localhost] ***************************************************************\n",
      "\n",
      "TASK [Starting 1 type-b instances (timeout 600 seconds)] ***********************\n",
      "\u001b[0;33mchanged: [localhost]\u001b[0m\n",
      "\n",
      "PLAY RECAP *********************************************************************\n",
      "\u001b[0;33mlocalhost\u001b[0m                  : \u001b[0;32mok=1   \u001b[0m \u001b[0;33mchanged=1   \u001b[0m unreachable=0    failed=0    skipped=0    rescued=0    ignored=0   \n",
      "\n",
      "\u001b[1;35m[WARNING]: provided hosts list is empty, only localhost is available. Note that\u001b[0m\n",
      "\u001b[1;35mthe implicit localhost does not match 'all'\u001b[0m\n",
      "\n",
      "PLAY [localhost] ***************************************************************\n",
      "\n",
      "TASK [Tagging instances] *******************************************************\n",
      "\u001b[0;33mchanged: [localhost] => (item={'id': 'i-00e667fabb8c1e2ff', 'name': 'CindiLopez-ccb0f904'})\u001b[0m\n",
      "\n",
      "PLAY RECAP *********************************************************************\n",
      "\u001b[0;33mlocalhost\u001b[0m                  : \u001b[0;32mok=1   \u001b[0m \u001b[0;33mchanged=1   \u001b[0m unreachable=0    failed=0    skipped=0    rescued=0    ignored=0   \n",
      "\n",
      "cluster-1f11d171e9ca4235bf9b67c817f2d045\n"
     ]
    }
   ],
   "source": [
    "cluster_id = cluster_manager.start_cluster(npb_cluster_config)\n",
    "print(cluster_id)"
   ]
  },
  {
   "cell_type": "markdown",
   "id": "857d4a8a-84c0-4959-b366-f71cc32e8da8",
   "metadata": {},
   "source": [
    "We can get a full cluster information using `get_cluster_by_id` method from `ClusterManager` class. It will return a dataclass of type `ClusterDescriptor` that has all the information of a custer. TO get all clusters in the repository, `get_all_clusters` function returns a list of `ClusterDescriptor`. \n",
    "\n",
    "Let's print the `ClusterDescriptor` from cluster the recently created cluster `cluster-da580f1038254cfa98b203ca109ecb53` in YAML format."
   ]
  },
  {
   "cell_type": "markdown",
   "id": "b65dba46-c78f-429a-aeb3-1d0c55828fd7",
   "metadata": {},
   "source": [
    "Given a cluster id, we can get all CLAP nodes that belongs to this cluster, using `get_all_cluster_nodes` method from `ClusterManager` class. It wil return a list of node ids, which can be used with several CLAP modules, such as `NodeManager` and `RoleManager` classes.."
   ]
  },
  {
   "cell_type": "code",
   "execution_count": 8,
   "id": "5f56de15-a275-457b-abc5-8d878be1163b",
   "metadata": {},
   "outputs": [
    {
     "output_type": "stream",
     "name": "stdout",
     "text": [
      "['6bb01513c18c42c8af5079008f575bd7', 'ccb0f90412544221b5dc9d53dcc0ce94']\n"
     ]
    }
   ],
   "source": [
    "cluster_nodes = cluster_manager.get_all_cluster_nodes(cluster_id)\n",
    "print(cluster_nodes)"
   ]
  },
  {
   "cell_type": "markdown",
   "id": "00544087-14b6-46d7-a314-9efb442021c4",
   "metadata": {},
   "source": [
    "Using the `get_cluster_nodes_types` method from `ClusterManager` class will result in a dictionary where the key are the cluster node types (e.g., `npb-type-b`) and the values are a list of node ids of nodes from that type."
   ]
  },
  {
   "cell_type": "code",
   "execution_count": 9,
   "id": "62fc45ed-e7ff-4345-a53f-1fb5a6def492",
   "metadata": {},
   "outputs": [
    {
     "output_type": "stream",
     "name": "stdout",
     "text": [
      "{'type-a': ['6bb01513c18c42c8af5079008f575bd7'], 'type-b': ['ccb0f90412544221b5dc9d53dcc0ce94']}\n"
     ]
    }
   ],
   "source": [
    "cluster_nodes_with_type = cluster_manager.get_cluster_nodes_types(cluster_id)\n",
    "print(cluster_nodes_with_type)"
   ]
  },
  {
   "cell_type": "code",
   "execution_count": 10,
   "id": "0d1fc562-d336-4805-a005-7a07da85d642",
   "metadata": {},
   "outputs": [
    {
     "output_type": "stream",
     "name": "stdout",
     "text": [
      "type-a:\n- 6bb01513c18c42c8af5079008f575bd7\ntype-b:\n- ccb0f90412544221b5dc9d53dcc0ce94\n\n"
     ]
    }
   ],
   "source": [
    "cluster_nodes_with_type = cluster_manager.get_cluster_nodes_types(cluster_id)\n",
    "print(yaml.dump(cluster_nodes_with_type))"
   ]
  },
  {
   "cell_type": "code",
   "execution_count": 11,
   "metadata": {},
   "outputs": [
    {
     "output_type": "stream",
     "name": "stdout",
     "text": [
      "\n",
      "PLAY [all] *********************************************************************\n",
      "\n",
      "TASK [Gathering Facts] *********************************************************\n",
      "\u001b[0;32mok: [d025bd1533f34d19959e7418c3b7bdc1]\u001b[0m\n",
      "\u001b[0;32mok: [e7f5d6fbb1604289989d12ed78ce4711]\u001b[0m\n",
      "\n",
      "TASK [Perform package list update] *********************************************\n",
      "\u001b[0;33mchanged: [d025bd1533f34d19959e7418c3b7bdc1]\u001b[0m\n",
      "\u001b[0;33mchanged: [e7f5d6fbb1604289989d12ed78ce4711]\u001b[0m\n",
      "\n",
      "PLAY RECAP *********************************************************************\n",
      "\u001b[0;33md025bd1533f34d19959e7418c3b7bdc1\u001b[0m : \u001b[0;32mok=2   \u001b[0m \u001b[0;33mchanged=1   \u001b[0m unreachable=0    failed=0    skipped=0    rescued=0    ignored=0   \n",
      "\u001b[0;33me7f5d6fbb1604289989d12ed78ce4711\u001b[0m : \u001b[0;32mok=2   \u001b[0m \u001b[0;33mchanged=1   \u001b[0m unreachable=0    failed=0    skipped=0    rescued=0    ignored=0   \n",
      "\n",
      "\n",
      "PLAY [all] *********************************************************************\n",
      "\n",
      "TASK [Gathering Facts] *********************************************************\n",
      "\u001b[0;32mok: [e7f5d6fbb1604289989d12ed78ce4711]\u001b[0m\n",
      "\n",
      "TASK [Perform package list update] *********************************************\n",
      "\u001b[0;33mchanged: [e7f5d6fbb1604289989d12ed78ce4711]\u001b[0m\n",
      "\n",
      "PLAY RECAP *********************************************************************\n",
      "\u001b[0;33me7f5d6fbb1604289989d12ed78ce4711\u001b[0m : \u001b[0;32mok=2   \u001b[0m \u001b[0;33mchanged=1   \u001b[0m unreachable=0    failed=0    skipped=0    rescued=0    ignored=0   \n",
      "\n",
      "\n",
      "PLAY [all] *********************************************************************\n",
      "\n",
      "TASK [Gathering Facts] *********************************************************\n",
      "\u001b[0;32mok: [d025bd1533f34d19959e7418c3b7bdc1]\u001b[0m\n",
      "\n",
      "TASK [Perform package list update] *********************************************\n",
      "\u001b[0;33mchanged: [d025bd1533f34d19959e7418c3b7bdc1]\u001b[0m\n",
      "\n",
      "PLAY RECAP *********************************************************************\n",
      "\u001b[0;33md025bd1533f34d19959e7418c3b7bdc1\u001b[0m : \u001b[0;32mok=2   \u001b[0m \u001b[0;33mchanged=1   \u001b[0m unreachable=0    failed=0    skipped=0    rescued=0    ignored=0   \n",
      "\n",
      "\n",
      "PLAY [all] *********************************************************************\n",
      "\n",
      "TASK [Gathering Facts] *********************************************************\n",
      "\u001b[0;32mok: [d025bd1533f34d19959e7418c3b7bdc1]\u001b[0m\n",
      "\u001b[0;32mok: [e7f5d6fbb1604289989d12ed78ce4711]\u001b[0m\n",
      "\n",
      "TASK [Perform package installation] ********************************************\n",
      "\u001b[0;33mchanged: [d025bd1533f34d19959e7418c3b7bdc1]\u001b[0m\n",
      "\u001b[0;33mchanged: [e7f5d6fbb1604289989d12ed78ce4711]\u001b[0m\n",
      "\n",
      "PLAY RECAP *********************************************************************\n",
      "\u001b[0;33md025bd1533f34d19959e7418c3b7bdc1\u001b[0m : \u001b[0;32mok=2   \u001b[0m \u001b[0;33mchanged=1   \u001b[0m unreachable=0    failed=0    skipped=0    rescued=0    ignored=0   \n",
      "\u001b[0;33me7f5d6fbb1604289989d12ed78ce4711\u001b[0m : \u001b[0;32mok=2   \u001b[0m \u001b[0;33mchanged=1   \u001b[0m unreachable=0    failed=0    skipped=0    rescued=0    ignored=0   \n",
      "\n",
      "\n",
      "PLAY [all] *********************************************************************\n",
      "\n",
      "TASK [Run command in the remote hosts (free form)] *****************************\n",
      "\u001b[0;33mchanged: [d025bd1533f34d19959e7418c3b7bdc1]\u001b[0m\n",
      "\u001b[0;33mchanged: [e7f5d6fbb1604289989d12ed78ce4711]\u001b[0m\n",
      "\n",
      "PLAY RECAP *********************************************************************\n",
      "\u001b[0;33md025bd1533f34d19959e7418c3b7bdc1\u001b[0m : \u001b[0;32mok=1   \u001b[0m \u001b[0;33mchanged=1   \u001b[0m unreachable=0    failed=0    skipped=0    rescued=0    ignored=0   \n",
      "\u001b[0;33me7f5d6fbb1604289989d12ed78ce4711\u001b[0m : \u001b[0;32mok=1   \u001b[0m \u001b[0;33mchanged=1   \u001b[0m unreachable=0    failed=0    skipped=0    rescued=0    ignored=0   \n",
      "\n",
      "\n",
      "PLAY [all] *********************************************************************\n",
      "\n",
      "TASK [Run command in the remote hosts (free form)] *****************************\n",
      "\u001b[0;35m[DEPRECATION WARNING]: Distribution ubuntu 20.04 on host \u001b[0m\n",
      "\u001b[0;35md025bd1533f34d19959e7418c3b7bdc1 should use /usr/bin/python3, but is using \u001b[0m\n",
      "\u001b[0;35m/usr/bin/python for backward compatibility with prior Ansible releases. A \u001b[0m\n",
      "\u001b[0;35mfuture Ansible release will default to using the discovered platform python for\u001b[0m\n",
      "\u001b[0;35m this host. See https://docs.ansible.com/ansible/2.11/reference_appendices/inte\u001b[0m\n",
      "\u001b[0;35mrpreter_discovery.html for more information. This feature will be removed in \u001b[0m\n",
      "\u001b[0;35mversion 2.12. Deprecation warnings can be disabled by setting \u001b[0m\n",
      "\u001b[0;35mdeprecation_warnings=False in ansible.cfg.\u001b[0m\n",
      "\u001b[0;33mchanged: [d025bd1533f34d19959e7418c3b7bdc1]\u001b[0m\n",
      "\u001b[0;35m[DEPRECATION WARNING]: Distribution ubuntu 20.04 on host \u001b[0m\n",
      "\u001b[0;35me7f5d6fbb1604289989d12ed78ce4711 should use /usr/bin/python3, but is using \u001b[0m\n",
      "\u001b[0;35m/usr/bin/python for backward compatibility with prior Ansible releases. A \u001b[0m\n",
      "\u001b[0;35mfuture Ansible release will default to using the discovered platform python for\u001b[0m\n",
      "\u001b[0;35m this host. See https://docs.ansible.com/ansible/2.11/reference_appendices/inte\u001b[0m\n",
      "\u001b[0;35mrpreter_discovery.html for more information. This feature will be removed in \u001b[0m\n",
      "\u001b[0;35mversion 2.12. Deprecation warnings can be disabled by setting \u001b[0m\n",
      "\u001b[0;35mdeprecation_warnings=False in ansible.cfg.\u001b[0m\n",
      "\u001b[0;33mchanged: [e7f5d6fbb1604289989d12ed78ce4711]\u001b[0m\n",
      "\n",
      "PLAY RECAP *********************************************************************\n",
      "\u001b[0;33md025bd1533f34d19959e7418c3b7bdc1\u001b[0m : \u001b[0;32mok=1   \u001b[0m \u001b[0;33mchanged=1   \u001b[0m unreachable=0    failed=0    skipped=0    rescued=0    ignored=0   \n",
      "\u001b[0;33me7f5d6fbb1604289989d12ed78ce4711\u001b[0m : \u001b[0;32mok=1   \u001b[0m \u001b[0;33mchanged=1   \u001b[0m unreachable=0    failed=0    skipped=0    rescued=0    ignored=0   \n",
      "\n",
      "\n",
      "PLAY [all] *********************************************************************\n",
      "\n",
      "TASK [Run command in the remote hosts (free form)] *****************************\n",
      "\u001b[0;35m[DEPRECATION WARNING]: Distribution ubuntu 20.04 on host \u001b[0m\n",
      "\u001b[0;35md025bd1533f34d19959e7418c3b7bdc1 should use /usr/bin/python3, but is using \u001b[0m\n",
      "\u001b[0;35m/usr/bin/python for backward compatibility with prior Ansible releases. A \u001b[0m\n",
      "\u001b[0;35mfuture Ansible release will default to using the discovered platform python for\u001b[0m\n",
      "\u001b[0;35m this host. See https://docs.ansible.com/ansible/2.11/reference_appendices/inte\u001b[0m\n",
      "\u001b[0;35mrpreter_discovery.html for more information. This feature will be removed in \u001b[0m\n",
      "\u001b[0;35mversion 2.12. Deprecation warnings can be disabled by setting \u001b[0m\n",
      "\u001b[0;35mdeprecation_warnings=False in ansible.cfg.\u001b[0m\n",
      "\u001b[0;33mchanged: [d025bd1533f34d19959e7418c3b7bdc1]\u001b[0m\n",
      "\u001b[0;35m[DEPRECATION WARNING]: Distribution ubuntu 20.04 on host \u001b[0m\n",
      "\u001b[0;35me7f5d6fbb1604289989d12ed78ce4711 should use /usr/bin/python3, but is using \u001b[0m\n",
      "\u001b[0;35m/usr/bin/python for backward compatibility with prior Ansible releases. A \u001b[0m\n",
      "\u001b[0;35mfuture Ansible release will default to using the discovered platform python for\u001b[0m\n",
      "\u001b[0;35m this host. See https://docs.ansible.com/ansible/2.11/reference_appendices/inte\u001b[0m\n",
      "\u001b[0;35mrpreter_discovery.html for more information. This feature will be removed in \u001b[0m\n",
      "\u001b[0;35mversion 2.12. Deprecation warnings can be disabled by setting \u001b[0m\n",
      "\u001b[0;35mdeprecation_warnings=False in ansible.cfg.\u001b[0m\n",
      "\u001b[0;33mchanged: [e7f5d6fbb1604289989d12ed78ce4711]\u001b[0m\n",
      "\n",
      "PLAY RECAP *********************************************************************\n",
      "\u001b[0;33md025bd1533f34d19959e7418c3b7bdc1\u001b[0m : \u001b[0;32mok=1   \u001b[0m \u001b[0;33mchanged=1   \u001b[0m unreachable=0    failed=0    skipped=0    rescued=0    ignored=0   \n",
      "\u001b[0;33me7f5d6fbb1604289989d12ed78ce4711\u001b[0m : \u001b[0;32mok=1   \u001b[0m \u001b[0;33mchanged=1   \u001b[0m unreachable=0    failed=0    skipped=0    rescued=0    ignored=0   \n",
      "\n",
      "\n",
      "PLAY [all] *********************************************************************\n",
      "\n",
      "TASK [Run command in the remote hosts (free form)] *****************************\n",
      "\u001b[0;35m[DEPRECATION WARNING]: Distribution ubuntu 20.04 on host \u001b[0m\n",
      "\u001b[0;35md025bd1533f34d19959e7418c3b7bdc1 should use /usr/bin/python3, but is using \u001b[0m\n",
      "\u001b[0;35m/usr/bin/python for backward compatibility with prior Ansible releases. A \u001b[0m\n",
      "\u001b[0;35mfuture Ansible release will default to using the discovered platform python for\u001b[0m\n",
      "\u001b[0;35m this host. See https://docs.ansible.com/ansible/2.11/reference_appendices/inte\u001b[0m\n",
      "\u001b[0;35mrpreter_discovery.html for more information. This feature will be removed in \u001b[0m\n",
      "\u001b[0;35mversion 2.12. Deprecation warnings can be disabled by setting \u001b[0m\n",
      "\u001b[0;35mdeprecation_warnings=False in ansible.cfg.\u001b[0m\n",
      "\u001b[0;33mchanged: [d025bd1533f34d19959e7418c3b7bdc1]\u001b[0m\n",
      "\u001b[0;35m[DEPRECATION WARNING]: Distribution ubuntu 20.04 on host \u001b[0m\n",
      "\u001b[0;35me7f5d6fbb1604289989d12ed78ce4711 should use /usr/bin/python3, but is using \u001b[0m\n",
      "\u001b[0;35m/usr/bin/python for backward compatibility with prior Ansible releases. A \u001b[0m\n",
      "\u001b[0;35mfuture Ansible release will default to using the discovered platform python for\u001b[0m\n",
      "\u001b[0;35m this host. See https://docs.ansible.com/ansible/2.11/reference_appendices/inte\u001b[0m\n",
      "\u001b[0;35mrpreter_discovery.html for more information. This feature will be removed in \u001b[0m\n",
      "\u001b[0;35mversion 2.12. Deprecation warnings can be disabled by setting \u001b[0m\n",
      "\u001b[0;35mdeprecation_warnings=False in ansible.cfg.\u001b[0m\n",
      "\u001b[0;33mchanged: [e7f5d6fbb1604289989d12ed78ce4711]\u001b[0m\n",
      "\n",
      "PLAY RECAP *********************************************************************\n",
      "\u001b[0;33md025bd1533f34d19959e7418c3b7bdc1\u001b[0m : \u001b[0;32mok=1   \u001b[0m \u001b[0;33mchanged=1   \u001b[0m unreachable=0    failed=0    skipped=0    rescued=0    ignored=0   \n",
      "\u001b[0;33me7f5d6fbb1604289989d12ed78ce4711\u001b[0m : \u001b[0;32mok=1   \u001b[0m \u001b[0;33mchanged=1   \u001b[0m unreachable=0    failed=0    skipped=0    rescued=0    ignored=0   \n",
      "\n",
      "\n",
      "PLAY [all] *********************************************************************\n",
      "\n",
      "TASK [Run command in the remote hosts (free form)] *****************************\n",
      "\u001b[0;35m[DEPRECATION WARNING]: Distribution ubuntu 20.04 on host \u001b[0m\n",
      "\u001b[0;35md025bd1533f34d19959e7418c3b7bdc1 should use /usr/bin/python3, but is using \u001b[0m\n",
      "\u001b[0;35m/usr/bin/python for backward compatibility with prior Ansible releases. A \u001b[0m\n",
      "\u001b[0;35mfuture Ansible release will default to using the discovered platform python for\u001b[0m\n",
      "\u001b[0;35m this host. See https://docs.ansible.com/ansible/2.11/reference_appendices/inte\u001b[0m\n",
      "\u001b[0;35mrpreter_discovery.html for more information. This feature will be removed in \u001b[0m\n",
      "\u001b[0;35mversion 2.12. Deprecation warnings can be disabled by setting \u001b[0m\n",
      "\u001b[0;35mdeprecation_warnings=False in ansible.cfg.\u001b[0m\n",
      "\u001b[0;33mchanged: [d025bd1533f34d19959e7418c3b7bdc1]\u001b[0m\n",
      "\u001b[0;35m[DEPRECATION WARNING]: Distribution ubuntu 20.04 on host \u001b[0m\n",
      "\u001b[0;35me7f5d6fbb1604289989d12ed78ce4711 should use /usr/bin/python3, but is using \u001b[0m\n",
      "\u001b[0;35m/usr/bin/python for backward compatibility with prior Ansible releases. A \u001b[0m\n",
      "\u001b[0;35mfuture Ansible release will default to using the discovered platform python for\u001b[0m\n",
      "\u001b[0;35m this host. See https://docs.ansible.com/ansible/2.11/reference_appendices/inte\u001b[0m\n",
      "\u001b[0;35mrpreter_discovery.html for more information. This feature will be removed in \u001b[0m\n",
      "\u001b[0;35mversion 2.12. Deprecation warnings can be disabled by setting \u001b[0m\n",
      "\u001b[0;35mdeprecation_warnings=False in ansible.cfg.\u001b[0m\n",
      "\u001b[0;33mchanged: [e7f5d6fbb1604289989d12ed78ce4711]\u001b[0m\n",
      "\n",
      "PLAY RECAP *********************************************************************\n",
      "\u001b[0;33md025bd1533f34d19959e7418c3b7bdc1\u001b[0m : \u001b[0;32mok=1   \u001b[0m \u001b[0;33mchanged=1   \u001b[0m unreachable=0    failed=0    skipped=0    rescued=0    ignored=0   \n",
      "\u001b[0;33me7f5d6fbb1604289989d12ed78ce4711\u001b[0m : \u001b[0;32mok=1   \u001b[0m \u001b[0;33mchanged=1   \u001b[0m unreachable=0    failed=0    skipped=0    rescued=0    ignored=0   \n",
      "\n",
      "\n",
      "PLAY [all] *********************************************************************\n",
      "\n",
      "TASK [Run command in the remote hosts (free form)] *****************************\n",
      "\u001b[0;35m[DEPRECATION WARNING]: Distribution ubuntu 20.04 on host \u001b[0m\n",
      "\u001b[0;35md025bd1533f34d19959e7418c3b7bdc1 should use /usr/bin/python3, but is using \u001b[0m\n",
      "\u001b[0;35m/usr/bin/python for backward compatibility with prior Ansible releases. A \u001b[0m\n",
      "\u001b[0;35mfuture Ansible release will default to using the discovered platform python for\u001b[0m\n",
      "\u001b[0;35m this host. See https://docs.ansible.com/ansible/2.11/reference_appendices/inte\u001b[0m\n",
      "\u001b[0;35mrpreter_discovery.html for more information. This feature will be removed in \u001b[0m\n",
      "\u001b[0;35mversion 2.12. Deprecation warnings can be disabled by setting \u001b[0m\n",
      "\u001b[0;35mdeprecation_warnings=False in ansible.cfg.\u001b[0m\n",
      "\u001b[0;33mchanged: [d025bd1533f34d19959e7418c3b7bdc1]\u001b[0m\n",
      "\u001b[0;35m[DEPRECATION WARNING]: Distribution ubuntu 20.04 on host \u001b[0m\n",
      "\u001b[0;35me7f5d6fbb1604289989d12ed78ce4711 should use /usr/bin/python3, but is using \u001b[0m\n",
      "\u001b[0;35m/usr/bin/python for backward compatibility with prior Ansible releases. A \u001b[0m\n",
      "\u001b[0;35mfuture Ansible release will default to using the discovered platform python for\u001b[0m\n",
      "\u001b[0;35m this host. See https://docs.ansible.com/ansible/2.11/reference_appendices/inte\u001b[0m\n",
      "\u001b[0;35mrpreter_discovery.html for more information. This feature will be removed in \u001b[0m\n",
      "\u001b[0;35mversion 2.12. Deprecation warnings can be disabled by setting \u001b[0m\n",
      "\u001b[0;35mdeprecation_warnings=False in ansible.cfg.\u001b[0m\n",
      "\u001b[0;33mchanged: [e7f5d6fbb1604289989d12ed78ce4711]\u001b[0m\n",
      "\n",
      "PLAY RECAP *********************************************************************\n",
      "\u001b[0;33md025bd1533f34d19959e7418c3b7bdc1\u001b[0m : \u001b[0;32mok=1   \u001b[0m \u001b[0;33mchanged=1   \u001b[0m unreachable=0    failed=0    skipped=0    rescued=0    ignored=0   \n",
      "\u001b[0;33me7f5d6fbb1604289989d12ed78ce4711\u001b[0m : \u001b[0;32mok=1   \u001b[0m \u001b[0;33mchanged=1   \u001b[0m unreachable=0    failed=0    skipped=0    rescued=0    ignored=0   \n",
      "\n"
     ]
    }
   ],
   "source": [
    "cluster_manager.setup_cluster(cluster_id, nodes_being_added=None, max_workers=1, start_at_stage='before_all')\n",
    "#cluster_manager.setup_cluster(cluster_id, nodes_being_added=None, max_workers=1, start_at_stage='after_all')"
   ]
  },
  {
   "cell_type": "code",
   "execution_count": 12,
   "metadata": {},
   "outputs": [
    {
     "output_type": "stream",
     "name": "stdout",
     "text": [
      "[NodeDescriptor(node_id='e7f5d6fbb1604289989d12ed78ce4711', configuration=InstanceInfo(provider=ProviderConfigAWS(provider_config_id='aws-config-us-east-1', region='us-east-1', access_keyfile='aws-keypair.pub', secret_access_keyfile='aws-keypair.pem', vpc=None, url='https://ec2.us-east-1.amazonaws.com', provider='aws'), login=LoginConfig(login_config_id='login-ubuntu', user='ubuntu', keypair_name='gan-clap-keypair', keypair_public_file='gan-clap-keypair.pub', keypair_private_file='gan-clap-keypair.pem', ssh_port=22, sudo=True, sudo_user='root'), instance=InstanceConfigAWS(instance_config_id='type-a', provider='aws-config-us-east-1', login='login-ubuntu', flavor='t2.medium', image_id='ami-09e67e426f25ce0d7', security_group='gan-clap-sg-allopen', boot_disk_size=16, boot_disk_device=None, boot_disk_type=None, boot_disk_iops=None, boot_disk_snapshot=None, placement_group=None, price=None, timeout=None, network_ids=[])), nickname='VictorRamos', ip='54.91.19.184', type='cloud', cloud_instance_id='i-01813d28c0567f949', cloud_lifecycle='normal', status='reachable', creation_time=1625774221.259325, update_time=1625774263.247054, roles=['gan'], tags={'.cluster:cluster-cb2a6f90c81040e48525346753768c63': 'type-a'}, extra={'instance_id': 'i-01813d28c0567f949', 'private_ip': '172.31.30.117', 'dns': 'ec2-54-91-19-184.compute-1.amazonaws.com', 'private_dns': 'ip-172-31-30-117.ec2.internal', 'architecture': 'x86_64', 'instance_tags': {'Name': 'VictorRamos-e7f5d6fb', 'CreatedWith': 'CLAP', 'owner': 'MO833-21-roberto.possidente', 'principalId': 'AIDATSRODRVJRLORIU6AD'}, 'vpc_id': 'vpc-dd94f4a6', 'subnet_id': 'subnet-9bf928d1'}), NodeDescriptor(node_id='d025bd1533f34d19959e7418c3b7bdc1', configuration=InstanceInfo(provider=ProviderConfigAWS(provider_config_id='aws-config-us-east-1', region='us-east-1', access_keyfile='aws-keypair.pub', secret_access_keyfile='aws-keypair.pem', vpc=None, url='https://ec2.us-east-1.amazonaws.com', provider='aws'), login=LoginConfig(login_config_id='login-ubuntu', user='ubuntu', keypair_name='gan-clap-keypair', keypair_public_file='gan-clap-keypair.pub', keypair_private_file='gan-clap-keypair.pem', ssh_port=22, sudo=True, sudo_user='root'), instance=InstanceConfigAWS(instance_config_id='type-b', provider='aws-config-us-east-1', login='login-ubuntu', flavor='t2.large', image_id='ami-09e67e426f25ce0d7', security_group='gan-clap-sg-allopen', boot_disk_size=16, boot_disk_device=None, boot_disk_type=None, boot_disk_iops=None, boot_disk_snapshot=None, placement_group=None, price=None, timeout=None, network_ids=[])), nickname='LoriEspinoza', ip='3.235.51.232', type='cloud', cloud_instance_id='i-04ad5f26d7528d6d6', cloud_lifecycle='normal', status='reachable', creation_time=1625774248.8122118, update_time=1625774263.2528393, roles=['gan'], tags={'.cluster:cluster-cb2a6f90c81040e48525346753768c63': 'type-b'}, extra={'instance_id': 'i-04ad5f26d7528d6d6', 'private_ip': '172.31.4.97', 'dns': 'ec2-3-235-51-232.compute-1.amazonaws.com', 'private_dns': 'ip-172-31-4-97.ec2.internal', 'architecture': 'x86_64', 'instance_tags': {'Name': 'LoriEspinoza-d025bd15', 'CreatedWith': 'CLAP', 'owner': 'MO833-21-roberto.possidente', 'principalId': 'AIDATSRODRVJRLORIU6AD'}, 'vpc_id': 'vpc-dd94f4a6', 'subnet_id': 'subnet-bbe700dc'})]\ne7f5d6fbb1604289989d12ed78ce4711: Status: reachable; IP: 54.91.19.184\nd025bd1533f34d19959e7418c3b7bdc1: Status: reachable; IP: 3.235.51.232\n54.91.19.184:1,3.235.51.232:1\n['e7f5d6fbb1604289989d12ed78ce4711']\n[NodeDescriptor(node_id='e7f5d6fbb1604289989d12ed78ce4711', configuration=InstanceInfo(provider=ProviderConfigAWS(provider_config_id='aws-config-us-east-1', region='us-east-1', access_keyfile='aws-keypair.pub', secret_access_keyfile='aws-keypair.pem', vpc=None, url='https://ec2.us-east-1.amazonaws.com', provider='aws'), login=LoginConfig(login_config_id='login-ubuntu', user='ubuntu', keypair_name='gan-clap-keypair', keypair_public_file='gan-clap-keypair.pub', keypair_private_file='gan-clap-keypair.pem', ssh_port=22, sudo=True, sudo_user='root'), instance=InstanceConfigAWS(instance_config_id='type-a', provider='aws-config-us-east-1', login='login-ubuntu', flavor='t2.medium', image_id='ami-09e67e426f25ce0d7', security_group='gan-clap-sg-allopen', boot_disk_size=16, boot_disk_device=None, boot_disk_type=None, boot_disk_iops=None, boot_disk_snapshot=None, placement_group=None, price=None, timeout=None, network_ids=[])), nickname='VictorRamos', ip='54.91.19.184', type='cloud', cloud_instance_id='i-01813d28c0567f949', cloud_lifecycle='normal', status='reachable', creation_time=1625774221.259325, update_time=1625774263.247054, roles=['gan'], tags={'.cluster:cluster-cb2a6f90c81040e48525346753768c63': 'type-a'}, extra={'instance_id': 'i-01813d28c0567f949', 'private_ip': '172.31.30.117', 'dns': 'ec2-54-91-19-184.compute-1.amazonaws.com', 'private_dns': 'ip-172-31-30-117.ec2.internal', 'architecture': 'x86_64', 'instance_tags': {'Name': 'VictorRamos-e7f5d6fb', 'CreatedWith': 'CLAP', 'owner': 'MO833-21-roberto.possidente', 'principalId': 'AIDATSRODRVJRLORIU6AD'}, 'vpc_id': 'vpc-dd94f4a6', 'subnet_id': 'subnet-9bf928d1'})]\n"
     ]
    }
   ],
   "source": [
    "cluster_nodes_with_type = cluster_manager.get_cluster_nodes_types(cluster_id)\n",
    "cluster_nodes = cluster_manager.get_all_cluster_nodes(cluster_id)\n",
    "host_nodes = node_manager.get_nodes_by_id(cluster_nodes)\n",
    "print(host_nodes)\n",
    "hosts_ips=''\n",
    "for node in host_nodes:\n",
    "    print (f\"{node.node_id}: Status: {node.status}; IP: {node.ip}\")\n",
    "    hosts_ips = hosts_ips + node.ip + ':1,'\n",
    "hosts_ips = hosts_ips[0:len(hosts_ips)-1]\n",
    "print(hosts_ips)\n",
    "\n",
    "master_id = cluster_nodes_with_type['type-a']\n",
    "print(master_id)\n",
    "master_node = node_manager.get_nodes_by_id(master_id)\n",
    "print(master_node)"
   ]
  },
  {
   "cell_type": "code",
   "execution_count": 13,
   "metadata": {},
   "outputs": [
    {
     "output_type": "stream",
     "name": "stdout",
     "text": [
      "\nhorovodrun -np 2 -H 54.91.19.184:1,3.235.51.232:1 python /home/ubuntu/optimizer-clap-app/machine-translation/my-train.py \n"
     ]
    }
   ],
   "source": [
    "command_to_execute = \"\"\"\n",
    "horovodrun -np 2 -H {} python /home/ubuntu/optimizer-clap-app/machine-translation/my-train.py \"\"\".format(hosts_ips)\n",
    "print(command_to_execute)"
   ]
  },
  {
   "cell_type": "code",
   "execution_count": 14,
   "metadata": {},
   "outputs": [
    {
     "output_type": "stream",
     "name": "stdout",
     "text": [
      "Node id 6bb01513c18c42c8af5079008f575bd7, executed the command: True, ret code: 0\n-----\nerror: null\nok: true\nret_code: 0\nstderr_lines:\n- '[1,0]<stderr>:INFO:root:Namespace(batch_size=64, dtype=''float32'', epochs=5, lr=0.01,\n    momentum=0.9, no_cuda=True)\n\n    '\n- '[1,1]<stderr>:INFO:root:Namespace(batch_size=64, dtype=''float32'', epochs=5, lr=0.01,\n    momentum=0.9, no_cuda=True)\n\n    '\nstdout_lines:\n- '[1,0]<stdout>:Downloading /home/ubuntu/.mxnet/datasets/translation_test/translation_test.zip\n    from https://apache-mxnet.s3-accelerate.dualstack.amazonaws.com/gluon/dataset/translation_test/translation_test.zip...\n\n    '\n- '[1,1]<stdout>:Downloading /home/ubuntu/.mxnet/datasets/translation_test/translation_test.zip\n    from https://apache-mxnet.s3-accelerate.dualstack.amazonaws.com/gluon/dataset/translation_test/translation_test.zip...\n\n    '\n- '[1,1]<stdout>:Processing Time spent: 0.0009243488311767578\n\n    '\n- '[1,1]<stdout>:Processing Time spent: 0.000888824462890625\n\n    '\n- '[1,1]<stdout>:Processing Time spent: 0.0009140968322753906\n\n    '\n- '[1,0]<stdout>:Processing Time spent: 0.0009007453918457031\n\n    '\n- '[1,0]<stdout>:Processing Time spent: 0.0008533000946044922\n\n    '\n- '[1,0]<stdout>:Processing Time spent: 0.0008249282836914062\n\n    '\n- '[1,1]<stdout>:Numero de Epochs = 1\n\n    '\n- '[1,1]<stdout>:Epoch 0 - train_one_epoch started\n\n    '\n- '[1,1]<stdout>:[MO833] Rank,1,Initialization Time: 0.000040\n\n    '\n- '[1,0]<stdout>:Numero de Epochs = 1\n\n    '\n- '[1,0]<stdout>:Epoch 0 - train_one_epoch started\n\n    '\n- '[1,0]<stdout>:[MO833] Rank,0,Initialization Time: 0.000112\n\n    '\n- '[1,0]<stdout>:[MO833] Rank,0,Epoch,0,Iteration,0,It. time,2.661651,Elapsed time,2.703342\n\n    '\n- '[1,0]<stdout>:{''iteration_time'': 2.6616506576538086}\n\n    '\n- '[1,1]<stdout>:[MO833] Rank,1,Epoch,0,Iteration,0,It. time,2.843066,Elapsed time,2.885776\n\n    '\n- '[1,1]<stdout>:{''iteration_time'': 2.8430662155151367}\n\n    '\n- '[1,1]<stdout>:[MO833] Rank,1,Epoch,0,Iteration,1,It. time,0.624559,Elapsed time,3.521945\n\n    '\n- '[1,1]<stdout>:{''iteration_time'': 0.6245589256286621}\n\n    '\n- '[1,0]<stdout>:[MO833] Rank,0,Epoch,0,Iteration,1,It. time,0.677873,Elapsed time,3.390501\n\n    '\n- '[1,0]<stdout>:{''iteration_time'': 0.677872896194458}\n\n    '\n- '[1,1]<stdout>:[MO833] Rank,1,Epoch,0,Iteration,2,It. time,0.728405,Elapsed time,4.258266\n\n    '\n- '[1,1]<stdout>:{''iteration_time'': 0.7284054756164551}\n\n    '\n- '[1,0]<stdout>:[MO833] Rank,0,Epoch,0,Iteration,2,It. time,0.753230,Elapsed time,4.147238\n\n    '\n- '[1,0]<stdout>:{''iteration_time'': 0.7532296180725098}\n\n    '\n- '[1,1]<stdout>:[MO833] Rank,1,Epoch,0,Iteration,3,It. time,0.798844,Elapsed time,5.068235\n\n    '\n- '[1,1]<stdout>:{''iteration_time'': 0.7988436222076416}\n\n    '\n- '[1,0]<stdout>:[MO833] Rank,0,Epoch,0,Iteration,3,It. time,0.876946,Elapsed time,5.034356\n\n    '\n- '[1,0]<stdout>:{''iteration_time'': 0.876946210861206}\n\n    '\n- '[1,1]<stdout>:[MO833] Rank,1,Epoch,0,Iteration,4,It. time,0.994717,Elapsed time,6.076557\n\n    '\n- '[1,1]<stdout>:{''iteration_time'': 0.9947173595428467}\n\n    '\n- '[1,0]<stdout>:[MO833] Rank,0,Epoch,0,Iteration,4,It. time,1.040680,Elapsed time,6.086051\n\n    '\n- '[1,0]<stdout>:{''iteration_time'': 1.040679693222046}\n\n    '\n- '[1,1]<stdout>:[MO833] Rank,1,Epoch,0,Iteration,5,It. time,1.211312,Elapsed time,7.303823\n\n    '\n- '[1,1]<stdout>:{''iteration_time'': 1.2113120555877686}\n\n    '\n- '[1,0]<stdout>:[MO833] Rank,0,Epoch,0,Iteration,5,It. time,1.253680,Elapsed time,7.348970\n\n    '\n- '[1,0]<stdout>:{''iteration_time'': 1.2536795139312744}\n\n    '\n- '[1,1]<stdout>:[MO833] Rank,1,Epoch,0,Iteration,6,It. time,1.209335,Elapsed time,8.521546\n\n    '\n- '[1,1]<stdout>:{''iteration_time'': 1.2093353271484375}\n\n    '\n- '[1,0]<stdout>:[MO833] Rank,0,Epoch,0,Iteration,6,It. time,1.269887,Elapsed time,8.621649\n\n    '\n- '[1,0]<stdout>:{''iteration_time'': 1.2698867321014404}\n\n    '\n- '[1,1]<stdout>:[MO833] Rank,1,Epoch,0,Iteration,7,It. time,1.013492,Elapsed time,9.544976\n\n    '\n- '[1,1]<stdout>:{''iteration_time'': 1.0134921073913574}\n\n    '\n- '[1,0]<stdout>:[MO833] Rank,0,Epoch,0,Iteration,7,It. time,1.060095,Elapsed time,9.691639\n\n    '\n- '[1,0]<stdout>:{''iteration_time'': 1.0600950717926025}\n\n    '\n- '[1,1]<stdout>:[MO833] Rank,1,Epoch,0,Iteration,8,It. time,0.958114,Elapsed time,10.515649\n\n    '\n- '[1,1]<stdout>:{''iteration_time'': 0.9581143856048584}\n\n    '\n- '[1,0]<stdout>:[MO833] Rank,0,Epoch,0,Iteration,8,It. time,1.030560,Elapsed time,10.725155\n\n    '\n- '[1,0]<stdout>:{''iteration_time'': 1.0305604934692383}\n\n    '\n- '[1,1]<stdout>:[MO833] Rank,1,Epoch,0,Iteration,9,It. time,1.533130,Elapsed time,12.051818\n\n    '\n- '[1,1]<stdout>:{''iteration_time'': 1.5331296920776367}\n\n    '\n- '[1,0]<stdout>:[MO833] Rank,0,Epoch,0,Iteration,9,It. time,1.648202,Elapsed time,12.385384\n\n    '\n- '[1,0]<stdout>:{''iteration_time'': 1.6482017040252686}\n\n    '\n- '[1,1]<stdout>:[MO833] Rank,1,Epoch,0,Iteration,10,It. time,1.505158,Elapsed time,13.562854\n\n    '\n- '[1,1]<stdout>:{''iteration_time'': 1.5051579475402832}\n\n    '\n- '[1,0]<stdout>:[MO833] Rank,0,Epoch,0,Iteration,10,It. time,1.510123,Elapsed time,13.905848\n\n    '\n- '[1,0]<stdout>:{''iteration_time'': 1.5101227760314941}\n\n    '\n- '[1,1]<stdout>:[MO833] Rank,1,Epoch,0,Iteration,11,It. time,1.254323,Elapsed time,14.822925\n\n    '\n- '[1,1]<stdout>:{''iteration_time'': 1.2543232440948486}\n\n    '\n- '[1,0]<stdout>:[MO833] Rank,0,Epoch,0,Iteration,11,It. time,1.279299,Elapsed time,15.196533\n\n    '\n- '[1,0]<stdout>:{''iteration_time'': 1.2792985439300537}\n\n    '\n- '[1,1]<stdout>:[MO833] Rank,1,Epoch,0,Iteration,12,It. time,1.583474,Elapsed time,16.412068\n\n    '\n- '[1,1]<stdout>:{''iteration_time'': 1.5834743976593018}\n\n    '\n- '[1,0]<stdout>:[MO833] Rank,0,Epoch,0,Iteration,12,It. time,1.634550,Elapsed time,16.843454\n\n    '\n- '[1,0]<stdout>:{''iteration_time'': 1.6345503330230713}\n\n    '\n- '[1,1]<stdout>:[MO833] Rank,1,Epoch,0,Iteration,13,It. time,1.083449,Elapsed time,17.498271\n\n    '\n- '[1,1]<stdout>:{''iteration_time'': 1.083449363708496}\n\n    '\n- '[1,0]<stdout>:[MO833] Rank,0,Epoch,0,Iteration,13,It. time,1.125241,Elapsed time,17.971421\n\n    '\n- '[1,0]<stdout>:{''iteration_time'': 1.1252405643463135}\n\n    '\n- '[1,1]<stdout>:[MO833] Rank,1,Epoch,0,Iteration,14,It. time,2.089728,Elapsed time,19.591201\n\n    '\n- '[1,1]<stdout>:{''iteration_time'': 2.0897276401519775}\n\n    '\n- '[1,0]<stdout>:[MO833] Rank,0,Epoch,0,Iteration,14,It. time,2.137591,Elapsed time,20.111945\n\n    '\n- '[1,0]<stdout>:{''iteration_time'': 2.1375913619995117}\n\n    '\n- '[1,1]<stdout>:[MO833] Rank,1,Epoch,0,Iteration,15,It. time,1.885463,Elapsed time,21.479597\n\n    '\n- '[1,1]<stdout>:{''iteration_time'': 1.8854632377624512}\n\n    '\n- '[1,0]<stdout>:[MO833] Rank,0,Epoch,0,Iteration,15,It. time,1.894062,Elapsed time,22.009927\n\n    '\n- '[1,0]<stdout>:{''iteration_time'': 1.8940622806549072}\n\n    '\n- '[1,1]<stdout>:[MO833] Rank,1,Epoch,0,Iteration,16,It. time,1.302006,Elapsed time,22.784276\n\n    '\n- '[1,1]<stdout>:{''iteration_time'': 1.3020057678222656}\n\n    '\n- '[1,0]<stdout>:[MO833] Rank,0,Epoch,0,Iteration,16,It. time,1.356219,Elapsed time,23.368740\n\n    '\n- '[1,0]<stdout>:{''iteration_time'': 1.3562192916870117}\n\n    '\n- '[1,1]<stdout>:[MO833] Rank,1,Epoch,0,Iteration,17,It. time,1.408382,Elapsed time,24.195832\n\n    '\n- '[1,1]<stdout>:{''iteration_time'': 1.4083821773529053}\n\n    '\n- '[1,0]<stdout>:[MO833] Rank,0,Epoch,0,Iteration,17,It. time,1.408792,Elapsed time,24.780564\n\n    '\n- '[1,0]<stdout>:{''iteration_time'': 1.4087917804718018}\n\n    '\n- '[1,1]<stdout>:[MO833] Rank,1,Epoch,0,Iteration,18,It. time,1.172125,Elapsed time,25.374394\n\n    '\n- '[1,1]<stdout>:{''iteration_time'': 1.1721246242523193}\n\n    '\n- '[1,0]<stdout>:[MO833] Rank,0,Epoch,0,Iteration,18,It. time,1.238419,Elapsed time,26.021771\n\n    '\n- '[1,0]<stdout>:{''iteration_time'': 1.2384185791015625}\n\n    '\n- '[1,1]<stdout>:[MO833] Rank,1,Epoch,0,Iteration,19,It. time,1.545383,Elapsed time,26.922293\n\n    '\n- '[1,1]<stdout>:{''iteration_time'': 1.5453834533691406}\n\n    '\n- '[1,0]<stdout>:[MO833] Rank,0,Epoch,0,Iteration,19,It. time,1.555940,Elapsed time,27.580546\n\n    '\n- '[1,0]<stdout>:{''iteration_time'': 1.5559396743774414}\n\n    '\n- '[1,1]<stdout>:[MO833] Rank,1,Epoch,0,Iteration,20,It. time,2.033665,Elapsed time,28.958437\n\n    '\n- '[1,1]<stdout>:{''iteration_time'': 2.033665180206299}\n\n    '\n- '[1,0]<stdout>:[MO833] Rank,0,Epoch,0,Iteration,20,It. time,2.056911,Elapsed time,29.640344\n\n    '\n- '[1,0]<stdout>:{''iteration_time'': 2.0569112300872803}\n\n    '\n- '[1,1]<stdout>:[MO833] Rank,1,Epoch,0,Iteration,21,It. time,1.444360,Elapsed time,30.405533\n\n    '\n- '[1,1]<stdout>:{''iteration_time'': 1.4443604946136475}\n\n    '\n- '[1,0]<stdout>:[MO833] Rank,0,Epoch,0,Iteration,21,It. time,1.519096,Elapsed time,31.162302\n\n    '\n- '[1,0]<stdout>:{''iteration_time'': 1.5190956592559814}\n\n    '\n- '[1,1]<stdout>:[MO833] Rank,1,Epoch,0,Iteration,22,It. time,1.568559,Elapsed time,31.976873\n\n    '\n- '[1,1]<stdout>:{''iteration_time'': 1.568558931350708}\n\n    '\n- '[1,0]<stdout>:[MO833] Rank,0,Epoch,0,Iteration,22,It. time,1.622224,Elapsed time,32.787098\n\n    '\n- '[1,0]<stdout>:{''iteration_time'': 1.6222236156463623}\n\n    '\n- '[1,1]<stdout>:[MO833] Rank,1,Epoch,0,Iteration,23,It. time,1.592445,Elapsed time,33.572060\n\n    '\n- '[1,1]<stdout>:{''iteration_time'': 1.592444896697998}\n\n    '\n- '[1,0]<stdout>:[MO833] Rank,0,Epoch,0,Iteration,23,It. time,1.672489,Elapsed time,34.462284\n\n    '\n- '[1,0]<stdout>:{''iteration_time'': 1.6724889278411865}\n\n    '\n- '[1,1]<stdout>:[MO833] Rank,1,Epoch,0,Iteration,24,It. time,1.640078,Elapsed time,35.214852\n\n    '\n- '[1,1]<stdout>:{''iteration_time'': 1.6400775909423828}\n\n    '\n- '[1,0]<stdout>:[MO833] Rank,0,Epoch,0,Iteration,24,It. time,1.651260,Elapsed time,36.116289\n\n    '\n- '[1,0]<stdout>:{''iteration_time'': 1.6512598991394043}\n\n    '\n- '[1,1]<stdout>:[MO833] Rank,1,Epoch,0,Iteration,25,It. time,1.432730,Elapsed time,36.650411\n\n    '\n- '[1,1]<stdout>:{''iteration_time'': 1.4327301979064941}\n\n    '\n- '[1,0]<stdout>:[MO833] Rank,0,Epoch,0,Iteration,25,It. time,1.454544,Elapsed time,37.573455\n\n    '\n- '[1,0]<stdout>:{''iteration_time'': 1.4545438289642334}\n\n    '\n- '[1,1]<stdout>:[MO833] Rank,1,Epoch,0,Iteration,26,It. time,1.775316,Elapsed time,38.428495\n\n    '\n- '[1,1]<stdout>:{''iteration_time'': 1.775315523147583}\n\n    '\n- '[1,0]<stdout>:[MO833] Rank,0,Epoch,0,Iteration,26,It. time,1.763717,Elapsed time,39.339650\n\n    '\n- '[1,0]<stdout>:{''iteration_time'': 1.7637169361114502}\n\n    '\n- '[1,1]<stdout>:[MO833] Rank,1,Epoch,0,Iteration,27,It. time,1.845981,Elapsed time,40.277399\n\n    '\n- '[1,1]<stdout>:{''iteration_time'': 1.8459808826446533}\n\n    '\n- '[1,0]<stdout>:[MO833] Rank,0,Epoch,0,Iteration,27,It. time,1.863368,Elapsed time,41.206169\n\n    '\n- '[1,0]<stdout>:{''iteration_time'': 1.8633675575256348}\n\n    '\n- '[1,1]<stdout>:[MO833] Rank,1,Epoch,0,Iteration,28,It. time,1.673664,Elapsed time,41.953973\n\n    '\n- '[1,1]<stdout>:{''iteration_time'': 1.673663854598999}\n\n    '\n- '[1,1]<stdout>:[MO833] Rank,1,Epoch,0,Epoch time,1.674518,Elapsed time,41.954826\n\n    '\n- '[1,1]<stdout>:Epoch 0 - train_one_epoch finished\n\n    '\n- '[1,0]<stdout>:[MO833] Rank,0,Epoch,0,Iteration,28,It. time,1.755696,Elapsed time,42.964773\n\n    '\n- '[1,0]<stdout>:{''iteration_time'': 1.7556962966918945}\n\n    '\n- '[1,0]<stdout>:[MO833] Rank,0,Epoch,0,Epoch time,1.756634,Elapsed time,42.965708\n\n    '\n- '[1,0]<stdout>:Epoch 0 - train_one_epoch finished\n\n    '\n- '[1,1]<stdout>:Epoch 0 - after waitall\n\n    '\n- '[1,0]<stdout>:Epoch 0 - after waitall\n\n    '\n\n"
     ]
    }
   ],
   "source": [
    "'''command_to_execute = \"\"\"\n",
    "mpirun -np 1 -H localhost:1 -bind-to none -map-by slot python /home/ubuntu/optimizer-clap-app/machine-translation/my-train.py 2>&1 > log.txt \n",
    "echo Launch Machine Translation by ssh\n",
    "\"\"\"\n",
    "print(command_to_execute)'''\n",
    "#command_to_execute = \"\"\"horovodrun\"\"\"\n",
    "executor = SSHCommandExecutor(command_to_execute, master_node, private_path)\n",
    "result = executor.run()\n",
    "\n",
    "for node_id, res in result.items():\n",
    "    print(f\"Node id {node_id}, executed the command: {res.ok}, ret code: {res.ret_code}\")\n",
    "    #resut is a dataclass, we can convert to a dictionary\n",
    "    res_dict = asdict(res)\n",
    "    print('-----')\n",
    "    # Dump dictionary in YAML format\n",
    "    print(yaml.dump(res_dict, indent=4, sort_keys=True))"
   ]
  },
  {
   "cell_type": "code",
   "execution_count": 15,
   "metadata": {},
   "outputs": [
    {
     "output_type": "stream",
     "name": "stdout",
     "text": [
      "---\n- hosts: all\n  gather_facts: True    # Query a set of variables in remote hosts\n  gather_subset: min\n  tasks:\n  - name: Get iteration time from a fact\n    set_fact:\n      iteration_time: \"{{ ansible_local.times.iteration_time }}\""
     ]
    }
   ],
   "source": [
    "cat /home/ubuntu/.clap/roles/roles/getfacts.yml"
   ]
  },
  {
   "cell_type": "code",
   "execution_count": 16,
   "metadata": {},
   "outputs": [
    {
     "output_type": "stream",
     "name": "stdout",
     "text": [
      "6bb01513c18c42c8af5079008f575bd7: Status: reachable; IP: 34.228.66.37, Type: cloud\n",
      "ccb0f90412544221b5dc9d53dcc0ce94: Status: reachable; IP: 34.206.3.2, Type: cloud\n",
      "\n",
      "PLAY [all] *********************************************************************\n",
      "\n",
      "TASK [Gathering Facts] *********************************************************\n",
      "\u001b[0;35m[DEPRECATION WARNING]: Distribution ubuntu 20.04 on host \u001b[0m\n",
      "\u001b[0;35mccb0f90412544221b5dc9d53dcc0ce94 should use /usr/bin/python3, but is using \u001b[0m\n",
      "\u001b[0;35m/usr/bin/python for backward compatibility with prior Ansible releases. A \u001b[0m\n",
      "\u001b[0;35mfuture Ansible release will default to using the discovered platform python for\u001b[0m\n",
      "\u001b[0;35m this host. See https://docs.ansible.com/ansible/2.11/reference_appendices/inte\u001b[0m\n",
      "\u001b[0;35mrpreter_discovery.html for more information. This feature will be removed in \u001b[0m\n",
      "\u001b[0;35mversion 2.12. Deprecation warnings can be disabled by setting \u001b[0m\n",
      "\u001b[0;35mdeprecation_warnings=False in ansible.cfg.\u001b[0m\n",
      "\u001b[0;32mok: [ccb0f90412544221b5dc9d53dcc0ce94]\u001b[0m\n",
      "\u001b[0;35m[DEPRECATION WARNING]: Distribution ubuntu 20.04 on host \u001b[0m\n",
      "\u001b[0;35m6bb01513c18c42c8af5079008f575bd7 should use /usr/bin/python3, but is using \u001b[0m\n",
      "\u001b[0;35m/usr/bin/python for backward compatibility with prior Ansible releases. A \u001b[0m\n",
      "\u001b[0;35mfuture Ansible release will default to using the discovered platform python for\u001b[0m\n",
      "\u001b[0;35m this host. See https://docs.ansible.com/ansible/2.11/reference_appendices/inte\u001b[0m\n",
      "\u001b[0;35mrpreter_discovery.html for more information. This feature will be removed in \u001b[0m\n",
      "\u001b[0;35mversion 2.12. Deprecation warnings can be disabled by setting \u001b[0m\n",
      "\u001b[0;35mdeprecation_warnings=False in ansible.cfg.\u001b[0m\n",
      "\u001b[0;32mok: [6bb01513c18c42c8af5079008f575bd7]\u001b[0m\n",
      "\n",
      "TASK [Get iteration time from a fact] ******************************************\n",
      "\u001b[0;32mok: [6bb01513c18c42c8af5079008f575bd7]\u001b[0m\n",
      "\u001b[0;32mok: [ccb0f90412544221b5dc9d53dcc0ce94]\u001b[0m\n",
      "\n",
      "PLAY RECAP *********************************************************************\n",
      "\u001b[0;32m6bb01513c18c42c8af5079008f575bd7\u001b[0m : \u001b[0;32mok=2   \u001b[0m changed=0    unreachable=0    failed=0    skipped=0    rescued=0    ignored=0   \n",
      "\u001b[0;32mccb0f90412544221b5dc9d53dcc0ce94\u001b[0m : \u001b[0;32mok=2   \u001b[0m changed=0    unreachable=0    failed=0    skipped=0    rescued=0    ignored=0   \n",
      "\n",
      "Did the playbook executed? True\n",
      "Ansible playbook return code: 0\n",
      "Let's check how nodes executed: \n",
      "    Node ccb0f90412544221b5dc9d53dcc0ce94: True\n",
      "    Node 6bb01513c18c42c8af5079008f575bd7: True\n",
      "Let's check variables set using set_fact module: \n",
      "    Node 6bb01513c18c42c8af5079008f575bd7: {'iteration_time': '1.7556962966918945'}\n",
      "    Node ccb0f90412544221b5dc9d53dcc0ce94: {'iteration_time': '1.673663854598999'}\n",
      "{'6bb01513c18c42c8af5079008f575bd7': '1.7556962966918945', 'ccb0f90412544221b5dc9d53dcc0ce94': '1.673663854598999'}\n",
      "6bb01513c18c42c8af5079008f575bd7: '1.7556962966918945'\n",
      "ccb0f90412544221b5dc9d53dcc0ce94: '1.673663854598999'\n",
      "\n",
      "/home/ubuntu/CLAP/\n",
      "/home/ubuntu/CLAP/timestamp/\n",
      "/home/ubuntu/CLAP/timestamp/1625776338.out\n"
     ]
    }
   ],
   "source": [
    "nodes = node_manager.get_nodes_by_id(cluster_nodes)\n",
    "for node in nodes:\n",
    "    print (f\"{node.node_id}: Status: {node.status}; IP: {node.ip}, Type: {node.type}\")\n",
    "\n",
    "playbook_file = path_extend('/home/ubuntu/.clap/roles/roles/getfacts.yml')\n",
    "inventory = AnsiblePlaybookExecutor.create_inventory(nodes, private_path)\n",
    "executor = AnsiblePlaybookExecutor(playbook_file, private_path, inventory=inventory)\n",
    "\n",
    "result = executor.run()\n",
    "\n",
    "print(f\"Did the playbook executed? {result.ok}\")\n",
    "print(f\"Ansible playbook return code: {result.ret_code}\")\n",
    "print(f\"Let's check how nodes executed: \")\n",
    "for node_id, status in result.hosts.items():\n",
    "    print(f\"    Node {node_id}: {status}\")\n",
    "print(f\"Let's check variables set using set_fact module: \")\n",
    "times={}\n",
    "for node_id, facts in result.vars.items():\n",
    "    print(f\"    Node {node_id}: {facts}\")\n",
    "    times[node_id] = facts['iteration_time']\n",
    "print('%s' % str(times))\n",
    "# Dump dictionary in YAML format\n",
    "print(yaml.dump(times, indent=4, sort_keys=True))\n",
    "\n",
    "pi_logs_dir = '/home/ubuntu/CLAP/'\n",
    "print('%s' % str(pi_logs_dir))\n",
    "#timestamp_dir = path_extend(pi_logs_dir, '/timestamp/')\n",
    "timestamp_dir = pi_logs_dir + 'timestamp/'\n",
    "print('%s' % str(timestamp_dir))\n",
    "os.makedirs(timestamp_dir, exist_ok=True)\n",
    "timestamp_file = timestamp_dir + str(int(time.time())) +  '.out'\n",
    "print('%s' % str(timestamp_file))\n",
    "with open(timestamp_file, 'a') as outfile:\n",
    "   yaml.dump(times, outfile, default_flow_style=False)\n"
   ]
  },
  {
   "cell_type": "code",
   "execution_count": 17,
   "metadata": {},
   "outputs": [
    {
     "output_type": "stream",
     "name": "stdout",
     "text": [
      "---------\nNode Id: 6bb01513c18c42c8af5079008f575bd7, created at 08-07-21 17:23:59; Status: reachable\n---------\nInstance Flavor: t2.medium, Instance Cost: 0.0464, Iteration Time: 1.7556962966918945, Node Price: 0.08146430816650391\n---------\n---------\nNode Id: ccb0f90412544221b5dc9d53dcc0ce94, created at 08-07-21 17:24:29; Status: reachable\n---------\nInstance Flavor: t2.large, Instance Cost: 0.0555, Iteration Time: 1.673663854598999, Node Price: 0.09288834393024445\n---------\nNode Prices\n{'6bb01513c18c42c8af5079008f575bd7': 0.08146430816650391, 'ccb0f90412544221b5dc9d53dcc0ce94': 0.09288834393024445}\n"
     ]
    }
   ],
   "source": [
    "root_dir='/home/ubuntu/CLAP/'\n",
    "experiment_id = 'Transformer' \n",
    "vm_price_file = '/home/ubuntu/CLAP/vm_prices.yaml'\n",
    "report_time = 10\n",
    "\n",
    "'''nodes = node_manager.get_nodes_by_id(cluster_nodes)\n",
    "for node in nodes:\n",
    "    print (f\"{node.node_id}: Status: {node.status}; IP: {node.ip}, Type: {node.type}\")'''\n",
    "\n",
    "instance_costs = yaml_load(vm_price_file)\n",
    "node_prices={}\n",
    "\n",
    "for node in nodes:\n",
    "    print('---------')\n",
    "    print(f\"Node Id: {node.node_id}, created at {float_time_to_string(node.creation_time)}; Status: {node.status}\")\n",
    "    print('---------')\n",
    "    # Or can be converted to a dict\n",
    "    node_dict = asdict(node)\n",
    "    # Printing dict in YAML format\n",
    "    #print(yaml.dump(node_dict, indent=4))\n",
    "    #print('**********')\n",
    "    instance_flavor = node_dict['configuration']['instance']['flavor']\n",
    "    node_prices[node.node_id] = float(times[node.node_id]) * float(instance_costs[instance_flavor])\n",
    "    print(f\"Instance Flavor: {instance_flavor}, Instance Cost: {instance_costs[instance_flavor]}, Iteration Time: {times[node.node_id]}, Node Price: {node_prices[node.node_id]}\")\n",
    "    print('---------')\n",
    "print('Node Prices')\n",
    "print(str(node_prices))\n"
   ]
  },
  {
   "cell_type": "code",
   "execution_count": 18,
   "metadata": {
    "tags": [
     "outputPrepend"
    ]
   },
   "outputs": [
    {
     "output_type": "stream",
     "name": "stderr",
     "text": [
      "ap-app/times.fact\n",
      "                    /etc/ansible/facts.d/ && sudo chown ubuntu:ubuntu /etc/ansible/facts.d/times.fact\n",
      "                    && sudo chmod 644 /etc/ansible/facts.d/times.fact\n",
      "            role: gan\n",
      "        roles: []\n",
      "    -   actions:\n",
      "        -   action: run-command\n",
      "            extra:\n",
      "                cmd: sudo chmod 400 optimizer-clap-app/machine-translation/clap-config/private/gan-clap-keypair.pem\n",
      "                    && sudo cp optimizer-clap-app/machine-translation/clap-config/private/gan-clap-keypair.pem\n",
      "                    /home/ubuntu/.ssh/id_rsa && sudo chown ubuntu:ubuntu /home/ubuntu/.ssh/id_rsa\n",
      "            role: gan\n",
      "        roles: []\n",
      "    -   actions:\n",
      "        -   action: run-command\n",
      "            extra:\n",
      "                cmd: sudo pip install horovod --no-cache-dir\n",
      "            role: gan\n",
      "        roles: []\n",
      "    before: []\n",
      "    before_all:\n",
      "    -   actions:\n",
      "        -   action: update-packages\n",
      "            extra: {}\n",
      "            role: gan\n",
      "        roles:\n",
      "        -   extra: {}\n",
      "            name: gan\n",
      "    cluster_config_id: my-cluster\n",
      "    nodes:\n",
      "        type-a:\n",
      "            count: 1\n",
      "            min_count: 1\n",
      "            setups:\n",
      "            -   actions:\n",
      "                -   action: update-packages\n",
      "                    extra: {}\n",
      "                    role: gan\n",
      "                roles:\n",
      "                -   extra: {}\n",
      "                    name: gan\n",
      "            type: type-a\n",
      "        type-b:\n",
      "            count: 1\n",
      "            min_count: 1\n",
      "            setups:\n",
      "            -   actions:\n",
      "                -   action: update-packages\n",
      "                    extra: {}\n",
      "                    role: gan\n",
      "                roles:\n",
      "                -   extra: {}\n",
      "                    name: gan\n",
      "            type: type-b\n",
      "    options: null\n",
      "cluster_id: cluster-1f11d171e9ca4235bf9b67c817f2d045\n",
      "cluster_name: HoaryTrie\n",
      "creation_time: 1625775794.9866796\n",
      "is_setup: true\n",
      "update_time: 1625776276.8889518\n",
      "\n",
      "cluster_nodes \n",
      "\n",
      "['6bb01513c18c42c8af5079008f575bd7', 'ccb0f90412544221b5dc9d53dcc0ce94']\n",
      "cluster_nodes_with_type \n",
      "\n",
      "{'type-a': ['6bb01513c18c42c8af5079008f575bd7'], 'type-b': ['ccb0f90412544221b5dc9d53dcc0ce94']}\n",
      "cluster_nodes_with_type -> yaml.dump \n",
      "\n",
      "type-a:\n",
      "- 6bb01513c18c42c8af5079008f575bd7\n",
      "type-b:\n",
      "- ccb0f90412544221b5dc9d53dcc0ce94\n",
      "\n",
      "{'6bb01513c18c42c8af5079008f575bd7': 0.08146430816650391, 'ccb0f90412544221b5dc9d53dcc0ce94': 0.09288834393024445}\n",
      "High Price Node ID: ['ccb0f90412544221b5dc9d53dcc0ce94'], Instance Type: type-b\n",
      "Lower Price Node ID: ['6bb01513c18c42c8af5079008f575bd7'], Instance Type: type-a\n",
      "\u001b[1;35m[WARNING]: provided hosts list is empty, only localhost is available. Note that\u001b[0m\n",
      "\u001b[1;35mthe implicit localhost does not match 'all'\u001b[0m\n",
      "\n",
      "PLAY [localhost] ***************************************************************\n",
      "\n",
      "TASK [Starting 1 type-a instances (timeout 600 seconds)] ***********************\n",
      "\u001b[0;33mchanged: [localhost]\u001b[0m\n",
      "\n",
      "PLAY RECAP *********************************************************************\n",
      "\u001b[0;33mlocalhost\u001b[0m                  : \u001b[0;32mok=1   \u001b[0m \u001b[0;33mchanged=1   \u001b[0m unreachable=0    failed=0    skipped=0    rescued=0    ignored=0   \n",
      "\n",
      "\u001b[1;35m[WARNING]: provided hosts list is empty, only localhost is available. Note that\u001b[0m\n",
      "\u001b[1;35mthe implicit localhost does not match 'all'\u001b[0m\n",
      "\n",
      "PLAY [localhost] ***************************************************************\n",
      "\n",
      "TASK [Tagging instances] *******************************************************\n",
      "\u001b[0;33mchanged: [localhost] => (item={'id': 'i-0ecb97d16d571f898', 'name': 'RichardWood-13e77c62'})\u001b[0m\n",
      "\n",
      "PLAY RECAP *********************************************************************\n",
      "\u001b[0;33mlocalhost\u001b[0m                  : \u001b[0;32mok=1   \u001b[0m \u001b[0;33mchanged=1   \u001b[0m unreachable=0    failed=0    skipped=0    rescued=0    ignored=0   \n",
      "\n",
      "Error executing command in node 13e77c62: [Errno None] Unable to connect to port 22 on 54.167.73.159\n",
      "Error executing command in 13e77c62: [Errno None] Unable to connect to port 22 on 54.167.73.159.\n",
      "New Node: ['13e77c622807457cb51277674768f3e8']\n",
      "[INIT] New Node: ['13e77c622807457cb51277674768f3e8']\n",
      "[INIT] 08-07-21 17:33:58: Created Node:13e77c622807457cb51277674768f3e8 of #type t2.medium\n",
      "[NodeDescriptor(node_id='13e77c622807457cb51277674768f3e8', configuration=InstanceInfo(provider=ProviderConfigAWS(provider_config_id='aws-config-us-east-1', region='us-east-1', access_keyfile='aws-keypair.pub', secret_access_keyfile='aws-keypair.pem', vpc=None, url='https://ec2.us-east-1.amazonaws.com', provider='aws'), login=LoginConfig(login_config_id='login-ubuntu', user='ubuntu', keypair_name='gan-clap-keypair', keypair_public_file='gan-clap-keypair.pub', keypair_private_file='gan-clap-keypair.pem', ssh_port=22, sudo=True, sudo_user='root'), instance=InstanceConfigAWS(instance_config_id='type-a', provider='aws-config-us-east-1', login='login-ubuntu', flavor='t2.medium', image_id='ami-09e67e426f25ce0d7', security_group='gan-clap-sg-allopen', boot_disk_size=16, boot_disk_device=None, boot_disk_type=None, boot_disk_iops=None, boot_disk_snapshot=None, placement_group=None, price=None, timeout=None, network_ids=[])), nickname='RichardWood', ip='54.167.73.159', type='cloud', cloud_instance_id='i-0ecb97d16d571f898', cloud_lifecycle='normal', status='reachable', creation_time=1625776438.5360684, update_time=1625776485.9111724, roles=[], tags={'.cluster:cluster-1f11d171e9ca4235bf9b67c817f2d045': 'type-a'}, extra={'instance_id': 'i-0ecb97d16d571f898', 'private_ip': '172.31.31.167', 'dns': 'ec2-54-167-73-159.compute-1.amazonaws.com', 'private_dns': 'ip-172-31-31-167.ec2.internal', 'architecture': 'x86_64', 'instance_tags': {'principalId': 'AIDATSRODRVJRLORIU6AD', 'CreatedWith': 'CLAP', 'Name': 'RichardWood-13e77c62', 'owner': 'MO833-21-roberto.possidente'}, 'vpc_id': 'vpc-dd94f4a6', 'subnet_id': 'subnet-9bf928d1'})]\n",
      "\n",
      "PLAY [all] *********************************************************************\n",
      "\n",
      "TASK [Gathering Facts] *********************************************************\n",
      "\u001b[0;35m[DEPRECATION WARNING]: Distribution ubuntu 20.04 on host \u001b[0m\n",
      "\u001b[0;35m6bb01513c18c42c8af5079008f575bd7 should use /usr/bin/python3, but is using \u001b[0m\n",
      "\u001b[0;35m/usr/bin/python for backward compatibility with prior Ansible releases. A \u001b[0m\n",
      "\u001b[0;35mfuture Ansible release will default to using the discovered platform python for\u001b[0m\n",
      "\u001b[0;35m this host. See https://docs.ansible.com/ansible/2.11/reference_appendices/inte\u001b[0m\n",
      "\u001b[0;35mrpreter_discovery.html for more information. This feature will be removed in \u001b[0m\n",
      "\u001b[0;35mversion 2.12. Deprecation warnings can be disabled by setting \u001b[0m\n",
      "\u001b[0;35mdeprecation_warnings=False in ansible.cfg.\u001b[0m\n",
      "\u001b[0;32mok: [6bb01513c18c42c8af5079008f575bd7]\u001b[0m\n",
      "\u001b[0;35m[DEPRECATION WARNING]: Distribution ubuntu 20.04 on host \u001b[0m\n",
      "\u001b[0;35mccb0f90412544221b5dc9d53dcc0ce94 should use /usr/bin/python3, but is using \u001b[0m\n",
      "\u001b[0;35m/usr/bin/python for backward compatibility with prior Ansible releases. A \u001b[0m\n",
      "\u001b[0;35mfuture Ansible release will default to using the discovered platform python for\u001b[0m\n",
      "\u001b[0;35m this host. See https://docs.ansible.com/ansible/2.11/reference_appendices/inte\u001b[0m\n",
      "\u001b[0;35mrpreter_discovery.html for more information. This feature will be removed in \u001b[0m\n",
      "\u001b[0;35mversion 2.12. Deprecation warnings can be disabled by setting \u001b[0m\n",
      "\u001b[0;35mdeprecation_warnings=False in ansible.cfg.\u001b[0m\n",
      "\u001b[0;32mok: [ccb0f90412544221b5dc9d53dcc0ce94]\u001b[0m\n",
      "\u001b[0;32mok: [13e77c622807457cb51277674768f3e8]\u001b[0m\n",
      "\n",
      "TASK [Perform package list update] *********************************************\n",
      "\u001b[0;33mchanged: [6bb01513c18c42c8af5079008f575bd7]\u001b[0m\n",
      "\u001b[0;33mchanged: [ccb0f90412544221b5dc9d53dcc0ce94]\u001b[0m\n",
      "\u001b[0;33mchanged: [13e77c622807457cb51277674768f3e8]\u001b[0m\n",
      "\n",
      "PLAY RECAP *********************************************************************\n",
      "\u001b[0;33m13e77c622807457cb51277674768f3e8\u001b[0m : \u001b[0;32mok=2   \u001b[0m \u001b[0;33mchanged=1   \u001b[0m unreachable=0    failed=0    skipped=0    rescued=0    ignored=0   \n",
      "\u001b[0;33m6bb01513c18c42c8af5079008f575bd7\u001b[0m : \u001b[0;32mok=2   \u001b[0m \u001b[0;33mchanged=1   \u001b[0m unreachable=0    failed=0    skipped=0    rescued=0    ignored=0   \n",
      "\u001b[0;33mccb0f90412544221b5dc9d53dcc0ce94\u001b[0m : \u001b[0;32mok=2   \u001b[0m \u001b[0;33mchanged=1   \u001b[0m unreachable=0    failed=0    skipped=0    rescued=0    ignored=0   \n",
      "\n",
      "\n",
      "PLAY [all] *********************************************************************\n",
      "\n",
      "TASK [Gathering Facts] *********************************************************\n",
      "\u001b[0;32mok: [13e77c622807457cb51277674768f3e8]\u001b[0m\n",
      "\n",
      "TASK [Perform package list update] *********************************************\n",
      "\u001b[0;33mchanged: [13e77c622807457cb51277674768f3e8]\u001b[0m\n",
      "\n",
      "PLAY RECAP *********************************************************************\n",
      "\u001b[0;33m13e77c622807457cb51277674768f3e8\u001b[0m : \u001b[0;32mok=2   \u001b[0m \u001b[0;33mchanged=1   \u001b[0m unreachable=0    failed=0    skipped=0    rescued=0    ignored=0   \n",
      "\n",
      "\n",
      "PLAY [all] *********************************************************************\n",
      "\n",
      "TASK [Gathering Facts] *********************************************************\n",
      "\u001b[0;35m[DEPRECATION WARNING]: Distribution ubuntu 20.04 on host \u001b[0m\n",
      "\u001b[0;35mccb0f90412544221b5dc9d53dcc0ce94 should use /usr/bin/python3, but is using \u001b[0m\n",
      "\u001b[0;35m/usr/bin/python for backward compatibility with prior Ansible releases. A \u001b[0m\n",
      "\u001b[0;35mfuture Ansible release will default to using the discovered platform python for\u001b[0m\n",
      "\u001b[0;35m this host. See https://docs.ansible.com/ansible/2.11/reference_appendices/inte\u001b[0m\n",
      "\u001b[0;35mrpreter_discovery.html for more information. This feature will be removed in \u001b[0m\n",
      "\u001b[0;35mversion 2.12. Deprecation warnings can be disabled by setting \u001b[0m\n",
      "\u001b[0;35mdeprecation_warnings=False in ansible.cfg.\u001b[0m\n",
      "\u001b[0;32mok: [ccb0f90412544221b5dc9d53dcc0ce94]\u001b[0m\n",
      "\u001b[0;32mok: [13e77c622807457cb51277674768f3e8]\u001b[0m\n",
      "\u001b[0;35m[DEPRECATION WARNING]: Distribution ubuntu 20.04 on host \u001b[0m\n",
      "\u001b[0;35m6bb01513c18c42c8af5079008f575bd7 should use /usr/bin/python3, but is using \u001b[0m\n",
      "\u001b[0;35m/usr/bin/python for backward compatibility with prior Ansible releases. A \u001b[0m\n",
      "\u001b[0;35mfuture Ansible release will default to using the discovered platform python for\u001b[0m\n",
      "\u001b[0;35m this host. See https://docs.ansible.com/ansible/2.11/reference_appendices/inte\u001b[0m\n",
      "\u001b[0;35mrpreter_discovery.html for more information. This feature will be removed in \u001b[0m\n",
      "\u001b[0;35mversion 2.12. Deprecation warnings can be disabled by setting \u001b[0m\n",
      "\u001b[0;35mdeprecation_warnings=False in ansible.cfg.\u001b[0m\n",
      "\u001b[0;32mok: [6bb01513c18c42c8af5079008f575bd7]\u001b[0m\n",
      "\n",
      "TASK [Perform package installation] ********************************************\n",
      "\u001b[0;32mok: [6bb01513c18c42c8af5079008f575bd7]\u001b[0m\n",
      "\u001b[0;32mok: [ccb0f90412544221b5dc9d53dcc0ce94]\u001b[0m\n",
      "\u001b[0;33mchanged: [13e77c622807457cb51277674768f3e8]\u001b[0m\n",
      "\n",
      "PLAY RECAP *********************************************************************\n",
      "\u001b[0;33m13e77c622807457cb51277674768f3e8\u001b[0m : \u001b[0;32mok=2   \u001b[0m \u001b[0;33mchanged=1   \u001b[0m unreachable=0    failed=0    skipped=0    rescued=0    ignored=0   \n",
      "\u001b[0;32m6bb01513c18c42c8af5079008f575bd7\u001b[0m : \u001b[0;32mok=2   \u001b[0m changed=0    unreachable=0    failed=0    skipped=0    rescued=0    ignored=0   \n",
      "\u001b[0;32mccb0f90412544221b5dc9d53dcc0ce94\u001b[0m : \u001b[0;32mok=2   \u001b[0m changed=0    unreachable=0    failed=0    skipped=0    rescued=0    ignored=0   \n",
      "\n",
      "\n",
      "PLAY [all] *********************************************************************\n",
      "\n",
      "TASK [Run command in the remote hosts (free form)] *****************************\n",
      "\u001b[0;35m[DEPRECATION WARNING]: Distribution ubuntu 20.04 on host \u001b[0m\n",
      "\u001b[0;35m6bb01513c18c42c8af5079008f575bd7 should use /usr/bin/python3, but is using \u001b[0m\n",
      "\u001b[0;35m/usr/bin/python for backward compatibility with prior Ansible releases. A \u001b[0m\n",
      "\u001b[0;35mfuture Ansible release will default to using the discovered platform python for\u001b[0m\n",
      "\u001b[0;35m this host. See https://docs.ansible.com/ansible/2.11/reference_appendices/inte\u001b[0m\n",
      "\u001b[0;35mrpreter_discovery.html for more information. This feature will be removed in \u001b[0m\n",
      "\u001b[0;35mversion 2.12. Deprecation warnings can be disabled by setting \u001b[0m\n",
      "\u001b[0;35mdeprecation_warnings=False in ansible.cfg.\u001b[0m\n",
      "\u001b[0;33mchanged: [6bb01513c18c42c8af5079008f575bd7]\u001b[0m\n",
      "\u001b[0;35m[DEPRECATION WARNING]: Distribution ubuntu 20.04 on host \u001b[0m\n",
      "\u001b[0;35mccb0f90412544221b5dc9d53dcc0ce94 should use /usr/bin/python3, but is using \u001b[0m\n",
      "\u001b[0;35m/usr/bin/python for backward compatibility with prior Ansible releases. A \u001b[0m\n",
      "\u001b[0;35mfuture Ansible release will default to using the discovered platform python for\u001b[0m\n",
      "\u001b[0;35m this host. See https://docs.ansible.com/ansible/2.11/reference_appendices/inte\u001b[0m\n",
      "\u001b[0;35mrpreter_discovery.html for more information. This feature will be removed in \u001b[0m\n",
      "\u001b[0;35mversion 2.12. Deprecation warnings can be disabled by setting \u001b[0m\n",
      "\u001b[0;35mdeprecation_warnings=False in ansible.cfg.\u001b[0m\n",
      "\u001b[0;33mchanged: [ccb0f90412544221b5dc9d53dcc0ce94]\u001b[0m\n",
      "\u001b[0;33mchanged: [13e77c622807457cb51277674768f3e8]\u001b[0m\n",
      "\n",
      "PLAY RECAP *********************************************************************\n",
      "\u001b[0;33m13e77c622807457cb51277674768f3e8\u001b[0m : \u001b[0;32mok=1   \u001b[0m \u001b[0;33mchanged=1   \u001b[0m unreachable=0    failed=0    skipped=0    rescued=0    ignored=0   \n",
      "\u001b[0;33m6bb01513c18c42c8af5079008f575bd7\u001b[0m : \u001b[0;32mok=1   \u001b[0m \u001b[0;33mchanged=1   \u001b[0m unreachable=0    failed=0    skipped=0    rescued=0    ignored=0   \n",
      "\u001b[0;33mccb0f90412544221b5dc9d53dcc0ce94\u001b[0m : \u001b[0;32mok=1   \u001b[0m \u001b[0;33mchanged=1   \u001b[0m unreachable=0    failed=0    skipped=0    rescued=0    ignored=0   \n",
      "\n",
      "\n",
      "PLAY [all] *********************************************************************\n",
      "\n",
      "TASK [Run command in the remote hosts (free form)] *****************************\n",
      "\u001b[0;35m[DEPRECATION WARNING]: Distribution ubuntu 20.04 on host \u001b[0m\n",
      "\u001b[0;35m6bb01513c18c42c8af5079008f575bd7 should use /usr/bin/python3, but is using \u001b[0m\n",
      "\u001b[0;35m/usr/bin/python for backward compatibility with prior Ansible releases. A \u001b[0m\n",
      "\u001b[0;35mfuture Ansible release will default to using the discovered platform python for\u001b[0m\n",
      "\u001b[0;35m this host. See https://docs.ansible.com/ansible/2.11/reference_appendices/inte\u001b[0m\n",
      "\u001b[0;35mrpreter_discovery.html for more information. This feature will be removed in \u001b[0m\n",
      "\u001b[0;35mversion 2.12. Deprecation warnings can be disabled by setting \u001b[0m\n",
      "\u001b[0;35mdeprecation_warnings=False in ansible.cfg.\u001b[0m\n",
      "\u001b[0;33mchanged: [6bb01513c18c42c8af5079008f575bd7]\u001b[0m\n",
      "\u001b[0;35m[DEPRECATION WARNING]: Distribution ubuntu 20.04 on host \u001b[0m\n",
      "\u001b[0;35mccb0f90412544221b5dc9d53dcc0ce94 should use /usr/bin/python3, but is using \u001b[0m\n",
      "\u001b[0;35m/usr/bin/python for backward compatibility with prior Ansible releases. A \u001b[0m\n",
      "\u001b[0;35mfuture Ansible release will default to using the discovered platform python for\u001b[0m\n",
      "\u001b[0;35m this host. See https://docs.ansible.com/ansible/2.11/reference_appendices/inte\u001b[0m\n",
      "\u001b[0;35mrpreter_discovery.html for more information. This feature will be removed in \u001b[0m\n",
      "\u001b[0;35mversion 2.12. Deprecation warnings can be disabled by setting \u001b[0m\n",
      "\u001b[0;35mdeprecation_warnings=False in ansible.cfg.\u001b[0m\n",
      "\u001b[0;33mchanged: [ccb0f90412544221b5dc9d53dcc0ce94]\u001b[0m\n",
      "\u001b[0;35m[DEPRECATION WARNING]: Distribution ubuntu 20.04 on host \u001b[0m\n",
      "\u001b[0;35m13e77c622807457cb51277674768f3e8 should use /usr/bin/python3, but is using \u001b[0m\n",
      "\u001b[0;35m/usr/bin/python for backward compatibility with prior Ansible releases. A \u001b[0m\n",
      "\u001b[0;35mfuture Ansible release will default to using the discovered platform python for\u001b[0m\n",
      "\u001b[0;35m this host. See https://docs.ansible.com/ansible/2.11/reference_appendices/inte\u001b[0m\n",
      "\u001b[0;35mrpreter_discovery.html for more information. This feature will be removed in \u001b[0m\n",
      "\u001b[0;35mversion 2.12. Deprecation warnings can be disabled by setting \u001b[0m\n",
      "\u001b[0;35mdeprecation_warnings=False in ansible.cfg.\u001b[0m\n",
      "\u001b[0;33mchanged: [13e77c622807457cb51277674768f3e8]\u001b[0m\n",
      "\n",
      "PLAY RECAP *********************************************************************\n",
      "\u001b[0;33m13e77c622807457cb51277674768f3e8\u001b[0m : \u001b[0;32mok=1   \u001b[0m \u001b[0;33mchanged=1   \u001b[0m unreachable=0    failed=0    skipped=0    rescued=0    ignored=0   \n",
      "\u001b[0;33m6bb01513c18c42c8af5079008f575bd7\u001b[0m : \u001b[0;32mok=1   \u001b[0m \u001b[0;33mchanged=1   \u001b[0m unreachable=0    failed=0    skipped=0    rescued=0    ignored=0   \n",
      "\u001b[0;33mccb0f90412544221b5dc9d53dcc0ce94\u001b[0m : \u001b[0;32mok=1   \u001b[0m \u001b[0;33mchanged=1   \u001b[0m unreachable=0    failed=0    skipped=0    rescued=0    ignored=0   \n",
      "\n",
      "\n",
      "PLAY [all] *********************************************************************\n",
      "\n",
      "TASK [Run command in the remote hosts (free form)] *****************************\n",
      "\u001b[0;35m[DEPRECATION WARNING]: Distribution ubuntu 20.04 on host \u001b[0m\n",
      "\u001b[0;35m6bb01513c18c42c8af5079008f575bd7 should use /usr/bin/python3, but is using \u001b[0m\n",
      "\u001b[0;35m/usr/bin/python for backward compatibility with prior Ansible releases. A \u001b[0m\n",
      "\u001b[0;35mfuture Ansible release will default to using the discovered platform python for\u001b[0m\n",
      "\u001b[0;35m this host. See https://docs.ansible.com/ansible/2.11/reference_appendices/inte\u001b[0m\n",
      "\u001b[0;35mrpreter_discovery.html for more information. This feature will be removed in \u001b[0m\n",
      "\u001b[0;35mversion 2.12. Deprecation warnings can be disabled by setting \u001b[0m\n",
      "\u001b[0;35mdeprecation_warnings=False in ansible.cfg.\u001b[0m\n",
      "\u001b[0;31mfatal: [6bb01513c18c42c8af5079008f575bd7]: FAILED! => {\"ansible_facts\": {\"discovered_interpreter_python\": \"/usr/bin/python\"}, \"changed\": true, \"cmd\": \"git clone https://github.com/robertopossidente/optimizer-clap-app.git\", \"delta\": \"0:00:00.003594\", \"end\": \"2021-07-08 20:37:07.323661\", \"msg\": \"non-zero return code\", \"rc\": 128, \"start\": \"2021-07-08 20:37:07.320067\", \"stderr\": \"fatal: destination path 'optimizer-clap-app' already exists and is not an empty directory.\", \"stderr_lines\": [\"fatal: destination path 'optimizer-clap-app' already exists and is not an empty directory.\"], \"stdout\": \"\", \"stdout_lines\": []}\u001b[0m\n",
      "\u001b[0;35m[DEPRECATION WARNING]: Distribution ubuntu 20.04 on host \u001b[0m\n",
      "\u001b[0;35mccb0f90412544221b5dc9d53dcc0ce94 should use /usr/bin/python3, but is using \u001b[0m\n",
      "\u001b[0;35m/usr/bin/python for backward compatibility with prior Ansible releases. A \u001b[0m\n",
      "\u001b[0;35mfuture Ansible release will default to using the discovered platform python for\u001b[0m\n",
      "\u001b[0;35m this host. See https://docs.ansible.com/ansible/2.11/reference_appendices/inte\u001b[0m\n",
      "\u001b[0;35mrpreter_discovery.html for more information. This feature will be removed in \u001b[0m\n",
      "\u001b[0;35mversion 2.12. Deprecation warnings can be disabled by setting \u001b[0m\n",
      "\u001b[0;35mdeprecation_warnings=False in ansible.cfg.\u001b[0m\n",
      "\u001b[0;31mfatal: [ccb0f90412544221b5dc9d53dcc0ce94]: FAILED! => {\"ansible_facts\": {\"discovered_interpreter_python\": \"/usr/bin/python\"}, \"changed\": true, \"cmd\": \"git clone https://github.com/robertopossidente/optimizer-clap-app.git\", \"delta\": \"0:00:00.003746\", \"end\": \"2021-07-08 20:37:07.370594\", \"msg\": \"non-zero return code\", \"rc\": 128, \"start\": \"2021-07-08 20:37:07.366848\", \"stderr\": \"fatal: destination path 'optimizer-clap-app' already exists and is not an empty directory.\", \"stderr_lines\": [\"fatal: destination path 'optimizer-clap-app' already exists and is not an empty directory.\"], \"stdout\": \"\", \"stdout_lines\": []}\u001b[0m\n",
      "\u001b[0;35m[DEPRECATION WARNING]: Distribution ubuntu 20.04 on host \u001b[0m\n",
      "\u001b[0;35m13e77c622807457cb51277674768f3e8 should use /usr/bin/python3, but is using \u001b[0m\n",
      "\u001b[0;35m/usr/bin/python for backward compatibility with prior Ansible releases. A \u001b[0m\n",
      "\u001b[0;35mfuture Ansible release will default to using the discovered platform python for\u001b[0m\n",
      "\u001b[0;35m this host. See https://docs.ansible.com/ansible/2.11/reference_appendices/inte\u001b[0m\n",
      "\u001b[0;35mrpreter_discovery.html for more information. This feature will be removed in \u001b[0m\n",
      "\u001b[0;35mversion 2.12. Deprecation warnings can be disabled by setting \u001b[0m\n",
      "\u001b[0;35mdeprecation_warnings=False in ansible.cfg.\u001b[0m\n",
      "\u001b[0;33mchanged: [13e77c622807457cb51277674768f3e8]\u001b[0m\n",
      "\n",
      "PLAY RECAP *********************************************************************\n",
      "\u001b[0;33m13e77c622807457cb51277674768f3e8\u001b[0m : \u001b[0;32mok=1   \u001b[0m \u001b[0;33mchanged=1   \u001b[0m unreachable=0    failed=0    skipped=0    rescued=0    ignored=0   \n",
      "\u001b[0;31m6bb01513c18c42c8af5079008f575bd7\u001b[0m : ok=0    changed=0    unreachable=0    \u001b[0;31mfailed=1   \u001b[0m skipped=0    rescued=0    ignored=0   \n",
      "\u001b[0;31mccb0f90412544221b5dc9d53dcc0ce94\u001b[0m : ok=0    changed=0    unreachable=0    \u001b[0;31mfailed=1   \u001b[0m skipped=0    rescued=0    ignored=0   \n",
      "\n"
     ]
    },
    {
     "output_type": "error",
     "ename": "ClusterSetupError",
     "evalue": "Error setting up cluster cluster-1f11d171e9ca4235bf9b67c817f2d045 at 'after all' stage",
     "traceback": [
      "\u001b[0;31m---------------------------------------------------------------------------\u001b[0m",
      "\u001b[0;31mClusterSetupError\u001b[0m                         Traceback (most recent call last)",
      "\u001b[0;32m/tmp/ipykernel_20713/1817639081.py\u001b[0m in \u001b[0;36m<module>\u001b[0;34m\u001b[0m\n\u001b[1;32m      2\u001b[0m \u001b[0moptimizing\u001b[0m \u001b[0;34m=\u001b[0m \u001b[0;32mTrue\u001b[0m\u001b[0;34m\u001b[0m\u001b[0;34m\u001b[0m\u001b[0m\n\u001b[1;32m      3\u001b[0m \u001b[0;32mwhile\u001b[0m \u001b[0moptimizing\u001b[0m\u001b[0;34m==\u001b[0m\u001b[0;32mTrue\u001b[0m\u001b[0;34m:\u001b[0m\u001b[0;34m\u001b[0m\u001b[0;34m\u001b[0m\u001b[0m\n\u001b[0;32m----> 4\u001b[0;31m     \u001b[0moptimizing\u001b[0m \u001b[0;34m=\u001b[0m \u001b[0mopt\u001b[0m\u001b[0;34m.\u001b[0m\u001b[0moptimize_it\u001b[0m\u001b[0;34m(\u001b[0m\u001b[0mcluster_id\u001b[0m\u001b[0;34m,\u001b[0m \u001b[0mexperiment_id\u001b[0m\u001b[0;34m,\u001b[0m \u001b[0mvm_price_file\u001b[0m\u001b[0;34m,\u001b[0m\u001b[0mroot_dir\u001b[0m\u001b[0;34m,\u001b[0m \u001b[0mreport_time\u001b[0m\u001b[0;34m)\u001b[0m\u001b[0;34m\u001b[0m\u001b[0;34m\u001b[0m\u001b[0m\n\u001b[0m\u001b[1;32m      5\u001b[0m \u001b[0;34m\u001b[0m\u001b[0m\n\u001b[1;32m      6\u001b[0m '''metrics = node_prices\n",
      "\u001b[0;32m/home/ubuntu/CLAP/examples/api/../../app/cli/modules/optimizer.py\u001b[0m in \u001b[0;36moptimize_it\u001b[0;34m(cluster_id, experiment_id, vm_price_file, root_dir, report_time)\u001b[0m\n\u001b[1;32m    223\u001b[0m             cluster_id, experiment_id, pis_logs_dir, prices)\n\u001b[1;32m    224\u001b[0m         \u001b[0;31m# Optimize it!\u001b[0m\u001b[0;34m\u001b[0m\u001b[0;34m\u001b[0m\u001b[0;34m\u001b[0m\u001b[0m\n\u001b[0;32m--> 225\u001b[0;31m         \u001b[0mchanged\u001b[0m \u001b[0;34m=\u001b[0m \u001b[0moptimizer_obj\u001b[0m\u001b[0;34m.\u001b[0m\u001b[0mrun\u001b[0m\u001b[0;34m(\u001b[0m\u001b[0mcluster_id\u001b[0m\u001b[0;34m,\u001b[0m \u001b[0mexperiment_id\u001b[0m\u001b[0;34m,\u001b[0m \u001b[0mmetrics\u001b[0m\u001b[0;34m)\u001b[0m\u001b[0;34m\u001b[0m\u001b[0;34m\u001b[0m\u001b[0m\n\u001b[0m\u001b[1;32m    226\u001b[0m         \u001b[0mprint\u001b[0m\u001b[0;34m(\u001b[0m\u001b[0;34mf\"Does cluster changed? {changed}\"\u001b[0m\u001b[0;34m)\u001b[0m\u001b[0;34m\u001b[0m\u001b[0;34m\u001b[0m\u001b[0m\n\u001b[1;32m    227\u001b[0m     \u001b[0;31m# This should never be reached...\u001b[0m\u001b[0;34m\u001b[0m\u001b[0;34m\u001b[0m\u001b[0;34m\u001b[0m\u001b[0m\n",
      "\u001b[0;32m/home/ubuntu/CLAP/examples/api/../../app/cli/modules/optimizer.py\u001b[0m in \u001b[0;36mrun\u001b[0;34m(self, cluster_id, experiment_id, metrics)\u001b[0m\n\u001b[1;32m    168\u001b[0m                         \u001b[0mlow_instance_type\u001b[0m\u001b[0;34m:\u001b[0m \u001b[0mnew_node_id\u001b[0m\u001b[0;34m\u001b[0m\u001b[0;34m\u001b[0m\u001b[0m\n\u001b[1;32m    169\u001b[0m                     }\n\u001b[0;32m--> 170\u001b[0;31m                     cluster_manager.setup_cluster(cluster_id, nodes_being_added=new_nodes_types, \n\u001b[0m\u001b[1;32m    171\u001b[0m                                                                      start_at_stage='before_all')\n\u001b[1;32m    172\u001b[0m                     \u001b[0mstopped_node_id\u001b[0m \u001b[0;34m=\u001b[0m \u001b[0mnode_manager\u001b[0m\u001b[0;34m.\u001b[0m\u001b[0mstop_nodes\u001b[0m\u001b[0;34m(\u001b[0m\u001b[0mhigher_price_node_id\u001b[0m\u001b[0;34m)\u001b[0m\u001b[0;34m\u001b[0m\u001b[0;34m\u001b[0m\u001b[0m\n",
      "\u001b[0;32m/home/ubuntu/CLAP/examples/api/../../clap/cluster_manager.py\u001b[0m in \u001b[0;36msetup_cluster\u001b[0;34m(self, cluster_id, nodes_being_added, max_workers, start_at_stage)\u001b[0m\n\u001b[1;32m    771\u001b[0m         \u001b[0;32mif\u001b[0m \u001b[0mstart_at_stage\u001b[0m \u001b[0;34m<=\u001b[0m \u001b[0mstages\u001b[0m\u001b[0;34m[\u001b[0m\u001b[0;34m'after_all'\u001b[0m\u001b[0;34m]\u001b[0m\u001b[0;34m:\u001b[0m\u001b[0;34m\u001b[0m\u001b[0;34m\u001b[0m\u001b[0m\n\u001b[1;32m    772\u001b[0m             \u001b[0;32mif\u001b[0m \u001b[0;32mnot\u001b[0m \u001b[0mself\u001b[0m\u001b[0;34m.\u001b[0m\u001b[0m_run_setup_list\u001b[0m\u001b[0;34m(\u001b[0m\u001b[0mcluster\u001b[0m\u001b[0;34m.\u001b[0m\u001b[0mcluster_config\u001b[0m\u001b[0;34m.\u001b[0m\u001b[0mafter_all\u001b[0m\u001b[0;34m,\u001b[0m \u001b[0mall_nodes\u001b[0m\u001b[0;34m)\u001b[0m\u001b[0;34m:\u001b[0m\u001b[0;34m\u001b[0m\u001b[0;34m\u001b[0m\u001b[0m\n\u001b[0;32m--> 773\u001b[0;31m                 raise ClusterSetupError(\n\u001b[0m\u001b[1;32m    774\u001b[0m                     f\"Error setting up cluster {cluster_id} at 'after all' stage\")\n\u001b[1;32m    775\u001b[0m \u001b[0;34m\u001b[0m\u001b[0m\n",
      "\u001b[0;31mClusterSetupError\u001b[0m: Error setting up cluster cluster-1f11d171e9ca4235bf9b67c817f2d045 at 'after all' stage"
     ]
    }
   ],
   "source": [
    "import app.cli.modules.optimizer as opt\n",
    "optimizing = True\n",
    "while optimizing==True:\n",
    "    optimizing = opt.optimize_it(cluster_id, experiment_id, vm_price_file,root_dir, report_time)\n",
    "\n",
    "'''metrics = node_prices\n",
    "\n",
    "cluster = cluster_manager.get_cluster_by_id(cluster_id)\n",
    "cluster_dict = asdict(cluster)\n",
    "print('cluster -> yaml.dump \\n')\n",
    "print(yaml.dump(cluster_dict, indent=4))\n",
    "cluster_nodes = cluster_manager.get_all_cluster_nodes(cluster_id)\n",
    "print('cluster_nodes \\n')\n",
    "print(cluster_nodes)\n",
    "cluster_nodes_with_type = cluster_manager.get_cluster_nodes_types(cluster_id)\n",
    "print('cluster_nodes_with_type \\n')\n",
    "print(cluster_nodes_with_type)\n",
    "print('cluster_nodes_with_type -> yaml.dump \\n')\n",
    "print(yaml.dump(cluster_nodes_with_type))\n",
    "\n",
    "nodes = node_manager.get_nodes_by_id(cluster_nodes)\n",
    "\n",
    "higher_price = 0\n",
    "lower_price = 1000\n",
    "higher_price_node_id=[]\n",
    "lower_price_node_id=[]\n",
    "for node in nodes:\n",
    "    node_dict = asdict(node)\n",
    "    if(float(metrics[node.node_id]) > float(higher_price)):\n",
    "        higher_price = float(metrics[node.node_id])\n",
    "        higher_price_node_id.clear()\n",
    "        higher_price_node_id.append(node.node_id)\n",
    "        high_instance_type = node_dict['configuration']['instance']['instance_config_id']\n",
    "        high_instance_flavor = node_dict['configuration']['instance']['flavor']\n",
    "    if(float(metrics[node.node_id]) < float(lower_price)):\n",
    "        lower_price = float(metrics[node.node_id])\n",
    "        lower_price_node_id.clear()\n",
    "        lower_price_node_id.append(node.node_id)\n",
    "        low_instance_type = node_dict['configuration']['instance']['instance_config_id']\n",
    "        low_instance_flavor = node_dict['configuration']['instance']['flavor']\n",
    "\n",
    "print(f\"High Price Node ID: {higher_price_node_id}, Instance Type: {high_instance_type}\") \n",
    "print(f\"Lower Price Node ID: {lower_price_node_id}, Instance Type: {low_instance_type}\")\n",
    "\n",
    "new_node_id = cluster_manager.grow(cluster_id, node_type=low_instance_type, count=1, min_count=1)\n",
    "print(f\"New Node: {new_node_id}\")\n",
    "\n",
    "#if(high_instance_flavor!=low_instance_flavor)\n",
    "alive_node = node_manager.is_alive(new_node_id)\n",
    "for node_id, alive_flag in alive_node.items():\n",
    "    if(alive_flag == True):\n",
    "        print(f\"[INIT] New Node: {new_node_id}\")\n",
    "        new_node_ids = node_manager.get_nodes_by_id(new_node_id)\n",
    "        for node in new_node_ids:\n",
    "            print(f\"[INIT] {float_time_to_string(node.creation_time)}: Created Node:{node.node_id} of #type {low_instance_flavor}\")\n",
    "        print(str(new_node_ids))\n",
    "        #new_nodes_types = {\n",
    "        #   low_instance_type: new_node_id\n",
    "        #}\n",
    "        #cluster_manager.setup_cluster(cluster_id, nodes_being_added=new_nodes_types, \n",
    "        #                                                  start_at_stage='before_all')\n",
    "        stopped_node_id = node_manager.stop_nodes(higher_price_node_id)\n",
    "        print(f\"[STOP] %s: Terminated Node:{higher_price_node_id}\" % (datetime.datetime.now()))\n",
    "        result = True\n",
    "    else:\n",
    "        result = False'''\n",
    "\n",
    "\n",
    "\n",
    "\n"
   ]
  },
  {
   "cell_type": "markdown",
   "id": "dacea33b-6056-4f0b-b15e-9a76768d79ca",
   "metadata": {},
   "source": [
    "## Stopping cluster\n",
    "\n",
    "Finally we can stop the cluster (and stop all nodes) using the `stop_cluster` command. This will also remove the cluster from cluster repository.\n",
    "\n",
    "Other similar functions are:\n",
    "* `resume_cluster`: That will resume all paused nodes of a cluster  \n",
    "* `pause_cluster`: That will pause all nodes of a cluster\n",
    "* `is_alive`: That will check if all cluster nodes are alive"
   ]
  },
  {
   "cell_type": "code",
   "execution_count": 19,
   "id": "3ab4f63d-e940-48af-9026-c8a6809efdb5",
   "metadata": {},
   "outputs": [
    {
     "output_type": "stream",
     "name": "stdout",
     "text": [
      "\u001b[1;35m[WARNING]: provided hosts list is empty, only localhost is available. Note that\u001b[0m\n",
      "\u001b[1;35mthe implicit localhost does not match 'all'\u001b[0m\n",
      "\n",
      "PLAY [localhost] ***************************************************************\n",
      "\n",
      "TASK [Stopping nodes ArthurMichels, CindiLopez, RichardWood] *******************\n",
      "\u001b[0;33mchanged: [localhost]\u001b[0m\n",
      "\n",
      "PLAY RECAP *********************************************************************\n",
      "\u001b[0;33mlocalhost\u001b[0m                  : \u001b[0;32mok=1   \u001b[0m \u001b[0;33mchanged=1   \u001b[0m unreachable=0    failed=0    skipped=0    rescued=0    ignored=0   \n",
      "\n"
     ]
    },
    {
     "output_type": "execute_result",
     "data": {
      "text/plain": [
       "['6bb01513c18c42c8af5079008f575bd7',\n",
       " 'ccb0f90412544221b5dc9d53dcc0ce94',\n",
       " '13e77c622807457cb51277674768f3e8']"
      ]
     },
     "metadata": {},
     "execution_count": 19
    }
   ],
   "source": [
    "#cluster_manager.stop_cluster(cluster_id)"
   ]
  },
  {
   "cell_type": "code",
   "execution_count": 117,
   "metadata": {},
   "outputs": [
    {
     "output_type": "execute_result",
     "data": {
      "text/plain": [
       "'clusters = cluster_manager.get_all_clusters()\\nfor cluster in clusters:\\n    cluster_manager.stop_cluster(cluster)'"
      ]
     },
     "metadata": {},
     "execution_count": 117
    }
   ],
   "source": [
    "'''clusters = cluster_manager.get_all_clusters()\n",
    "for cluster in clusters:\n",
    "    cluster_manager.stop_cluster(cluster)'''\n"
   ]
  },
  {
   "cell_type": "code",
   "execution_count": 118,
   "metadata": {},
   "outputs": [],
   "source": [
    "#node_manager.stop_nodes(['2c4610c8c02b41f983d96fcf928e0a28'])\n"
   ]
  },
  {
   "cell_type": "code",
   "execution_count": null,
   "metadata": {},
   "outputs": [],
   "source": []
  }
 ],
 "metadata": {
  "kernelspec": {
   "name": "python3",
   "display_name": "Python 3.8.10 64-bit ('clap-env': venv)"
  },
  "language_info": {
   "codemirror_mode": {
    "name": "ipython",
    "version": 3
   },
   "file_extension": ".py",
   "mimetype": "text/x-python",
   "name": "python",
   "nbconvert_exporter": "python",
   "pygments_lexer": "ipython3",
   "version": "3.8.10"
  },
  "interpreter": {
   "hash": "1ca696e889bf4fb244afbc506e01e1a525d9823cd08381e949decf93d6f3bed4"
  }
 },
 "nbformat": 4,
 "nbformat_minor": 5
}